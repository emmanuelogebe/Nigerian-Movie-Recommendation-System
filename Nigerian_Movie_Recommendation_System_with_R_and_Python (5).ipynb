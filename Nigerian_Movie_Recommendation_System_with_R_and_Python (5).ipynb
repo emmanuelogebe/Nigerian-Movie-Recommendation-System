{
  "nbformat": 4,
  "nbformat_minor": 0,
  "metadata": {
    "colab": {
      "provenance": []
    },
    "kernelspec": {
      "name": "python3",
      "display_name": "Python 3"
    },
    "language_info": {
      "name": "python"
    },
    "accelerator": "TPU",
    "gpuClass": "standard"
  },
  "cells": [
    {
      "cell_type": "code",
      "execution_count": null,
      "metadata": {
        "id": "VJLW7uB1PeHy"
      },
      "outputs": [],
      "source": []
    },
    {
      "cell_type": "code",
      "source": [],
      "metadata": {
        "id": "php7X0nSP4e_"
      },
      "execution_count": null,
      "outputs": []
    },
    {
      "cell_type": "markdown",
      "source": [
        "# Building a Movie Recommendation System with the Top 5000 Nigerian Movies on Imdb"
      ],
      "metadata": {
        "id": "k381pEpvP5Rc"
      }
    },
    {
      "cell_type": "markdown",
      "source": [
        "Nollywood is the third largest movie production industry in the world. It is by far one of Africa's greatest achievements and one of Nigeria's best exports. <br><br>I have always enjoyed Nigerian movies and series. Recently, I thought about how I could help myself and others interested in Nigerian movies to get recommendations on movies to watch based on what they liked.\n",
        "<br><br> Of course, the way to do this would be to create accounts on the numerous movie streaming sites that post Nigerian content, Iroko TV, Netflix, Amazon Prime, etc and search there, or to make Google searches, which ***might*** not intially give you what you are looking for.\n",
        "<br><br> I decided to build a Nigerian movie recommendation system, getting data from the Internet Movie Database (IMDb), the largest online database of movie related information. <br><br> This recommendation system is content-based: utilising attributes like cast, diretcor, synopsis, genre, movie title, etc. It works with the assumption that if a user likes a particular movie, then similar movies would also be of interest."
      ],
      "metadata": {
        "id": "wEql9mDKTRXb"
      }
    },
    {
      "cell_type": "markdown",
      "source": [
        "# Web Scraping the IMDB Website using R"
      ],
      "metadata": {
        "id": "dEw7dxCTQJb8"
      }
    },
    {
      "cell_type": "markdown",
      "source": [
        "I need to initialize the rpy2 package which will allow me to use the R and Python simultanously to achieve my aim."
      ],
      "metadata": {
        "id": "tekaZ6-NTCZa"
      }
    },
    {
      "cell_type": "code",
      "source": [
        "!pip install rpy2==3.5.1"
      ],
      "metadata": {
        "colab": {
          "base_uri": "https://localhost:8080/"
        },
        "id": "l8aCJ9c5ai8D",
        "outputId": "2432c78a-7510-4098-fcd9-bc0f474a1f07"
      },
      "execution_count": null,
      "outputs": [
        {
          "output_type": "stream",
          "name": "stdout",
          "text": [
            "Looking in indexes: https://pypi.org/simple, https://us-python.pkg.dev/colab-wheels/public/simple/\n",
            "Requirement already satisfied: rpy2==3.5.1 in /usr/local/lib/python3.9/dist-packages (3.5.1)\n",
            "Requirement already satisfied: pytz in /usr/local/lib/python3.9/dist-packages (from rpy2==3.5.1) (2022.7.1)\n",
            "Requirement already satisfied: cffi>=1.10.0 in /usr/local/lib/python3.9/dist-packages (from rpy2==3.5.1) (1.15.1)\n",
            "Requirement already satisfied: tzlocal in /usr/local/lib/python3.9/dist-packages (from rpy2==3.5.1) (4.3)\n",
            "Requirement already satisfied: jinja2 in /usr/local/lib/python3.9/dist-packages (from rpy2==3.5.1) (3.1.2)\n",
            "Requirement already satisfied: pycparser in /usr/local/lib/python3.9/dist-packages (from cffi>=1.10.0->rpy2==3.5.1) (2.21)\n",
            "Requirement already satisfied: MarkupSafe>=2.0 in /usr/local/lib/python3.9/dist-packages (from jinja2->rpy2==3.5.1) (2.1.2)\n",
            "Requirement already satisfied: pytz-deprecation-shim in /usr/local/lib/python3.9/dist-packages (from tzlocal->rpy2==3.5.1) (0.1.0.post0)\n",
            "Requirement already satisfied: tzdata in /usr/local/lib/python3.9/dist-packages (from pytz-deprecation-shim->tzlocal->rpy2==3.5.1) (2023.3)\n"
          ]
        }
      ]
    },
    {
      "cell_type": "code",
      "source": [
        "%load_ext rpy2.ipython"
      ],
      "metadata": {
        "colab": {
          "base_uri": "https://localhost:8080/"
        },
        "id": "HJ8FQcDXQLCz",
        "outputId": "d6049a0c-0990-4a75-c0fc-35d6f6bacd47"
      },
      "execution_count": null,
      "outputs": [
        {
          "output_type": "stream",
          "name": "stdout",
          "text": [
            "The rpy2.ipython extension is already loaded. To reload it, use:\n",
            "  %reload_ext rpy2.ipython\n"
          ]
        }
      ]
    },
    {
      "cell_type": "markdown",
      "source": [
        "### Installing Packages and Importing Libraries"
      ],
      "metadata": {
        "id": "GhjDZpmrRCB0"
      }
    },
    {
      "cell_type": "code",
      "source": [
        "%%R\n",
        "\n",
        "suppressWarnings(suppressPackageStartupMessages({\n",
        "  install.packages(\"rvest\")\n",
        "  install.packages(\"tidyverse\")\n",
        "  install.packages(\"purrr\")\n",
        "  install.packages('skimr')\n",
        "  install.packages('stringr')\n",
        "  install.packages('xlsx') \n",
        "}))"
      ],
      "metadata": {
        "id": "03DYMHYdROKD"
      },
      "execution_count": null,
      "outputs": []
    },
    {
      "cell_type": "code",
      "source": [
        "%%R\n",
        "install.packages(\"openxlsx\", dependencies=TRUE)"
      ],
      "metadata": {
        "id": "b5DsEDvFpi2K"
      },
      "execution_count": null,
      "outputs": []
    },
    {
      "cell_type": "code",
      "source": [
        "%%R\n",
        "\n",
        "suppressWarnings(suppressPackageStartupMessages({\n",
        "  library(rvest)\n",
        "  library(tidyverse)\n",
        "  library(purrr)\n",
        "  library(skimr)\n",
        "  library(stringr)\n",
        "  library(openxlsx) \n",
        "}))"
      ],
      "metadata": {
        "id": "VeDPSvc5XcD_"
      },
      "execution_count": null,
      "outputs": []
    },
    {
      "cell_type": "markdown",
      "source": [
        "### Loading the Data"
      ],
      "metadata": {
        "id": "AEkOMCn5uy47"
      }
    },
    {
      "cell_type": "markdown",
      "source": [
        "I will first extract the titles, year, genre, certificate, rating and synopsis of the top 5000 movies "
      ],
      "metadata": {
        "id": "W_IqNvA_vMVR"
      }
    },
    {
      "cell_type": "code",
      "source": [
        "%%R\n",
        "\n",
        "movies1 = data.frame()\n",
        "\n",
        "for(page_result in seq(from = 1, to = 4951, by = 50)){\n",
        "  \n",
        "  link = paste0(\"https://www.imdb.com/search/title/?country_of_origin=NG&start=\", page_result, \"&ref_=adv_nxt\")\n",
        "  \n",
        "  page <- read_html(link)\n",
        "\n",
        "  df <- page %>% \n",
        "  html_nodes(\".mode-advanced\") %>% \n",
        "  map_df(~list(title = html_nodes(.x, '.lister-item-header a') %>% \n",
        "                     html_text() %>% \n",
        "                     {if(length(.) == 0) NA else .},\n",
        "               year = html_nodes(.x, '.text-muted.unbold') %>% \n",
        "                     html_text() %>% \n",
        "                     {if(length(.) == 0) NA else .},\n",
        "               genre = html_nodes(.x, '.genre') %>% \n",
        "                     html_text() %>% \n",
        "                     {if(length(.) == 0) NA else .},\n",
        "               certificate = html_nodes(.x, '.certificate') %>% \n",
        "                     html_text() %>% \n",
        "                     {if(length(.) == 0) NA else .},\n",
        "               rating = html_nodes(.x, '.ratings-imdb-rating strong') %>% \n",
        "                     html_text() %>% \n",
        "                     {if(length(.) == 0) NA else .},\n",
        "               synopsis = html_nodes(.x, '.ratings-bar+ .text-muted') %>% \n",
        "                     html_text() %>% \n",
        "                     {if(length(.) == 0) NA else .}))\n",
        "              \n",
        "\n",
        "movies1 = rbind(movies1, df)\n",
        "print(paste(\"Page:\", page_result))\n",
        "\n",
        "}"
      ],
      "metadata": {
        "id": "9pCFhpaku4az"
      },
      "execution_count": null,
      "outputs": []
    },
    {
      "cell_type": "markdown",
      "source": [
        "*I set up print statements to monitor the status of the scraping per page. However, I cleared the output to improve the readability of this notebook because the output was very long.*"
      ],
      "metadata": {
        "id": "JoQWD1p85wGu"
      }
    },
    {
      "cell_type": "code",
      "source": [
        "%%R \n",
        "\n",
        "#Checking the head of the dataframe\n",
        "head(movies1)"
      ],
      "metadata": {
        "colab": {
          "base_uri": "https://localhost:8080/"
        },
        "id": "7sWsHejYx2dw",
        "outputId": "6e0b1211-38a8-4053-a747-0082ff96e443"
      },
      "execution_count": null,
      "outputs": [
        {
          "output_type": "stream",
          "name": "stdout",
          "text": [
            "# A tibble: 6 × 6\n",
            "  title                 year        genre            certificate rating synopsis\n",
            "  <chr>                 <chr>       <chr>            <chr>       <chr>  <chr>   \n",
            "1 The Trade             (2023)      \"\\nCrime, Drama… <NA>        6.3    \"\\nThis…\n",
            "2 After Party           (2021)      \"\\nComedy      … <NA>        7.4    \"\\nThe …\n",
            "3 Strangers             (IV) (2022) \"\\nDrama       … <NA>        9.0    \"\\nForg…\n",
            "4 Battle on Buka Street (2022)      \"\\nComedy      … <NA>        8.8    \"\\nAfte…\n",
            "5 Gangs of Lagos        (2023)      \"\\nCrime       … <NA>        <NA>    <NA>   \n",
            "6 Shanty Town           (2023– )    \"\\nAction, Crim… TV-MA       4.7    \"\\nA gr…\n"
          ]
        }
      ]
    },
    {
      "cell_type": "code",
      "source": [
        "%%R \n",
        "\n",
        "#Summary on the dataframe to confirm the data\n",
        "skim(movies1)"
      ],
      "metadata": {
        "colab": {
          "base_uri": "https://localhost:8080/"
        },
        "id": "gDymC3IzyQRJ",
        "outputId": "08d4e69b-4d34-414b-c6fc-a07f59bc5f88"
      },
      "execution_count": null,
      "outputs": [
        {
          "output_type": "stream",
          "name": "stdout",
          "text": [
            "── Data Summary ────────────────────────\n",
            "                           Values \n",
            "Name                       movies1\n",
            "Number of rows             5000   \n",
            "Number of columns          6      \n",
            "_______________________           \n",
            "Column type frequency:            \n",
            "  character                6      \n",
            "________________________          \n",
            "Group variables            None   \n",
            "\n",
            "── Variable type: character ────────────────────────────────────────────────────\n",
            "  skim_variable n_missing complete_rate min max empty n_unique whitespace\n",
            "1 title                 0        1        2  84     0     4896          0\n",
            "2 year                  0        1        0  18    56      256          0\n",
            "3 genre               247        0.951   16  46     0      180          0\n",
            "4 certificate        4911        0.0178   1   9     0       10          0\n",
            "5 rating             4496        0.101    3   4     0       75          0\n",
            "6 synopsis             83        0.983   20 251     0     1898          0\n"
          ]
        }
      ]
    },
    {
      "cell_type": "code",
      "source": [
        "%%R\n",
        "write.xlsx(movies1, \"movies1.xlsx\")"
      ],
      "metadata": {
        "id": "NpoF2cCZxznR"
      },
      "execution_count": null,
      "outputs": []
    },
    {
      "cell_type": "code",
      "source": [
        "%%R\n",
        "\n",
        "movies1_copy <- movies1"
      ],
      "metadata": {
        "id": "PpHTyM9q4gtb"
      },
      "execution_count": null,
      "outputs": []
    },
    {
      "cell_type": "markdown",
      "source": [
        "Now I will get the Cast and Directors for all the movies. Rather than scraping the data for all 5000 movies at once, I will break it into small chuncks of 1000 per time because of the size of the data, after which, I will merge them together."
      ],
      "metadata": {
        "id": "hA7U1CDf4wcp"
      }
    },
    {
      "cell_type": "markdown",
      "source": [
        "*I set up print statements to monitor the status of the scraping per page. However, I cleared some of the outputs to improve the readability of this notebook because the output was very long.*"
      ],
      "metadata": {
        "id": "IYLXSqTy6YZ-"
      }
    },
    {
      "cell_type": "code",
      "source": [
        "%%R\n",
        "\n",
        "#Cast and Directors for movies 1 - 1000\n",
        "\n",
        "get_cast = function(movie_link) {\n",
        "  movie_page = read_html(movie_link)\n",
        "  cast = movie_page %>% html_nodes(\".cast_list tr:not(:first-child) td:nth-child(2) a\") %>% html_text() %>% paste(collapse = \",\")\n",
        "  directors = movie_page %>% html_nodes(\"h4:contains('Directed by') + table a\") %>% html_text() %>% paste(collapse = \",\")\n",
        "  return(data.frame(cast = cast, directors = directors))\n",
        "}\n",
        "\n",
        "movies2 = data.frame()\n",
        "for(page_result in seq(from = 1, to = 951, by = 50)){\n",
        "  link = paste0(\"https://imdb.com/search/title/?country_of_origin=NG&start=\", page_result, \"&ref_=adv_nxt\")\n",
        "  page <- read_html(link)\n",
        "  movie_links = page %>% html_nodes(\".lister-item-header a\") %>% html_attr(\"href\") %>% str_replace(pattern = fixed(\"?ref_=adv_li_tt\"), replacement = fixed(\"fullcredits/?ref_=tt_cl_sm\")) %>%\n",
        "    paste(\"http://www.imdb.com\", ., sep=\"\")\n",
        "  movie_data = lapply(movie_links, get_cast)\n",
        "  df = bind_rows(movie_data)\n",
        "  movies2 = rbind(movies2, df)\n",
        "\n",
        "\n",
        "print(paste(\"Page:\", page_result))\n",
        "}"
      ],
      "metadata": {
        "colab": {
          "base_uri": "https://localhost:8080/"
        },
        "id": "6cQwPwtX41T4",
        "outputId": "78a6117e-c8b4-4657-d9a0-ca65af2a02a8"
      },
      "execution_count": null,
      "outputs": [
        {
          "output_type": "stream",
          "name": "stdout",
          "text": [
            "[1] \"Page: 1\"\n",
            "[1] \"Page: 51\"\n",
            "[1] \"Page: 101\"\n",
            "[1] \"Page: 151\"\n",
            "[1] \"Page: 201\"\n",
            "[1] \"Page: 251\"\n",
            "[1] \"Page: 301\"\n",
            "[1] \"Page: 351\"\n",
            "[1] \"Page: 401\"\n",
            "[1] \"Page: 451\"\n",
            "[1] \"Page: 501\"\n",
            "[1] \"Page: 551\"\n",
            "[1] \"Page: 601\"\n",
            "[1] \"Page: 651\"\n",
            "[1] \"Page: 701\"\n",
            "[1] \"Page: 751\"\n",
            "[1] \"Page: 801\"\n",
            "[1] \"Page: 851\"\n",
            "[1] \"Page: 901\"\n",
            "[1] \"Page: 951\"\n"
          ]
        }
      ]
    },
    {
      "cell_type": "code",
      "source": [
        "%%R\n",
        "head(movies2)"
      ],
      "metadata": {
        "colab": {
          "base_uri": "https://localhost:8080/"
        },
        "id": "JDUTNnTo4rAQ",
        "outputId": "f4318f61-952f-4fb6-e281-12558f93bba5"
      },
      "execution_count": null,
      "outputs": [
        {
          "output_type": "stream",
          "name": "stdout",
          "text": [
            "                                                                                                                                                                                                                                                                                                                                                                                                                                                                                                                                                                                                                                                                                                                                                                                                                                                                                                                                                                                              cast\n",
            "1                                                                                                                                                                                                                   Nengi Adoki\\n, Chiwetalu Agu\\n, Blossom Chukwujekwu\\n, Rita Dominic\\n, Shawn Faqua\\n, Waje Iruobe\\n, Ali Nuhu\\n, Stan Nze\\n, Gregory Ojefua\\n, Gideon Okeke\\n, Kelechi Udegbe\\n, Lami George\\n, Denola Grey\\n, Mercy Aigbe\\n, Franca Brown\\n, Stephanie Isuma\\n, Uru Eke\\n, Yemi Solade\\n, Chidi Okeke\\n, Sid Esiri\\n, Kolade Shasi\\n, Chris Iheuwa\\n, Abayomi Alvin\\n, Paul Adams\\n, Francis Odega\\n, Onyeka Fiaka\\n, Chimezie Imo\\n, Charles Inojie\\n, Tunbosun Aiyedehin\\n, Kelvin Chukwuemeka\\n, Ezikeoha Nzube\\n, Yvonne Chaka Chaka\\n, Emeka Ossai\\n, Nathan Esinwoke\\n, Great Emmanuel\\n, Waliu Fagbemi\\n, Emeka Nwagbaraocha\\n, Ajibola Akinola\\n, Rejji Rokka\\n, Norbert Asikhia\\n, Oluwafirewamiri Orire\\n, Angel Onyi Unigwe\\n, Etochi Asiegbu\\n, Elvis Onyekachi\\n\n",
            "2                                                                                                                                                                                                                                                                                                                                                                                                                                                                                                                                                                                                                                                                                                                                                                                                                                                Funny Bone\\n, Timo Elliott\\n, Peggy Henshaw\\n, Ufuoma McDermott\\n, Onyebuchi Ojieh\\n, Steve Onu\\n, Michael Sani\\n, M.C. Senator\\n, Nedu Wazobia\\n\n",
            "3  Musa Abdullahi\\n, Femi Adebayo\\n, Lateef Adedimeji\\n, Kemi Adekomi\\n, Helen Adeniji\\n, Kehinde Adepoju\\n, Feyikemi Adewale\\n, Agborako\\n, Jide Ajanaku\\n, Bose Akinola\\n, Bimbo Akintola\\n, Fisayo Amodemaja\\n, Ken Ola Ayeni\\n, Esther Ayopo\\n, Daniel Bogunmbe\\n, Adeoye Bolaji\\n, Morawo Bukola\\n, Ndamo Damarise\\n, Oyewole Emmanuel\\n, Waliu Fagbemi\\n, Peter Fatomilola\\n, Debby Felix\\n, Myde Glover\\n, Koleosho Hismaheel\\n, Taiwo Ibikunle\\n, Adeniji Ifeoluwa\\n, Tiwatope Ifeoluwa\\n, Chris Iheuwa\\n, Igbanbanjo Inumidun\\n, Jide Kosoko\\n, Aisha Lawal\\n, Adigun Monsuru\\n, Mukaila Muiz\\n, Bose Odogboro\\n, Nonso Odogwu\\n, Anthony Ogundele\\n, Alima Ogundepo\\n, Bolaji Ogunmola\\n, Iyinoluwa Oladigbo\\n, Bolatito Olatunde\\n, Moyosore Olorunfemi\\n, Olu Olowogemo\\n, Bimbo Oshin\\n, Christiana Oyesiji\\n, Belinda Rita\\n, Ismael Sakirudeen\\n, Bayonle Salawu\\n, Yinka Salawu\\n, Funmilayo Sebiotimo\\n, Balogun Shakiru\\n, Balogun Shukurat\\n, Ifeanyi Uche\\n, Tunde Ola Yusuf\\n\n",
            "4                                                                                                                                                                                                                                                                                                                                                                                                                                                                                                                                                                                                                                                                                                                                                                                                                Bimbo Ademoye\\n, Funke Akindele\\n, Sani Danja\\n, Moshood Fattah\\n, Femi Jacobs\\n, Tobi Makinde\\n, Tina Mba\\n, Uche Obunse\\n, Mercy Johnson Okojie\\n, Nkem Owoh\\n, Sola Sobowale\\n\n",
            "5                                                                                                                                                                                                                                                                                                                                                                                                                                                                                                                                                                                                                                                                                                                                                                                                                                                                                              Demi Banwo\\n, Adesua Etomi-Wellington\\n, Tobi Bakre\\n, Chike\\n, Adebowale Adedayo\\n, Alabi Pasuma\\n\n",
            "6                                                                                                                                                                                                                                                                                                                                                                                                                                                                                                                                                                                                                                                                                                                                                    Sola Sobowale\\n, Nancy Isime\\n, Richard Mofe-Damijo\\n, Chidi Mokeme\\n, Nse Ikpe-Etim\\n, Ali Nuhu\\n, Ini Edo\\n, Toyin Abraham\\n, Shaffy Bello\\n, Peter Okoye\\n, Zubby Michael\\n, Lilian Afegbai\\n, Regina Daniels\\n, Uche Jombo\\n, Mercy Eke\\n\n",
            "                          directors\n",
            "1                Jadesola Osiberu\\n\n",
            "2                      Tope Alake\\n\n",
            "3                  Biodun Stephen\\n\n",
            "4  Funke Akindele\\n, Tobi Makinde\\n\n",
            "5                Jadesola Osiberu\\n\n",
            "6                  Dimeji Ajibola\\n\n"
          ]
        }
      ]
    },
    {
      "cell_type": "code",
      "source": [
        "%%R\n",
        "\n",
        "#Cast and Directors for movies 1001 - 2000\n",
        "\n",
        "get_cast = function(movie_link) {\n",
        "  movie_page = read_html(movie_link)\n",
        "  cast = movie_page %>% html_nodes(\".cast_list tr:not(:first-child) td:nth-child(2) a\") %>% html_text() %>% paste(collapse = \",\")\n",
        "  directors = movie_page %>% html_nodes(\"h4:contains('Directed by') + table a\") %>% html_text() %>% paste(collapse = \",\")\n",
        "  return(data.frame(cast = cast, directors = directors))\n",
        "}\n",
        "\n",
        "movies3 = data.frame()\n",
        "for(page_result in seq(from = 1001, to = 1951, by = 50)){\n",
        "  link = paste0(\"https://imdb.com/search/title/?country_of_origin=NG&start=\", page_result, \"&ref_=adv_nxt\")\n",
        "  page <- read_html(link)\n",
        "  movie_links = page %>% html_nodes(\".lister-item-header a\") %>% html_attr(\"href\") %>% str_replace(pattern = fixed(\"?ref_=adv_li_tt\"), replacement = fixed(\"fullcredits/?ref_=tt_cl_sm\")) %>%\n",
        "    paste(\"http://www.imdb.com\", ., sep=\"\")\n",
        "  movie_data = lapply(movie_links, get_cast)\n",
        "  df = bind_rows(movie_data)\n",
        "  movies3 = rbind(movies3, df)\n",
        "\n",
        "\n",
        "print(paste(\"Page:\", page_result))\n",
        "}"
      ],
      "metadata": {
        "id": "onSM0l-VDR-B"
      },
      "execution_count": null,
      "outputs": []
    },
    {
      "cell_type": "code",
      "source": [
        "%%R\n",
        "head(movies3)"
      ],
      "metadata": {
        "colab": {
          "base_uri": "https://localhost:8080/"
        },
        "id": "dFD1uwZZGG6I",
        "outputId": "2d4396a2-b14f-4a2f-b464-c59ebae3a4d8"
      },
      "execution_count": null,
      "outputs": [
        {
          "output_type": "stream",
          "name": "stdout",
          "text": [
            "                                                                                                                                                                                                                                                                                                                                                                                                                                                                                                                                                                         cast\n",
            "1                                                                                                                                                                                                                                                                                                                                                                                                                                                                                                      Ujams Cbriel\\n, Emmanuella Igboanugo\\n, Jimmy Odukoya\\n, Kiki Omeili\\n\n",
            "2                                                                                                                                                                                                                                                                                                                                                            Lauretta Agbonifo\\n, Faith Aimo\\n, Yvonne Eddie\\n, Keppy Ekpenyong-Bassey\\n, Legemah Henry\\n, Asuama Inyang\\n, Chioma Jennifer\\n, Favour Nwankwo\\n, Divine Favour Ogbonna\\n, Ese Divine Osumah\\n, Broda Shaggi\\n\n",
            "3  Sammy Afolabi\\n, Stephanie Amaechi\\n, Ifeoma Anyiam\\n, Fred Ariko\\n, Comfort Bruno\\n, Azubuike Chibueze\\n, Sophia Tchidi Chikere\\n, Caroline Danjuma\\n, Annabell David\\n, George Davidson\\n, Victory Ebai\\n, Zelex Echefu\\n, Link Edochie\\n, Oby Edozieh\\n, Osita Iheme\\n, Chinedu Ikedieze\\n, Kenneth Jideofor\\n, Adaeze Mmayie\\n, Uche Nancy\\n, Abraham Nwodo\\n, Jennifer Nwosu\\n, Freeman Obi\\n, Kenechukwu Ogbodo\\n, Emeka Ojukwu\\n, Uche Okere\\n, Chima Okorie\\n, Gabriel Okorie\\n, Sandra Oliseh\\n, Doris Onuoha\\n, Ekene Osakwe\\n, Cosol Ugochukwu\\n, Faith Zubix\\n\n",
            "4                                                                                                                                                                                                                                                                                                                                                                                                                                                                                                                  Boy Alinco\\n, Amina Eleha\\n, Nancy Shuiab\\n, Yemi Solade\\n\n",
            "5                                                                                                                                                                                                                                                                                                                                                    Maryam Booth\\n, Abba El-Mustapha\\n, Ladidi Fagge\\n, Umar Gombe\\n, Shehu Hassan\\n, Baballe Hayatu\\n, Nana Khadija\\n, Jamila Nagudu\\n, Rabiu Rikadawa\\n, Rahama Sadau\\n, Sadiq Sani Sadiq\\n, Aminu Shariff\\n, Aliyu Tage\\n\n",
            "6                                                                                                                                                                                                                                                                                                                                                                                                                                                                                             Eucharia Anunobi Ekwu\\n, Emeka Nwafor\\n, Clem Ohameze\\n, Mercy Johnson Okojie\\n\n",
            "                    directors\n",
            "1              Ujams Cbriel\\n\n",
            "2  Adekunle Lawal McDouglas\\n\n",
            "3    Lancelot Oduwa Imasuen\\n\n",
            "4               Tope Egbeji\\n\n",
            "5              Yaseen Auwal\\n\n",
            "6            Kenneth Nnebue\\n\n"
          ]
        }
      ]
    },
    {
      "cell_type": "code",
      "source": [
        "%%R\n",
        "skim(movies3)"
      ],
      "metadata": {
        "colab": {
          "base_uri": "https://localhost:8080/"
        },
        "id": "1OPOaKjFGNTh",
        "outputId": "d79197f8-e385-46d3-80eb-f817e5ad00cd"
      },
      "execution_count": null,
      "outputs": [
        {
          "output_type": "stream",
          "name": "stdout",
          "text": [
            "── Data Summary ────────────────────────\n",
            "                           Values \n",
            "Name                       movies3\n",
            "Number of rows             1000   \n",
            "Number of columns          2      \n",
            "_______________________           \n",
            "Column type frequency:            \n",
            "  character                2      \n",
            "________________________          \n",
            "Group variables            None   \n",
            "\n",
            "── Variable type: character ────────────────────────────────────────────────────\n",
            "  skim_variable n_missing complete_rate min  max empty n_unique whitespace\n",
            "1 cast                  0             1   0 1221    17      971          0\n",
            "2 directors             0             1   0   66    14      407          0\n"
          ]
        }
      ]
    },
    {
      "cell_type": "code",
      "source": [
        "%%R\n",
        "skim(movies2)"
      ],
      "metadata": {
        "colab": {
          "base_uri": "https://localhost:8080/"
        },
        "id": "1UtmMN_EGSHx",
        "outputId": "d7c527a6-4e85-4559-8f8a-8cf0027a9c25"
      },
      "execution_count": null,
      "outputs": [
        {
          "output_type": "stream",
          "name": "stdout",
          "text": [
            "── Data Summary ────────────────────────\n",
            "                           Values \n",
            "Name                       movies2\n",
            "Number of rows             1000   \n",
            "Number of columns          2      \n",
            "_______________________           \n",
            "Column type frequency:            \n",
            "  character                2      \n",
            "________________________          \n",
            "Group variables            None   \n",
            "\n",
            "── Variable type: character ────────────────────────────────────────────────────\n",
            "  skim_variable n_missing complete_rate min  max empty n_unique whitespace\n",
            "1 cast                  0             1   0 2644    10      987          0\n",
            "2 directors             0             1   0  128    13      457          0\n"
          ]
        }
      ]
    },
    {
      "cell_type": "code",
      "source": [
        "%%R\n",
        "\n",
        "#Cast and Directors for movies 2001 - 3000\n",
        "\n",
        "get_cast = function(movie_link) {\n",
        "  movie_page = read_html(movie_link)\n",
        "  cast = movie_page %>% html_nodes(\".cast_list tr:not(:first-child) td:nth-child(2) a\") %>% html_text() %>% paste(collapse = \",\")\n",
        "  directors = movie_page %>% html_nodes(\"h4:contains('Directed by') + table a\") %>% html_text() %>% paste(collapse = \",\")\n",
        "  return(data.frame(cast = cast, directors = directors))\n",
        "}\n",
        "\n",
        "movies4 = data.frame()\n",
        "for(page_result in seq(from = 2001, to = 2951, by = 50)){\n",
        "  link = paste0(\"https://imdb.com/search/title/?country_of_origin=NG&start=\", page_result, \"&ref_=adv_nxt\")\n",
        "  page <- read_html(link)\n",
        "  movie_links = page %>% html_nodes(\".lister-item-header a\") %>% html_attr(\"href\") %>% str_replace(pattern = fixed(\"?ref_=adv_li_tt\"), replacement = fixed(\"fullcredits/?ref_=tt_cl_sm\")) %>%\n",
        "    paste(\"http://www.imdb.com\", ., sep=\"\")\n",
        "  movie_data = lapply(movie_links, get_cast)\n",
        "  df = bind_rows(movie_data)\n",
        "  movies4 = rbind(movies4, df)\n",
        "\n",
        "\n",
        "print(paste(\"Page:\", page_result))\n",
        "}"
      ],
      "metadata": {
        "id": "8-UH0ouUGWWv"
      },
      "execution_count": null,
      "outputs": []
    },
    {
      "cell_type": "code",
      "source": [
        "%%R\n",
        "head(movies4)"
      ],
      "metadata": {
        "colab": {
          "base_uri": "https://localhost:8080/"
        },
        "id": "eBUr2OMaJQLi",
        "outputId": "c42625de-802a-4b00-8614-8957139473cb"
      },
      "execution_count": null,
      "outputs": [
        {
          "output_type": "stream",
          "name": "stdout",
          "text": [
            "                                                                                                                                                                                                                                                                                                                                                                                                                                                                                                                                                                                                                                                                                                                                                                                                             cast\n",
            "1                                                                                                                                                                                                                                                                                                                                                                                                                                                                                                                                                                                                                                                                       Evelyn Cruiz\\n, Paul Eze\\n, Nancy Isime\\n, Ifeanyi Kalu\\n, Kevin Mike\\n, Ngozi Nwosu\\n, Odunlami Odediran\\n, Imade Osawuru\\n, Emem Ufot\\n\n",
            "2  Toyin Abraham\\n, Dauda Adewale\\n, Donia Mako Adewoye\\n, Amaka Ann Amamchukwu\\n, Vivian Arinze\\n, Onoge Tega Ben\\n, Blossom Chukwujekwu\\n, Bennett Chinedu Daniel\\n, Cassie Daniel\\n, Ara Deinde\\n, Chimamanda Dennis\\n, Eso Dike\\n, Sani Donli\\n, Joy Ebiem\\n, Kemen Ekerette\\n, Lasisi Elenu\\n, Steve Enagbare\\n, Elohor Christabel Enis\\n, Adokiye Horsfall\\n, Chioka Ifemeludike\\n, Oladokun Isiaka\\n, Nancy Isime\\n, Jay Franklyn Jituboh\\n, Jide Kosoko\\n, Ayo Makun\\n, Otiasah Miracle\\n, Richard Mofe-Damijo\\n, Erica Nlewedim\\n, Mr. Nollywood\\n, Uche Nwaefuna\\n, Roland Obutu\\n, Gregory Ojefua\\n, Sanusi Olayinka\\n, James Osakue\\n, Daniel Ugo Osuala\\n, Doe Jnr. Otse\\n, Ayanwu Ifeanyi Prince\\n, Elizabeth Robson\\n, Sam Sunny\\n, Ursula Ugele\\n, David Patrick Ugeonyemechi\\n, Chinonso Young\\n\n",
            "3                                                                                                                                                                                                                                                                                                                                                                                                                                                                                                                                                                                                                                                           Tomiwa Kukoyi\\n, Vivian Metchie\\n, Blessing Jessica Obasi-Nze\\n, Bolaji Ogunmola\\n, Faith Pius\\n, Joshua Richard\\n, Lawal Solomon\\n, Biodun Stephen\\n\n",
            "4                                                                                                                                                                                                                                                                                                                                                                                                                                                                                                                                                                                                                                                                                                            Tony Chukwuma\\n, Kc Ejelonu\\n, Moyo Lawal\\n, Fidelis Nyikaa\\n, Calista Okoronkwo\\n, Patience Oseni\\n\n",
            "5                                                                                                                                                                                                                                                                                                                                                                                                                                                                                                      Cynthia Agholor\\n, Debbie Amos\\n, Austin Chukwuji\\n, Nneka Egbuna\\n, Chinonso Ekeocha\\n, Desmond Elliot\\n, Alexandra Igwe\\n, Empress Njamah\\n, Amaka Nzeribe\\n, Ernest Obi\\n, Endy King Ogbatue\\n, Ijeoma Okafor\\n, Ralph Onu\\n, Stephen Onwuchekwa\\n, Ireti Osayemi\\n, Johnson Uzoechi\\n, J.T. Tom West\\n\n",
            "6                                                                                                                                                                                                                                                                                                                                                                                                                                                                                                                                                                                                                                                                                                                                          Enebeli Elebuwa\\n, Ebele Okaro-Onyiuke\\n, Oge Okoye\\n, Onyeka Onwenu\\n\n",
            "                   directors\n",
            "1             Okey Ifeanyi\\n\n",
            "2             Toka McBaror\\n\n",
            "3           Biodun Stephen\\n\n",
            "4      Akin-Tijani Balogun\\n\n",
            "5  Paul Iheanyichukwu Igwe\\n\n",
            "6           Tchidi Chikere\\n\n"
          ]
        }
      ]
    },
    {
      "cell_type": "code",
      "source": [
        "%%R\n",
        "skim(movies4)"
      ],
      "metadata": {
        "colab": {
          "base_uri": "https://localhost:8080/"
        },
        "id": "ZowtTDdpJUix",
        "outputId": "ff797956-1e0c-4c05-fe2f-73b71b1ee3f4"
      },
      "execution_count": null,
      "outputs": [
        {
          "output_type": "stream",
          "name": "stdout",
          "text": [
            "── Data Summary ────────────────────────\n",
            "                           Values \n",
            "Name                       movies4\n",
            "Number of rows             1000   \n",
            "Number of columns          2      \n",
            "_______________________           \n",
            "Column type frequency:            \n",
            "  character                2      \n",
            "________________________          \n",
            "Group variables            None   \n",
            "\n",
            "── Variable type: character ────────────────────────────────────────────────────\n",
            "  skim_variable n_missing complete_rate min max empty n_unique whitespace\n",
            "1 cast                  0             1   0 953    33      953          0\n",
            "2 directors             0             1   0  76    31      430          0\n"
          ]
        }
      ]
    },
    {
      "cell_type": "code",
      "source": [
        "%%R\n",
        "\n",
        "#Cast and Directors for movies 3001 - 4000\n",
        "\n",
        "get_cast = function(movie_link) {\n",
        "  movie_page = read_html(movie_link)\n",
        "  cast = movie_page %>% html_nodes(\".cast_list tr:not(:first-child) td:nth-child(2) a\") %>% html_text() %>% paste(collapse = \",\")\n",
        "  directors = movie_page %>% html_nodes(\"h4:contains('Directed by') + table a\") %>% html_text() %>% paste(collapse = \",\")\n",
        "  return(data.frame(cast = cast, directors = directors))\n",
        "}\n",
        "\n",
        "movies5 = data.frame()\n",
        "for(page_result in seq(from = 3001, to = 3951, by = 50)){\n",
        "  link = paste0(\"https://imdb.com/search/title/?country_of_origin=NG&start=\", page_result, \"&ref_=adv_nxt\")\n",
        "  page <- read_html(link)\n",
        "  movie_links = page %>% html_nodes(\".lister-item-header a\") %>% html_attr(\"href\") %>% str_replace(pattern = fixed(\"?ref_=adv_li_tt\"), replacement = fixed(\"fullcredits/?ref_=tt_cl_sm\")) %>%\n",
        "    paste(\"http://www.imdb.com\", ., sep=\"\")\n",
        "  movie_data = lapply(movie_links, get_cast)\n",
        "  df = bind_rows(movie_data)\n",
        "  movies5 = rbind(movies5, df)\n",
        "\n",
        "\n",
        "print(paste(\"Page:\", page_result))\n",
        "}"
      ],
      "metadata": {
        "id": "GqYKCF2OJabZ"
      },
      "execution_count": null,
      "outputs": []
    },
    {
      "cell_type": "code",
      "source": [
        "%%R\n",
        "head(movies5)"
      ],
      "metadata": {
        "colab": {
          "base_uri": "https://localhost:8080/"
        },
        "id": "qoUSi9mpMd3p",
        "outputId": "35a5a502-2531-4bde-a548-618514887fae"
      },
      "execution_count": null,
      "outputs": [
        {
          "output_type": "stream",
          "name": "stdout",
          "text": [
            "                                                                                                                                                                                                                                                                                                                                    cast\n",
            "1                                                                                                                                                                                                                                                                                        Nkechi First\\n, Chizoba Nwokoye\\n, Frank Tana\\n\n",
            "2                                                                                                 Shola Abimbola\\n, Afeez Abiodun\\n, Mojisola Adedeji\\n, Lateef Adedimeji\\n, Busayo Akinboboye\\n, Wasiu Alabi\\n, Bolanle Ayoola\\n, Kiitan Bukola\\n, Funke Igiowo\\n, Isaiq Jamiu\\n, Mide Funmi Martins\\n, Kunle Omisore\\n, Oseni Samson\\n\n",
            "3                                              Genevieve Nnaji\\n, Desmond Elliot\\n, Nadia Buari\\n, Ecow Smith-Asante\\n, Olu Jacobs\\n, Susan Peters\\n, Emma Ayalogu\\n, Mary Ann Apollo\\n, Vitalis Ndubuisi\\n, Kingsley Anyaka\\n, Eva Ifietekhai\\n, Ifunaya Onyema\\n, Sunday Nwabuike\\n, Prince Orjiako\\n, Ikechukwu Onyeka\\n, Ian Hawes\\n\n",
            "4                     Bello A. Baffancy\\n, Khadija Sani Danja\\n, Khalifa Sani Danja\\n, Sani Danja\\n, Tijani Faraga\\n, Saratu Gidado\\n, Umar Gombe\\n, Malam Inuwa\\n, Isyaku Adbsulam Jalingo\\n, Baba Karami\\n, Sha'aibu Lilisco\\n, Yakubu Mohammed\\n, Sabeerah Mukhtar\\n, Ali Nuhu\\n, Bashir Qaya\\n, T.Y. Shaba\\n, Rahama M.K. Suleiman\\n\n",
            "5   Nonso Diobi\\n, Ebube Nwagbo\\n, Monalisa Chinda\\n, Andy Chukwu\\n, Kelechi Nzerem\\n, Ngozi Nwosu\\n, Obimeshile Okorie\\n, Chima Amadi\\n, Angel Orakwe\\n, Ijeoma Chukwu-Njoku\\n, Nono Adindu\\n, Noel Anukam\\n, Chudi Osuorie\\n, Geraldine Ejiogu\\n, Joy Chukwubueze\\n, Vera Onuoha\\n, Emmanuel Ezeocha\\n, Chijioke Uba\\n, Emeka Davids\\n\n",
            "6  Sunday Baba\\n, Gbubemi Ejeye\\n, Ebenezer Eno\\n, Lord Frank\\n, Sinmi Hassan\\n, Caroline Igben\\n, Isoken Igbinigie\\n, Paul Iwunwa\\n, Okey Jude\\n, Tochukwu MacDonald\\n, Temitope Ojo\\n, Olanrewaju Oladipo\\n, Junaid Olawale\\n, Osalope Olayemi\\n, Ayomide Opeyemi\\n, Ufoegbune Philip\\n, Presido\\n, Kunle Remi\\n, José Manuel Suárez\\n\n",
            "            directors\n",
            "1  Armani J. Armani\\n\n",
            "2     Afeez Abiodun\\n\n",
            "3  Ikechukwu Onyeka\\n\n",
            "4        Isah Alolo\\n\n",
            "5       Andy Chukwu\\n\n",
            "6         Uche Odoh\\n\n"
          ]
        }
      ]
    },
    {
      "cell_type": "code",
      "source": [
        "%%R\n",
        "skim(movies5)"
      ],
      "metadata": {
        "colab": {
          "base_uri": "https://localhost:8080/"
        },
        "id": "YqhqIrAsMisZ",
        "outputId": "8a6c0d76-6192-424f-f767-259b51659c4b"
      },
      "execution_count": null,
      "outputs": [
        {
          "output_type": "stream",
          "name": "stdout",
          "text": [
            "── Data Summary ────────────────────────\n",
            "                           Values \n",
            "Name                       movies5\n",
            "Number of rows             1000   \n",
            "Number of columns          2      \n",
            "_______________________           \n",
            "Column type frequency:            \n",
            "  character                2      \n",
            "________________________          \n",
            "Group variables            None   \n",
            "\n",
            "── Variable type: character ────────────────────────────────────────────────────\n",
            "  skim_variable n_missing complete_rate min  max empty n_unique whitespace\n",
            "1 cast                  0             1   0 1058    33      948          0\n",
            "2 directors             0             1   0   51    21      457          0\n"
          ]
        }
      ]
    },
    {
      "cell_type": "code",
      "source": [
        "%%R\n",
        "\n",
        "#Cast and Directors for movies 4001 - 5000\n",
        "\n",
        "get_cast = function(movie_link) {\n",
        "  movie_page = read_html(movie_link)\n",
        "  cast = movie_page %>% html_nodes(\".cast_list tr:not(:first-child) td:nth-child(2) a\") %>% html_text() %>% paste(collapse = \",\")\n",
        "  directors = movie_page %>% html_nodes(\"h4:contains('Directed by') + table a\") %>% html_text() %>% paste(collapse = \",\")\n",
        "  return(data.frame(cast = cast, directors = directors))\n",
        "}\n",
        "\n",
        "movies6 = data.frame()\n",
        "for(page_result in seq(from = 4001, to = 4951, by = 50)){\n",
        "  link = paste0(\"https://imdb.com/search/title/?country_of_origin=NG&start=\", page_result, \"&ref_=adv_nxt\")\n",
        "  page <- read_html(link)\n",
        "  movie_links = page %>% html_nodes(\".lister-item-header a\") %>% html_attr(\"href\") %>% str_replace(pattern = fixed(\"?ref_=adv_li_tt\"), replacement = fixed(\"fullcredits/?ref_=tt_cl_sm\")) %>%\n",
        "    paste(\"http://www.imdb.com\", ., sep=\"\")\n",
        "  movie_data = lapply(movie_links, get_cast)\n",
        "  df = bind_rows(movie_data)\n",
        "  movies6 = rbind(movies6, df)\n",
        "\n",
        "\n",
        "print(paste(\"Page:\", page_result))\n",
        "}"
      ],
      "metadata": {
        "id": "UzrOB9EyMeo7"
      },
      "execution_count": null,
      "outputs": []
    },
    {
      "cell_type": "code",
      "source": [
        "%%R\n",
        "head(movies6)"
      ],
      "metadata": {
        "colab": {
          "base_uri": "https://localhost:8080/"
        },
        "id": "nz2Yz0XTQdCh",
        "outputId": "b26f5c1b-a8d2-421d-de2d-0f6aa2578e42"
      },
      "execution_count": null,
      "outputs": [
        {
          "output_type": "stream",
          "name": "stdout",
          "text": [
            "                                                                                                                                                                                                                                                                                                                                                                                                                                           cast\n",
            "1  Emeka Amakeze\\n, Queency Asogwa\\n, Chidi Chijioke\\n, Ijibueze Chuks\\n, Malechi Chukwudebe\\n, Grace Denny\\n, Mike Ezuruonye\\n, Jonathan Ganagana\\n, Ugo Gbams\\n, Jim Iyke\\n, Paulinus Magbo\\n, Prince Nwafor\\n, Emmanuel Obi\\n, Gabriel Obi\\n, Elochukwu Obinna\\n, Chinedu Odinachi\\n, Adamma Oforah\\n, Chinedu Ogah\\n, Love Okapare\\n, Mike Okechukwu\\n, Augustine Okeke\\n, Oge Okoye\\n, Oyin Omar\\n, Francis Oniah\\n, Emmanuel Onyemeziem\\n\n",
            "2                                                                                                                                                                                                                                                                                                                                                                                                          Sally NegroArt\\n, Monica Nwokeocha\\n\n",
            "3                                                                                                                                                                                                                                                                                                                     Bimbo Akintola\\n, Segun Arinze\\n, Monalisa Chinda\\n, Juliet Ibeh\\n, Kalu Ikeagwu\\n, Ebele Okaro-Onyiuke\\n, Michael Okon\\n\n",
            "4                                                                                                                                                                                                                                                                                                                                                            Jerry Amilo\\n, Nonso Diobi\\n, Rita Edochie\\n, Emeka Enyiocha\\n, Camilla Mberekpe\\n\n",
            "5                                                                                                                                                                                                                                                                                                                                                                                   Stella Charles\\n, Debby Felix\\n, Stan Nze\\n, Eddie Watson\\n\n",
            "6                                                                                                                                                                                                                                                                                                                                                                           Ejike Asiegbu\\n, Funto Fatoba\\n, Doreen Oyesanya\\n, Robert Peters\\n\n",
            "                   directors\n",
            "1        Ilochi Olisaemeka\\n\n",
            "2                  Pat Edo\\n\n",
            "3               Fred Amata\\n\n",
            "4       MacCollins Chidebe\\n\n",
            "5  Paul Iheanyichukwu Igwe\\n\n",
            "6          Tarila Thompson\\n\n"
          ]
        }
      ]
    },
    {
      "cell_type": "code",
      "source": [
        "%%R\n",
        "skim(movies6)"
      ],
      "metadata": {
        "colab": {
          "base_uri": "https://localhost:8080/"
        },
        "id": "SP86mZCEQhpe",
        "outputId": "02187bfc-7dd0-400b-ffb6-c4842ced9248"
      },
      "execution_count": null,
      "outputs": [
        {
          "output_type": "stream",
          "name": "stdout",
          "text": [
            "── Data Summary ────────────────────────\n",
            "                           Values \n",
            "Name                       movies6\n",
            "Number of rows             1000   \n",
            "Number of columns          2      \n",
            "_______________________           \n",
            "Column type frequency:            \n",
            "  character                2      \n",
            "________________________          \n",
            "Group variables            None   \n",
            "\n",
            "── Variable type: character ────────────────────────────────────────────────────\n",
            "  skim_variable n_missing complete_rate min  max empty n_unique whitespace\n",
            "1 cast                  0             1   0 1155    37      930          0\n",
            "2 directors             0             1   0   49    36      481          0\n"
          ]
        }
      ]
    },
    {
      "cell_type": "markdown",
      "source": [
        "Making copies of the extracted data"
      ],
      "metadata": {
        "id": "NTFBNh1hQmAB"
      }
    },
    {
      "cell_type": "code",
      "source": [
        "%%R\n",
        "\n",
        "movies2_copy <- movies2\n",
        "movies3_copy <- movies3\n",
        "movies4_copy <- movies4\n",
        "movies5_copy <- movies5\n",
        "movies6_copy <- movies6"
      ],
      "metadata": {
        "id": "GyX7Z-YfQptn"
      },
      "execution_count": null,
      "outputs": []
    },
    {
      "cell_type": "code",
      "source": [
        "%%R\n",
        "movies2_copy = rbind(movies2_copy, movies3_copy)"
      ],
      "metadata": {
        "id": "Xrxlr5igRO_j"
      },
      "execution_count": null,
      "outputs": []
    },
    {
      "cell_type": "code",
      "source": [
        "%%R\n",
        "movies2_copy = rbind(movies2_copy, movies4_copy)"
      ],
      "metadata": {
        "id": "-oig8mtWRrbQ"
      },
      "execution_count": null,
      "outputs": []
    },
    {
      "cell_type": "code",
      "source": [
        "%%R\n",
        "movies2_copy = rbind(movies2_copy, movies5_copy)"
      ],
      "metadata": {
        "id": "DY0BIy9OSYCn"
      },
      "execution_count": null,
      "outputs": []
    },
    {
      "cell_type": "code",
      "source": [
        "%%R\n",
        "movies2_copy = rbind(movies2_copy, movies6_copy)"
      ],
      "metadata": {
        "id": "knvNotDYSmMD"
      },
      "execution_count": null,
      "outputs": []
    },
    {
      "cell_type": "markdown",
      "source": [
        "Merging it all together"
      ],
      "metadata": {
        "id": "ObYz-BxnS28x"
      }
    },
    {
      "cell_type": "code",
      "source": [
        "%%R\n",
        "\n",
        "movies_copy = cbind(movies1_copy, movies2_copy)"
      ],
      "metadata": {
        "id": "wA_Sn6iaS413"
      },
      "execution_count": null,
      "outputs": []
    },
    {
      "cell_type": "code",
      "source": [
        "%%R\n",
        "\n",
        "head(movies_copy)"
      ],
      "metadata": {
        "colab": {
          "base_uri": "https://localhost:8080/"
        },
        "id": "3chpVmSbTc2T",
        "outputId": "1dbddf73-c102-486c-e71c-c9f3e103a9b5"
      },
      "execution_count": null,
      "outputs": [
        {
          "output_type": "stream",
          "name": "stdout",
          "text": [
            "                  title        year                              genre\n",
            "1             The Trade      (2023)         \\nCrime, Drama            \n",
            "2           After Party      (2021)               \\nComedy            \n",
            "3             Strangers (IV) (2022)                \\nDrama            \n",
            "4 Battle on Buka Street      (2022)               \\nComedy            \n",
            "5        Gangs of Lagos      (2023)                \\nCrime            \n",
            "6           Shanty Town    (2023– ) \\nAction, Crime, Drama            \n",
            "  certificate rating\n",
            "1        <NA>    6.3\n",
            "2        <NA>    7.4\n",
            "3        <NA>    9.0\n",
            "4        <NA>    8.8\n",
            "5        <NA>   <NA>\n",
            "6       TV-MA    4.7\n",
            "                                                                                                                                                                                                                                  synopsis\n",
            "1 \\nThis is the story of a notoriously cunning kidnapper known only by name, who has ravaged the southern part of Nigeria for over a decade. 'Eric' undertakes a job that brings the law closer than ever before. Inspired by true events.\n",
            "2                                                                                    \\nThe universe comes crashing down on a group of friends after an incident is uncovered the morning after a heavy house party at their friends' home.\n",
            "3                                                        \\nForgotten in a remote village and battling a life ending disease, a young boy's future could change forever when people he has never met showed up. Is it too late? May be not?\n",
            "4                                                                                           \\nAfter a lifetime of rivalry, two half-sisters find themselves at loggerheads once again when they set up food businesses on the same street.\n",
            "5                                                                                                                                                                                                                                     <NA>\n",
            "6                                                                              \\nA group of courtesans attempts to escape the grasp of a notorious kingpin- but political corruption and blood ties make freedom a near - impossible goal.\n",
            "                                                                                                                                                                                                                                                                                                                                                                                                                                                                                                                                                                                                                                                                                                                                                                                                                                                                                                                                                                                              cast\n",
            "1                                                                                                                                                                                                                   Nengi Adoki\\n, Chiwetalu Agu\\n, Blossom Chukwujekwu\\n, Rita Dominic\\n, Shawn Faqua\\n, Waje Iruobe\\n, Ali Nuhu\\n, Stan Nze\\n, Gregory Ojefua\\n, Gideon Okeke\\n, Kelechi Udegbe\\n, Lami George\\n, Denola Grey\\n, Mercy Aigbe\\n, Franca Brown\\n, Stephanie Isuma\\n, Uru Eke\\n, Yemi Solade\\n, Chidi Okeke\\n, Sid Esiri\\n, Kolade Shasi\\n, Chris Iheuwa\\n, Abayomi Alvin\\n, Paul Adams\\n, Francis Odega\\n, Onyeka Fiaka\\n, Chimezie Imo\\n, Charles Inojie\\n, Tunbosun Aiyedehin\\n, Kelvin Chukwuemeka\\n, Ezikeoha Nzube\\n, Yvonne Chaka Chaka\\n, Emeka Ossai\\n, Nathan Esinwoke\\n, Great Emmanuel\\n, Waliu Fagbemi\\n, Emeka Nwagbaraocha\\n, Ajibola Akinola\\n, Rejji Rokka\\n, Norbert Asikhia\\n, Oluwafirewamiri Orire\\n, Angel Onyi Unigwe\\n, Etochi Asiegbu\\n, Elvis Onyekachi\\n\n",
            "2                                                                                                                                                                                                                                                                                                                                                                                                                                                                                                                                                                                                                                                                                                                                                                                                                                                Funny Bone\\n, Timo Elliott\\n, Peggy Henshaw\\n, Ufuoma McDermott\\n, Onyebuchi Ojieh\\n, Steve Onu\\n, Michael Sani\\n, M.C. Senator\\n, Nedu Wazobia\\n\n",
            "3  Musa Abdullahi\\n, Femi Adebayo\\n, Lateef Adedimeji\\n, Kemi Adekomi\\n, Helen Adeniji\\n, Kehinde Adepoju\\n, Feyikemi Adewale\\n, Agborako\\n, Jide Ajanaku\\n, Bose Akinola\\n, Bimbo Akintola\\n, Fisayo Amodemaja\\n, Ken Ola Ayeni\\n, Esther Ayopo\\n, Daniel Bogunmbe\\n, Adeoye Bolaji\\n, Morawo Bukola\\n, Ndamo Damarise\\n, Oyewole Emmanuel\\n, Waliu Fagbemi\\n, Peter Fatomilola\\n, Debby Felix\\n, Myde Glover\\n, Koleosho Hismaheel\\n, Taiwo Ibikunle\\n, Adeniji Ifeoluwa\\n, Tiwatope Ifeoluwa\\n, Chris Iheuwa\\n, Igbanbanjo Inumidun\\n, Jide Kosoko\\n, Aisha Lawal\\n, Adigun Monsuru\\n, Mukaila Muiz\\n, Bose Odogboro\\n, Nonso Odogwu\\n, Anthony Ogundele\\n, Alima Ogundepo\\n, Bolaji Ogunmola\\n, Iyinoluwa Oladigbo\\n, Bolatito Olatunde\\n, Moyosore Olorunfemi\\n, Olu Olowogemo\\n, Bimbo Oshin\\n, Christiana Oyesiji\\n, Belinda Rita\\n, Ismael Sakirudeen\\n, Bayonle Salawu\\n, Yinka Salawu\\n, Funmilayo Sebiotimo\\n, Balogun Shakiru\\n, Balogun Shukurat\\n, Ifeanyi Uche\\n, Tunde Ola Yusuf\\n\n",
            "4                                                                                                                                                                                                                                                                                                                                                                                                                                                                                                                                                                                                                                                                                                                                                                                                                Bimbo Ademoye\\n, Funke Akindele\\n, Sani Danja\\n, Moshood Fattah\\n, Femi Jacobs\\n, Tobi Makinde\\n, Tina Mba\\n, Uche Obunse\\n, Mercy Johnson Okojie\\n, Nkem Owoh\\n, Sola Sobowale\\n\n",
            "5                                                                                                                                                                                                                                                                                                                                                                                                                                                                                                                                                                                                                                                                                                                                                                                                                                                                                              Demi Banwo\\n, Adesua Etomi-Wellington\\n, Tobi Bakre\\n, Chike\\n, Adebowale Adedayo\\n, Alabi Pasuma\\n\n",
            "6                                                                                                                                                                                                                                                                                                                                                                                                                                                                                                                                                                                                                                                                                                                                                    Sola Sobowale\\n, Nancy Isime\\n, Richard Mofe-Damijo\\n, Chidi Mokeme\\n, Nse Ikpe-Etim\\n, Ali Nuhu\\n, Ini Edo\\n, Toyin Abraham\\n, Shaffy Bello\\n, Peter Okoye\\n, Zubby Michael\\n, Lilian Afegbai\\n, Regina Daniels\\n, Uche Jombo\\n, Mercy Eke\\n\n",
            "                          directors\n",
            "1                Jadesola Osiberu\\n\n",
            "2                      Tope Alake\\n\n",
            "3                  Biodun Stephen\\n\n",
            "4  Funke Akindele\\n, Tobi Makinde\\n\n",
            "5                Jadesola Osiberu\\n\n",
            "6                  Dimeji Ajibola\\n\n"
          ]
        }
      ]
    },
    {
      "cell_type": "code",
      "source": [
        "%%R\n",
        "\n",
        "skim(movies_copy)"
      ],
      "metadata": {
        "colab": {
          "base_uri": "https://localhost:8080/"
        },
        "id": "ibnBJxKkUo8M",
        "outputId": "16488982-5bd7-4d37-c458-20e785af88e8"
      },
      "execution_count": null,
      "outputs": [
        {
          "output_type": "stream",
          "name": "stdout",
          "text": [
            "── Data Summary ────────────────────────\n",
            "                           Values     \n",
            "Name                       movies_copy\n",
            "Number of rows             5000       \n",
            "Number of columns          8          \n",
            "_______________________               \n",
            "Column type frequency:                \n",
            "  character                8          \n",
            "________________________              \n",
            "Group variables            None       \n",
            "\n",
            "── Variable type: character ────────────────────────────────────────────────────\n",
            "  skim_variable n_missing complete_rate min  max empty n_unique whitespace\n",
            "1 title                 0        1        2   84     0     4896          0\n",
            "2 year                  0        1        0   18    56      256          0\n",
            "3 genre               247        0.951   16   46     0      180          0\n",
            "4 certificate        4911        0.0178   1    9     0       10          0\n",
            "5 rating             4496        0.101    3    4     0       75          0\n",
            "6 synopsis             83        0.983   20  251     0     1898          0\n",
            "7 cast                  0        1        0 2644   130     4604          0\n",
            "8 directors             0        1        0  128   115     1238          0\n"
          ]
        }
      ]
    },
    {
      "cell_type": "markdown",
      "source": [
        "### Data Pre-Processing"
      ],
      "metadata": {
        "id": "HCW150JbYgh3"
      }
    },
    {
      "cell_type": "markdown",
      "source": [
        "I will now clean the data to remove unwanted elements"
      ],
      "metadata": {
        "id": "24ZTHG1nZTF3"
      }
    },
    {
      "cell_type": "code",
      "source": [
        "%%R\n",
        "\n",
        "movies_copy1 <- movies_copy"
      ],
      "metadata": {
        "id": "9uWgsA_AZYov"
      },
      "execution_count": null,
      "outputs": []
    },
    {
      "cell_type": "code",
      "source": [
        "%%R\n",
        "movies_copy1$genre <- gsub(\"\\n\", \"\", movies_copy1$genre)\n",
        "movies_copy1$genre <- gsub(\",\", \"\", movies_copy1$genre)\n",
        "movies_copy1$cast <- gsub(\"\\n\", \"\", movies_copy1$cast)\n",
        "movies_copy1$cast <- gsub(\",\", \"\", movies_copy1$cast)\n",
        "movies_copy1$directors <- gsub(\"\\n\", \"\", movies_copy1$directors)\n",
        "movies_copy1$directors <- gsub(\",\", \"\", movies_copy1$directors)\n",
        "movies_copy1$synopsis <- gsub(\"\\n\", \"\", movies_copy1$synopsis)"
      ],
      "metadata": {
        "id": "2O6Z4HKoYjxx"
      },
      "execution_count": null,
      "outputs": []
    },
    {
      "cell_type": "code",
      "source": [
        "%%R\n",
        "head(movies_copy1)"
      ],
      "metadata": {
        "colab": {
          "base_uri": "https://localhost:8080/"
        },
        "id": "mhwYb9stdTdS",
        "outputId": "a45757cd-2e8b-471a-8b80-72fbb67f0581"
      },
      "execution_count": null,
      "outputs": [
        {
          "output_type": "stream",
          "name": "stdout",
          "text": [
            "                  title        year                          genre certificate\n",
            "1             The Trade      (2023)        Crime Drama                    <NA>\n",
            "2           After Party      (2021)             Comedy                    <NA>\n",
            "3             Strangers (IV) (2022)              Drama                    <NA>\n",
            "4 Battle on Buka Street      (2022)             Comedy                    <NA>\n",
            "5        Gangs of Lagos      (2023)              Crime                    <NA>\n",
            "6           Shanty Town    (2023– ) Action Crime Drama                   TV-MA\n",
            "  rating\n",
            "1    6.3\n",
            "2    7.4\n",
            "3    9.0\n",
            "4    8.8\n",
            "5   <NA>\n",
            "6    4.7\n",
            "                                                                                                                                                                                                                                synopsis\n",
            "1 This is the story of a notoriously cunning kidnapper known only by name, who has ravaged the southern part of Nigeria for over a decade. 'Eric' undertakes a job that brings the law closer than ever before. Inspired by true events.\n",
            "2                                                                                    The universe comes crashing down on a group of friends after an incident is uncovered the morning after a heavy house party at their friends' home.\n",
            "3                                                        Forgotten in a remote village and battling a life ending disease, a young boy's future could change forever when people he has never met showed up. Is it too late? May be not?\n",
            "4                                                                                           After a lifetime of rivalry, two half-sisters find themselves at loggerheads once again when they set up food businesses on the same street.\n",
            "5                                                                                                                                                                                                                                   <NA>\n",
            "6                                                                              A group of courtesans attempts to escape the grasp of a notorious kingpin- but political corruption and blood ties make freedom a near - impossible goal.\n",
            "                                                                                                                                                                                                                                                                                                                                                                                                                                                                                                                                                                                                                                                                                                                                                                                                                                cast\n",
            "1                                                                                                                                                                                        Nengi Adoki Chiwetalu Agu Blossom Chukwujekwu Rita Dominic Shawn Faqua Waje Iruobe Ali Nuhu Stan Nze Gregory Ojefua Gideon Okeke Kelechi Udegbe Lami George Denola Grey Mercy Aigbe Franca Brown Stephanie Isuma Uru Eke Yemi Solade Chidi Okeke Sid Esiri Kolade Shasi Chris Iheuwa Abayomi Alvin Paul Adams Francis Odega Onyeka Fiaka Chimezie Imo Charles Inojie Tunbosun Aiyedehin Kelvin Chukwuemeka Ezikeoha Nzube Yvonne Chaka Chaka Emeka Ossai Nathan Esinwoke Great Emmanuel Waliu Fagbemi Emeka Nwagbaraocha Ajibola Akinola Rejji Rokka Norbert Asikhia Oluwafirewamiri Orire Angel Onyi Unigwe Etochi Asiegbu Elvis Onyekachi\n",
            "2                                                                                                                                                                                                                                                                                                                                                                                                                                                                                                                                                                                                                                                                                                            Funny Bone Timo Elliott Peggy Henshaw Ufuoma McDermott Onyebuchi Ojieh Steve Onu Michael Sani M.C. Senator Nedu Wazobia\n",
            "3  Musa Abdullahi Femi Adebayo Lateef Adedimeji Kemi Adekomi Helen Adeniji Kehinde Adepoju Feyikemi Adewale Agborako Jide Ajanaku Bose Akinola Bimbo Akintola Fisayo Amodemaja Ken Ola Ayeni Esther Ayopo Daniel Bogunmbe Adeoye Bolaji Morawo Bukola Ndamo Damarise Oyewole Emmanuel Waliu Fagbemi Peter Fatomilola Debby Felix Myde Glover Koleosho Hismaheel Taiwo Ibikunle Adeniji Ifeoluwa Tiwatope Ifeoluwa Chris Iheuwa Igbanbanjo Inumidun Jide Kosoko Aisha Lawal Adigun Monsuru Mukaila Muiz Bose Odogboro Nonso Odogwu Anthony Ogundele Alima Ogundepo Bolaji Ogunmola Iyinoluwa Oladigbo Bolatito Olatunde Moyosore Olorunfemi Olu Olowogemo Bimbo Oshin Christiana Oyesiji Belinda Rita Ismael Sakirudeen Bayonle Salawu Yinka Salawu Funmilayo Sebiotimo Balogun Shakiru Balogun Shukurat Ifeanyi Uche Tunde Ola Yusuf\n",
            "4                                                                                                                                                                                                                                                                                                                                                                                                                                                                                                                                                                                                                                                                                  Bimbo Ademoye Funke Akindele Sani Danja Moshood Fattah Femi Jacobs Tobi Makinde Tina Mba Uche Obunse Mercy Johnson Okojie Nkem Owoh Sola Sobowale\n",
            "5                                                                                                                                                                                                                                                                                                                                                                                                                                                                                                                                                                                                                                                                                                                                                 Demi Banwo Adesua Etomi-Wellington Tobi Bakre Chike Adebowale Adedayo Alabi Pasuma\n",
            "6                                                                                                                                                                                                                                                                                                                                                                                                                                                                                                                                                                                                                                  Sola Sobowale Nancy Isime Richard Mofe-Damijo Chidi Mokeme Nse Ikpe-Etim Ali Nuhu Ini Edo Toyin Abraham Shaffy Bello Peter Okoye Zubby Michael Lilian Afegbai Regina Daniels Uche Jombo Mercy Eke\n",
            "                     directors\n",
            "1             Jadesola Osiberu\n",
            "2                   Tope Alake\n",
            "3               Biodun Stephen\n",
            "4  Funke Akindele Tobi Makinde\n",
            "5             Jadesola Osiberu\n",
            "6               Dimeji Ajibola\n"
          ]
        }
      ]
    },
    {
      "cell_type": "code",
      "source": [
        "%%R\n",
        "\n",
        "write.xlsx(movies_copy1, \"movies_copy1.xlsx\")"
      ],
      "metadata": {
        "id": "q0NnUet-dcBF"
      },
      "execution_count": null,
      "outputs": []
    },
    {
      "cell_type": "markdown",
      "source": [
        "I am saving the data into excel format for storage and also because I need to merge the contents of the title and year columns into one column."
      ],
      "metadata": {
        "id": "NxcbX2zC7YYN"
      }
    },
    {
      "cell_type": "markdown",
      "source": [
        "# Building the Recommendation System using Python"
      ],
      "metadata": {
        "id": "xns9ASkCFLsv"
      }
    },
    {
      "cell_type": "markdown",
      "source": [
        "### Importing Libraries"
      ],
      "metadata": {
        "id": "aYMyYxKVFY5B"
      }
    },
    {
      "cell_type": "code",
      "source": [
        "import pandas as pd\n",
        "import numpy as np\n",
        "import difflib\n",
        "\n",
        "from sklearn.feature_extraction.text import TfidfVectorizer\n",
        "from sklearn.metrics.pairwise import cosine_similarity"
      ],
      "metadata": {
        "id": "wATWP-ALGLUw"
      },
      "execution_count": 1,
      "outputs": []
    },
    {
      "cell_type": "markdown",
      "source": [
        "### Loading the Data"
      ],
      "metadata": {
        "id": "bv1fw8jeGca8"
      }
    },
    {
      "cell_type": "code",
      "source": [
        "movies_data = pd.read_excel(\"/content/movies_copy1.xlsx\")"
      ],
      "metadata": {
        "id": "VWJ_6cmpGfLW"
      },
      "execution_count": 2,
      "outputs": []
    },
    {
      "cell_type": "markdown",
      "source": [
        "### Understanding the Data"
      ],
      "metadata": {
        "id": "bG8glhPKHQXf"
      }
    },
    {
      "cell_type": "code",
      "source": [
        "# number of rows and columns in the data frame\n",
        "\n",
        "movies_data.shape"
      ],
      "metadata": {
        "colab": {
          "base_uri": "https://localhost:8080/"
        },
        "id": "xIy2930XH3mN",
        "outputId": "6de85afb-3d89-4959-9ad7-405183164616"
      },
      "execution_count": 3,
      "outputs": [
        {
          "output_type": "execute_result",
          "data": {
            "text/plain": [
              "(5000, 10)"
            ]
          },
          "metadata": {},
          "execution_count": 3
        }
      ]
    },
    {
      "cell_type": "code",
      "source": [
        "movies_data.head(n = 10) #First 10 rows"
      ],
      "metadata": {
        "colab": {
          "base_uri": "https://localhost:8080/",
          "height": 598
        },
        "id": "qbxhSt3oG6fk",
        "outputId": "9fef20da-41c4-4fdd-94a1-2c17dff716ed"
      },
      "execution_count": 4,
      "outputs": [
        {
          "output_type": "execute_result",
          "data": {
            "text/plain": [
              "   index                  title     year                 movie_title  \\\n",
              "0      1              The Trade     2023              The Trade 2023   \n",
              "1      2            After Party     2021            After Party 2021   \n",
              "2      3              Strangers  IV 2022           Strangers IV 2022   \n",
              "3      4  Battle on Buka Street     2022  Battle on Buka Street 2022   \n",
              "4      5         Gangs of Lagos     2023         Gangs of Lagos 2023   \n",
              "5      6            Shanty Town   2023–           Shanty Town 2023–    \n",
              "6      7              Daughters  IV 2020           Daughters IV 2020   \n",
              "7      8                   Wura   2023–                  Wura 2023–    \n",
              "8      9   Half of a Yellow Sun     2013   Half of a Yellow Sun 2013   \n",
              "9     10            Brotherhood   I 2022          Brotherhood I 2022   \n",
              "\n",
              "                            genre certificate  rating  \\\n",
              "0         Crime Drama                     NaN     6.3   \n",
              "1              Comedy                     NaN     7.4   \n",
              "2               Drama                     NaN     9.0   \n",
              "3              Comedy                     NaN     8.8   \n",
              "4               Crime                     NaN     NaN   \n",
              "5  Action Crime Drama                   TV-MA     4.7   \n",
              "6               Drama                     NaN     3.7   \n",
              "7               Drama                     NaN     9.5   \n",
              "8       Drama Romance                       R     6.1   \n",
              "9        Action Crime                     NaN     5.0   \n",
              "\n",
              "                                            synopsis  \\\n",
              "0  This is the story of a notoriously cunning kid...   \n",
              "1  The universe comes crashing down on a group of...   \n",
              "2  Forgotten in a remote village and battling a l...   \n",
              "3  After a lifetime of rivalry, two half-sisters ...   \n",
              "4                                                NaN   \n",
              "5  A group of courtesans attempts to escape the g...   \n",
              "6  Sold as a sex slave by her father because of d...   \n",
              "7  Set against the backdrop of the gold mining in...   \n",
              "8  Sisters Olanna and Kainene return home to 1960...   \n",
              "9  After years of fighting to survive on the stre...   \n",
              "\n",
              "                                                cast  \\\n",
              "0   Nengi Adoki Chiwetalu Agu Blossom Chukwujekwu...   \n",
              "1   Funny Bone Timo Elliott Peggy Henshaw Ufuoma ...   \n",
              "2   Musa Abdullahi Femi Adebayo Lateef Adedimeji ...   \n",
              "3   Bimbo Ademoye Funke Akindele Sani Danja Mosho...   \n",
              "4   Demi Banwo Adesua Etomi-Wellington Tobi Bakre...   \n",
              "5   Sola Sobowale Nancy Isime Richard Mofe-Damijo...   \n",
              "6   Rotimi Adelegan Agbe Adeyemi Amaka Ashley Ash...   \n",
              "7   Scarlet Gomez Martha Ehinome Ray Adeka Iremid...   \n",
              "8   Thandiwe Newton Chiwetel Ejiofor Anika Noni R...   \n",
              "9   Jide Kene Achufusi Adetayo Adebowale Adebowal...   \n",
              "\n",
              "                                           directors  \n",
              "0                                   Jadesola Osiberu  \n",
              "1                                         Tope Alake  \n",
              "2                                     Biodun Stephen  \n",
              "3                        Funke Akindele Tobi Makinde  \n",
              "4                                   Jadesola Osiberu  \n",
              "5                                     Dimeji Ajibola  \n",
              "6                                     Gbemi Phillips  \n",
              "7   Dimeji Ajibola Yemi Morafa Rogers Ofime Adeol...  \n",
              "8                                       Biyi Bandele  \n",
              "9                                        Loukman Ali  "
            ],
            "text/html": [
              "\n",
              "  <div id=\"df-0edaa70c-1af7-493a-8694-f82bfc56e497\">\n",
              "    <div class=\"colab-df-container\">\n",
              "      <div>\n",
              "<style scoped>\n",
              "    .dataframe tbody tr th:only-of-type {\n",
              "        vertical-align: middle;\n",
              "    }\n",
              "\n",
              "    .dataframe tbody tr th {\n",
              "        vertical-align: top;\n",
              "    }\n",
              "\n",
              "    .dataframe thead th {\n",
              "        text-align: right;\n",
              "    }\n",
              "</style>\n",
              "<table border=\"1\" class=\"dataframe\">\n",
              "  <thead>\n",
              "    <tr style=\"text-align: right;\">\n",
              "      <th></th>\n",
              "      <th>index</th>\n",
              "      <th>title</th>\n",
              "      <th>year</th>\n",
              "      <th>movie_title</th>\n",
              "      <th>genre</th>\n",
              "      <th>certificate</th>\n",
              "      <th>rating</th>\n",
              "      <th>synopsis</th>\n",
              "      <th>cast</th>\n",
              "      <th>directors</th>\n",
              "    </tr>\n",
              "  </thead>\n",
              "  <tbody>\n",
              "    <tr>\n",
              "      <th>0</th>\n",
              "      <td>1</td>\n",
              "      <td>The Trade</td>\n",
              "      <td>2023</td>\n",
              "      <td>The Trade 2023</td>\n",
              "      <td>Crime Drama</td>\n",
              "      <td>NaN</td>\n",
              "      <td>6.3</td>\n",
              "      <td>This is the story of a notoriously cunning kid...</td>\n",
              "      <td>Nengi Adoki Chiwetalu Agu Blossom Chukwujekwu...</td>\n",
              "      <td>Jadesola Osiberu</td>\n",
              "    </tr>\n",
              "    <tr>\n",
              "      <th>1</th>\n",
              "      <td>2</td>\n",
              "      <td>After Party</td>\n",
              "      <td>2021</td>\n",
              "      <td>After Party 2021</td>\n",
              "      <td>Comedy</td>\n",
              "      <td>NaN</td>\n",
              "      <td>7.4</td>\n",
              "      <td>The universe comes crashing down on a group of...</td>\n",
              "      <td>Funny Bone Timo Elliott Peggy Henshaw Ufuoma ...</td>\n",
              "      <td>Tope Alake</td>\n",
              "    </tr>\n",
              "    <tr>\n",
              "      <th>2</th>\n",
              "      <td>3</td>\n",
              "      <td>Strangers</td>\n",
              "      <td>IV 2022</td>\n",
              "      <td>Strangers IV 2022</td>\n",
              "      <td>Drama</td>\n",
              "      <td>NaN</td>\n",
              "      <td>9.0</td>\n",
              "      <td>Forgotten in a remote village and battling a l...</td>\n",
              "      <td>Musa Abdullahi Femi Adebayo Lateef Adedimeji ...</td>\n",
              "      <td>Biodun Stephen</td>\n",
              "    </tr>\n",
              "    <tr>\n",
              "      <th>3</th>\n",
              "      <td>4</td>\n",
              "      <td>Battle on Buka Street</td>\n",
              "      <td>2022</td>\n",
              "      <td>Battle on Buka Street 2022</td>\n",
              "      <td>Comedy</td>\n",
              "      <td>NaN</td>\n",
              "      <td>8.8</td>\n",
              "      <td>After a lifetime of rivalry, two half-sisters ...</td>\n",
              "      <td>Bimbo Ademoye Funke Akindele Sani Danja Mosho...</td>\n",
              "      <td>Funke Akindele Tobi Makinde</td>\n",
              "    </tr>\n",
              "    <tr>\n",
              "      <th>4</th>\n",
              "      <td>5</td>\n",
              "      <td>Gangs of Lagos</td>\n",
              "      <td>2023</td>\n",
              "      <td>Gangs of Lagos 2023</td>\n",
              "      <td>Crime</td>\n",
              "      <td>NaN</td>\n",
              "      <td>NaN</td>\n",
              "      <td>NaN</td>\n",
              "      <td>Demi Banwo Adesua Etomi-Wellington Tobi Bakre...</td>\n",
              "      <td>Jadesola Osiberu</td>\n",
              "    </tr>\n",
              "    <tr>\n",
              "      <th>5</th>\n",
              "      <td>6</td>\n",
              "      <td>Shanty Town</td>\n",
              "      <td>2023–</td>\n",
              "      <td>Shanty Town 2023–</td>\n",
              "      <td>Action Crime Drama</td>\n",
              "      <td>TV-MA</td>\n",
              "      <td>4.7</td>\n",
              "      <td>A group of courtesans attempts to escape the g...</td>\n",
              "      <td>Sola Sobowale Nancy Isime Richard Mofe-Damijo...</td>\n",
              "      <td>Dimeji Ajibola</td>\n",
              "    </tr>\n",
              "    <tr>\n",
              "      <th>6</th>\n",
              "      <td>7</td>\n",
              "      <td>Daughters</td>\n",
              "      <td>IV 2020</td>\n",
              "      <td>Daughters IV 2020</td>\n",
              "      <td>Drama</td>\n",
              "      <td>NaN</td>\n",
              "      <td>3.7</td>\n",
              "      <td>Sold as a sex slave by her father because of d...</td>\n",
              "      <td>Rotimi Adelegan Agbe Adeyemi Amaka Ashley Ash...</td>\n",
              "      <td>Gbemi Phillips</td>\n",
              "    </tr>\n",
              "    <tr>\n",
              "      <th>7</th>\n",
              "      <td>8</td>\n",
              "      <td>Wura</td>\n",
              "      <td>2023–</td>\n",
              "      <td>Wura 2023–</td>\n",
              "      <td>Drama</td>\n",
              "      <td>NaN</td>\n",
              "      <td>9.5</td>\n",
              "      <td>Set against the backdrop of the gold mining in...</td>\n",
              "      <td>Scarlet Gomez Martha Ehinome Ray Adeka Iremid...</td>\n",
              "      <td>Dimeji Ajibola Yemi Morafa Rogers Ofime Adeol...</td>\n",
              "    </tr>\n",
              "    <tr>\n",
              "      <th>8</th>\n",
              "      <td>9</td>\n",
              "      <td>Half of a Yellow Sun</td>\n",
              "      <td>2013</td>\n",
              "      <td>Half of a Yellow Sun 2013</td>\n",
              "      <td>Drama Romance</td>\n",
              "      <td>R</td>\n",
              "      <td>6.1</td>\n",
              "      <td>Sisters Olanna and Kainene return home to 1960...</td>\n",
              "      <td>Thandiwe Newton Chiwetel Ejiofor Anika Noni R...</td>\n",
              "      <td>Biyi Bandele</td>\n",
              "    </tr>\n",
              "    <tr>\n",
              "      <th>9</th>\n",
              "      <td>10</td>\n",
              "      <td>Brotherhood</td>\n",
              "      <td>I 2022</td>\n",
              "      <td>Brotherhood I 2022</td>\n",
              "      <td>Action Crime</td>\n",
              "      <td>NaN</td>\n",
              "      <td>5.0</td>\n",
              "      <td>After years of fighting to survive on the stre...</td>\n",
              "      <td>Jide Kene Achufusi Adetayo Adebowale Adebowal...</td>\n",
              "      <td>Loukman Ali</td>\n",
              "    </tr>\n",
              "  </tbody>\n",
              "</table>\n",
              "</div>\n",
              "      <button class=\"colab-df-convert\" onclick=\"convertToInteractive('df-0edaa70c-1af7-493a-8694-f82bfc56e497')\"\n",
              "              title=\"Convert this dataframe to an interactive table.\"\n",
              "              style=\"display:none;\">\n",
              "        \n",
              "  <svg xmlns=\"http://www.w3.org/2000/svg\" height=\"24px\"viewBox=\"0 0 24 24\"\n",
              "       width=\"24px\">\n",
              "    <path d=\"M0 0h24v24H0V0z\" fill=\"none\"/>\n",
              "    <path d=\"M18.56 5.44l.94 2.06.94-2.06 2.06-.94-2.06-.94-.94-2.06-.94 2.06-2.06.94zm-11 1L8.5 8.5l.94-2.06 2.06-.94-2.06-.94L8.5 2.5l-.94 2.06-2.06.94zm10 10l.94 2.06.94-2.06 2.06-.94-2.06-.94-.94-2.06-.94 2.06-2.06.94z\"/><path d=\"M17.41 7.96l-1.37-1.37c-.4-.4-.92-.59-1.43-.59-.52 0-1.04.2-1.43.59L10.3 9.45l-7.72 7.72c-.78.78-.78 2.05 0 2.83L4 21.41c.39.39.9.59 1.41.59.51 0 1.02-.2 1.41-.59l7.78-7.78 2.81-2.81c.8-.78.8-2.07 0-2.86zM5.41 20L4 18.59l7.72-7.72 1.47 1.35L5.41 20z\"/>\n",
              "  </svg>\n",
              "      </button>\n",
              "      \n",
              "  <style>\n",
              "    .colab-df-container {\n",
              "      display:flex;\n",
              "      flex-wrap:wrap;\n",
              "      gap: 12px;\n",
              "    }\n",
              "\n",
              "    .colab-df-convert {\n",
              "      background-color: #E8F0FE;\n",
              "      border: none;\n",
              "      border-radius: 50%;\n",
              "      cursor: pointer;\n",
              "      display: none;\n",
              "      fill: #1967D2;\n",
              "      height: 32px;\n",
              "      padding: 0 0 0 0;\n",
              "      width: 32px;\n",
              "    }\n",
              "\n",
              "    .colab-df-convert:hover {\n",
              "      background-color: #E2EBFA;\n",
              "      box-shadow: 0px 1px 2px rgba(60, 64, 67, 0.3), 0px 1px 3px 1px rgba(60, 64, 67, 0.15);\n",
              "      fill: #174EA6;\n",
              "    }\n",
              "\n",
              "    [theme=dark] .colab-df-convert {\n",
              "      background-color: #3B4455;\n",
              "      fill: #D2E3FC;\n",
              "    }\n",
              "\n",
              "    [theme=dark] .colab-df-convert:hover {\n",
              "      background-color: #434B5C;\n",
              "      box-shadow: 0px 1px 3px 1px rgba(0, 0, 0, 0.15);\n",
              "      filter: drop-shadow(0px 1px 2px rgba(0, 0, 0, 0.3));\n",
              "      fill: #FFFFFF;\n",
              "    }\n",
              "  </style>\n",
              "\n",
              "      <script>\n",
              "        const buttonEl =\n",
              "          document.querySelector('#df-0edaa70c-1af7-493a-8694-f82bfc56e497 button.colab-df-convert');\n",
              "        buttonEl.style.display =\n",
              "          google.colab.kernel.accessAllowed ? 'block' : 'none';\n",
              "\n",
              "        async function convertToInteractive(key) {\n",
              "          const element = document.querySelector('#df-0edaa70c-1af7-493a-8694-f82bfc56e497');\n",
              "          const dataTable =\n",
              "            await google.colab.kernel.invokeFunction('convertToInteractive',\n",
              "                                                     [key], {});\n",
              "          if (!dataTable) return;\n",
              "\n",
              "          const docLinkHtml = 'Like what you see? Visit the ' +\n",
              "            '<a target=\"_blank\" href=https://colab.research.google.com/notebooks/data_table.ipynb>data table notebook</a>'\n",
              "            + ' to learn more about interactive tables.';\n",
              "          element.innerHTML = '';\n",
              "          dataTable['output_type'] = 'display_data';\n",
              "          await google.colab.output.renderOutput(dataTable, element);\n",
              "          const docLink = document.createElement('div');\n",
              "          docLink.innerHTML = docLinkHtml;\n",
              "          element.appendChild(docLink);\n",
              "        }\n",
              "      </script>\n",
              "    </div>\n",
              "  </div>\n",
              "  "
            ]
          },
          "metadata": {},
          "execution_count": 4
        }
      ]
    },
    {
      "cell_type": "code",
      "source": [
        "movies_data.tail(n = 10) #Last 10 rows"
      ],
      "metadata": {
        "colab": {
          "base_uri": "https://localhost:8080/",
          "height": 581
        },
        "id": "KKLMPqvdHlc-",
        "outputId": "39b235aa-f4ab-472b-ca16-02a9b34a2f15"
      },
      "execution_count": 5,
      "outputs": [
        {
          "output_type": "execute_result",
          "data": {
            "text/plain": [
              "      index                          title           year  \\\n",
              "4990   4991                    Mewa n sele     2006 Video   \n",
              "4991   4992                     Onye Okoso  2018 TV Movie   \n",
              "4992   4993           World of Commotion 2     2007 Video   \n",
              "4993   4994                          Olórí     2007 Video   \n",
              "4994   4995                The Alternative           2022   \n",
              "4995   4996                  The Fish Girl     2016 Video   \n",
              "4996   4997              Who Killed Chief?           2017   \n",
              "4997   4998  The Bond: A Boy in the Middle     2008 Video   \n",
              "4998   4999                     Oga on Top           2013   \n",
              "4999   5000       The Prince of My Heart 2     2007 Video   \n",
              "\n",
              "                                   movie_title                       genre  \\\n",
              "4990                    Mewa n sele 2006 Video           Drama               \n",
              "4991                  Onye Okoso 2018 TV Movie          Family               \n",
              "4992           World of Commotion 2 2007 Video           Drama               \n",
              "4993                          Olórí 2007 Video           Drama               \n",
              "4994                      The Alternative 2022           Drama               \n",
              "4995                  The Fish Girl 2016 Video           Drama               \n",
              "4996                    Who Killed Chief? 2017         Mystery               \n",
              "4997  The Bond: A Boy in the Middle 2008 Video           Drama               \n",
              "4998                           Oga on Top 2013  Comedy Fantasy               \n",
              "4999       The Prince of My Heart 2 2007 Video         Romance               \n",
              "\n",
              "     certificate  rating                                           synopsis  \\\n",
              "4990         NaN     NaN                                         Add a Plot   \n",
              "4991         NaN     NaN                                         Add a Plot   \n",
              "4992         NaN     NaN                                         Add a Plot   \n",
              "4993         NaN     NaN                                         Add a Plot   \n",
              "4994         NaN     NaN                                         Add a Plot   \n",
              "4995         NaN     NaN  A certain woman has been barren for sometime a...   \n",
              "4996         NaN     NaN  When a wealthy man dies from poisoning, one of...   \n",
              "4997         NaN     NaN                                         Add a Plot   \n",
              "4998         NaN     NaN                                         Add a Plot   \n",
              "4999         NaN     NaN                                         Add a Plot   \n",
              "\n",
              "                                                   cast           directors  \n",
              "4990            Ebun Oloyede Idowu Philips Yinka Quadri                 NaN  \n",
              "4991                       Ngozi Ezeonu Browny Igboegwu         Bruce Natty  \n",
              "4992   Nonso Diobi Mike Ezuruonye Uche Jombo Zack Or...        Michael Jaja  \n",
              "4993                          Idowu Philips Remi Surutu       Alade Aromire  \n",
              "4994   Aminat Adebayo Wale Adebayo Lateef Adedimeji ...       Adewale Rasaq  \n",
              "4995   Don Brymo Uchegbu Regina Daniels Mike Odiachi...      Henry Mgbemele  \n",
              "4996   Bolanle Babalola Preach Bassey Ubong David Fr...   Kabat Esosa Egbon  \n",
              "4997   Stephanie Apel Leo Ekwese Samuel Iheanacho Na...        Tola Balogun  \n",
              "4998   Funke Akindele Roy De Nani Uchenna Nnanna Nke...   Amayo Uzo Philips  \n",
              "4999   Chika Ike Emeka Ike Omotola Jalade-Ekeinde Vi...           Kalu Anya  "
            ],
            "text/html": [
              "\n",
              "  <div id=\"df-e03bc8fe-ebd0-4825-adcb-5894eb83634e\">\n",
              "    <div class=\"colab-df-container\">\n",
              "      <div>\n",
              "<style scoped>\n",
              "    .dataframe tbody tr th:only-of-type {\n",
              "        vertical-align: middle;\n",
              "    }\n",
              "\n",
              "    .dataframe tbody tr th {\n",
              "        vertical-align: top;\n",
              "    }\n",
              "\n",
              "    .dataframe thead th {\n",
              "        text-align: right;\n",
              "    }\n",
              "</style>\n",
              "<table border=\"1\" class=\"dataframe\">\n",
              "  <thead>\n",
              "    <tr style=\"text-align: right;\">\n",
              "      <th></th>\n",
              "      <th>index</th>\n",
              "      <th>title</th>\n",
              "      <th>year</th>\n",
              "      <th>movie_title</th>\n",
              "      <th>genre</th>\n",
              "      <th>certificate</th>\n",
              "      <th>rating</th>\n",
              "      <th>synopsis</th>\n",
              "      <th>cast</th>\n",
              "      <th>directors</th>\n",
              "    </tr>\n",
              "  </thead>\n",
              "  <tbody>\n",
              "    <tr>\n",
              "      <th>4990</th>\n",
              "      <td>4991</td>\n",
              "      <td>Mewa n sele</td>\n",
              "      <td>2006 Video</td>\n",
              "      <td>Mewa n sele 2006 Video</td>\n",
              "      <td>Drama</td>\n",
              "      <td>NaN</td>\n",
              "      <td>NaN</td>\n",
              "      <td>Add a Plot</td>\n",
              "      <td>Ebun Oloyede Idowu Philips Yinka Quadri</td>\n",
              "      <td>NaN</td>\n",
              "    </tr>\n",
              "    <tr>\n",
              "      <th>4991</th>\n",
              "      <td>4992</td>\n",
              "      <td>Onye Okoso</td>\n",
              "      <td>2018 TV Movie</td>\n",
              "      <td>Onye Okoso 2018 TV Movie</td>\n",
              "      <td>Family</td>\n",
              "      <td>NaN</td>\n",
              "      <td>NaN</td>\n",
              "      <td>Add a Plot</td>\n",
              "      <td>Ngozi Ezeonu Browny Igboegwu</td>\n",
              "      <td>Bruce Natty</td>\n",
              "    </tr>\n",
              "    <tr>\n",
              "      <th>4992</th>\n",
              "      <td>4993</td>\n",
              "      <td>World of Commotion 2</td>\n",
              "      <td>2007 Video</td>\n",
              "      <td>World of Commotion 2 2007 Video</td>\n",
              "      <td>Drama</td>\n",
              "      <td>NaN</td>\n",
              "      <td>NaN</td>\n",
              "      <td>Add a Plot</td>\n",
              "      <td>Nonso Diobi Mike Ezuruonye Uche Jombo Zack Or...</td>\n",
              "      <td>Michael Jaja</td>\n",
              "    </tr>\n",
              "    <tr>\n",
              "      <th>4993</th>\n",
              "      <td>4994</td>\n",
              "      <td>Olórí</td>\n",
              "      <td>2007 Video</td>\n",
              "      <td>Olórí 2007 Video</td>\n",
              "      <td>Drama</td>\n",
              "      <td>NaN</td>\n",
              "      <td>NaN</td>\n",
              "      <td>Add a Plot</td>\n",
              "      <td>Idowu Philips Remi Surutu</td>\n",
              "      <td>Alade Aromire</td>\n",
              "    </tr>\n",
              "    <tr>\n",
              "      <th>4994</th>\n",
              "      <td>4995</td>\n",
              "      <td>The Alternative</td>\n",
              "      <td>2022</td>\n",
              "      <td>The Alternative 2022</td>\n",
              "      <td>Drama</td>\n",
              "      <td>NaN</td>\n",
              "      <td>NaN</td>\n",
              "      <td>Add a Plot</td>\n",
              "      <td>Aminat Adebayo Wale Adebayo Lateef Adedimeji ...</td>\n",
              "      <td>Adewale Rasaq</td>\n",
              "    </tr>\n",
              "    <tr>\n",
              "      <th>4995</th>\n",
              "      <td>4996</td>\n",
              "      <td>The Fish Girl</td>\n",
              "      <td>2016 Video</td>\n",
              "      <td>The Fish Girl 2016 Video</td>\n",
              "      <td>Drama</td>\n",
              "      <td>NaN</td>\n",
              "      <td>NaN</td>\n",
              "      <td>A certain woman has been barren for sometime a...</td>\n",
              "      <td>Don Brymo Uchegbu Regina Daniels Mike Odiachi...</td>\n",
              "      <td>Henry Mgbemele</td>\n",
              "    </tr>\n",
              "    <tr>\n",
              "      <th>4996</th>\n",
              "      <td>4997</td>\n",
              "      <td>Who Killed Chief?</td>\n",
              "      <td>2017</td>\n",
              "      <td>Who Killed Chief? 2017</td>\n",
              "      <td>Mystery</td>\n",
              "      <td>NaN</td>\n",
              "      <td>NaN</td>\n",
              "      <td>When a wealthy man dies from poisoning, one of...</td>\n",
              "      <td>Bolanle Babalola Preach Bassey Ubong David Fr...</td>\n",
              "      <td>Kabat Esosa Egbon</td>\n",
              "    </tr>\n",
              "    <tr>\n",
              "      <th>4997</th>\n",
              "      <td>4998</td>\n",
              "      <td>The Bond: A Boy in the Middle</td>\n",
              "      <td>2008 Video</td>\n",
              "      <td>The Bond: A Boy in the Middle 2008 Video</td>\n",
              "      <td>Drama</td>\n",
              "      <td>NaN</td>\n",
              "      <td>NaN</td>\n",
              "      <td>Add a Plot</td>\n",
              "      <td>Stephanie Apel Leo Ekwese Samuel Iheanacho Na...</td>\n",
              "      <td>Tola Balogun</td>\n",
              "    </tr>\n",
              "    <tr>\n",
              "      <th>4998</th>\n",
              "      <td>4999</td>\n",
              "      <td>Oga on Top</td>\n",
              "      <td>2013</td>\n",
              "      <td>Oga on Top 2013</td>\n",
              "      <td>Comedy Fantasy</td>\n",
              "      <td>NaN</td>\n",
              "      <td>NaN</td>\n",
              "      <td>Add a Plot</td>\n",
              "      <td>Funke Akindele Roy De Nani Uchenna Nnanna Nke...</td>\n",
              "      <td>Amayo Uzo Philips</td>\n",
              "    </tr>\n",
              "    <tr>\n",
              "      <th>4999</th>\n",
              "      <td>5000</td>\n",
              "      <td>The Prince of My Heart 2</td>\n",
              "      <td>2007 Video</td>\n",
              "      <td>The Prince of My Heart 2 2007 Video</td>\n",
              "      <td>Romance</td>\n",
              "      <td>NaN</td>\n",
              "      <td>NaN</td>\n",
              "      <td>Add a Plot</td>\n",
              "      <td>Chika Ike Emeka Ike Omotola Jalade-Ekeinde Vi...</td>\n",
              "      <td>Kalu Anya</td>\n",
              "    </tr>\n",
              "  </tbody>\n",
              "</table>\n",
              "</div>\n",
              "      <button class=\"colab-df-convert\" onclick=\"convertToInteractive('df-e03bc8fe-ebd0-4825-adcb-5894eb83634e')\"\n",
              "              title=\"Convert this dataframe to an interactive table.\"\n",
              "              style=\"display:none;\">\n",
              "        \n",
              "  <svg xmlns=\"http://www.w3.org/2000/svg\" height=\"24px\"viewBox=\"0 0 24 24\"\n",
              "       width=\"24px\">\n",
              "    <path d=\"M0 0h24v24H0V0z\" fill=\"none\"/>\n",
              "    <path d=\"M18.56 5.44l.94 2.06.94-2.06 2.06-.94-2.06-.94-.94-2.06-.94 2.06-2.06.94zm-11 1L8.5 8.5l.94-2.06 2.06-.94-2.06-.94L8.5 2.5l-.94 2.06-2.06.94zm10 10l.94 2.06.94-2.06 2.06-.94-2.06-.94-.94-2.06-.94 2.06-2.06.94z\"/><path d=\"M17.41 7.96l-1.37-1.37c-.4-.4-.92-.59-1.43-.59-.52 0-1.04.2-1.43.59L10.3 9.45l-7.72 7.72c-.78.78-.78 2.05 0 2.83L4 21.41c.39.39.9.59 1.41.59.51 0 1.02-.2 1.41-.59l7.78-7.78 2.81-2.81c.8-.78.8-2.07 0-2.86zM5.41 20L4 18.59l7.72-7.72 1.47 1.35L5.41 20z\"/>\n",
              "  </svg>\n",
              "      </button>\n",
              "      \n",
              "  <style>\n",
              "    .colab-df-container {\n",
              "      display:flex;\n",
              "      flex-wrap:wrap;\n",
              "      gap: 12px;\n",
              "    }\n",
              "\n",
              "    .colab-df-convert {\n",
              "      background-color: #E8F0FE;\n",
              "      border: none;\n",
              "      border-radius: 50%;\n",
              "      cursor: pointer;\n",
              "      display: none;\n",
              "      fill: #1967D2;\n",
              "      height: 32px;\n",
              "      padding: 0 0 0 0;\n",
              "      width: 32px;\n",
              "    }\n",
              "\n",
              "    .colab-df-convert:hover {\n",
              "      background-color: #E2EBFA;\n",
              "      box-shadow: 0px 1px 2px rgba(60, 64, 67, 0.3), 0px 1px 3px 1px rgba(60, 64, 67, 0.15);\n",
              "      fill: #174EA6;\n",
              "    }\n",
              "\n",
              "    [theme=dark] .colab-df-convert {\n",
              "      background-color: #3B4455;\n",
              "      fill: #D2E3FC;\n",
              "    }\n",
              "\n",
              "    [theme=dark] .colab-df-convert:hover {\n",
              "      background-color: #434B5C;\n",
              "      box-shadow: 0px 1px 3px 1px rgba(0, 0, 0, 0.15);\n",
              "      filter: drop-shadow(0px 1px 2px rgba(0, 0, 0, 0.3));\n",
              "      fill: #FFFFFF;\n",
              "    }\n",
              "  </style>\n",
              "\n",
              "      <script>\n",
              "        const buttonEl =\n",
              "          document.querySelector('#df-e03bc8fe-ebd0-4825-adcb-5894eb83634e button.colab-df-convert');\n",
              "        buttonEl.style.display =\n",
              "          google.colab.kernel.accessAllowed ? 'block' : 'none';\n",
              "\n",
              "        async function convertToInteractive(key) {\n",
              "          const element = document.querySelector('#df-e03bc8fe-ebd0-4825-adcb-5894eb83634e');\n",
              "          const dataTable =\n",
              "            await google.colab.kernel.invokeFunction('convertToInteractive',\n",
              "                                                     [key], {});\n",
              "          if (!dataTable) return;\n",
              "\n",
              "          const docLinkHtml = 'Like what you see? Visit the ' +\n",
              "            '<a target=\"_blank\" href=https://colab.research.google.com/notebooks/data_table.ipynb>data table notebook</a>'\n",
              "            + ' to learn more about interactive tables.';\n",
              "          element.innerHTML = '';\n",
              "          dataTable['output_type'] = 'display_data';\n",
              "          await google.colab.output.renderOutput(dataTable, element);\n",
              "          const docLink = document.createElement('div');\n",
              "          docLink.innerHTML = docLinkHtml;\n",
              "          element.appendChild(docLink);\n",
              "        }\n",
              "      </script>\n",
              "    </div>\n",
              "  </div>\n",
              "  "
            ]
          },
          "metadata": {},
          "execution_count": 5
        }
      ]
    },
    {
      "cell_type": "markdown",
      "source": [
        "In building this recommendation system for Nigerian movies, I know fully well that in terms of preference, most Nigerians watch movies mainly because of the actors and sometimes directors, due to their \"star power\" and then the genre. <br><br> There is always more interest and excitement for movies focused on drama, comedy and romance, and finally, the synopsis. <br><br> I will be using these unique features to build the recommendation system."
      ],
      "metadata": {
        "id": "_sOreU5lQx0U"
      }
    },
    {
      "cell_type": "code",
      "source": [
        "movies_data['genre'].value_counts() #Confirming the genre counts\n"
      ],
      "metadata": {
        "colab": {
          "base_uri": "https://localhost:8080/"
        },
        "id": "-OB-Ob9CSElY",
        "outputId": "ee8072ac-51cb-4663-ea0f-0858d73a4189"
      },
      "execution_count": 6,
      "outputs": [
        {
          "output_type": "execute_result",
          "data": {
            "text/plain": [
              "Drama                                2911\n",
              "Comedy                                285\n",
              "Romance                               178\n",
              "Drama Romance                         175\n",
              "Short Drama                           146\n",
              "                                     ... \n",
              "Short Fantasy Sci-Fi                    1\n",
              "Fantasy Comedy                          1\n",
              "Short Drama Fantasy                     1\n",
              "Action Adventure                        1\n",
              "Animation Short Drama                   1\n",
              "Name: genre, Length: 180, dtype: int64"
            ]
          },
          "metadata": {},
          "execution_count": 6
        }
      ]
    },
    {
      "cell_type": "markdown",
      "source": [
        "### Building the Model"
      ],
      "metadata": {
        "id": "DE0LnBXnoCHY"
      }
    },
    {
      "cell_type": "code",
      "source": [
        "# selecting the unique features of Movies that Nigerians gravitate to for the recommendation\n",
        "\n",
        "unique_features = ['cast','directors','genre','synopsis']"
      ],
      "metadata": {
        "id": "GAxQCbVnTU4U"
      },
      "execution_count": 7,
      "outputs": []
    },
    {
      "cell_type": "markdown",
      "source": [
        "I need to replace all empty and NA values of the unique features with an empty string because I will be using it for the analysis"
      ],
      "metadata": {
        "id": "GUVOZROmZM4l"
      }
    },
    {
      "cell_type": "code",
      "source": [
        "# replacing the null valuess with null string in the unique features\n",
        "\n",
        "for feature in unique_features:\n",
        "  movies_data[feature] = movies_data[feature].fillna('')"
      ],
      "metadata": {
        "id": "Ew-sXV-7a3y9"
      },
      "execution_count": 8,
      "outputs": []
    },
    {
      "cell_type": "code",
      "source": [
        "# combining the unique features per movie\n",
        "\n",
        "combined_features = movies_data['cast'] +' '+ movies_data['directors'] +' '+ movies_data['genre'] +' '+ movies_data['synopsis']"
      ],
      "metadata": {
        "id": "D1Ojs-Wabmc8"
      },
      "execution_count": 9,
      "outputs": []
    },
    {
      "cell_type": "code",
      "source": [
        "print(combined_features)"
      ],
      "metadata": {
        "colab": {
          "base_uri": "https://localhost:8080/"
        },
        "id": "OggJoEGXdaWg",
        "outputId": "e2dd22e5-3e46-4d1f-bdaf-809b537265ec"
      },
      "execution_count": 10,
      "outputs": [
        {
          "output_type": "stream",
          "name": "stdout",
          "text": [
            "0        Nengi Adoki Chiwetalu Agu Blossom Chukwujekwu...\n",
            "1        Funny Bone Timo Elliott Peggy Henshaw Ufuoma ...\n",
            "2        Musa Abdullahi Femi Adebayo Lateef Adedimeji ...\n",
            "3        Bimbo Ademoye Funke Akindele Sani Danja Mosho...\n",
            "4        Demi Banwo Adesua Etomi-Wellington Tobi Bakre...\n",
            "                              ...                        \n",
            "4995     Don Brymo Uchegbu Regina Daniels Mike Odiachi...\n",
            "4996     Bolanle Babalola Preach Bassey Ubong David Fr...\n",
            "4997     Stephanie Apel Leo Ekwese Samuel Iheanacho Na...\n",
            "4998     Funke Akindele Roy De Nani Uchenna Nnanna Nke...\n",
            "4999     Chika Ike Emeka Ike Omotola Jalade-Ekeinde Vi...\n",
            "Length: 5000, dtype: object\n"
          ]
        }
      ]
    },
    {
      "cell_type": "markdown",
      "source": [
        "I need to convert the combined features by fitting and transforming it into a numerical representation using the TfidVectorizer, this is to enable me to obtain the cosine similarity scores as text data is not used for machine learning modelling. "
      ],
      "metadata": {
        "id": "aPxEkwtghC_s"
      }
    },
    {
      "cell_type": "code",
      "source": [
        "# converting the text data to feature vectors\n",
        "\n",
        "feature_vectors = TfidfVectorizer().fit_transform(combined_features)"
      ],
      "metadata": {
        "id": "VHnEq5h-hUNL"
      },
      "execution_count": 11,
      "outputs": []
    },
    {
      "cell_type": "code",
      "source": [
        "print(feature_vectors)"
      ],
      "metadata": {
        "colab": {
          "base_uri": "https://localhost:8080/"
        },
        "id": "gaRXxBo8kR1z",
        "outputId": "2c43b27b-9f4e-4522-ce1a-c59a144aefb4"
      },
      "execution_count": null,
      "outputs": [
        {
          "output_type": "stream",
          "name": "stdout",
          "text": [
            "  (0, 7045)\t0.08090489307338264\n",
            "  (0, 19792)\t0.08158786051618001\n",
            "  (0, 9659)\t0.09732069677653854\n",
            "  (0, 3185)\t0.0834570404073819\n",
            "  (0, 7048)\t0.10099328640264679\n",
            "  (0, 19372)\t0.08386280956738246\n",
            "  (0, 4553)\t0.12352228818216764\n",
            "  (0, 11129)\t0.08608940604599491\n",
            "  (0, 3654)\t0.09732069677653854\n",
            "  (0, 19379)\t0.05395456406866064\n",
            "  (0, 10257)\t0.08428069301273138\n",
            "  (0, 20253)\t0.12352228818216764\n",
            "  (0, 6865)\t0.07206122606875759\n",
            "  (0, 5191)\t0.11784656495511432\n",
            "  (0, 15995)\t0.0830627028983608\n",
            "  (0, 7809)\t0.04921686050645324\n",
            "  (0, 13019)\t0.06862228639292\n",
            "  (0, 16301)\t0.09276541584159419\n",
            "  (0, 18623)\t0.12352228818216764\n",
            "  (0, 17052)\t0.12352228818216764\n",
            "  (0, 8592)\t0.060928038627861045\n",
            "  (0, 20899)\t0.05163109484462821\n",
            "  (0, 12757)\t0.10598604218690276\n",
            "  (0, 3794)\t0.10790912813732129\n",
            "  (0, 15281)\t0.07153949900291377\n",
            "  :\t:\n",
            "  (4998, 19915)\t0.25486428550049306\n",
            "  (4998, 7440)\t0.23441977509043022\n",
            "  (4998, 16585)\t0.06978175186076865\n",
            "  (4998, 415)\t0.06992016289867006\n",
            "  (4998, 5160)\t0.26501280079241246\n",
            "  (4998, 16056)\t0.22027628279087688\n",
            "  (4998, 13091)\t0.22228551915618575\n",
            "  (4998, 1334)\t0.21403047719230014\n",
            "  (4998, 7972)\t0.2366039952146405\n",
            "  (4998, 4629)\t0.14759776505734853\n",
            "  (4999, 2150)\t0.3311443966592614\n",
            "  (4999, 20674)\t0.28081725953471015\n",
            "  (4999, 12862)\t0.2565404228000314\n",
            "  (4999, 4325)\t0.24621605401240954\n",
            "  (4999, 6315)\t0.27604693678117\n",
            "  (4999, 10070)\t0.2767032141074935\n",
            "  (4999, 15183)\t0.26705245977038067\n",
            "  (4999, 13330)\t0.29735129892252676\n",
            "  (4999, 9295)\t0.4480263887517133\n",
            "  (4999, 4217)\t0.23092303658164742\n",
            "  (4999, 10464)\t0.21278673513475435\n",
            "  (4999, 16585)\t0.08141468121412745\n",
            "  (4999, 415)\t0.08157616598954186\n",
            "  (4999, 17494)\t0.1778542117944392\n",
            "  (4999, 6566)\t0.16823168536767386\n"
          ]
        }
      ]
    },
    {
      "cell_type": "markdown",
      "source": [
        "Now that I have converted the combined features into a numerical values. I can now determine their similarity scores. This implies that, I would now be determining which movies are similar to each other. "
      ],
      "metadata": {
        "id": "qDFXJXTgoOsM"
      }
    },
    {
      "cell_type": "code",
      "source": [
        "#Similarity scores using cosine similarity\n",
        "\n",
        "similarity = cosine_similarity(feature_vectors)"
      ],
      "metadata": {
        "id": "7S8PPNNRoHpM"
      },
      "execution_count": 12,
      "outputs": []
    },
    {
      "cell_type": "code",
      "source": [
        "print(similarity)"
      ],
      "metadata": {
        "colab": {
          "base_uri": "https://localhost:8080/"
        },
        "id": "IGOOcpVdsHCs",
        "outputId": "05ae0482-1ce5-4aeb-969c-95a16bcbf71c"
      },
      "execution_count": 13,
      "outputs": [
        {
          "output_type": "stream",
          "name": "stdout",
          "text": [
            "[[1.         0.02044106 0.04046479 ... 0.01172706 0.         0.01463448]\n",
            " [0.02044106 1.         0.00282032 ... 0.         0.01159521 0.        ]\n",
            " [0.04046479 0.00282032 1.         ... 0.02370689 0.         0.        ]\n",
            " ...\n",
            " [0.01172706 0.         0.02370689 ... 1.         0.00757772 0.00884096]\n",
            " [0.         0.01159521 0.         ... 0.00757772 1.         0.01138508]\n",
            " [0.01463448 0.         0.         ... 0.00884096 0.01138508 1.        ]]\n"
          ]
        }
      ]
    },
    {
      "cell_type": "code",
      "source": [
        "print(similarity.shape)"
      ],
      "metadata": {
        "colab": {
          "base_uri": "https://localhost:8080/"
        },
        "id": "r0oP-oqXsqib",
        "outputId": "a054ebda-0bef-4a38-c212-0fa15948b40a"
      },
      "execution_count": 14,
      "outputs": [
        {
          "output_type": "stream",
          "name": "stdout",
          "text": [
            "(5000, 5000)\n"
          ]
        }
      ]
    },
    {
      "cell_type": "markdown",
      "source": [
        "There are 5000 movies and of course 5000 similarity scores in the model. <br>Now I will structure the input parameters to take input from the user."
      ],
      "metadata": {
        "id": "Mm1egCZMtj_r"
      }
    },
    {
      "cell_type": "markdown",
      "source": [
        "### Setting the Parameters"
      ],
      "metadata": {
        "id": "zFZvSqjSu2sT"
      }
    },
    {
      "cell_type": "code",
      "source": [
        "#To get a movie name from the user\n",
        "\n",
        "movie_name = input('Enter your favourite movie name : ') #I will be testing it as I build with a movie  called \"Wedding Party\""
      ],
      "metadata": {
        "colab": {
          "base_uri": "https://localhost:8080/"
        },
        "id": "wgu6_MXIu6ZC",
        "outputId": "5eb5fba5-1080-41cb-da07-7cafc4dd0493"
      },
      "execution_count": null,
      "outputs": [
        {
          "name": "stdout",
          "output_type": "stream",
          "text": [
            "Enter your favourite movie name : wedding party\n"
          ]
        }
      ]
    },
    {
      "cell_type": "code",
      "source": [
        "# creating a list with all the movie names given in the dataset, this is to test the similarity of the movie I entered with all other movies in the dataset.\n",
        "\n",
        "list_of_all_titles = movies_data['movie_title'].to_list()\n",
        "print(list_of_all_titles)"
      ],
      "metadata": {
        "colab": {
          "base_uri": "https://localhost:8080/"
        },
        "id": "wKP1B8nnwGuc",
        "outputId": "3cdd100d-1ae0-42f6-c13b-67fbfa4f0e08"
      },
      "execution_count": null,
      "outputs": [
        {
          "output_type": "stream",
          "name": "stdout",
          "text": [
            "['The Trade 2023', 'After Party 2021', 'Strangers IV 2022', 'Battle on Buka Street 2022', 'Gangs of Lagos 2023', 'Shanty Town 2023– ', 'Daughters IV 2020', 'Wura 2023– ', 'Half of a Yellow Sun 2013', 'Brotherhood I 2022', 'Far from Home 2022– ', 'Mother of George 2013', 'Head Over Bills 2022', 'Amina 2021', 'Unmarried - Nigeria 2020–2023', 'Things Fall Apart 1971', 'The Wait III 2021', 'A Sunday Affair 2023', 'All Things Fair 2022', 'Coming from Insanity 2019', 'Living in Bondage: Breaking Free 2019', \"Before Valentine's 2022\", 'Naked Woman 2022', 'Man of God 2022', 'Passport 2022', 'The Governor 2016– ', 'Star Girl 2021', 'Dark October 2023', 'Lionheart 2018', 'Flawsome 2022– ', 'Love Language 2022', 'Palava! 2022', 'Black November 2012', 'Sugar Rush III 2019', 'Glamour Girls 2022', 'Christmas in Miami 2021', 'Aki and Pawpaw 2021', 'Breaded Life 2021', 'Omo Ghetto: The Saga 2020', 'Blood Sisters 2022', 'Love in a Pandemic 2023', 'Chief Daddy 2018', 'The Real Housewives of Abuja 2023– ', 'The Johnsons 2012– ', 'King of Boys: The Return of the King 2021', 'God Calling 2018', 'Black Wedding 2022', 'Òlòtūré 2019', 'Charmed 2018', 'The Wedding Party II 2016', 'True Lies 2 2008 Video', 'My Village People 2021', 'The Set Up 2019', 'Hey You! I 2022', 'Living with Baami 2021', '93 Days 2016', 'Baby Police 2003 Video', 'Love, Sex, Religion 2018', 'Legacy I 2010', 'Dinner at My Place 2022', 'Itura 2022– ', 'Fake Doctor 2002 Video', 'Missing Angel 2004 Video', 'Baby Maker 2023', 'Eagle Wings 2021', 'Double Mama 2013 Video', 'League of Gentlemen 2 2009 Video', 'Citation 2020', 'Living in Bondage 1992 Video', 'Owo Blow: The Genesis 1997 Video', 'Last Flight to Abuja 2012', 'The Wedding Party 2: Destination Dubai 2017', 'Introducing the Kujus 2020', 'Castle & Castle 2018– ', 'Leaked 2022', 'Anikulapo 2022', 'To Kill a Ghost 2023', 'RattleSnake: The Ahanna Story 2020', 'October 1 2014', 'The Wife 2023', 'Osuofia in London 2003 Video', 'Halita 2019–2020', 'A Simple Lie 2022', 'Obsession I 2022', 'King of Boys 2018', 'East Meets West 2023', 'Falsehood I 2022', 'True Romance 2004 Video', 'Domitilla 1996', 'The Real Housewives of Lagos 2022– ', '666 Beware the End Is at Hand 2007 Video', 'Eyimofe This Is My Desire 2020', 'Aki na ukwa 2002 Video', \"Tolani's Trial 2023\", 'Chief Daddy 2: Going for Broke 2022', 'Things Fall Apart 1987– ', 'Gone VI 2021', '4:4:44 2022', \"Obara'M 2022\", \"'76 2016\", 'In My Country 2017', 'Ijedike 2023', 'The Smart Money Woman 2020– ', 'Divergent 2021', 'Tsakaninmu 2021', 'The Undoing 2018', 'Namaste Wahala 2021', 'Glamour Girls 1994 Video', 'Dinner III 2016', 'E.V.E - Audi Alteram Partem 2018– ', 'Gold Statue 2019', 'Kambili: The Whole 30 Yards 2020', 'Voiceless 2020', 'The Set Up 2 2022', 'Small Chops 2020', 'Crime and Justice Lagos 2022– ', 'The Price I 2017', 'Hush 2016–2017', 'Strain II 2020', \"Elesin Oba: The King's Horseman 2022\", 'Gangster Paradise 2001 Video', 'Mom for Rent 2023', 'Rubicon 2022', 'Billionaires Club 2003 Video', 'Silent Rage 2 2007 Video', 'Atunwa 2023', 'True Romance 2 2004 Video', 'The Best of Us 2022', 'Bad Wife Material 2021', 'Rema: Calm Down 2022 Music Video', 'Juju Stories 2021', 'Rising Sun 2022', 'The Perfect Marriage 2022', 'Nneka the Pretty Serpent 2020', 'All the Colours of the World are Between Black and White 2023', 'Swallow 2021 TV Movie', 'Dangerous Mind 2 2004 Video', 'Shattered Mirror 2012 Video', 'The Faculty 2 2007 Video', 'Four Lions 2022', 'The Griot 2021', 'Black Gold I 2011', 'Lockdown V 2021', \"A Soldier's Story 2: Return from the Dead 2020\", 'Ajoche 2018– ', 'Ijakumo: The Born Again Stripper 2022', 'Isoken 2017', 'The Royal Hibiscus Hotel 2017', 'Rattle Snake 1995 Video', 'Merry Men: The Real Yoruba Demons 2018', 'The Ghost and the Tout Too 2021', 'Bee 2023', 'The Escort 2020 TV Movie', 'Friends Only 2021', 'The Perfect Arrangement 2022', 'The Bling Lagosians 2019', 'April Showers I 2021', 'Yadiba 2022', 'Alter Ego I 2017', 'Ratnik 2020', 'Deranged 2017', 'The Blood Covenant 2022', 'The Pride of Oyim 2023', 'Badcop 2023', 'Sham to Glam 2022', 'Full Moon 2 1998 Video', '4th Republic 2019', '2 Weeks in Lagos 2019', 'Soólè 2021', 'The CEO I 2016', \"Daddy's Girl I 2023\", 'The Amazing Grace 2006', 'The Last Knight 2 2005 Video', 'The Last Piece of Me 2023', \"Jenifa's Diary 2015– \", \"Kongi's Harvest 1970\", 'Six Problem Girls 2003 Video', 'Brave Heart 2005 Video', 'Different Strokes I 2023', 'Blood Sister 2003 Video', 'Sharon Stone 2002 Video', 'La Femme Anjola 2021', 'The Accidental Spy 2017', 'The Man for the Job 2022', 'Not a Slave 2021', \"Don't Leave Me 2022\", 'Hire a Woman 2019', 'Suicide Mission 1998 Video', 'Olokiki Oru: The Midnight Sensation 2019', 'Alice My First Lady 2006 Video', 'Lemons and Lemonade 2023', 'My Love 2002 Video', 'King of Thieves 2022', '3some 2018', 'Ayinla 2021', 'This Lady Called Life 2020', 'Benediction 2022', 'Fine Wine 2021', 'Ojuju 2014', 'The Figurine 2009', \"The Men's Club 2018–2019\", 'Nobody But You 2021', 'Alaqa 2021– ', \"Miss Bamidele's Girls 2022\", 'Maniac 2023', 'XXIII 2022', 'Mr. Babysitter 2022', \"Super Eagles '96 2022\", 'In Line 2017', 'BlackRose 2018', 'The New Normal III 2020', 'Weather for Two 2022', 'Show Me Love 2021', 'The Delivery Boy 2018', 'The Order of Things 2022', 'Bisi, Daughter of the River 1977', 'Sons of the Caliphate 2016– ', 'Crazy Grannies 2021', 'The Judge 2022– ', 'The Snake Girl 2006 Video', 'The Thorn II 2023', 'Confusion Na Wa 2013', 'Still Falling 2021', 'Your Excellency 2019', 'Merry Men 2 2019', 'One in a Million 2023', 'Mutual Benefits 2021', 'Fifty 2015', 'Real Love 2003 Video', 'Battleground: Africa Magic 2017– ', 'Efunsetan Aniwura 2005', 'The Rejected Stone 2019', 'Three Thieves 2019', 'The One for Sarah 2022', 'Spotlight III 2015', \"Okafor's Law 2016\", 'Ozioma 2022', 'Nimbe: The Movie 2019', 'The Olive 2021– ', 'Ti oluwa ni ile 1993 Video', 'One Bad Turn 2022', 'The Bodyguard 2022', 'The Wildflower 2022', 'A Fresh Start II 2022', 'Agogo èèwò 2002', 'Get Over It 2022', 'Miz Behaviour 2020', 'Badamasi Portrait of a General 2021', \"Lola's Gift 2023\", 'Pair 2021', 'The Kujus Again 2023', 'Fetter 2023', 'Witches 1998 Video', 'The Call Girl 2021', 'Mad About You 2019', 'Dr. Love 2023– ', 'Up North 2018', 'Cold Feet IV 2020', 'Happy Ending II 2022', 'Daddy Must Obey 2004 Video', 'The Therapist I 2021', 'Arugba 2009', 'Ridicule 2023', 'Mokalik Mechanic 2019', 'Looking for Baami 2019', 'Mr Ibu 2004 Video', 'Insecure I 2019', 'Hire A Man 2017', 'Bantale 2022', 'Blinded IV 2021', 'Burden of Proof 2023', 'Tinsel 2008– ', 'Elevator Baby 2019', 'Pretty Evil 2023', 'Ile Owo 2022', 'Light in the Dark 2020', 'The Good Doctor 2021', \"Foreigner's God 2022\", 'Sugar Babies 2020', 'Idemili 2014', 'The Plan 2023', 'Maami 2011', 'Efunsetan Aniwura 2020', 'The Boss Is Mine 2016', 'Boycott 2022', 'Idahosa Trails 2017', 'Dwindle 2021', 'Riona 2020– ', 'The True Bosses 2023', 'Nneka the Pretty Serpent 1994 Video', 'My Sister My Love 2006 Video', 'New Money 2018', 'Native Girl 2018', 'Beyonce & Rihanna 2008 Video', 'A Trip to Jamaica 2016', 'African Messiah 2021', 'Drawing Strength 2019', 'How Not to Fall in Love 2015', 'A Fight for Love 2023', 'Ìfé 2020', 'Judas I 2022', 'Ricordi 2021– ', 'Butterflies 2021', 'Domitilla: The Sequel 2023', 'Sistá 2022', 'Swapped II 2020', '1929: Women War 2019', 'Warmth in Despair 2022', 'Moms at War 2018', 'Try Again 2021', 'The Price 1999 Video', 'Miss Teacher 2015', 'Sideways 2021', 'Ponzi 2021', 'Igodo 1999 Video', 'Selina 2022', 'Corporate Maid 2008 Video', 'A Little White Lie 2016', 'Love Me II 2021– ', 'Beauty and the Beast 2021', 'Cinderella 2004 Video', 'Stronger Together 2018', 'Egg of Life 2003 Video', 'The Devil Within 2019', 'Finding Hubby 2020', 'Imelda 2022', 'Lugard 2021', 'Big Brother Nigeria 2006– ', 'Ghetto Jagaban 2023 TV Movie', 'Covenant 2022', 'Reach III 2020', 'Shattered IX 2021', 'Taxi Driver: Oko Ashewo 2015', 'Superstar III 2021', 'Bitter Rain 2021', 'Love in a Hole 2020', 'Fighting Tradition 2023', 'The Lost Okoroshi 2019', 'Fate of Alakada 2020', 'Mad Sex 2010', 'No U-Turn 2022', 'Day of Destiny 2021', 'Finding Hubby 2 2022', 'Slay Queen 2019', 'Issakaba 1999 Video', 'Africa Eye: Hushpuppi 2021 TV Movie', 'One Last Chance II 2019', 'Tough Love 2021– ', 'Brethren 2019– ', 'Phone Swap 2012', 'The Ghost and the House of Truth 2019', 'The Millions 2019', 'Bad Comments 2020', 'Devil in Agbada 2021', 'Sarki Goma Zamani Goma 2021', '30 Years a Virgin 2017', 'Unroyal 2020', 'One Lagos Night 2021', 'Sylvia II 2018', 'Karishika 1996 Video', 'Seven V 2019', '666 Beware the End Is at Hand 2 2007 Video', 'Deathly Obsession 2021', 'Beauty and the Beast 2008 Video', 'The Story of Boy and Girl 2022', 'Payday II 2018', 'Thorns and Roses 2021', 'Kinsman 2018', 'World Apart 2004 Video', 'Lara and the Beat 2018', 'My Flatmates 2017– ', 'More Than Just 4 Letters 2019', 'Green Snake 2003 Video', \"Hide 'N' Seek 2021\", 'Untold 2022', 'Blood Sister 2 2003 Video', 'Badboys and Bridesmaids 2021', 'A Cry for Help 2002 Video', 'A Good Man 2023', 'Christ in Me 2003 Video', 'Lost Kingdom 1999 Video', 'Thunderbolt: Magun 2001 Video', 'Love Castle 2021', 'Becoming Abi 2022– ', 'Zena 2019', 'The First Son 2023', 'Invasion 1897 2014', 'Journey of an African Colony: The Making of Nigeria 2019', 'Trip to Datana 2022', 'Mama Drama 2020', 'Broken Deal 2022', 'Heart of a Fighter 2011 Video', 'Skin IV 2019', 'Man Hunt I 2022', 'Eni 2018', 'Madu ', \"A Soldier's Story 2015\", 'Unfinished Business IV 2017', 'Aki & PawPaw 2002 Video', 'The Milkmaid 2020', 'The Game VII 2022', 'Where is Jude? 2023', '2 Rats 2003 Video', 'Kizz Daniel & Empire: Cough Odo 2022 Music Video', \"Mamba's Diamond 2021\", 'Kissing Game 2020', 'What Women Want 2022', 'Fifty 2017– ', 'Trouble Comes to Town 2016', 'Blackout V 2021', 'The Meeting IV 2012', 'The Expectation 2021', 'A Charming Young Man 2023', 'Thirty Pieces of Silver 2020', 'The Razz Guy 2021', 'Kanaani ', 'The Secretary 2021', 'Between Two Hearts 2022', 'A Way Back Home II 2021', 'Onye-Eze 2001 Video', 'Desperate Housegirls 2015– ', '5 Days to New Year 2022', 'The Girl in Table 5 2022', 'The Stranger I know 2022', 'A Piece of Me III 2020', 'Employee of the Month 2022', 'Silent Tears II 2015', 'The Housekeeper 2021', 'Before 30 2015– ', 'Through the Glass 2008', 'Nkiru Special 2021', 'Country Hard 2021', 'Dangerous Men: First Chapter 2011', 'Schooled 2022', 'When Love Happens 2014', 'Kesari 2018', 'C.O.L.D 2022', 'Blood Ties II 2022', 'Holy Ruse 2019', 'Heaven on My Mind 2018', 'Banana Island Ghost 2017', 'Kasala! 2018', 'A Pierced Heart 2022', 'A Story from Zazu 2020', 'Òsòròngà 2023', 'The Friend Zone III 2017', 'Perfect Friendship 2023', 'Usifo 2023', 'Couple of Days 2016', 'The Silver Spoon 2017', 'Oba Esan 2020', 'Eros: New Hope 2023', 'Conspiracy 1999 Video', 'Ran Mi Lowo Help Me 2022', 'End of the Wicked 1999 Video', 'Olawura 2022', 'Obinrin sowanu 2004 Video', 'The Consequence 2021', 'The Cokers 2021', 'Deceiver 2003 Video', 'Soul on Fire 2005 Video', 'Ye! 2023', 'Baby Bump 2022', 'Unstoppable 2010 Video', \"It's Complicated I 2021\", 'Just a Number 2022', 'Black Men Rock 2018', 'The Island 2017', 'Will You Marry My Husband? 2020', 'Gidan Badamasi 2019– ', 'Delilah: The Mysterious Case of Delilah Ambrose 2016– ', 'Playing by Heart 2023', 'Esther I 2021', 'Contract Marriage 2023– ', 'True Confession 1995 Video', 'Nze Secret 2023', 'Birth Control 2022', 'Legacy II 2023', 'Ojukokoro: Greed 2016', 'Aso Ebi 2021– ', 'Tokunboh 1999', 'Love Is Yellow 2020', 'Keeping Faith: Is That Love? 2002 Video', 'Swapped I 2020', 'A Dying Wish 2022 TV Movie', 'Palace Slave 2010 Video', 'Forbidden Love 2023', '11 Days 11 Nights 2005 Video', 'Couple Goals 2021', 'Ero 2008 Video', 'Broken IX 2019', 'To Freedom 2023', 'The Snake Girl 2 2006 Video', 'The Vendor 2018', \"Kiki's Dilemma 2021\", 'True Colors II 2022', 'Madam President 2017', \"Love's a Feeling 2023\", 'Dream Job 2021', 'Living with a Ghost 2015', 'Helpmate 2023', 'Sakace 2005 Video', \"A Dead Man's Souvenir 2023\", 'Colours of Love 2022', 'BlackBerry Babes 2011', 'Keva 2021', 'Love Me Mum 2023', 'Yours Regardless 2023', 'Edge of Paradise 2006– ', 'Adissa 2023', 'Lost in London II 2017', 'Almajiri 2022', 'Battleground 2017– ', 'Crazy Matilda 2023', 'Hustle 2016–2018', \"Her Mother's Daughter 2021\", 'The Village 2018', 'We Are Family ', 'From Lagos with Love 2018', 'The Boy Next Door 2022', 'Chemistry II 2022', 'Rich Guy, Poor Guy 2022', 'On Her Terms 2022', 'Poka Messiah 2016', 'Original Madam 2022', 'A Love to Remember 2021', 'Nicodemus 2003 Video', 'Ukwa 1995 Video', 'Dan Birni 2016', 'Desperate Housewives Africa 2015– ', 'Brass Bells 1999 Video', 'Dear Affy 2020', 'Loving the Accused 2022', 'My Girlfriend Is a Witch 2017', 'Sanitation Day 2020', 'Doctor Lanre 2021', 'The Damned II 2017', \"Sister's Heart 2007 Video\", 'The Accident 2022', 'Knockout Blessing 2018', 'Grey 2019', 'Censored Love 2020', 'Brave Heart 2 2005 Video', \"Why We Don't Visit Anymore 2022\", 'Braids on a Bald Head 2010', \"We Don't Live Here Anymore 2018\", 'Heart of a Slave 2008 Video', 'Progressive Tailors Club 2021', 'The Ghost and the Tout 2018', 'Sunday Jatto 2021', 'Osuofia in London 2 2004 Video', 'Levi 2019', 'Up Creek Without a Paddle ', 'For Maria Ebun Pataki 2020', 'True Love II 2003 Video', 'Inale 2010', \"'am in Love 2003 Video\", 'The Other Woman III 2021', 'Upside Down 2 2006 Video', 'Love Is War 2019', 'Flower Girl I 2013', 'U-Turn I 2022', 'Ifunanya 2022', 'Forbidden I 2018– ', 'Power of 1 2018', 'Abebi 2021', 'Blood of Enogie 2021– ', \"My Husband's Diary 2018\", 'Finding Mercy 1 & 2 2013', \"A Soldier's Heart I 2022\", 'Dice 2023', \"Dede's Bride 2021\", 'Cool Red 1976', 'The Bridge XIV 2017', 'The Legend of Inikpi 2020', 'Taiwo Taiwo 2008 Video', 'Oshimiri 2015', 'Pregnant Daddy 2023', 'Crazy, Lovely, Cool 2018– ', 'Burning Bridges 2014', 'Dangerous Twins 2004 Video', 'Something Wicked 2017', 'Wife for Rent 2017', 'Oga Abuja 2013', 'Pretty Liars 1 & 2 2014', 'Mothers-in-Law 2004 Video', 'Kasanova 2019', 'Flirting with Fifty 2017', 'Blast from the Past I 2021', 'Mummy Why 2016', 'Wind of Glory 2007 Video', 'Cultural Clash 2019', 'Fatal Desire 2023', 'Abike 2020', 'The Crown Academy 2019– ', 'Different Strokes II 2023', 'Crazy People 2018', 'Glass Slippers 2016', 'Sweet Face 2020', 'Double Mama 2 2013 Video', 'Beyond Dreams 2023', '14 Days II 2020', 'Ghost Worker 2022', 'For My Eyes Only 2021', 'Diiche 2022', 'Jankariwo 2021', 'Ogbologbo 2003 Video', 'A Time to Love 2 2007 Video', 'Powerful Civilian 2007 Video', 'The Tom & Jerry 2003 Video', 'Lunch Time Heroes 2015', 'Oldest Bridesmaid 2021', 'Loving Amanda 2022', 'The Guest 2022 TV Movie', \"It's Her Day 2016\", 'Spanner 2002 Video', 'This Thing Called Marriage 2016– ', 'Nelly 2023', 'Buddy Goes to Nollywood 2018', 'Love Thy Neighbour 2020', 'The Becoming of Obim 2019', 'The Wolves 2 2006 Video', 'Olive II 2019', \"Sister's Love 2008 Video\", 'All Na Vibes 2021', 'Catch.er 2017', 'Magic Cap 2006 Video', 'The Love Square 2021', 'Stuck in Lust 2023', 'Not My Will 2022', 'Ògìdán 2 2004 Video', 'A Place in the Stars 2014', 'Rumour Has It 2016–2018', 'Brain Box 2006 Video', 'The Arbitration II 2016', \"Sister's Love II 2020\", 'The State [Season 1] 2019', 'Listening Ears 2021', '5:55 2021', 'One Too Many 2022', 'The Lost Café 2018', 'Love Story I 2023', 'The Widow 2005', 'Sheila II 2019', 'Dumb Wife 2020', 'Oosa Aafin 2022', 'Taiwo Taiwo 2 2008 Video', 'Black Bra 2005 Video', 'God Behind Bars 2015', 'Tit for Tat 2023', 'Jaiyesinmi 1981', 'Battle of Musanga 1996 Video', 'Berserk 2022', 'On Page 31 2023', 'Sunset I 2022', 'Crossed Paths 2021', 'Enslaved Feelings 2022', 'The Inlaws 2017', 'A House Without a Home 2018', 'Birthday Surprise 2019', \"Who's the Boss 2020\", 'JJC: Johnny Just Come 2018', 'The Sessions I 2020', 'LOL: Last One Laughing Naija ', 'Jemeji 2017–2019', 'Blue VI 2020', 'Black Widow I 2017', 'Dangerous Beauty 2009 Video', 'The Ten Virgins 2019', 'A frenzy of emotions 2022', 'Scores to Settle 1998 Video', 'The Same Day 2012', 'Tango with Me 2010', 'Over Her Dead Body 2022', 'Across the Bridge 2005 Video', 'Desperate Sister 2007 Video', 'Purple Hearts 2017', \"Quam's Money 2020\", 'Enakhe 2020–2021', 'Hopefully Yours 2022', 'Best Friends IV 2022', 'Awon Boyz 2019', 'Stellar 2015', 'Papa Ajasco 1984', 'Stand by Me 2 2004 Video', 'Skinny Girl in Transit 2015 Video', 'Lost in Lust 2021', 'Tide 2021', 'B for Boy 2013', \"Knocking on Heaven's Door 2014\", 'Beautiful Faces 2004 Video', 'Oga Bolaji 2018', 'Cake 2022', 'Little Black Book 2021– ', \"The Oneironaut's Diary 2022\", 'The Ex Wife 2021', 'Ijakumo 2005 Video', 'Beckma 2022', 'Married to a Witch 2001 Video', 'Encounters II 2019– ', 'Wedding in Nigeria 2022', 'The Mighty One 2007 Video', 'Good Mother 2003 Video', 'The Covenant Church 2006 Video', 'Exit Plan 2023', 'March 17th 2021', 'A Fool at 40 2006 Video', 'Once Upon an Adventure 2018', 'Larry Cold 2021', 'A Million Tears 2006 Video', 'Family Guest 2020', \"Our Best Friend's Wedding 2017– \", 'Volcano 2020', 'Dead Expensive 2021', 'Heart of a Fighter 2 2011 Video', 'Twin Brothers 2003 Video', 'Holy Heist can a man rob god 2023', 'Omoberry 2021– ', 'The Catalyst 2022', 'Funke! 2018', 'Truth or Die 2016', 'Ikemba 2022', 'State of Emergency 2004 Video', 'A Dance to Forget 2020', 'Johnnie & Glyde 2021', 'Victony & Tempoe: Soweto 2022 Music Video', 'Desperate Billionaire 2005 Video', 'If I Am President 2018', 'Road to Yesterday 2015', 'Gbomo Gbomo Express 2015', \"The Secret Lives of Baba Segi's Wives \", 'The Shop Girl 2019', 'Invaders I 2022', 'Rising: City of Dreams 2022', 'The Funeral III 2022', 'Lingering Pain 2022', 'In Every Way 2018', 'Mr & Mrs 2012', 'Stale 2022', \"Time's Shadow 2021\", 'Dancing Heart 2006 Video', 'Hila 2022', 'Different Strokes 2022', 'The Big Fat Lie 2019', 'Memoirs of 4 2018', 'Ifeoma 2021', 'Vuga 2000 Video', 'I Found You 2005 Video', 'In Another Life 2022', 'The Final Oath 2021', 'The Cross of Love 2 2003 Video', 'Royal Palace 2005 Video', 'Symphony 2022', 'Submission 2002 Video', 'The Island II 2018', 'Unforgetable 2003 Video', 'Africa Eye: Sex for Grades 2019 TV Movie', 'Chase to the Grave 2023', 'Sex and Love 2018', 'Being Mrs Elliot 2014', \"A Mother's Love 2020 TV Movie\", \"Tiger's Tail 2022\", 'When Love Dies 2003 Video', 'Once Upon a Broken Heart 2022', 'Maybe Mine 2020', 'Never Enough 2023', 'Last Tango in Abuja 2020', 'Mr & Mrs Robert 2023 TV Movie', 'Lagos Cougars 2013', 'Apara 2021', 'Tanwa Savage 2021', 'Naked Wrestler 2 2008 Video', 'Watching Over You 2022', 'Dern of Africa jungle 2022', 'A Matter of Chance 2019', 'Guilty Pleasures II 2009', 'When Love Hurts 2020', 'The Real Us 2021', '3 Is a Crowd 2017', 'The Personal Assistant 2017', 'Games Women Play 2005 Video', 'Rituals 1997 Video', 'Marrying a Campbell 2021', 'Celebrity Marriage 2017', 'August the First 2007', 'Gulder Ultimate Search 2004– ', 'The Gentleman 2019', 'The Good Wife II 2022', 'The Diary of a Crazy Nigerian Woman 2017', 'The Promise IV 2022', 'The Black Book ', 'Blind Affection 2020', 'J.B.O: Jaguda Baba Ole 2022', 'Heartitude 2023', 'Ranti Mi 2018', 'Prophetess 2021', 'Red Code 2017', 'Boss Down 2022', 'June X 2018', 'Borrowed Time 2021', 'Tailor My Heart 2018', 'Forever IV 2020', 'Charge and Bail 2021', 'My Ex-Wife 2022', 'Love in the First 2018', 'The Reset 2022', 'A Hotel Called Memory 2017', 'Meet the In-Laws 2016', 'House on the Hill II 2017', 'Love Tangled 2021', 'Love is Thicker 2021', 'City Hustlers 2022', 'Bridges of Trust 2023', 'Kidnapped 2023', 'Cornerstone 2019', 'In My Bed 2023', 'Daughters of Donald 2021', 'Finding Diana 2022', 'Oracle 1998 Video', 'The Casket 2014', 'Naked Sin 2006 Video', 'Win or Lose Movie 2022', 'Sakobi: The Snake Girl 1998 Video', 'Black Sheep II 2022', 'Beautiful 2021', '5 Wives 2017', 'Dance with Me III 2022', 'The Perfect Guy 2022', 'Shehu Umar 1976', 'Inbred 2018', 'Secret Room 2013', 'A Christmas Getaway 2022', 'Vida I 2023', 'Hustlers 2014', 'Brother Jekwu 2016', 'Beyond Pardon 2020', 'Inside Life I 2022', 'Monster Under Skin 2015', 'Ajuwaya 2017', 'Kofa 2022', 'Kojo and the Kids 2020', 'Love in a Puff 2020', 'Stalemate 2016– ', 'Police Recruit 2003 Video', 'Chaos Calling 2023', \"My Grandfather's Wife 2020 TV Movie\", 'Super Love 2003 Video', 'Her Faithful Man 2019', 'Royal Messengers 2006 Video', 'Lethal Attraction 2021', 'Regardless 2022', 'Ija Ominira 1979', 'Break Up 2003 Video', 'Before the Wedding 2021', 'Rising Moon 2005 Video', 'Bond ', 'Venom of Viper 2 2015', 'Words on Marble 2017', 'Esohe 2017', \"Idia's Melody 2023\", 'Alakada Reloaded 2017', '3 Is Company 2015', 'Christian Marriage 2002 Video', 'Bouquet and Everything After 2021', 'Stereo Hearts 2021', 'Shrine Girl 2020', 'The Visit XI 2015', 'Seven and a Half Dates 2018', 'Interstate IV', 'Old School 2 2004 Video', 'Tell Them 2003 Video', 'Against the Clock 2020', 'Corporate Maid 2 2008 Video', \"Life's Crossroad 2021\", 'Dysfunction 2021', 'Dre 2019', 'Eyin Oka 2004 Video', 'The Return of Jenifa 2011', 'Wanted Alive 2001 Video', 'Glamour Girls 2 1996 Video', 'Marry Me Again 2019', 'Black Bride 2017', 'Everything Scatter ', 'The Apartment III 2022', 'Flee I 2018', 'Laurie 2020', 'Hotel Majestic 2015– ', 'Billionaires Club 3 2003 Video', 'Little Secrets 2022', 'Costly Mistake 2006 Video', 'Cry Freedom! 1981', 'Check Point 2007 Video', 'Out of My League 2020', 'Black Bra 2 2005 Video', 'Things We Do in the Shadow 2022', 'Omugwo 2017', 'Faith Beyond Fate 2020', 'Lekki Wives 2013–2015', 'Empathy 2022', 'Slow Poison 2 2003 Video', 'Hafeez 2019', 'Hello, Rain 2018', 'Private Matters 2022', 'King of the Jungle 2004 Video', 'Triad 2022', 'Mysterious Max 2021', 'Women & Lies 2021', 'There Is Something Wrong with the Bamideles 2022', 'Unwanted I 2022', 'Insecure II 2022', 'Aguba Igogoro 2006 Video', 'She Is 2019', 'Mati a Zazzau 2020', 'Mum, Dad, Meet Sam 2014', 'Portrait of Love 2021', 'Hot Girl Next Door 2017', 'When Love Finds You 2017', 'Bound VIII 2018', 'A True Blue June 2022', 'Jenna II 2018', 'Anini 2005 Video', 'Strange Soldier 2022', 'When Hearts Whisper 2022', 'Ayamma: Music in the Forest 2016', 'Back from America 2003 Video', 'Top Secret 2004 Video', \"Mother's Wish 2022\", 'Hot Love 2003 Video', 'Journey to Self 2013', 'Endtime 1999 Video', 'Oyato 2003 Video', 'Love & Lies 2022', 'African Gods 2022', 'Bride of Death 2017', 'A Familiar Stranger 2022', 'Bleeding Butterfly 2023', 'Love and Justice 2022', 'Trilateral 2022', \"Troublemaker's Bodyguard 2023\", 'The Bait 2022', 'A Perfect Girlfriend 2020', 'A Little Like Happiness 2023', 'Missing Angel 2 2004 Video', 'Imposter 2021', 'When Love Happens Again 2016', 'Fated to Love 2021', \"Pandora's Box 2021\", 'Mijin Yarinya 2017', 'Smokescreen 2023', 'Manifestation 2021', 'Dinner is Served 2023', 'The Bride Price 2023', 'Stay IX 2022', 'Sweet Money 2006 Video', 'Who Am I? 2 2007 Video', 'Love in Strange Places 2022', 'Picture Perfect IV 2016', 'Gaslight 2020 TV Movie', 'Alimi 2021', 'Big Man 2012', 'Mechanic Girl 2021', 'Deal Breaker II 2021', 'Tack 2022', 'Sidi Ilujinle 2017', 'Iyore 2015', 'War Front 2004 Video', 'Makate Must Sell 2019', 'Kawayen Amarya 2018', 'Mad Wife 2022', 'Eccentric 2021', 'Deadly Mistake 2003 Video', 'Lara of Lagos 2020– ', 'Unwanted Guest 2011', 'Iwo 2020', 'Beyond Pretense 2020', 'Basorun Gaa 2004 Video', 'This Is It II 2016– ', 'The Lobby Girl 2021', 'Joba 2019', 'House Husband 2015', 'Heart of a Widow 2011 Video', 'Threeway 2022', 'Insecurity 2022', 'Husbands of Lagos 2015–2017', \"Ehe! It's a Match: Nigeria 2022\", 'Brown Skin Girl 2020', 'So Wrong So Wright 2.0 2017– ', 'Sadauki 2019', 'Heart of Two Halves 2020', 'Behind the Plot 2021', 'Leap of Faith 2023', 'Her Perfect Life ', 'Girls Cot 2006 Video', '10 Days 2022', 'Charlie and the Boys ', 'Love Happened 2022', 'Love, Pain & Marriage 2022', 'Come Alive 2021', 'Rariya 2017', 'Tenant of the House 2019', 'Locked In II 2023', 'Koi Koi - The Myth 2022', 'Colours of Emotion 2005 Video', 'Irúnmolè 2008 Video', 'Ruwan Dare 2018', 'The Maid 2004 Video', 'Hell Ride 2022', 'First Time 2023', 'What Happened at St James 2021', 'Best Friends II 2020', 'Till There Was You 2021', 'Children of Mud 2020', 'Threshold III 2022', 'What Other Couples Do 2020', 'Our Jesus Story 2020', 'A Calm Before the Storm 2023', 'Round 2023', 'Omugwo 2021', 'Fault Lines 2021 TV Movie', 'Highway to the Grave 2000', 'Death of a Black President 1983', 'Mr. Trouble 2003 Video', 'Girlfriends 2019', 'Deal or No Deal 2021', 'Trusted Enemy 2 2016', 'Facade 2023', 'Perfect Plan 2022', 'All I Have 2006 Video', 'Conquest II 2023', 'The Last Burial 2000', 'Circle of Fire 2017', 'Married But Feminist 2023', 'May 29 2020', 'My Neighbour 2019', 'Just before Dark 2020', 'Gwaska Returns 2017', 'Dear Sister III 2022', 'Verdict: The LaVena Johnson Murder Conspiracy 2014', 'A Good Woman 2023', 'Cry Baby 2 2006 Video', 'Moving Train 2003 Video', 'Million Dollar Baby 2 2016', 'The Women 2017', 'Abuja Boys 2004 Video', 'Ruse I 2022', 'Desperadoes 2001 Video', 'Worlds Apart I 2022', 'The Staff of Odo 2004 Video', '13 Letters 2021', 'Boomerang II 2021', 'King of Shitta 2013', 'Heart of True Love 2018', 'She Is the One 2022', 'A duniya hausa 2020', 'Direct Message 2023', 'The Ghost 2 2005', 'The Pretty Ones Are the Loneliest 2021', 'Mr & Mrs Right 2018', 'Efunsetan Aniwura 1981', 'Pretty Little Thing 2017', 'He Is Mine 2022', 'Circle of Doom 1993 Video', 'Loving Ellen 2020', 'Chain IV 2018', 'A Deusa Negra 1979', 'Night Nurse 2023', 'Live to Remember 2 2008 Video', 'Mothers & Daughters-in-Law 2019', 'Remarkable II 2017', 'Baby Girl 2005 Video', 'My School Prefect 2 2007 Video', 'The Last Knight 2005 Video', 'Abela Pupa 2003 Video', 'Real Love 3 2005 Video', \"Emeka's Money 2020\", 'Little Astro Boy 2014–2019', 'A Fire in the Rain 2017', 'Orunsewa 2018', 'Life of a Nigerian Couple 2015– ', 'Lagos Real Fake Life 2018', 'Forgetting June 2013', 'Mummy Dearest 2014', 'Hostages 1997 Video', \"Tiwa's Baggage 2017\", 'Focus 2021', 'Sikiru 2022', 'Daluchi 2021', 'Monitoring Spirits 2021', 'Dubara 2021', 'Unshaken 2021', \"Don't Test My Love 2022\", 'Vindictive 2022', 'Billionaires Club 2 2003 Video', 'Love in a Valley 2022', 'Sensational Spy 2004 Video', 'Borrowed Wealth 2022', 'Gbege 2022', 'Tainted Canvas 2020', \"Mama's Boy 2022\", 'Rule number one 2018', 'Rapture 1998 Video', 'Last Wedding 2004 Video', 'Bad Blood 2 2008 Video', 'The Guest II 2022', 'Craving II 2021', 'Will of God 2007 Video', '30 and Single 2020', 'CKay Feat. ElGrandeToto: Love Nwantiti North African Remix 2021 Music Video', 'Miscellaneous 2016', 'Cash & Carry 2023', 'Table of Men 2019', 'Amanda my Village Wife 2015', 'Mask IV 2021', 'Onome 1996', 'The Surrogate II 2017', 'Nkoyo 2021– ', 'Wetin Dey 2007–2008', 'Crossroads Siwoku 2020', 'Silent Baron 2022', 'Attribution 2023', 'Let Karma 2019', 'Infatuation 2022', 'Big Sister 2022', 'Joe 2022', 'Desperate Houseboys 2021', 'Be Careful What You Wish For V', 'Desires 2022', 'Angel in Hell 2006 Video', 'The Lost Number 2012', 'Throne of Deceit 2022', 'Dorathy My Love 2005 Video', 'Felicia 2022', 'Team Six 2021', 'Mustapha 2019', 'Juyin Sarauta 2017', 'Atona 2021', 'My Beloved Son 2007 Video', 'Last Girl Standing II 2004 Video', 'Annabel 2004 Video', 'Missing Angel 3 2004 Video', 'Deadly Mistake 2023', 'Unwise King 2018', 'Lost in the Act ', 'The Man Who Cuts Tattoos 2019', 'My School Prefect 2007 Video', 'Be My Valentine II 2023', 'Love and the CEO 2023', 'The Faithful 2 2004 Video', 'Love Upon the Hills 2018', 'Abeni 2006 Video', 'Dazzling Mirage 2014', 'Just the Two of Us II 2018', 'Nwanyioma 2018', 'Dear Sister II 2021', \"Devil's Orchard 2021\", 'Karma Is a Gangster 2020', 'Flip of Love 2021', 'Saheed Esu 2020', 'The Battle of Love 2001 Video', 'Forced Engagement 2019', 'Beyond Dreams 2006 Video', 'Ghetto Dreamz: The Dagrin Story 2011', 'réBIRTH 2022', 'Ogbologbo 3 2003 Video', 'Weekend Getaway II 2012', 'Diamonds in the Sky 2019', 'Spiritual War 2007 Video', 'The Anointed Bride 2022', 'What Lies Within 2017', 'My Best Friend 2003 Video', 'Ages 2021', 'Affairs of the Heart 2016', 'Weeping Soul 2011 Video', 'Undercover Lover 2015', 'Obiye the Comforter 2022', 'Pieces of Me 2023', 'Holy Trouble 2023', 'Hakkunde 2017', 'Silent Night 1996 Video', 'A Good Man 2022', 'Mystified 2017', 'Stigma 2013', 'Tales of Eve: Simi 2011', 'Koroba koroba 2003 Video', 'Mummy Dearest 2: The Wedding 2018', 'Indian Doctor 2008 Video', 'Intentions II 2022', 'Lies in Between 2021', 'Not Man Enough 2003 Video', 'The Itch II 2018', 'Gucci Girls 2012', 'Unbroken 2019–2020', 'Pure III 2021', 'Out of Bounds 1997 Video', 'Real Love 2 2005 Video', 'Sharon Stone in Abuja 2003 Video', 'Bullet of Justice 2014', 'Kayanmata 2018', 'Ocean Deep 2 2007 Video', \"No Man's Land V 2021\", 'Put a Ring on It 2016', 'My Name Is Kadi 2016', 'Peace and Profit 2023', 'Python King 2 2007 Video', 'True Lies 3 2008 Video', 'Hustle City 2021', 'My Love Story 2022', 'Reggae Boys 2005 Video', 'Afonja 2002 Video', 'Kuvana 2019', 'Plane Crash 2008 Video', 'Stupid Movie 2015', 'Hell or High Water I 2016', 'Suga Suga 2021', 'Women Affair 2003 Video', 'Only Love 2005 Video', 'The Surrogate 2022', 'Daybreak 2023', 'Salim Smart: Muradin Zuciya 2022 Music Video', 'Back to Africa 1997 Video', 'Come with Me II 2022', 'The Final Days 2 2006 Video', 'Kamsi 2018', 'Wasila Coded Reloaded 2022', 'Desperate Search 2007 Video', 'Boothang! 2022', 'The Crusader 2006 Video', 'The Wedding Planner 2022', 'Akweke 2016', 'When Sparks Fly 2022', 'Seeking Solace 2022', 'My Rich Boyfriend 2014', 'Battle Line 2002 Video', 'Beautifool 2021', 'Diamond Ring 1998 Video', 'Underbelly the Journey 2022', 'House Party II 2004 Video', 'Mother in Love 2022', 'Arrows 2003 Video', 'Wanted by All 2022', 'Unconditional Love 2003 Video', 'Obsession V 2017', 'The Knot 2022', 'The Brightons 2022', 'Loving Lora 2023', 'The Crash 2022', 'Lemonade II 2020', 'Desperate Sister 2 2007 Video', 'Ti oluwa ni ile 3 1993 Video', 'Shagayas and Clarks 2018– ', 'Little Drops of Happy 2017', 'Herdsmen 2022', 'The Search 2 2006 Video', 'My Wife II 2019', 'Paige 2016 Video', 'Odun baku 2006 Video', 'Idera 2022', 'My Sweet Heart 2003 Video', 'The Wrecker 2019', 'Locked Up II 2016', 'Nelayan 2023', 'Tango of Deception 2021', 'The Succubus 2016', \"Hunters' Prey 2021\", 'Adam & Eve 2003 Video', 'The Stolen Bible 2004 Video', 'Innocent Oath 2018', 'Soft Work 2020', \"Where There's Love There's Chaos \", 'When Men Cry 2022', 'Emem 2022', 'Pam Pam 1997 Video', 'Tree 2022', 'Wedding Night 2022', 'Gina the Laundry Girl 2023', 'Oba Bi Olorun 2021', 'Sitanda 2006', 'Baby Boy II 2017', 'Dirty Night 2020', 'High Blood Pressure 2010', 'Chance at Love 2021', 'Love Me Some More 2022', 'The Duplex 2015', 'Sister Mary 2003 Video', 'Jack & Jill 2 2011 Video', 'Smash II 2018', 'In the Act 2022', 'The Girl King 2019', 'Johnny Just Come 2003 Video', 'Surprise Wedding 2017', 'Kenim O Presents: A Second Husband 2020', \"Pandora's Box 2021– \", 'The Happiest People on Earth I 2015', 'Silent Storm 2023', 'Broad Day Light 2001 Video', 'Untruth 2023', 'Flip Side 2023', 'Unravel II 2019', 'Iva 1993 Video', 'A Romantic Comedy Featuring Lara and Tobi 2022', 'Engagement Night 2004 Video', 'Survivors 2022', 'Tatu 2017', 'Dangerous Silence 2022', 'Last Decision 2004 Video', 'Disgraced 2023', 'Azima 2005 Video', 'The Rise of Igbinogun 2022', 'Katakata 2021', 'Secret Code 2011 Video', 'The Wages 2013', 'Trouble in High Heels 2020', 'White Handkerchief 2000 Video', 'Tarmun ', 'Oduduwa 2000 Video', 'Beautiful Liar 2022', 'Ijele 1999 Video', 'Silent Rage 2007 Video', 'Unbridled II 2021', 'Fence of Defence 2022', 'Folashade 2021', 'Ewon Laafin 2015', 'The Cross of Love 2003 Video', 'Bad Puzzle 2023', 'Rush Hour 2007 Video', 'Royal Quest 2021', 'Off the Menu 2019– ', \"Tari's Quest 2021\", 'Good Mother 2 2003 Video', 'Finding Me 2022', 'The London Boy 2004 Video', 'Doubt III 2020', 'Desperate Billionare 2 2005 Video', 'Lagos Landing 2018', 'Echoes of Love 2016', 'Room Hate 2020', 'A Time to Heal II 2017', 'Tales of Eve: Girls Only 2013', 'Agony of a Mother 2002', 'Complicated I 2022', 'Darkest Night 2005 Video', 'Last Ofalla 2002 Video', \"My Brother's Wife 2019\", 'Emergency Wedding 2003 Video', 'Beyi oku 2007 Video', 'Ibukun 2018', 'Ò le kù 1997 Video', 'State of Emergency 2 2004 Video', 'Douglas My Love 2004 Video', 'White Waters 2007', 'Stranded V 2020', 'Wives on Strike 2016', 'Fine Things 2007 Video', 'The Bodyguard 2018', 'Daddy Must Obey 2 2004 Video', 'Willie-Willie 2021', 'Money Miss Road 2022', 'Face of Africa 2005 Video', 'Adire ', 'Unforseen 2021', 'Tensing Feelings 2023', 'Something Fishy 2022', 'Sharon Stone 2 2002 Video', 'Harvest of Spite 2022', 'Inheritance 2004 Video', 'Hope of Glory 2004 Video', 'Sweet Tomorrow 2008 Video', 'Light Out 2006 Video', 'Olaedo the Fisher Girl 2015', 'Lipstick and Lies 2022', 'Nkem & Obi 2022', 'To Rise Again 2014', 'Finding Solace 2023', 'Pipiro 2003 Video', 'More Than Enough 2021', 'A Million Tears 2 2006 Video', 'EE Zuzu- A Life of Songs 2022', 'Secret Weapon 2014', 'Two Wrongs II 2022', 'Flat Share 2023', 'Divorce Settlement 2021', 'From a Distance 2020', 'Love & Fate 2023', 'Light & Darkness 2001 Video', 'Choke I 2022', \"Kylie's Quest 2021\", 'Anambra Boys 2018', 'My Wife, My Trouble 2022', 'Tears of the Dead 2014', 'Poor-ish 2021', 'I Will Die for You 2003 Video', 'Who Killed the Prince 2022', 'Ebi 2023', 'Unwilling 2021', 'Fragile I 2022', 'Perfect Deal 2022', 'Holy Diamond 2005 Video', 'Occultic Kingdom 2005 Video', 'Superstition 2023', 'Vanity III 2022', 'Silhouette III 2022', 'Flying Without Wings 2005 Video', 'My Idol 2008 Video', 'Dear Bayo 2020', 'Keziah 2007 Video', 'Alan Poza 2013', 'No Where to Run 2 2006 Video', 'Oracle 2 2002 Video', 'Hope Springs Eternal 2021 TV Movie', 'Oath Keepers 2022', 'Snake Ladies 2015 Video', 'Ekuro 2007 Video', 'Needles & Threads 2023', 'Mansoor 2017', 'The Wig 2021', 'Queen of Hasso Rock 2 2005 Video', 'Destiny I 2022', 'Love Duty 2020', 'Love & Illusion 2016', 'Deja Vu I 2022', 'My Coffee 2021', 'IjeBaby Chopping Center 2022– ', 'Out of Luck II 2015', 'The Eve 2018', 'Drowning IV 2019', 'The Signs of End Time 2007 Video', 'Trampled 2022', 'Adamma 2022', 'Royal King 2011 Video', 'Threshold V 2016', 'When Love Dies 2019', 'Died Wretched 1998 Video', 'Days of Agony 2003 Video', 'Hey Harris 2023', 'Power of Love 2002 Video', 'Little Miss Olivia 2022', 'Special Package 2020', 'The Defender 2 2006 Video', 'Musik-Man 1977', 'Son of Mercy 2020', 'Hindu 2015', 'Discerning Eyes 2022', 'A Wish for the Stars 2022', 'Wasila 2000', 'Rancor 2022', 'Who Will Tell the President 2007 Video', 'Small World 2023', \"Daddy's Girl 2 2016\", 'Samaritan ti o dara ', 'Strings of the Heart 2023', 'Inspector K 2017–2018', 'Camouflage II 2020', 'Love in a Bit 2021', 'Agony of a Sister 2018', 'Across the Bridge 3 2005 Video', 'Flipped 2021', 'Love Bracket 2021', 'Bad Agents 2016', 'Bumper to Bumper 2004 Video', 'Love Eternal 2022', 'Akanke Alata 2021', 'Unevenly Yoked 2022', 'Blood on Ice 2006 Video', 'Accra Hustlers 2021', 'Rema: Dirty 2022 Music Video', 'The Right Neighbors 2022', \"Sobi's Mystic 2017\", 'The Prince of My Heart 2007 Video', 'Baby Guards 2005 Video', 'Enigma VI 2021', 'Twinning 2023', 'Awure eni 2006 Video', 'A Forgotten Place ', 'Stronger Than Pain 2007 Video', 'Disguise 2003 Video', 'Fighting Fate 2022', 'Longing for You 2022', 'Naked Sin 2 2006 Video', 'The Bosslady 2019', 'Dons in Abuja 2 2004 Video', 'After the Proposal 2013 TV Movie', 'Royal Ghost 2021', \"My Wife's Lover 2017\", 'Mr Ibu in London 2004 Video', 'Abused 2022', 'Addiction IV 2021', \"Stepping Into Maggie's Shoes 2020\", 'Wives on Strike 2018– ', 'Hunt for Perfection 2023', 'Davido: Jowo 2020 Music Video', 'Losing Control 2015– ', 'Awaiting Trial ', 'Jagbajantis 2021', 'Kawaye 2019', 'Aviva 2021', 'Heavy Rain 2004 Video', 'Law of Love II 2022', '36 Kiniun 2 2003 Video', 'Life as It Is 2019– ', \"For Old Times' Sake 2019\", 'Thirty I 2022', 'Lagos Girls 2003 Video', 'The Herbert Macaulay Affair 2019', 'Oyin Alagbe 2022', 'All My Life 2004 Video', 'Wahala 2020', 'Othello Syndrome 2018', 'Nanny for Christmas 2019', '[k]PALI 2019', 'Blood Diamonds 2004 Video', 'A Tune Away 2022', 'The Narrow Path 2006', 'I Found You 2 2005 Video', \"Neighbour's Wife 2017\", 'Cordelia 2021', 'Twilight Sisters 2009 Video', 'To All the Broken Hearted 2020', 'Newman Street 2014– ', 'Iwa Eda 2022', 'Waiting for Hassana 2017', 'Bus Driver 2005 Video', 'Pink Lounge ', 'The Scorned Help 2015', 'Papa SBJ Oshoffa ', 'The Church Boy 2022', 'The Grudge II 2020', 'Divorce Scheme 2021', 'Muddled 2020', 'The Ghost 2005', 'Aka Gum 2002 Video', 'Sleeping with the Enemy 2 2004 Video', 'Strength of Love 2018', 'Dogs Meeting 2 2004 Video', 'God of Elijah 2013', \"Pricilla's Monologue 2017\", 'Room Mates 2019', 'Secret Pain 2007 Video', 'Desperate Ambition 2006 Video', 'Love Regardless 2015', 'Six Demons 2005 Video', 'Atarodo 2021', \"Marcus 'D' Millionaire 2008 Video\", 'Hotel Security 2023', 'Hammer 2022', 'Twin Sisters 2019', 'American Husband 2019', 'Two Peas 2022', 'Freedom 1957', 'Personal Assignment 2006 Video', 'Drops of Mercy 2022', 'Prima Donna 2021', 'The State [Season 3] 2019', 'When Dreams Fall Apart 2013', 'Ebubedike 2021', 'BBL Unbrided 2023– ', 'Lean on Me 2 2003 Video', 'Love Trap I 2022', 'Ajani Ogun 1976', 'Elozonam 2021', 'Alpha 1973', 'Moments of Truth 1981', 'Life Happened II 2022', 'The Carpenter 2022', 'Uncomfortable Truth 2014', 'Rush Hour 2 2007 Video', 'Jofran 2017', 'Lace and Button 2022', 'Akachi 2020', 'The Encounter III 2015', 'Wede 2019', 'Letting Go III 2021', 'Redemption II 2021', 'A Date with My Husband 2019', 'Oga and His Boys 2003 Video', \"Millionaire's Daughter 2004 Video\", 'Love Potion II 2019 Video', 'Mimi II 2021', 'Blood Billionaires 2 2005 Video', 'Kasarmu Ce: This Land Is Ours 1991', 'Holy Man 3 2007 Video', \"Tania's Trap 2022\", 'Double Bind 2017', 'Besida 2018', 'Rattle Snake 2 1995 Video', 'President Kuti 2021', 'Little Annie 2021', 'Saint Oyinda 2022', 'Python King 2007 Video', '30 Days 2021', 'Choosing yesterday 2023', 'Chance II 2022', 'Mr and Mrs Okoli 2021', 'The Golden Child 2023', 'My Only Love 2003 Video', 'Deadly Affair 1995', 'Three Wise Men II 2017', 'Throne of the Gods 2008 Video', 'Wrong Initiation 2018', 'Father of the Year 2022', 'The Saint 2 2006 Video', 'True Caller 2021', '36 Kiniun 2003 Video', 'Time Looped 2020', 'Curse of the Seven 2016', 'Police Officer 2002 Video', 'After My Heart 3 2008 Video', 'Sin of a Woman 2013', 'Izoduwa 2021', \"Motherhood's Price 2022\", 'Women in Power 2005 Video', 'Opin irin ajo 2005 Video', 'Out of Control 2022', 'The Corridors of Power 3 2005 Video', 'Cruise & Clout 2022', 'Caught in the Act 2014', 'Homeless Home 2019', 'Marked III 2019', 'Impossible I 2023', 'Behind Closed Doors 2005 Video', 'Tears for Nancy 2005 Video', 'The Will 2022', 'Dialogue in Nigeria: Muslims & Christians Creating Their Future 2012', 'Bolaji 2021', 'Aberration III 2020', 'The Outcast III 2018', 'Long John 2002 Video', 'Mosadoluwa 2020', 'The Playbook 2023', 'Unequal 2023', 'Black Heart 2021', 'Yankee Students 2015', 'Living in Bondage 2 1993 Video', 'Saving Grace II 2022', 'Full Moon 1998 Video', 'Next Door Neighbour 2022', 'Most Wanted 2 1998 Video', 'Tears in My Eyes 2008 Video', 'Children of God 2022', 'Sarauniya 2018', 'Atiko 2022', 'The General Manager 2022', 'Ogbologbo 2 2003 Video', 'Baby Daddy 2017', 'The Illuminati Cult 2014', 'Dreamwalker 2013', 'Ikemefuna 2021', 'Love Story 2 2005 Video', 'Bana Bakwai 2020', '5 Billion Reasons 2023', \"Bachelor's Eve 2018\", 'Little Angel 2004 Video', 'Half Shot of Sunrise 2020', 'Beyonce & Rihanna 2 2008 Video', 'Enemy Closer 2021', 'The Washerman 2018', \"Tim ba t'aiye wa 2003 Video\", 'The Boy is Mine 2020', 'The Right Kind of Wrong 2022', 'The Banker 2015', 'The Lost Heir 2018', 'Naomi 2003 Video', 'Twin Souls 2018', 'Hidden Truth 2017 TV Movie', 'Adebimpe Omo Oba 2019', 'Insecure 2021', 'Irapada 2006', 'Dirty Game 1998 Video', 'Nadeeya 2022', 'The Final Clash 2002 Video', 'The Golden Fish 2006 Video', 'Akpu-Nku 2003 Video', 'Things That Broke Us 2021', '30 Days II 2006', 'When the Gods Cry ', \"The Governor's Daughter 2021\", 'The Three Brides 2021', 'Black Val 2016', 'Mirror of Life 2011 Video', 'Duke and Dami 2021', 'Stillborn 2020', 'The Drill Project 2014', 'Secret Fantasy 2006 Video', 'Philosophy of Death 2023', 'Unbreakable 2004 Video', 'One Last Kiss 2019', 'Scripted in the Stars 2023', 'The Locals II 2021', 'Locked III 2019', 'Movement Japa 2021–2022', 'A Little too late 2018', 'Stolen Lives 2015', 'The Face I Never Saw 2020', 'Baby shower 2016', 'Sacrifice for Love 2006 Video', 'Cranky Decision 2022', 'The Garbage School 2021', 'Love and Sacrifices 2021', 'Unhappily Married 2021', 'Nothing for Nothing 2 2005 Video', 'The Boy Is Mine 2018', 'Lying in State 2020', 'Omoye 2017', 'All Shades of Wrong 2018', 'Love-Sha 2021', 'Keep My Will 2007 Video', 'Deep Cover 2020', 'Once Upon a Family 2018', 'Ball Game 2022', 'Assistant Madams 2020– ', 'A Few Feet Apart 2022', 'The Defender 2006 Video', 'Gwaska 2015', 'Tears & Sorrows 2002 Video', 'Time and Chance 2019', 'Late Marriage 2003 Video', 'The heiress 2023', 'Domino Effect 2023', 'The Influencer II 2021', 'That Very Weekend 2016', 'Traffic 2020', 'Ayitale 2013', 'Seducing Mr. Perfect 2019', 'Intelligent Students 2008 Video', 'Double Trouble 2017', 'Love Delayed 2020', 'Tomorrow Can Wait 2018', 'Violated 2 1996 Video', 'Desire 2008 Video', 'Ghost Story 2020', 'The Happyness Limited 2016', 'Oliver Twist 2018', 'Darling of the Gods 2022', 'The Good Husband II 2019', 'Entangle 2021', \"The Prince's Heart 2022\", 'Covert Operation 2013', 'Exhausted II 2021', 'The Devil and the Red Sea 2017', 'Downhill 2021', 'Loud: Live Out Ur Dream 2020', 'Crazy Love 2015 Video', 'Adunni 2021', 'Most Wanted Kidnappers 2010 Video', 'Stretched Heart 2021', 'The Only Way 2022', 'A Bone to Pick 2016', \"Love Don't Cost a Dime 2022\", 'Family Affair 2 2006 Video', 'Girl Next Door 2020', 'Ayra Starr: Sability 2023 Music Video', 'Rehearsal I 2021', 'Entanglement Kreglex 2020', 'Adun ewuro 2006 Video', '25th Birthday 2016', 'Aya mi òwòn: Madam Dearest 2005 Video', 'All My Life 2 2004 Video', 'Ijeawele 2021', 'Egg of Life 2 2003 Video', 'Loving a Con Man 2022', 'Cross & Tinapa 2007 Video', 'Ayanmo 1986', 'Lotanna 2017', 'Even in Silence 2022', 'Sound of Love 2006 Video', 'Game Fools Play 2007 Video', 'Going on 35 2023', 'The Tyrant 2005 Video', 'The Perfect Ex 2022', 'The Supervisor 2021', \"The Politician's Wife 2020\", \"Blacbet' \", 'Like Filtered Water 2021– ', 'Daughters love 2017', 'Strength of a Woman 2004 Video', \"Amaka's Kin: The Women of Nollywood 2016\", 'Working for Love 2003 Video', 'Crime and Justice 2014', 'Never Saw It Coming 2019', 'The Girl Is Mine 2005 Video', 'Mummy G.O 2023– ', 'Love & Everything in Between 2022', 'As He Was Written 2023', 'Make a Move 2014', 'Mothering Sunday 2001 Video', 'Dijangala 2008 Video', \"Ojo's in d' House 2013\", 'Room 420 2018– ', 'Entangled III 2021', 'Tomorrow Must Wait 3 2008 Video', 'Now, Always and Forever 2023', 'Homely: What Men Want 2018', 'Ayo ni mo fe 1994 Video', 'Her Matters 2022– ', 'The Mask 1979', 'Worst Marriage 2004 Video', 'Once upon a Night 2018', 'Shaheeda 2021', 'Happy Endings 2018', 'Ero Mi 2020', 'Loved and Lost 2023', 'Tears in My Heart 2006 Video', 'Mrs. & Mrs. Johnson 2015', 'Falling XI 2015', 'Deserted I 2022', 'Last Affair 2017', 'Indecent Girl 2004 Video', 'Otondo 2004 Video', 'Loud Silence 2020', 'So Wrong So Wright 2009–2016', 'Sàngó: The Legendary African King 1998', 'Help! I 2021', 'Computer Girls 2003', 'Kadura 2006 Video', 'Royal War 2009 Video', 'Paranoid IV 2021', 'Dark Petals 2022', 'Bad Post 2022', 'The Wrong Turn 2019', 'Rip-Off 2005 Video', 'My Wife, My Life 2020', 'Caught in Between 2018', 'Dirty Ambition 2021', 'Nneoma 2022', 'Take Me to Maama 2002 Video', 'Fun Time 2002–2008', 'Robotic Heart 2023', 'Ogidigba 2021', 'Killing Eva 2022', 'Who Is Perfect 2023', 'True Betrayal 2019', 'Buried Alive 2 2003 Video', 'A Fool for Trust 2021', \"Don't Cry for Me 2015\", \"Eva's Love Story 2022\", \"Ikenna's Trial 2023\", 'Hikima 2021', 'Mary Slessor 2008– ', 'Ekun Iyawo 2022', 'Olukoti 2022', 'Slow Country 2017', 'Royal Madness 2009', 'Sistaz 2013', 'River of Tears 2008 Video', 'Insight II 2022', 'Secrets of the Gods 2022', 'Kòseégbé 1995 Video', 'Not Man Enough 2 2003 Video', 'Her: The Movie 2019', \"Don't Get Mad Get Even 2019\", 'Kill Fred 2021', 'The Mechanic 2021', 'Long Walk to Truth 2020', 'A Stab in the Neck 2022', '$1: One Dollar 2002 Video', '16th Anniversary 2017', 'Double Strings 2020', 'Sinister II 2022', \"Eagle's Bride 2005 Video\", 'Cash Daddy 2017', \"Ovy's Voice 2017\", 'Sarkin Barayi 2020', 'Jelili 2011', \"My Sister's Husband 2021\", 'Aiye 1980', 'The Changer II 2015', 'Situationship 2021', 'Discreet Affair 2023', 'Burning Coles 2022', 'Bakassi: The Lost Homeland 2022', 'The Fattening Room 2013', 'Unlocked III 2019', 'Show Bobo: The American Boys 2003 Video', 'Slow Poison 2003 Video', 'Small Thing 2021', 'Osun, the Goddess 2021', 'The Dreamers 2022– ', 'Old Cargos 2007 Video', 'Safe Secret 2021', 'Caged Heart 2017 TV Movie', 'When Life Happens 2020', 'Plight 2020', 'The Incredible Father 2016', 'Olufunmi 2005 Video', 'Dirt 2019', 'Bliss and Blisters 2022', 'Living with you ', 'Pay Day 2 2006 Video', \"Fools' Day 2021\", 'Open Marriage 2015', 'The Donor 2021', 'The Chosen One 2003 Video', 'The Last Wish I 2022', 'Shattered heart 2022 TV Movie', 'All Out of Love 2021', 'Aridunnu oko 2007 Video', 'Perfect II 2017', 'Return of the Ghost 2006 Video', 'Beauty in the Broken 2019', 'The Debt I', 'African Tales 2009 Video', 'Missing IV 2021', 'Atlanta 2004 Video', 'Stalker XIV 2016', 'Body Language II 2017', 'Arsenal 2004 Video', 'A Few Good Men 2014', 'Untitled Akin Omotoso/Netflix Project ', 'Insensible ', 'Break the Silence 2016', 'Step Family 2023', 'The Hunter 2023', 'Most Wanted II 1998 Video', 'Hard Choice 2022', 'Spyro Feat. Tiwa Savage: Who is your Guy? Remix 2023 Music Video', 'The Stand Up 2022', 'African Movie Channel Original Production - Clandestine 2019', 'Honeymoon Palava 2021', 'Forever Yours 2003 Video', \"Hell's Candidate 2021\", 'You, Me and the Guys 2017', 'Osuwon eda 2006 Video', 'Love Unusual 2021', 'Unbreakable Affair 2 2006 Video', 'Wutar Kara 2019', 'Only Love 2 2005 Video', 'Stay-at-Home Dad 2021', 'Itohan 2002 Video', 'An Honest Deception 2022', 'The Hookup II 2022', 'Oganigwe 1999 Video', 'Face of Africa 2 2005 Video', 'Flatus 2022', 'Ask Gina 2020', 'Save My Love 2010 Video', 'Shadow in the Mirror 2016', 'Speak the Word 2006 Video', 'Captain 2 2006 Video', 'The Longest Fifteen Minutes 2019', 'Iyekan 2022', 'Blood Billionaires 2005 Video', 'Everything I Have 2021', 'Alase aye 2006 Video', 'Mr Ibu 2 2004 Video', 'Jump and Pass 2014', 'For the Dead 2023', \"Vampire's Call 2005 Video\", 'Emotional Pain 2003', 'Countdown II 2017', 'The Space Between III 2019', 'Dorathy My Love 2 2005 Video', 'The Mad Man I Love 2015', 'Keeping My Man 2013', 'Aba Riot 1999 Video', 'Young Sin 2022', 'Hatred 2 2001 Video', 'For Better for Trouble 2021', 'Last Kobo 2006 Video', 'Sweet Love 2004 Video', '15 Years of Slavery 2015', 'Happy Ending II 2016', 'Kids Are Angry 2001', 'Untamed 2021', 'Love Across 2021', 'Unequivocal Love 2023', 'The Call IV 2019', 'Mr. Lecturer 2022 TV Movie', \"Happy Father's Day 2016\", 'The Web 2023', 'Dirty Deal 1993 Video', 'Ologbo iya ijebu 2007 Video', 'The Devil in Her 2006 Video', 'Cold Heart 2023', 'Concession 2020', 'Undertow II 2021', 'Blood Rider 2020', 'Dilemma III 2022', 'Another Time II 2017', 'Squatterz 2012– ', 'Osama bin la 2002 Video', 'Charlie Charlie 2021', 'Still the One I Love 2023', 'Dear Father 2023', 'You Let Us In 2021', 'PLOYEtan 2021 TV Movie', 'Displaced III 2017', 'Total War 2007 Video', 'A Long Night II 2014', 'Jadon 2006 Video', 'Pains of Life 2017', 'Evil-Doers 2002 Video', 'Screening ', 'Dera 2020', 'You Broke My Heart 2003 Video', 'Fuska Biyu 2018', 'Choices III 2020', 'Hooligans 1999 Video', 'Depths of Despair 2021', 'Double Perfect Plan 2022 TV Movie', 'The Amazing Grace Church of God 2014', 'Tender Heart 2022', 'The Pattern 2022', 'Made in Heaven I 2019', 'Tough Love III 2018', 'Desperate Girl 2014', 'Lake of Fire 2004 Video', 'Every Single Day 2005 Video', 'Agbefo 2006 Video', 'Rebirth 2022', 'The Devil Lives Here 2016', 'Detty Thirty 2022', 'The Debt III 2021', 'Kiss Me Quick 1998 Video', 'Married but Living Single 2012', 'Naked Kingdom 2007 Video', 'Deadly Decision 2005 Video', 'Ere Oran 2022', 'Midnight III 2019', 'Black Bird II 2015', 'Holy Ghost Fire 2001 Video', 'OMAMBALA ', 'Chukora ', 'Lost to Lust 2 2005 Video', 'Black Monday 2019', 'A Family Affair 2022', '9 Wives 2005 Video', 'The State [Season 2] 2019', 'Accidental Affair 2019', 'Thicker Than Blood 2023', 'Echezona 2022', 'Mentally 2017', 'Mujadala 2018', 'Girls are not Smiling 2017', 'THE FAST LANE - Road to Dead End Part 2 2023', 'Seed of Love 2016', 'Abeni 2 2006 Video', 'A Test of Faith 2023', 'Sins of My Mother 2005 Video', 'The Guilty 2 2006 Video', 'The Other Wife 2022', 'Closed Chapter 2022', 'Love in Bondage 2002 Video', 'Jane Rambo Daughter of the Jungle 2018', 'World Apart 2 2004 Video', 'Oyato 2 2003 Video', 'Undercover III 2020', 'Dark Heart 2018', 'Chain Reaction 1999 Video', 'Dance with Peter 2015', 'Fair Game 2 2006 Video', \"Fool's Paradise 2 2015\", 'Palace War 2014', 'My Name Is Lama 2022', 'Wrong Con 2018', 'Playing Hearts 2023', 'A Star in Heaven 2016', 'Coker Close 2022– ', 'Transition 2022', 'Lagos Babes 2003 Video', 'Ifeonye metalu 2002 Video', 'A Little Favour 2022', 'Blood Bond 2022 TV Movie', 'When Love Beckons 2021', 'Oyinbo ', 'Moving On 2013 TV Movie', 'Life 101 2017– ', 'My Driver 2004 Video', 'Truth VIII 2019', 'Adia 2006', 'Omoge 2020', 'Mayowa 1999 Video', 'Maltina Dance All 2013– ', 'Wakili 2019', 'Back to Back 2 2004 Video', 'Shadowed Love 2023', 'Demon Inside 2018', 'Oga! Pastor 2019', 'Love & Affliction 2004 Video', 'Snatched 2022', 'The Chase X 2016', 'Consequences 2006 Video', 'I Think He Loves Me 2014', 'My Baby 2010', 'The Right Choice 2020', 'The Dreamer 2 2006 Video', 'The BlindSpot 2018', 'Monday Osunbor 2021', 'Wild Card I 2023', 'Fake Doctor 2 2002 Video', 'Secret Adventure 2005 Video', 'Disguise 2018', 'Tears for Nancy 2 2005 Video', 'Lagos Boys 2003 Video', 'The Novelist V 2016', 'Forever Mine 2021', 'Jaded Options 2020', 'Beyond Repair 2020', 'Sunday Ewenje 2021', \"Thick 'n' Thin 2023\", 'Celebrity Crash 2022', 'Hustle 2021', 'Duniya Makaranta 2016', 'Jalil 2020', 'Extreme Measure 2003 Video', 'Newly Married 2022', 'Omo Ghetto 2010', 'The Perfect Time 2021', 'Village Destroyers 2007 Video', 'Laws of the Heart 2022', 'Dry My Tears 2006 Video', 'Hidden Treasure 2008 Video', 'Forever Within Us 2015', 'Secret Pain 2 2007 Video', 'Young Masters 2006 Video', 'Osas Omoge Benin 2012', \"Mama's Love 2015\", 'Men in Trouble 2016', 'Descent 2017', 'Broken Glass II 2022', 'Test of Manhood 2 2005 Video', 'Sisi Eko 2021', 'Moving On IV 2022', 'The Altruist III 2020', 'Moments with Oma 2021– ', 'Terrible Sin 2 2001 Video', 'Flawed III 2019', 'Slave to Lust 2007 Video', 'Avenger 2021', 'Deep Water 2 2012 Video', 'Lost IX 2022', 'Zoza 2006 Video', 'The Price of Love 2: Life Is Beautiful 2005 Video', 'My Driver 2 2004 Video', 'Past Affliction 2022', 'Indecent Desire 2005 Video', 'Small Boy 2008', 'Tomorrow Must Wait 2008 Video', 'Kabiosi 2015', 'Mama, I Will Die for You 2004 Video', 'May 27 2022', \"Ehi's Bitters 2018\", 'Black Lake 2019', 'For My Girls 2017', 'Buried Alive 2003 Video', 'Love of My Life 2002 Video', 'Dognapped 2017', 'A Simple Letter 2016', 'Daughters of Chibok 2019', 'Treasury 2022', 'Heart Strokes 2023', 'Mr Badmus 2019– ', 'Head Gone 2014', 'House Boy Wanted 2021', 'Big Daddies 2 2004 Video', 'The Barber I 2022', 'Criminal Law 2006 Video', 'The Next Marriage 2022', 'Amadi 1975', 'Gidi Blues 2016', 'No Better, No Worse 2022', 'Mr Perfect 2022', 'African Soldier 2007 Video', 'Adesewa 2022 Music Video', 'Murder at the Bar 2022', 'Wars of the Fathers 2022', 'Blood Money 1997', 'Wo.Men Are Scum 2018', 'Final Point 2006 Video', 'Bustle 2021', 'Face of Greed 2021', 'One Good Turn 2005 Video', 'Twist of Fate 2007 Video', \"Daddy's Girl IV 2016\", 'Ìjé Love 2022', 'What the Heart Can Take 2023', 'Blood on the Altar 2 2006 Video', 'Hot Island 2009 Video', 'Desperate Love 2005 Video', 'Two Wrongs 2019', 'Intricate 2021', 'Country Love 2022', 'Another Bondage 2005 Video', 'Dada Safaris ', \"Oiza's Nexus 2021\", 'Temptress 2019', 'A Second Chance at Love 2022', \"The Hands You're Dealt 2022\", 'Domitilla II 1996', 'Grim 2021', 'Iyawo Mi My Wife ', 'Critical Decision 2004 Video', 'Brown Rang 2019 Video', 'The Compromise 2021', 'Silence XXX', 'Ayomi 2015', 'Ose Sango 1991', 'Daughters of the Throne 2021', 'Bless Me 2005 Video', 'Issakaba 4 2001 Video', 'Moving On II 2022', 'Marry Max Again 2018', 'Fincho 1957', 'Arusi-Iyi 1998 Video', 'Lying Game 2018', 'Hold Hands 2021', 'Murder Call 2019', 'Happenstance 2022', 'Accursed 2021', 'Heart at Random 2021', 'The Return 2003 Video', 'The Wolves 2006 Video', 'The Cleaner II 2020', 'Aisha II 2022', 'A Taste of Grief 2019 TV Movie', 'Lamba 2022', 'Miss-Understood 2021', 'The Palmist 2017', 'The End Is Near 2012 Video', 'My Desire 2004 Video', 'Idoti oju 2008 Video', 'White Chapel 2011 Video', 'The Ancestors 1962', 'Unforgetable 2 2003 Video', 'The Slave Husband 2019', 'Pages in Between 2019', 'Zainabu Abu 2021', 'MTV Base Presents: Inside Life with Erica 2021– ', 'Perfect Distraction 2022', 'Dan Marayan Zaki 2012', 'Throne of Terror 2018', 'Ekuro 2 2007 Video', 'Dons in Abuja 2004 Video', 'Power Must Change Hands 3 2006 Video', 'Things Men Do 2022', 'Beyond Reason 2004 Video', 'Laila Adam 2018', \"Can't Let Go 2008 Video\", 'The Past Came Calling 2012', 'In Pursuit of Pain 2023', 'Outkast 2001', 'Olugbeja Olorun 2021', 'Tainted Heart 2022', 'Boys from Holland 2006 Video', 'To be Again 2017', 'Kofo the First Lady 2014', 'Comrade 2008', 'Yogo Pam Pam 1998 Video', 'Mo 2017', 'Onye-Eze 2 2001 Video', 'Across the River 2 2006 Video', 'Lost But Found 2021', 'Lost to Lust 2005 Video', 'Blood Letters 2018', 'Vuga 2 2000 Video', 'In Her Shoes 2013', 'The Intervention 2017', 'Discontent 2017', 'Ba Ni Mud Clan 2022', 'The Enemy I Know 2019', 'Farayola 2009 Video', 'Head Trip 2021 TV Movie', 'Elastic Limit 2000 Video', 'Rudeboy: Reason with Me 2019 Music Video', 'Payback III 2021', 'Hauwa Kulu 2019', 'As Complicated 2020', 'Family circle 2023', 'Rude Awakening II 2020', 'Lumba Boys 2008 Video', 'Annie II 2020', 'Size 12 2019', 'Uneven 2020', 'Another Bondage 2 2005 Video', 'World of Lust 2014', 'Tears for Breast Milk 2013', 'Over the Fence 2018', 'Touching Love 2003 Video', 'Jumbled 2019', 'Voiceless Scream 2018', 'Single Ladies 2017– ', 'Wife Hunter 2018', 'One Fine Day 2015', 'The Screenplay III 2017', 'La bague du roi Koda 1962', 'Veno 2004 Video', 'Not Just Enough I 2021', 'Olola-Aginju 2022', 'Dying for Love 2003 Video', 'Jagbajantis Reloaded 2022', 'My Patient and I 2022', 'Line of Heart 2023', 'Kith & Kin 2022', 'Extreme Measure 2006 Video', 'Unintentional 2021', 'I Want Your Wife 2004 Video', 'Adaife 2019', 'Yankee Girls 2008 Video', 'Golden Spoon 2021', 'Two Hearts III 2011', 'Sacred Lies 3 2011 Video', 'Oh No! Santa 2022', 'Wiper 2020 TV Movie', 'Good News for Jennie ', 'Bent Arrows 2010', 'Destruction Key 2020– ', 'My School Mother 2 2005 Video', 'The Woman in Me 2004 Video', 'Demystified 2021', 'Ihuoma in Love 2022', 'Dead Rite 2019', 'Aki na ukwa 2 2003 Video', 'Innocent Father 2006 Video', 'Power of Justice 2007 Video', 'Dangerous Desire 2003 Video', 'Disjointed 2020', 'King of the Forest 2003 Video', 'Ripples of Pain 2018', 'Roses Are Red III 2021', 'The Apprentice Africa 2008– ', 'Baby Blues IV 2022', 'Mega City Rising ', 'Bridges 2019', 'The Corridors of Power 2005 Video', 'Grace VI 2020', 'Price of Deceit 2017', 'Dr Duncan 2018', 'Insight I 2022', 'The Coffin Salesman 2019', 'Death Warrant 2001 Video', 'Passions 2003 Video', 'Temple of Justice 2008 Video', 'One Crazy Night 2018', 'Love & Pain 2020', 'Maia II 2022', 'Half Broken Things 2022', 'Omo 2023', 'Black Elijah 2018', 'House of Doom 2007 Video', 'Mr & Mrs: Chapter Two 2017', 'Bumper to Bumper 2 2004 Video', 'Anunuebe 2003 Video', 'Stubborn Flies 2007 Video', 'A Night Alone 2023', \"Bella's Drift 2021\", 'No One But You 2004 Video', \"King's Guard 2018\", 'Slave Warrior: The Begining 2007 Video', 'Witchdoctor of the Livingdead 1985', 'Niniola 2022', 'Kaima 2019', \"Mimi's Voice 2021\", 'Silent Sound 2021', \"Governor's Wife 2007 Video\", 'Gidi Up 2013– ', 'Ajibade 2021', 'In Bed with the Pedros ', 'The Unknown 2022', 'Sade I 2019', 'Sauya kama 2008 Video', 'Love and a Crowd 2019', 'Temi ni tie ko 2004 Video', 'The Contract IV 2022', 'Fatal Deception 2022', 'Ben from Downstairs 2021', '2nd February 2022', 'Question Mark 2019', 'A Love Like This 2022', 'The Intern II 2019', 'Burna Boy: Common Person 2023 Music Video', 'Sunshine II 2018', 'Kamanni 2022', 'False Intention 2020', 'A Tale of Two Brothers 2019', 'You, Me, Us 2021', 'Aitokunrin ', 'The Confessor 2019', 'Beauty and the Beast 2 2008 Video', 'Expired Maiden 2018', 'A Million Baby 2017', 'Beyond Passion 2005 Video', 'Mr. Petty ', 'Enough VI 2020', 'Orun Mooru 1982', 'Celebrity Girlfriend 2021', 'Iwora 2022', 'WizKid: Made in Lagos Deluxe 2021 Music Video', 'My Sweet Sister 2006 Video', 'Afefeyeye 2022', 'Nerve Wreck 2021', 'The Pastor & Harlot 2002 Video', 'Days of Bondage 2005 Video', 'She Devil II 2019', 'Toko taya 2007 Video', 'Fight Till the End 2019', 'Scarlet Chance 2022', 'Elephant in the Room IV 2016', 'MBGN Most Beautiful Girl in Nigeria Pageant 2014 2014 TV Special', 'A Lady and Her Lover 2021', 'Èèkù-idà 2002 Video', 'Holy Cup 2003 Video', 'Pleasure and Crime 2010', 'Oga 2017', '37 to Go 2022', 'Okoro the Prince 2013', 'Royal Calabash 2019', 'Blind Stranger 2022', \"Yes I Don't 2016\", 'The Prince & the Princess 2 2005 Video', 'Sometime in July 2018', 'Runs: A Docudrama ', 'Render to Caesar 2014', 'Four Forty 2006 Video', 'Fati 2020', 'Bright Komla: Di Ghanaian Dancing Artist 2019', 'Lonely Nights II 2021', 'The Other 360 2020', 'Onyeegwu ', 'All Good Things 2021', 'Ebomisi 2018', 'All We Ever Wanted 2022', 'Final World Cup 2005 Video', \"Eff'd 2022\", 'The Storm 2016', 'Camp Out 9ja 2020– ', 'Itoro 2013', 'Forest of Tears 3 2009 Video', 'Royal Madness 2 2009', 'Fateful Love 2004 Video', 'Dawn of Thunder ', 'Evil Woman 2003 Video', 'Painted Lies 2014', 'Civil War 2003 Video', 'Super Hero 2005 Video', 'Emem and Angie 2017', 'Ummi Sambo 2019', 'Detour II 2021', 'What Happened on 3rd Street 2019', 'Lies Men Tell 1 & 2 2013 TV Movie', 'Agaba 2009', 'What Is Mine 2020', \"Devil's Angel 2022\", 'Jénífà 2008 Video', 'Singing Sin ', 'Our Date for Christmas 2021', 'Remember Me IX 2016', 'Invitation 2022', 'Fine Things 2 2007 Video', 'Where Money Sleep 2011 Video', 'Okun emi 2007 Video', 'Man Snatcher 2003 Video', 'Tyrant 2022', 'Gold Diggin 2014', 'Issakaba 2 2000 Video', 'Formidable Force 2002 Video', 'Mama V 2017', 'Escape 2004 Video', 'Dusk 2016', 'Mortal Inheritance 1996 Video', 'Basaja Gidan Yari 2016', 'Never Let Them Go 2021', 'Men on the Run 2006 Video', 'Divine Lies 2019', 'Passion & Pain 2003 Video', 'Not Her 2022', 'Mystic Ring 2007 Video', 'The Father III 2020', 'Chains I 2019', 'The Final List 2019', \"Heaven's Hell 2019\", 'Greedy Genius 2 2001 Video', 'Leading Lady 2018', 'Second Adam 2005 Video', 'Ifenkili 2021', 'Indemnity 2 2006 Video', 'Contract Wife 2019', 'Courtesy of Vengeance 2012', 'Kokomma 2012', \"Can't Let Go 2 2008 Video\", 'Gone Nine Months 2017', 'Ocean Deep 2007 Video', 'Broken XXIII 2013', 'Ogójì ojó Video', 'Lonely Princess 2011', 'Loving Rona 2021', 'Everything But a Ring 2021', \"Ay's Crib 2013–2015\", 'Dream Man 2022', \"The God's Bride 2022\", 'Mrs Everything 2023', 'Soul Provider 2003 Video', 'Living Positive 2019', 'Zan Rayu Dake 2019', 'Basaja 2013', 'Sacred Tradition 2005 Video', 'Tongue 2014', 'Blood on the Altar 2006 Video', 'Shadow of Self 2019', 'Second Adam 2 2005 Video', 'Boiling Point 2006 Video', 'Dogs Meeting 2004 Video', 'Black Night in South America 2007 Video', 'The Boy Is Good 1978', 'Third Avenue 2022– ', 'Oro idile 2007 Video', 'My Pride 2018', 'Kadara II 2022', 'Diva 2018', 'Wild heart 2022', 'Unspoken V 2016', 'The Begotten 2 2005 Video', \"Marcus 'D' Millionaire 2 2008 Video\", 'Dark Spotlight 2016', 'Finding Happiness 2018', 'Lost in the Jungle 2007 Video', 'Apartment 24 2015', 'Wòkè 2022', 'Akunne 2018', 'The Haunting Shadows 5 2005 Video', 'Imperfect Me 2018', 'The Price of Love 2003 Video', 'When the Lemons Come 2020', 'Chances 2019 TV Movie', 'Unforgotten III 2021', 'White Hunters 2010', 'Rising Above 2019', 'Scorned III 2017', \"A Barber's Wisdom 2001\", 'Desperate Search 2 2007 Video', 'Ex & Exes 2022', 'My Guy 1999 Video', 'A Greedy Heart 2022', 'Iyanga 2003 Video', 'Crying Angel 2005 Video', 'What a Weekend 2021', 'Untouched IV 2021', 'First Choice 2021', 'Unloved 2022', 'Incision 2022', 'Price of Hatred 2004 Video', 'Letters to a Stranger 2007', 'Four Wives and a Mistress 2019', 'Poor Billionaire 2019', 'Where Oceans Touch 2008 Video', 'The MiddleMen 2015', 'Tiger King 2008 Video', 'Ghost Worker ', 'Love, Lies and Murder 2009 Video', 'Fate Whisper 2023', 'Show Girls: Face of Africa 3 2006 Video', 'Two Steps 2022', 'Kingdom of Men 2008 Video', 'Zikora 2020', 'The Fracture 2020', 'Misconception II 2016', 'Residue I', 'Special Friends 2022', 'Baby Police 2 2003 Video', 'Love, Hate & Ketchup 2016', 'Anikura 1982', 'My Best Years 2022', 'The Journey of the S 2020', \"Our President's Money 2022\", 'Michelle 2017', 'What the Heart Sees 2022', 'Market Sellers 2003 Video', 'Ti Ala Ba Ku 2005 Video', 'Memories of My Heart 2011', \"Power to Africa: President Obama's 2013 Visit 2013 TV Special\", 'Agbede ogun 2005 Video', 'Bloody Ring 2014', 'Beauty of the Mind 2014', 'Noxious Affair 2021', 'The Fashion Shock Show 2018– ', 'The Miracle Centre 2020', 'Conversations in Transit ', 'Dear Diary I 2022', 'Sai Wata Rana 2010', 'Silent Night 3 1996 Video', 'Getting Over Him 2018', 'Love Gone Sour 2018', 'Iku Alhaji 2021', 'The Unwanted 2017', 'Red Drive 2022', 'Black Dove 2021', 'Adeda 2021', 'Roti II 2017', 'God, Ghosts & Sacrifices: The Reality of Voodoo in Africa 2022', 'Roli and Zehra 2021', '840 Days 2022', 'Fire IV 2021', 'Love Child 2020', 'Amuma 2015', 'Honey, Meet Somto 2021', 'Relentless 2010', 'Veil of Silence 2014', 'The Reunion VI 2019', 'Colours of Emotion 2 2005 Video', 'Stand by Me 2022', \"Bi a se b'eru 2007 Video\", 'The Good Wife 2015', 'Twice Shy 2022', 'Transit IX', 'Closer VI 2018', 'Obsessively Kate 2023', 'Test of Manhood 2005 Video', 'Heaven Baby 2020', 'Drowning V 2018', 'Coat of Alms 2021', 'Fine Girl 2015', 'Who Lived at Number 6 2021', 'Blood Ties III 2022', 'Paradise 2 2004 Video', 'My Soulmate 2019', 'A Fight with Shadow 2021', 'Final Whistle 2000 Video', 'Jasmine 2019', 'Just a Sin 2021', 'Abuja Connection 2003 Video', 'Inheritance XII 2019', 'The Wrong Guest 2017', 'Onunaeyi: Seeds of Bondage 2003 Video', 'Divided Heart 2006 Video', 'Point Zero 2021', \"Aropin N'Tenia 1982\", 'Unlove Me 2018', 'When God Says Yes 2003 Video', 'Done with You 2019', \"Oge's Sister 2014\", 'No More Secret 2020', 'Goat Lover 2011 Video', 'Stroke of Luck I 2019', 'Unstoppable 2 2010 Video', 'The Prince and Me 2 2006 Video', 'Silent Echoes: Female Genital Mutilation 2017', 'Lions Den 2007 Video', 'Being in Nollywood 2022 TV Special', 'Treasure V 2017', 'Dapo Junior 2000 Video', 'Evil Desire 2006 Video', 'Children of Terror 1998 Video', 'Spirit of Love 2 2006 Video', 'In a Lifetime ', 'Royal Reward 2 2008 Video', 'Homecoming XI 2019', 'The Rise and Fall of Dr. Oyenuzi 1977', 'Obidike 2022', 'Bariga Boy 2009', 'Light Out 2 2006 Video', 'Mirror of Love 2021', 'Koto Orun 1989 Video', 'Two Bad Boys 2003 Video', 'One Call Away 2022', 'Beautiful Monster I 2014', 'I Swear 2004 Video', 'Who Will Tell the President 2 2007 Video', 'This Time Around II 2022', 'Naked Lies 2018', 'IDIA: The Idah War 2017', 'Lockdown III 2019', 'Connected Firm 2006 Video', 'Omo inu oku 2001 Video', 'Faded Lines 2020', 'Okobo dimeji 2008 Video', 'End Point 2005 Video', 'Golo 2021', 'Gidi High Life 2019', 'Ex with Benefits 2021', \"Sister's Love 3 2008 Video\", 'Swimming in a Sea of Trauma 2022', 'The Hostage II 2019', 'Unexpected II 2022', 'Sunny My Son 2007 Video', 'Bastard Son of a Thousand Fathers 2016', \"Fil'azal 2005 Video\", 'Zero Hour II 2018', 'Feels Like Heaven 2019', 'Baby Steps 2019', 'Visitor 1999 Video', 'Agaracha the Lioness 2016', \"Let's Cook Nigerian Food 2020– \", 'Colourless 2016', 'By His Grace 2003 Video', 'Mr. Perfect 2018', 'Narrow Escape 1999 Video', 'Angel of My Life 2007 Video', 'Live to Remember 2008 Video', 'Quagmire 2019', 'Unfriendly Friends 2022', 'Open Secret 2021', 'Nucleus 2021', 'Money Power 1984', 'To Love a Thief 2003 Video', 'Kadara Mi 2004 Video', 'Spite 2022', 'Benson Ville 2017 Video', 'Chicken Madness 2006 Video', 'Ila owo 2009 Video', 'Before the Sunrise 2005 Video', 'Desperate Housegirls 2013', 'Wild Wild Bayo 2021', 'Ghetto Bred 2018', 'Wurukum Roundabout 2017', 'The Barons 2005 Video', 'Poll 2019', 'Breath Again 2 2006 Video', 'The Real Side Chics 2017', 'Lions Den 2 2007 Video', 'Love Story 2005 Video', 'Ladies Gang 2011 Video', 'Run XIII 2019', \"'U' General 2 2006 Video\", 'The Cock-Tale 2020', 'Fatal Attraction 2020', 'Afia Attack: Trading Behind Enemy Line 2017', 'Tears of a Prince 2009 Video', 'The Williams 2018', 'The Wedding Plan 2022', 'Where We Started 2021', 'Two for Inheritance ', 'Heart of a Father 2014', 'Money and Blood 2022', 'Mission to Africa 2003 Video', 'Miserable Wealth 2003 Video', 'Love Gone Mad 2022', 'Nigerian Girls 2009 Video', 'Misdeed 2021', 'Terrible Sin 2001 Video', 'Merry Go Wrong ', 'On the Real 2016– ', 'Akwai Dalili 2016', 'Secret Act 2014', 'Apaye 2014', 'Good Citizen 2020', 'Project Fame West Africa 2008', 'The Ploy 2021', 'Real Fake Friends 2023', 'Lacrima 2006 Video', 'Bad Market 2017', 'Couple Rivalry 2022', \"Widow's Desire 2021\", 'Bottom of My Heart 2008 Video', 'Big Boys Club 2004 Video', 'Lekki on Arrival 2020', 'Unveil 2017', 'Dice II 2021', 'Bad Drop 2015', 'Married To The Game - MTTG 2014–2015', \"Now That We're Married 2023\", 'Endless Night 2006 Video', 'Comfort Me 2022', 'Brutal Decision 2021', 'Nne ', 'Customer Care 2021', 'Festival of Fire 2002', 'Reversal II 2022', 'Brain Box 2 2006 Video', \"The King's Son 2005 Video\", 'Edge of Time 2022', 'Sacred Lies 2 2011 Video', 'Strong Men at Work 2007 Video', 'Customer Service 2023', 'Fusion II 2016', 'Stigma 2022', 'The Stolen Bible 2 2004 Video', 'Restless II 2021', 'Dark Secret 2 2004 Video', 'Ukwa 2 1995 Video', 'Kamal 2022', 'Final War 2007 Video', 'Yellow Fever 2015', 'Sins of My Mother 2 2005 Video', 'Èebúdolá tèmi 2006 Video', 'Iman 2016', 'The Pitch VI 2019', 'No Where to Run 2006 Video', 'Kingdom on Earth 2012', 'Honeymoon Hotel 2004 Video', 'Big Daddies 2004 Video', 'Red Flame 2020', 'Cloud Nine 2022', 'Benita 1999', 'Cain & Abel 2007 Video', 'Temidun 2005 Video', 'Weeping Soul 2 2011 Video', 'Prayers for Nina 2022', 'Hidden Wound 2022', 'Wisdom and Riches 2002 Video', 'The Third Wheel 2022', 'Èsè 2007 Video', 'Deadline 2014–2015', 'Cover Up 2 2007 Video', 'Ladies Gang 2 2011 Video', 'The Python 2003 Video', 'Iyawo asiko 2006 Video', 'Flying Without Wings 2 2005 Video', 'Afua 2021', 'Life Incidence 2 2008 Video', 'Alakada 2009', 'Broken Embrace 2019', 'Ile aje 2006 Video', 'Save the Baby 2005 Video', 'Kiss and Tell 2018', 'Karamin sani 2020', 'Red Flag II 2021', 'A Second Time 2004', 'Would You Still Love Me 2016 Video', 'Sergeant Tutu 2017', 'Done & Dusted: Ep 2022 Video', 'The Prince 2 2005 Video', 'My Mama Na Ashawo 2022', 'Yankee Girls 2 2008 Video', 'Morning After Dark 2014', 'The New Patriots 2021', 'Desperate Ambition 2 2006 Video', 'Game of Chess 2019', 'Golden Moon 2005 Video', 'Heartless 1999', 'Crown King 2022', 'The Underworld 2 2005 Video', 'Mountains of Evil 2007 Video', 'Virgins Night Out 2004 Video', 'Broken Edge 2004 Video', 'Jarumai 2 2006 Video', 'Wrong But Found 2021', 'Before Ordination 2006 Video', 'Mofe Ni Mofe 2021', 'The Code 2011 Video', 'Deadly Desire 2004 Video', 'A Lot Like Love 2018', 'Karishika 2 1996 Video', 'Everybody Wants Alvin 2022', 'War Game 2 2006 Video', 'Traditional Marriage 2003 Video', 'The Campus Queen 2004 Video', 'Owuama, a New Year Festival 1973', 'Mortuary Gate 2014', 'Farin Dare 2013', 'Shackles of Death 2005 Video', 'Irreplaceable II 2020', 'Dangerous Twins 2 2004 Video', 'Biological Clock 2018', 'Sleeping with the Enemy 2004 Video', 'The Trusted 2022', 'More Than a Moment 2020', 'Aristos 2003 Video', 'Crux II 2019', 'Years of Tears 2005 Video', 'Rings of Fire 2 2005 Video', 'Osas 2023', 'Desire 2 2008 Video', 'Crave for Love 2021', 'Beauty and the Beast 3 2008 Video', 'THE FAST LANE - Hunt for Gold Mine Part 1 2023', 'Fast Cash 2016', 'Issakaba 3 2001 Video', 'Raging Tigers 2008 Video', 'Almost Perfect 2019', 'Forever 1997 Video', 'Unbreak 2018', 'Holy Cross 2006 Video', 'Days of Tears 2017', 'Sade Blade 2005 Video', 'The Code 2 2011 Video', 'Emela 2020', 'My Ex 2022', 'Darkest Night 2 2005 Video', 'The Intruder 2 2003 Video', 'Trump Card 2021', 'Unconventional I 2021', \"Bino and Fino: Mama Mama's Soup 2014 Video\", 'My Fantasy 2010 Video', 'The Other Wife 2018', 'Husband and Wife 2003 Video', 'Asawana 2017', 'Inside Life II 2022', 'Family Battle 2005 Video', 'Backline 2019', 'Akpe: Return of the Beast 2020', 'New Jerusalem 2008', 'Aare Agbaye 1983', 'Silent Murder 2021', 'The Vulture 2002 Video', 'Wheel of Change 2005 Video', 'Treachery 2017', 'Bandits 2018', 'Second Chance VI 2020', 'Lost Pride 2015', 'Sacred Blood 2006 Video', \"Cindy's Notes 2008\", 'Spanner Goes to Jail 2004 Video', 'The Barrister 2006 Video', 'Lovebirds II 2018', 'Ana Dara Ga Dare 2019', 'Desperate Sisters 2015', 'Range Rover Babes 2 2014', 'More Than Gold 2005 Video', 'Virgin Bride 2016', 'Besieged 2021', 'Zainab 1982', 'Small Talks 2022', 'In Love and Ashes 2018', 'Never End 2005 Video', 'Brave 2014', 'Perfect Union 2014 TV Movie', 'Eri Ife 2022', 'Third Parties 2022', 'Vengeance of the Cult 1984', \"Naomi's Crucible 2021\", 'Dawn 2014–2015', 'Bleeding Love 2 2003 Video', 'Final Whistle 2 2000 Video', 'Dance to My Beat 2017', 'Back Drop 2 2005 Video', 'Ijeuwa 2022', 'King Akubueze 2014', 'Boulos 80 1982', 'Pebbles of Love 2017', 'Mr & Mrs Posh 2018', 'I am Nazzy 2022', 'Mr. Not So Perfect 2017', 'When the Heart Lies 2008', 'Esìn 2021', 'The Mismatched 2021', 'Village Boys 2 2005 Video', 'Gone Blank 2023', 'Romantic Attraction 2003 Video', 'Private Sin 2003 Video', 'Truly Deeply Madly 2021', 'Aristos 2 2003 Video', 'Moment of Truth 2 2005 Video', 'Car Wash Ladies 2022', 'Polygamy 2: The Final Clash 2002', 'Day of Reconciliation 2003 Video', 'Angels Forever 2 2006 Video', 'Deadly Plot 2012', 'Rescue 2003 Video', 'Everything It Takes 2021', 'Christmas Is Coming 2017', 'Bakon Yanayi 2019', 'Last Weekend 2003 Video', 'Angels of Destiny 2006 Video', 'Obey 2019', 'Dangerous Twins 3 2004 Video', 'The Man Between Us 2021', 'Handicapped 2020', 'Who Wants to Be a Millionaire? 2004– ', 'Kakatu 2022', 'Warriors of Satan 2007 Video', 'Ordinary Couple 2019', 'The Captor 2006 Video', 'Put a Ring on It 2017', 'Muujija 2008 Video', 'Husband My Foot 2008 Video', 'A Place Called Forward 2022', 'Family Crisis 2003 Video', 'More Than a Woman 2 2004 Video', 'Ofeke 2003', 'Return of the Ghost 2 2006 Video', 'Risky Affair 2004 Video', 'Pappu 2016', \"Suru l' ere Patience Pays 2016\", 'Betrayal III 2016', 'Filth 2016', 'Love & Hustle 2022– ', 'Feudal Crossroads 2021', 'Fadùn sáyémi 2006 Video', 'King of Kings 2009 Video', 'Where Money Never Sleep 2 2011 Video', 'Survival III 2021', 'Stand by Me 2004 Video', 'Ngozi: Abeg Marry Us 2003 Video', 'Too Much Money 2005 Video', 'A Call from the Past 2019', 'Sophia VIII 2018', 'Death Bed 2019', 'When Night Is Falling 2019', 'The Good Samaritan 2 2004 Video', 'Campus Girls 2004 Video', 'Only in America 2005', 'Room Mate 2022', 'Lonely Heart 2005 Video', 'The MatchMaker 2015', 'Demon In-Law 2006 Video', 'Zauren Musica 2017– ', 'Omera 2019', 'Peonage 2022', 'Ìrètí 2016', \"After Kaduna's Coup 2017\", 'Love & Pride 2004 Video', 'The Bridge II 2016– ', 'End of Money 2005 Video', 'Ordinary Fellows 2019', 'My Home Ile Mi 2022', 'Fools in Love 2005 Video', 'Aftermath VIII 2017', 'Desperate Women 2006 Video', 'Matters Arising 2014', 'Julie the Love Child 2021– ', 'Birthing Pains 2022', 'Felicima: One Gift 2009', 'Kill the Impostor 2022', 'Unfriendly 2022', 'Adura Mi 2022', 'Sacred Lies 2011 Video', 'Fanan 2021', 'Next Door Neighbour 2007 Video', 'One Way 2021', 'Old Testament 2 2007 Video', 'Sleep Away 2021', 'Zafi 2021', 'Becoming Dani 2022 TV Movie', 'Òréré layé 2009 Video', 'Kadara Mi 2 2004 Video', 'Twist of Fate 2 2007 Video', 'Battle of Musanga 2 1996 Video', 'Expect the Unexpected ', 'Moth to a Flame 2016', 'Virgins Night Out 2 2004 Video', 'After the Promise 2005 Video', 'The Last Seven ', 'Ticket to Life 2022', 'School Dropouts 2003 Video', 'Django 2005 Video', 'Fraud INC. 2020 TV Movie', 'The Missing I 2017', 'Spoiler 2005 Video', 'Malice 2020', 'Murder at Prime Suites 2013 TV Movie', 'Easy Money I 2020', 'Queen of the Sun 2018', 'Jewels of the Sun 2 2011 Video', 'Itoro the House Girl 2014', 'Bafana Bafana 2007 Video', 'Unbroken Promise 2004 Video', 'Replacing You 2021', 'Honey 2 2003 Video', 'Doll House 2015', 'Ayaka 2016', 'Heart of Gold I 2019', 'Village Boys 2005 Video', 'Take Me Home 2 2007 Video', 'Atlas I 2017', 'A Better Family 2018', \"Brother's Keeper VI 2014\", 'Saviour 2 2006 Video', 'Dawn at Midnight 2022', 'Be 4 the Vow 2006 Video', 'King of Boys Abattoir of Makoko 2015', 'Common Sense 2005 Video', 'Olo 2008 Video', 'Family Regardless 2022', 'Love and Shadow 2018', 'The Broken Plate 2004 Video', 'The Return of Ogidi 2008 Video', 'Sound of Love 2 2006 Video', 'Paranoia IV 2018', \"Mother's Help 2003 Video\", 'King Invincible 2017', 'Across the Niger 2004 Video', 'All My Heart 2005 Video', 'Diana II 2018', \"The Choirmaster's Wife 2021\", 'Iran Mi 2020', 'The Great Priest 2 2007 Video', \"Devil's Workshop 2007 Video\", 'Satisfy Me 2021', 'Side Chick 2017 TV Movie', 'Ola... the Morning Sun 2005 Video', 'Missing Rib 2007 Video', 'Unmasked III 2018', 'Sunny My Son 2 2007 Video', 'Yaki a Soyayya 2018', 'Inside Job I 2005 Video', 'Adesuwa 2012', 'His Last Action 2 2008 Video', 'Time to Kill 2001 Video', 'Schemers 2: Bad Babes 2004 Video', 'The Baby Sitters 2019', 'Kinni Igbeyawo 2020', 'The Signs of Endtime 2 2007 Video', 'Abuja Top Ladies 2006 Video', 'Shades of Attraction 2021– ', 'Executioner 2019', \"Mama's Big Stick 2022\", 'Nisan Kwana 2019', 'Sakobi 2: The Final Battle 1998 Video', 'Forgive Me Father 2009 Video', 'Denial III 2021', 'Heart of a Widow 2 2011 Video', 'Least Expected 2019', 'Titanic Battle 2007 Video', 'Red Hot 2004 Video', 'Sack Letter 2019', 'Haywire 2023', 'Azima 2 2005 Video', 'Tommy & Kenny 2019', 'Orí 2004 Video', 'In Our Trap 2017', 'Love boat 2022', 'Halacci 2015', 'Forever Yours 2 2003 Video', 'Omalinze 2005 Video', 'A Case of Free Will 2017', 'To Love, to Forget 2021', 'Ti oluwa ni ile 2 1993 Video', 'The Promise III 2022', 'Unbreakable II 2019', 'The Mighty One 2 2007 Video', 'To Love Again 2018', 'Gallant Babes 2011 Video', 'Long Shadow 2019', 'Crying Freeman 2012', 'A Thousand Ways to Break a Cheating Man 2020', 'Hierarchy of Evil ', 'Price of Ignorance 2005 Video', 'Crazy Passion 2005 Video', 'Purple Story ', 'Alakada 2 2013', 'Reflections IV 2021', 'The Little Things that Matter 2020', 'Under the Carpet 2021', 'Test of Love 2022', 'Blind Love 2022', 'A Bitter Pill 2021', 'Consequences 2 2006 Video', 'A New Era 2020– ', 'Rust 2020', 'Who Is the Perp? 2022', 'Co Tenants 2022', 'Cry Baby 2006 Video', 'Lost in Thought 2013', 'Silent Scandal 2009 Video', \"Sister's Plot 2020\", 'Church on Fire 2008 Video', 'Golden Heart 2007 Video', 'Attitude 2015', 'Chelsea/Liverpool 2 2006 Video', 'My Last Ambition 2009 Video', 'Cold Dish 2019', 'A Certain Night 2014', 'Karshen tika tiki 2020', 'Apesin 2006 Video', 'Ruthless V 2018', 'Omo Elemosho 2013', 'No 1 2021', \"Lily's new Friend 2020 Video\", 'Last Request 2019', 'Foul Play 2004 Video', 'You Me Maybe 2017', 'Unpredictables 2022', 'Nkan adun 2008 Video', 'Chimezie 2020', 'City of Kings 2006 Video', 'Trust VII 2021', 'Our Husband 2017', 'Relatives 2017– ', 'Village Rascals 2012 Video', 'Endless Lies 2 2005 Video', 'Save the Princess 2022', 'Alkibla 2017', 'Social Media 101 2019', 'The Perfect Picture 2020', 'My First Love 2 2004 Video', 'Total Control 2006 Video', 'Fated I 2005', 'Memories Unforgotten 2022', 'Oil Doom 1981', 'Royal Covenant 2 2008 Video', 'Kakanfo 2020', 'Accidental Discharge 2003 Video', 'Cry of a Witch 2013', 'Love 2003 Video', 'My Promise 2006 Video', 'Cooked Up Love 2018', '5 is Company 2021', 'All That Glitters 2022', 'Accident 2013', 'Power of Love 2 2002 Video', 'Smoke & Mirrors 2008', 'The Culprit 2019', 'The Girl Is Mine 2 2005 Video', 'Speak the Word 2 2006 Video', \"Cupid's Arrow 2020\", 'Clean Up 2003 Video', 'Tales of Eve: Thanks for Coming 2015', 'Just perfect murder 2022', 'You Who I Called Sister 2022', 'Loving Daniella 2019', 'Never Say Goodbye 2003 Video', 'The Prince & the Princess 2005 Video', 'Ago Alaago 2021', 'Jealous Lovers 2003 Video', 'Narrow Escape 2 1999 Video', 'Khusufi 2003', 'Otelemuye 2005 Video', 'Queen 2004 Video', 'Oosha Aje 2021', 'Fight for Peace 2015', 'The Staff of Odo 2 2004 Video', 'Ayo ni mo fe 2 1994 Video', 'Chatroom 2022', 'Sleek Ladies 2007 Video', 'Ewe koko 2006 Video', 'My Girl 2002 Video', 'We Time 2023', 'Trust Issues III 2019', 'The Weeping Tiger 2007 Video', 'Forbidden Choice 2014', 'Classroom Love 2017', 'Nkiru! 2017', 'In My Head II 2022', 'Unscripted 2022', 'Rip-Off 2 2005 Video', 'Makaddari 2000 Video', 'Halimatus Sadiya 2019', 'One Good Night 2022', 'World of Commotion 2007 Video', 'Games Men Play 2006 Video', 'Okun ife 2 2004 Video', 'The Fourth Party 2021', 'King of the Town 2006 Video', 'Guest of the Woods 2022', 'Foreign Affairs 2 2004 Video', 'Love and Family 2022', 'Chief Karma 2018', 'The Chosen One 2 2003 Video', 'Game of Fate 2022', 'Pain and Beyond 2022', 'The Good Husband 2020', 'Indebted 2022', 'Nnenda 2009', 'Dream Again 2005 Video', 'Entwined 2022', 'Miracle 2 2002 Video', 'Men Do Cry 2005 Video', 'Escape Route 2019', 'Kannakanna 1985', 'A Break From Reality 2018', 'At Your Service 2017', 'My Big Nigerian Wedding 2014 TV Movie', 'Pride of a Woman 2007 Video', 'Aso Ebi 2016–2017', 'The Living Ghost 2014', 'Descendants of the Earth 2020', 'Chiké Feat. Flavour: Hard to Find 2022 Music Video', 'Victims 2017', 'Broken Tears 2008 Video', 'Eyin Oka 2 2004 Video', 'Luckily Unfortunate 2022', 'Code Wilo 2019', 'In the Name of Trust 2016', 'Funeral Arrangement 2021', 'Strangers V 2017', 'Efficacy 2006 Video', 'Indulgence 2022', 'Child Not Bride 2016', 'Circle of Tears 2004 Video', 'St Mary 2014', 'Tear Away 2022', 'Prophet Nebu 2016', 'Strange Sisters 2020', 'Negative Influence 2014', 'Alasepe 2022', 'Not with My Daughter 2002 Video', 'She Devil 2001 Video', 'Boiling Point II 2021', 'Passion of Mind 2 2004 Video', 'Tempted 2017', 'Diary of a Lagos Girl 2016', 'Mercy V 2021', 'Without Apology 2006 Video', 'Love Me Blind 2021', '11:45... Too Late 2005 Video', 'The Missing God 2016', 'Fear of a Woman 2016', 'Saved by Love 2017', 'Living in Tears 2005 Video', 'Umar Sanda 2016', 'The Road Not Taken II 2017', 'Two Idiots 2021', 'Forever 2 1997 Video', 'Tender Lies 2019', 'Mothers Cry 2001 Video', '50 Days After 2023', 'Matar Mutum 2019', 'Royal Family 2004 Video', 'Hell Cat 2019', 'The Lost Son 2 2006 Video', 'Deep State 2022', 'And the Winner Is... 2019', 'Return of the Ring 2013', 'This Land of Ours 2017', 'Love Is a Prank 2016', 'Dinning with a Long Spoon 2014', 'Silent for Life 2004 Video', 'Queen of My Heart 2005 Video', 'Guiding Light 2022', 'Wazuna 2018', 'Okwu na uka 2002 Video', 'Political Control 3 2006 Video', 'Queen Sheba 2003 Video', 'Ghetto Love 2003 Video', 'After Dawn 2005 Video', '5th Floor 2017', 'Persecution 2 2007 Video', \"Dise's Secret 2015 TV Movie\", 'Captain 2006 Video', 'Jand Hustle 2013', 'Hand of Fate 2 2012 Video', 'Against the World 2003 Video', 'Deceit of the Gods 2008 Video', 'The Bull in the Hacker 2020', 'The Patient 2020', 'Ayomida 2003 Video', 'Maje npasan 2008 Video', 'My Turn 2003 Video', 'Extra Time 2 2005 Video', 'Lipstick III 2016', \"Hunter's Son 2022\", 'The Cartel 2004 Video', 'Lean on Me 2003 Video', 'Orodena the Great One ', 'The Crazy Stupid Lover 2020', 'My Heart Your Home 2 2006 Video', 'Asoko peye 2008 Video', 'Nupe Mascarade 1972', 'Amma II 2021', \"Don't Fight It 2016\", 'Love or Death 2022', 'Seized II 2020', 'Dark Secret 2004 Video', 'Total Crisis 2006 Video', 'No More War 2005 Video', 'My Horny Wife Pt 1 2019', 'Another New Day 2 2005 Video', 'Dorathy 2022', 'Ejika 2008 Video', 'April II 2022', 'Next Door Neighbour 2 2007 Video', 'Fatal Seduction 2006 Video', 'Lagidigba 2000 Video', 'Sunrise 2002 Video', 'Atlanta 2 2004 Video', 'The Hot Donor 2021', 'Your Nigeria Home 2020– ', 'Passionate Appeal 2 2006 Video', 'Porbeni 2021', 'The Dance Movie Project 2016', 'Omotolani 2022', \"Madam's P.A 2017\", 'Behind the Plot 2006 Video', 'Oil Village 2001 Video', 'Drifted 2019', 'Question Unanswered 2017', 'Ladepo Omo Adanwo 2005 Video', 'Eewo orisa 2007 Video', 'Naked Kingdom 2 2007 Video', 'Austerity 2020', 'Imado 2005 Video', \"Don't Break My Home 2022\", 'Last Kobo 2 2006 Video', 'Never Comeback 2001 Video', 'A Mile from Home 2013', 'Spanner 2 2002 Video', 'Kendra 2021', 'Ito funfun 2 2004 Video', 'Princess Natasha 2015', 'Playing Games 2 2004 Video', 'Ògédé Didùn 2003 Video', 'Grapes 2021', 'Traditional Marriage 2 2003 Video', 'Palace Slave 2 2010 Video', 'A Kiss from Rose 2 2004 Video', 'Orange Groove 2005 Video', 'The Housewife 2018', 'Misguided II 2019', 'Tomorrow Lives Again 2006 Video', 'Royal Covenant 2008 Video', 'Princess of Wealth 2 2005 Video', 'Maimuna 2020', 'Brother IV 2021', 'Goodbye V 2020', 'Legacy 2004 Video', 'Àkóbí gómìnà 2 2002 Video', 'Sankofa II 2020', 'Dangerous Twist 2020', 'Ak-47 Wanted 2 2006 Video', 'The Cab Ladies 2021', 'The Posh Girl 2019', 'A Dream Called Death 2020', 'Osariemen 2023', 'Kosorogun 2002 Video', 'Destination Barbados 1994 Video', 'Tip of the Edge 2020', 'Fools in Love 2 2005 Video', 'Omo olè 2004 Video', 'Tyrone 2022', 'Vivre 1974', '5 & 6 2004 Video', 'Love in the Mix 2022', 'My Name Is A-Zed 2020– ', 'Blood on Ice 2 2006 Video', 'Loved by You 2022', 'Spirit of a Prophet 2007 Video', 'Across the River 2006 Video', 'Marital Bruise 2018', 'Broken Chakkels 2017', 'Diamond Ring 2 1998 Video', 'Occultic Kingdom 2 2005 Video', 'The Other Marriage 2022', 'Lasting Love 2007 Video', 'Blood on the Altar 4 2006 Video', 'Las Gidi Vice 2018', 'Big Man... Big Trouble 1999 Video', 'The Therapist III 2020', 'Floating Feelings 2 2005 Video', 'Negative Influence 2 2014', 'Total Crisis 2 2006 Video', 'A Walk on Water 2021', 'A.Jay 2022', 'Bandit Queen 2 2005 Video', 'Pay Back 2014', 'A Death Wish 2019', 'Cycle of Poverty 2022', 'Man Up 2020', \"50 years of conquering Cerebral Palsy: Chi Chi Iro's story 2017\", 'Adun ewuro 2 2006 Video', 'Queen of the Night II 2021', 'Fate 2020', 'Ex-Husband 2019', 'Last Wedding 2 2004 Video', 'Bitter Honey 2022', 'Stood Up 2022', '960 sm 2013', 'Aware 2019', 'Visions 2017', 'Omo University 2015', 'Oriki 2019', 'Forgiveness 2005 Video', 'Apala 2021', 'Dear Molly I 2022', 'The Last Tradition 2007 Video', 'Strength of a Woman 2 2004 Video', 'Outkast 2 2002', 'Trumpet of Death 2007 Video', 'Blood Taxi 2015', 'The London Boy 2 2004 Video', 'Wedding Plan 2022', 'Day of Atonement 2005 Video', 'Up to Me 2 2006 Video', 'Stolen Waters 2015', 'Married for Money 2006 Video', 'Big Town 2021', 'The Femi-nist 2022', 'Memoir 2022', 'Looking for Love Naija 2018– ', 'Opin irin ajo 2 2005 Video', 'Grip 2022', 'Deceptive Heart 2016', 'Princess of Wealth 2005 Video', 'The Evil Queen 2008 Video', 'Zoza 2 2006 Video', 'Obinna 2021', 'Being Single 2015', 'Love Struck 2015 TV Movie', 'Emotional Blackmail 2018', 'Good News 2005 Video', 'Ajebidan 2020', 'Spade: The Last Assignment 2009', 'Ifedolapo 2015', 'Maradona 2003 Video', 'Love and Crime 2022', 'Changing Faces 2008', 'Obinrin Ale 2009 Video', 'Bond of Bondage 2016', 'Auto Repair Needs? Try Konga 2016', 'Betrayed by Love 2004 Video', 'War Game 3 2006 Video', 'Inubibi 2007 Video', 'Broken Walls 2018', 'Laviva 2007', 'Covenant Keeping God 2007 Video', 'Love, Food and Everything in Between 2018', 'Things Men Do 2003 Video', 'La Street 2020', 'The Following Day 2016', 'What I Want 2003 Video', 'One Room 2016', 'Windfall 2 2005 Video', '100 Ways to Win a Husband 2018– ', 'Shattered Soul 2014', 'Honeymoon Hotel 2014', 'Wuff!! 2021– ', \"Warrior's Anger 2014\", 'The Break Out 2 2005 Video', 'I Have a Dream 2003 Video', 'Bleeding Crown 2012', 'Beyond Belief 2003 Video', 'Other Than Him 2020', 'Tangled Web 2017', 'Ojabo kofo 2003 Video', 'Housegirl Lover 2015', 'Backup Wife 2017', 'Breadwinner II 2018', 'My World 2012 Video', 'Oil Village 2 2001 Video', 'Ready to Die 2004 Video', 'King of Money 1999 Video', 'Look Into My Eyes 2 2007 Video', 'We Did It for Love 2022', 'Another New Day 2005 Video', 'Market Sellers 2 2003 Video', 'Schemers: Bad Babes 2004 Video', 'Omo britiko 2004 Video', 'Before the Rain 2008 Video', 'Akeeke 2005 Video', \"Jacob's Mansion 2016\", 'Tibi tire laye 2009 Video', 'Diary of a side chick 2020–2023', '35 I 2022', 'The Fish Girl 2 2016 Video', 'Lost Wealth 2 2006 Video', 'Idara 2018', 'Memory Lane 2020', 'Stigma of Womanhood 2016', \"Jaguna's Heart 2021\", 'Showbiz 2017 TV Movie', 'The Matron 2021', 'Fragile Pain 2 2005 Video', 'Unspoken Truth II 2014', 'Four Sisters 2 2008 Video', 'What Happened to June: FansiteTube 2021', 'Love, Lies and Murder 2 2009 Video', 'Burning Desire 2021 TV Movie', 'Madami 2022', 'Just Us II 2022', 'Trip to Kagokiri 2016', 'Makoko: Futures afloat 2016', 'No More Love 2007 Video', 'Fresh flower 2022', 'On Bended Knees 2013', 'Èbúté 2010 Video', 'Man Like Jimmy 2021', 'Now & Forever 2005 Video', 'Endless Passion 2005 Video', 'Child, Bride, Mother: Nigeria 2017', 'Taste of Sin 2006 Video', 'A Fool and a Lover 2021', 'Ridiculous Idea 2016', 'Silent Burner 2 2006 Video', \"The Beggar's Gift 2017\", 'Goodbye to Trouble 2020', 'Ill Fated 2021', 'Indecent Desire 2 2005 Video', 'Ounje Ale 2019', \"Vampire's Call 2 2005 Video\", 'Twins of the Rain Forest 1999', 'We Are the Absolute Worst: Our Divorce Fayre 2022', 'The Rain Makers 2009 Video', 'Queen Aziza 2016', 'Her II 2022', 'Mr. Potosky 2014', 'My Precious Son 2005 Video', 'The Ghost Pot 2021', 'Sub sahara 2022', 'Ite 2022', 'Rhythm of Love 2007 Video', 'Maslan 2005 Video', 'Roles Reversed 2022', 'Explosion: Now or Never 2006 Video', 'Tussle 2021', 'Otelemuye 3 2005 Video', 'Just Between Us 2022', 'Top Secret 2022', 'Wind of Glory 3 2007 Video', 'Love Is a Game 2005 Video', 'Ways of the Heart 2005 Video', 'Egunleri 1985', 'The Album 2020', 'The Tea Room 2019', 'Red XIII 2019', 'Broken Trust 2017', 'Mati da Lado 2014', 'War Game 2006 Video', 'Cold Vengeance 2020', 'Hidden Secrets 2006 Video', 'Aje metta 2008 Video', 'Gangs of J-town 2018– ', 'Two Become One 2 2004 Video', 'Bridge-Stone 2 2005 Video', 'Anger 2020', \"What's Within 2014\", 'Total Control 3 2006 Video', 'Beautiful Soul 2008 Video', 'Player: Mr. Lover Man 2003 Video', 'Udeme Mmi 2013 TV Movie', 'True Citizens 2012', 'Royal Bridesmaids 2022', 'All for Love 2019', 'Meet Eze-Nwanyi Ugwunwa Ajike 2018', 'Meet the Ohafia Nigeria World Monarch Your Imperial Majesty Eze-Nwanyi Ugwunwa Ajike 2018 TV Movie', 'Ògìdán 2004 Video', 'The Locust 2017', 'The Stolen Beads 2017', 'Floating Feelings 2005 Video', 'Evol I 2017', 'Singles & Married 2 2004 Video', 'Final Tussle 2008 Video', 'After the Vow 2007 Video', 'Indecent Act 2004 Video', 'Asake: Terminator 2022 Music Video', 'Blurred I 2022', 'To Love Forever 2003 Video', 'Deadly Kiss 2004', 'Clash of Twins 2009 Video', 'A Lonely lane I 2017', \"Kamara's Tree 2013\", 'Truth or Dare I 2017', 'Oba Iro 2020', 'Anger of a Wonder Girl 2017', 'Next Door IV 2017', 'The Broken Plate 2 2004 Video', 'Trouble Maker 2005 Video', 'D-I-D 2020', 'The Soul That Sinneth 1999 Video', 'Knee Down 2022', 'A Cemetery of Doves 2018', 'Heart of Stone 2010 Video', 'Boundless Love 2020', 'Victor! the untold story 2016', 'Never Say Ever 2004 Video', 'City Odes: Eko ile - Lagos, Nigeria 2020 Video', 'The CEO and I 2020', 'Back to the Wild 2020', 'Holy Family 2006 Video', 'Take Me Home 2007 Video', 'The Super Star 2008 Video', 'Cry No More 2003 Video', 'I Need My Husband Video', 'Shut In 2 2006 Video', 'Breaking Point IV 2021', 'The Blind Study 2022', 'Bless Me 2 2005 Video', 'Sales Girl 2019', 'Undisputed Truth 2021', 'Sabon shafi 2008 Video', 'Rump 2016', 'True Lies 2008 Video', 'Esin 2009 Video', 'Chameleon 2 2004 Video', 'Deep Water 2012 Video', 'America Visa 2 2004 Video', 'Goodbye New York 2 2004 Video', 'She 3: You Must Obey 2006 Video', 'Ogere ', 'Throwing Stones I 2003 Video', \"Pharaoh's Disciples 2 2015\", 'Endtime 2 1999 Video', 'Palace of Sorrow 2 2013', 'Monster Under Skin 2 2015', 'Just Married II 2015', 'Dangerous Mood 2001 Video', 'Imperfect III 2019', '7 Graves 2 2007 Video', 'Ije Awele 2022', 'Co-operate Runs 2 2006 Video', 'Miss Nigeria 2 2004 Video', 'Black Maria 1994', 'Demon In-Law 2 2006 Video', 'Snitch III 2018', 'Husband Material 2019', 'Cry of a Witch 2 2013', 'Venom II 2019', 'Two brides and a baby 2011', \"Kakaki 'leku 2008 Video\", 'The Seed 2005 Video', 'Meditol Soap Commercial 2017 Video', 'Mijin Biza 2017', 'Just Before I Do 2018', 'War Front 2 2004 Video', 'Royal Battle 2005 Video', 'Ojukoro 2022', 'The Preacher 2006 Video', 'Truth & Tidings 2019', 'The Therapist 2016', 'The Price of Love: Life Is Beautiful 2005 Video', 'North East 2016', 'Game of Pythons 2014', 'Bleeding Love 2003 Video', 'Deep Loss 2 2004 Video', 'Dirty Laundry VI 2017', 'Lonely Heart 2 2005 Video', 'Sin V 2021', 'Stronghold 2005 Video', 'Meet My Girlfriends 2021– ', 'Woman Rapa 2 2003 Video', 'Living with Death 2006 Video', 'Born 2 Suffer 2002 Video', 'Back to Life 1997', 'Hoodrush 2012', 'Second Burial 2014', 'Lost Paradise 2004 Video', 'Save My Love 2 2010 Video', 'Aláisè 2021', 'Beyond the Song 2003 Video', 'Tripod 2018', 'Breathless II 2015', 'Above Death: In God We Trust 2003 Video', 'Borrowed Man 2022', 'Caught II 2013', 'What Just Happened 2018', 'Witness Box 2018', 'Heart of Stone 2 2010 Video', 'Society Lady 2003 Video', 'Wedding Saga 2019', 'The Sojjis 2019', 'Won nwa mi lame 2005 Video', 'Sunrise 2 2002 Video', 'Liars and Pretenders 2018', 'I Am Not Corrupt 2019', 'Mission to Nowhere 2008 Video', 'Ihite Kingdom 2 2014', 'The Sync 2017', 'Wicked Intentions 2 2008 Video', 'Brain Wash 2 2006 Video', 'Endless Seconds 2022', \"Father's Choice 2021\", 'Face of a Liar 1999 Video', 'Four Sisters 2008 Video', 'Purgatory V 2018', 'Breakout 2022– ', 'Throwback 2020', '419 Dangerous Game 2004 Video', 'In the Name of Love 2 2004 Video', 'Space Out 2020', 'Back from America 2 2003 Video', 'Losing My Religion 2018', 'Love Cycle 2021', 'Bad Boys 2003 Video', 'Grief VI 2018', 'Kissing the Ghost 2020', 'Boss of All Bosses 2018', 'Ojope 2008 Video', 'Church Business 2003 Video', 'Domination 2020', 'Damaged Petal 2015', 'A Night to Remember 2003 Video', 'Love in the Bahamas 2019', \"Parents' Guard 2012\", 'The Omega 2003 Video', 'Titanic Tussle 2007 Video', 'Spirit of Love 2006 Video', 'How to Love 2013', 'Aunty Adanne 2021', 'Dokin karfi 2008 Video', 'Finding Idara 2022– ', 'Tales of Eve: A Step Too Far 2012', 'Red Obsession 2019', 'Beyond Disability 2014', 'Bus Driver 2 2005 Video', 'Heritage 2003', 'My Own Share 2004 Video', 'Pretty Angels 2005 Video', 'No Play 2021– ', 'Chetanna 2015', 'Arabida 2019', 'Above Love 2004 Video', 'Dear Manny: Last Stage of Grief 2021', 'Darkest Day 2009 Video', 'Omowunmi 2021', 'Into Temptation 2004 Video', 'Taste of Love III 2014', 'Final Game 2005 Video', 'Be with me 2022', 'God Over Everything 2016 Video', 'Eewa 2022', 'The Other Man 2022', 'Squad Twenty-Three 2005 Video', 'Dance of Grace 2 2016', 'Beyond Dreams 2 2006 Video', 'Majesin Unfledged 2020', 'Valentino 2 2002 Video', 'My Mirror 2021', 'Passionate Encounter 2022', 'Promise Me Forever 2004 Video', 'Your Dream Girl 2019', 'Young Masters 2 2006 Video', 'Dowry 2014–2015', 'Awkward Things About Losing Weight 2018–2019', 'Bullet 2003 Video', 'Without You III 2021', 'One Moment in Time 2016', 'In the Beginning 1972', 'Heritage 2004 Video', 'Gloves of Passion 2015', 'Pure Blood 2 2014', 'Kalan Dangi 2017', 'Mashed 2021', 'Derailed II 2016', 'Turning Table 2019', 'Mama-G in America 2004 Video', 'The Tom & Jerry 2 2003 Video', 'Venom of Viper 2015', 'Last Picnic 2005 Video', 'Stitches 2021', 'O-Town 2015', 'Broken Bridges 2012', 'Pretty Woman 2004 Video', 'You Broke My Heart 2 2003 Video', 'Valerie III 2016', 'Hazeezat 2014', 'Help Me Out 2 2007 Video', 'The Baby III 2014', 'Amin: Amen I 2020', 'Bitter Strawberry part1 Shadows of Death 2022', 'Christmas 1000x Better 2020', 'Jealous Princess 2008 Video', '21 Days with Christ 2005 Video', 'Iyawo panda 2005 Video', 'Ogbanta the Family Hunter 2015', 'Moment of Truth 2005 Video', 'The Moles 2019', 'Expensive Game 2 2004 Video', 'Sincerity 4 2009 Video', 'Powerful Civilian 2 2007 Video', 'Lagos Boys 2 2003 Video', 'Indomie Lomo 2 2004 Video', 'Kowa Dalin 2016', \"Another Father's Day 2019\", 'Living with Death 2 2006 Video', 'Akoto olokada 2 2009 Video', 'Blue Sea 2002 Video', 'Tears & Sorrows 2 2002 Video', 'Ito funfun 2004 Video', 'Zoe III 2018', 'Fading Blues 2020', 'Official Romance 2004 Video', 'Dooshima 2015', 'Married in Hell 2018', 'Ghetto Language 2006 Video', 'Circle of Tears 2 2004 Video', 'State of the Heart 2007', 'The Carcass 2005 Video', 'Executive Connection 2005 Video', 'White Chapel 2 2011 Video', 'Perfect Planner 2006 Video', 'Pepper Soup 2016', 'The Fighter 2013', 'I Believe in You 2004 Video', 'The Scorpion 2 2005 Video', 'Olaedo the Fisher Girl 2 2015', 'Coronation 2 2004 Video', 'Test Your Heart 2 2008 Video', 'Utonwa 2022', 'Jungle II 2022', 'Ogadi 2021', 'Circle of Trust 2016', 'How You Wan Die 2021', 'Greener Lawn 2022', 'Legally Blunt 2021', 'Chocolate Pinging Salon 2014', \"Don't Leave Home 2019\", \"Tiwa's Story 2018\", 'Strive 2020', '100% Secret 2012', \"Bolode o'ku 2009 Video\", 'Throne of Disaster 2012', 'Heaven After Hell 2 2008 Video', 'Douglas My Love 2 2004 Video', 'Durodola 2 2005 Video', 'Separate Lives 2 2004 Video', 'Anna IX 2018', 'Igbeyin ewuro 2009 Video', 'When Perfect Feels Wrong 2022', 'Loop VI 2017', 'Tomorrow Lives Again 2 2006 Video', 'Sins of the Heart 2007 Video', 'Visa on Arrival 2021– ', 'Days of Bondage 2 2005 Video', '3 Can Play 2022', 'Labari 2008 Video', 'Ghetto Blues 2020', 'Troublemaker II 2019', 'Your Wife is My Slut 2017', 'Fishbone 2020', 'From the Spotlight 2015', 'Critical Decision 2 2004 Video', 'Onika 2022', 'I Killed, You Killed 2022', 'No Nonsense 2003 Video', 'The Mortal Man 2007 Video', 'Last Dance 2006 Video', 'Dangerous Assassin 2015', 'Drastic Measures 2021', \"Pharaoh's Disciples 2015\", 'Oracle 3 2002 Video', 'Magic Love 2003 Video', 'The Seed 2 2005 Video', 'Nigeria Man Trained Lion and Feed It with Goats in Africa 2019 Video', 'Dangerous Blind Man 2005 Video', 'Ashe Zamu Ga Juna 2019', 'Oro Ana 2005 Video', 'Tokunbo 2019', 'Hotel Choco 2016', 'Schemers 2015', 'Extra Time 2005 Video', 'Love Is in the Hair 2016', 'Battle Line 2 2002 Video', 'Chasing Shadows II 2022', \"It's Complicated 2022\", 'Rings of Fire 2005 Video', 'Obstacles 1998 Video', 'The Bridesmaid 2005 Video', 'Sherikoko 2010', 'Red Light 2 2005 Video', 'Clustered Colours 2019', 'The Key of Happiness 2007 Video', 'Love or Lust 2022', 'Diary of the Damned 2019', 'This is Nigeria 2019– ', 'Prideland the Musical 2022', 'Forever and a Day II 2019', 'A Fertile Alternative 2011– ', 'Musical Whispers 2014', 'The Care Giver II 2022', 'Turtle Taido and the Story of the Elephant 2016', 'Not Your Wealth 1999 Video', 'Akoni Méfà 2003 Video', 'Ghetto Queen 2007 Video', 'Jackie Goes to School 2014', 'Clinically Speaking 2022– ', 'Dreams IV 2017', 'The High Class 2006 Video', 'Not Right 2014', 'In Circles 2022', 'Love After Love 2004 Video', 'Omotoke 2022', 'Shoot for the Moon 2019', 'Great Ambassadors 2007 Video', 'Executive Decision: The Last Option 2004 Video', \"Goddammit It's Monday 2012–2013\", 'Dream House 2017', \"Daddy's Princess 2020 TV Movie\", 'CWO: Women of Virtue 2006 Video', 'Jarumai 2006 Video', 'Carpe Diem I 2021', 'Itan 2008 Video', 'The World of Riches 2006 Video', 'Rosy the Trouble Maker 2013', 'The Plot 2018', 'No Shaking 2 2003 Video', 'The Prof and Den-Gun 2 2007 Video', 'Inhibition 2019', 'Batteries Not Included 2016', 'Sweet Mama 2006 Video', 'Deceptive Heart 2 2016', 'David I 2021', 'Come in Peace 2005 Video', 'Games Men Play 2 2006 Video', 'Suicide VII 2017', '77 Bullets 2019', 'Twisting Knives 2021', 'Miserable Wealth 2 2003 Video', 'Taunting Faith 2019', 'Bereaved Love 2021', 'The Silent Book 2 2003 Video', 'Ije 2021', 'Divine Grace 2007 Video', 'Sareena 2019', 'Blind Love 2003 Video', 'Sweet Melony 2020', 'Wives & Mothers 2021', 'Gone II 2022', 'Millenium Parent 2016', 'Danger Signal 2 2004 Video', 'Annabel 2 2004 Video', 'Immoral Act 2005 Video', 'Intel - Kasope 2017', 'Test of Kindness 2006 Video', 'Miss Queen 2012', 'The Black Silhouette 2015', 'Secrets of the Heart 2003 Video', 'Six Days Away 2022', 'Poker Face 2020', 'Nothing More 2020', 'Samaria 2022', 'Dera My Beloved 2014', 'Wife Material 2017', 'Benita 2 1999', 'Married to the Enemy 2006 Video', 'Besotted 2021', 'Nightmare Employee 2021', 'Living Nightmares 2013', 'Survival of Jelili 2019', 'When You See Me 2020', 'Taiwo & Kenny 2010 TV Short', 'Love, Lies & Alibi 2014 TV Movie', 'Royal Tears 2009 Video', 'In the Way of Love 2022', 'She 2: You Must Obey 2006 Video', 'Fair Game 2006 Video', 'Holy City 2008 Video', 'Amen 2018 Video', 'Fragile Pain 2005 Video', 'Across the Bridge 2 2005 Video', 'Do Not Marry 2021', 'Taking Chances 2 2006 Video', 'Precious Secrets 2022', \"Gigi's wake 2022\", 'About Time II 2021', 'Last Meeting 2003 Video', 'His Addiction 2017', 'A Tiny Line 2020', 'Iremide 2018', 'Woeman 2016', 'Women 2020', 'Supremacy 2006 Video', 'Almost Had You 2021', 'Jaruma 2020', 'Recession Blues 2018', 'Final Hour 2 2007 Video', \"Fubara's Wish 2020\", 'Thundergod 1972', 'Big Pretenders 2004 Video', 'Family Crisis 2 2003 Video', 'Break Free 2022', 'Sting 2006 Video', 'Atijo 2007 Video', 'Digital Passion Show 2020– ', 'Unseen Trap 2022', 'Dry Catfish 2017', 'The Tramped 2022', 'Lost VIII 2022', 'The Saint 2006 Video', 'Burning Kingdom 2007 Video', 'Training Day 2020', 'A Minute Silence 2012', 'Brave Mind 2012 Video', 'Ihite Kingdom 2014', 'The Living Ghost 2 2014', 'Crushed II 2018', 'The World of Riches 2 2006 Video', 'Sweet Revenge II 2021', 'Reckless Two 2019', 'Hex II 2015', 'Ring of Deceit 2021', 'Love in the Wrong Places 2018', 'Crazy Therapy 2022', 'Phyllis 2011', 'Die in Silence 2019', \"My Best Friend's Wedding 2016\", 'Eni Eleni 2 2005 Video', 'Temi ni tie ko 2 2004 Video', 'Two Guys and a Ghost 2022', 'Save the Prince 2 2009', 'My Good Will 2001 Video', 'Romeo 2006 Video', 'Holland Heat 2004 Video', 'Subterfuge 2022', 'Not with My Daughter 2 2002 Video', 'Lamine 2016', 'Disbanded 2020', \"Pastor's Blood 2006 Video\", 'Ashanti 2003', 'Women in Power 2 2005 Video', 'Good Old Friends 2006 Video', 'Now the Four of Us 2022', 'Aya mi òwòn: Madam dearest 2 2005 Video', 'My Woman 2016', 'Last Kiss 2 2006 Video', 'Nchekwube the Meat Seller 2017', 'Broken Reed 2017', 'Heart of a Saint 2012 Video', 'Millenium Parent 2 2016', 'O koja bee 2003 Video', 'Because of Love 2003 Video', 'Domestic Staff 2 2015 Video', 'Fateful Love 2 2004 Video', 'Les ponts de Paris 1971', 'Karki Manta Dani 2019', 'I Believe in You 2 2004 Video', 'Just a Friend 2017', 'Political Control 2006 Video', 'Iró funfun 2009 Video', 'Last Kobo 3 2006 Video', 'Behind Closed Doors 2 2005 Video', 'Wrong Kind of War 2018', '100% Demand of Love ', 'He Lives in Me 2 2004 Video', 'Egun 2007 Video', 'One Good Turn 3 2005 Video', 'Atupa 2018', 'Oba mewa 2003 Video', 'After the Vow 2 2007 Video', 'Throwing Stones 2009–2010', 'Zoom 2021', 'Church and Tradition 2006 Video', 'The Fault in Us 2020', 'Stab 2019', 'Dera My Beloved 2 2014', 'Arima 2017', 'Angels of Destiny 2 2006 Video', 'A Dose of Her Pill 2021', 'The Advocate 2021', 'Before Getting Married 2016', 'Jewels of the Sun 2011 Video', 'The Department 2015', 'Girls in the Hood 2005 Video', 'Enslaved 2004 Video', 'Domestic Staff 2015 Video', 'Romance is Overrated 2016', 'The Best Thing 2022', 'Costly Mistake 2 2006 Video', 'Omoge Campus 2004 Video', 'What I Got from Loving You 2021', 'The First Lady 2015', 'Turtle Taido: First Trailer Feat Taiwo & Kenny 2015 TV Short', 'Cry of a Virgin 2006 Video', 'Yes, We Can 2021', 'Arrows 2 2003 Video', 'Love My Way 2008 Video', 'Heat of the Moment 2 2009 Video', 'Just a Fling 2019', 'Co-operate Runs 2006 Video', 'Blameless 2019', 'The Other Side of the Coin 2016', 'Our Dirty Little Secrets 2017', 'Public Property 2017', 'Holy Crime 1999', 'You or I 2013', 'Joshua 2005 Video', 'Shoot to Kill 2016', 'Lion Finger 2003 Video', 'The Hard Solution 2006 Video', 'Nasty Jane 2021', 'Gbewiri 2006 Video', 'Coronation 2004 Video', 'Camouflage 1999 Video', 'The Mirror V 2021', 'Lumba Boys 2 2008 Video', 'Fairytales 2020', 'All Shades of Girls 2020', 'Every Woman 2019', 'Tenterhooks 2002 Video', 'Stubborn Billionaires 2 2006 Video', 'Kunle alájesékù 2 2004 Video', 'Order of the Ring 2 2013', 'Deep 2022', 'Turning Tables 2020', 'Dance of Grace 3 2016', 'Love Letter II 2021', \"Leah's Offer 2021\", 'He Lives in Me 2004 Video', 'Prodigal Daughters 2018', 'Lion Finger 2 2003 Video', 'Save Salome 2021', 'Òréjomí 2005 Video', 'Last Girl Standing 2 2004 Video', 'Kohr Origins 2021', 'Emotional Crack 2003 Video', 'Midnight Whisper 2012', 'LadyBuckit & The MotleyMopsters 2020', 'Akah Bants 2015– ', 'House 69 2019', 'Foreign Affairs 2004 Video', 'Be My Wife 2007 Video', 'Throne of Tears 2 2008 Video', 'Holy Violence 2003 Video', 'Igi-elegu 1996 Video', 'Indecent Affair 2021', 'False Hearted 2022', 'My School Mother 2005 Video', 'Passion of My Blood 2007 Video', 'Love You Forever 2003 Video', \"Eagle's Bride 2 2005 Video\", 'Auren Manga 2017', 'Royal Switch 2015', 'Captain 3 2006 Video', 'Engagement Night 2 2004 Video', 'Insecure II 2019', 'The Demon in Me 2017', 'Freedom Come 2021', 'Beyond Belief 2 2003 Video', 'Just Me 2 2005 Video', 'Indomie Lomo 2004 Video', 'Women in Love 2 2006 Video', 'Shop Talk NG 2018– ', 'No Good Reason 2022', 'Akeelah 2019', 'Mr. Johnson 2015', 'Shadows in the Dark 2018', 'Because Men in Silk Shirts on Lagos Nights 2018', 'Honeymoon Guys 2 2015', 'La entrevista the interview 2018', 'Paradise 2004 Video', 'The Other Side III 2021', 'The Ring IV 2021', 'Miss Nigeria 2004 Video', 'Sorrows of Love 2003 Video', 'The Awakening IV 2013', 'Leg Over 2022', 'False Doors 2021', 'Blue Flames 2013', 'The Richest Man 2003 Video', 'Deep Silence 2022', 'Abducted I 2015', 'The Kingmaker 2003 Video', 'The Intruder 2003 Video', \"Don't Wanna Be a Player 2008 Video\", 'Esuru 2006 Video', 'Date Night VII 2021', 'Hot Love 2 2003 Video', 'Sister Faith 2 2004 Video', 'Big Hit 2 2007 Video', \"Noah's Raft 2021\", 'Will of God 2 2007 Video', 'Royal Reward 2008 Video', 'Opolo 2005 Video', 'Stronger Than Pain 2020', 'Inanity 2021', 'Wandering Soul II 2017', 'Traumatised 2006 Video', 'Try Me: Mark Angel Comedy Episode 229 2019', 'Nirvana II 2019', 'The Grudge II 2016', \"Nigeria's Got Talent 2012– \", 'Feel My Pain 2008 Video', 'Gbokogboko 2003 Video', 'Million Dollar Baby 2014', 'The Seekers 2011 Video', 'Queen 2 2004 Video', 'Holding Hope 2010', \"Mind's Eye II 2018\", 'Magic Moment 2 2004 Video', 'The Cartel 2 2004 Video', 'Kings Pride 2004 Video', 'Bedroom Points 2018', 'August Meeting 2012 Video', 'River Rise 2020', 'Separate Lives 2004 Video', 'My Banquet 1 August 2017', 'Igbo Made 2004 Video', 'Bandit Queen 2005 Video', 'Unbroken II 2018', 'Scout 2004 Video', 'Only True Love 2022', 'In the Name of Love 2004 Video', 'I Swear 2 2004 Video', 'Unbreakable Affair 2006 Video', 'Haunting 2018', 'Guarded Heart 2022', 'A Time to Love 2007 Video', 'The Hustle Is Real 2018', 'On My Honour 2021', 'What Love Means to a Man and a Woman 2022', 'Edaa 2010', 'St. Michael 2004 Video', 'That Other Good Turn 2021', 'In Iredu 2013', 'Bloody Will 2014', 'Dangerous Beauty 2 2009 Video', 'Muna: The Short Film 2017', 'Izunna 2019', 'Láròdá òjò 2008 Video', 'Civil Army 2005 Video', 'Desperate Baby Mama 2015', 'Hit and Run II 2021', 'Worst Marriage 2 2004 Video', 'Alagogo Ide 2021', 'Tiger King 2 2008 Video', 'Just Another Bad Day 2016', 'Babies & Friends 2020', 'The Law Students 2006 Video', 'A Cry for Justice 2010 Video', 'The Tyrant 2 2005 Video', 'Range Rover Babes 1 2014', 'My Name Is Ivy 2018', 'Deeply in Love 2020', 'The Antique 2014', 'Turtle Taido in Osun and Kogi States 2018 TV Short', 'Playing Games 2004 Video', 'Games Women Play 2 2005 Video', 'About a Boy 2021', 'All or Nothing I 2022', 'Joshua 2 2005 Video', 'Cold Calm 2020', 'A Friendly Fire 2019', 'Goodbye New York 2004 Video', 'Power of Trust 2004 Video', 'The Truth with Olisa 2014– ', 'Yahoo+ 2022', 'Total Control 2 2006 Video', 'Power Must Change Hands 2006 Video', 'Save II 2017', 'Final Game 2 2005 Video', 'Christian Girls 2005 Video', 'Game Changer IV 2015', 'Ireje 2016', 'Knock Knock VI 2021', 'Long Distance II 2022', 'Gods of Liberation 2 2005 Video', 'Feast of Love 2018', 'Playing Safe 2013', 'Heaven After Hell 2008 Video', 'Plus Hubby 2021', 'Dokita Alabere 2006 Video', 'Cold War 2 2005 Video', 'Love Feast 2022', 'We Are Fine 2017', 'Entreat 2016', 'Engel 2022', 'Price of Hatred 2 2004 Video', 'The Storm Is Over 2003 Video', 'The Kingdom Legend 2020', 'Open & Close 2011 Video', 'Caught in the Middle 2007 Video', 'The Crazy Wife 2020', 'Power of a Kiss 2010 Video', 'Oya oriri 2007 Video', 'Osondu 2021', 'Mist 2022', 'Season of the Vow 2020', 'A Letter from Adam 2015', 'Little Things II 2022', 'In Case of Incasity 2021', 'Sawo-Sègbèrì 2005 Video', 'Gidan Kashe Ahu 2020', 'The Baby 2 2014', \"Chi's Journey 2017\", 'Chop Life Lasgidi 2022', 'Believers 2021', 'After My Heart 4 2008 Video', 'Sweet Tomorrow 2 2008 Video', 'The Suitors 2000 Video', 'Occultic Wedding 2 2006 Video', 'Code of Silence 2015', 'One Chance 2015– ', \"A Girl's Note 2016\", 'Made for More 2021', 'Dead End VI 2022', 'Heritage 2 2004 Video', 'SCID 2018– ', 'My Everlasting Love 2007 Video', 'Moment of Joy 2 2004 Video', 'Misdeed 2022', 'Legend of the Cocoa King I 2021', 'Dear Mummy B 2018', 'Obscure Motives 2009', 'The Fake Prophet 2010', 'Becoming the Turners 2022– ', 'The Carcass 2 2005 Video', 'Hustler 2020', 'Midnight Love 2003 Video', \"The Reason It's You 2016\", 'The Barons 2 2005 Video', 'D-Wish 2016', 'The Complete Half 2022', 'Dangerous Blood 2005 Video', 'Tricks of Women 2005 Video', 'Fulfilled 2021', 'Food, Love or Both 2019', 'Lost Passion 2003 Video', 'Agbara ife 2005 Video', 'Soul Gigolo 2020', 'Power to Bind 2003 Video', 'Unseen Chains ', 'Once V 2015', 'Dangerous Sisters 2004 Video', 'Nchekwube the Meat Seller 2 2017', 'Hand of God 2003 Video', 'Drive 2019– ', 'Fine Things 2021', 'Behind the Wheels 2017', 'Another Holiday: The Movie 2021', 'The Marriage Fixer 2022', 'Pretty Stain 2022', 'Disguise 2 2003 Video', \"Sisters' Enemy 2004 Video\", 'Patrick Syndrome 2021', 'Last Kiss 2006 Video', 'The Broken Shield 2006 Video', 'Igi owo 2007 Video', 'Passion of Mind 2004 Video', 'Under the Rainbow II 2018', 'Bursting Out 2010', 'Second Burial 2 2014', 'Hidden Murderer 2006 Video', 'Blind Justice 2002 Video', 'Obaland Awards 2018 2018 TV Special', \"Sharon's Call 2020\", 'Isio 2017', 'Pepper Them Gang 2019', 'Columbia Connection 2004 Video', 'Daytime Lovers 2 2006 Video', 'Investment chat in a RR with Stephen Akintayo 2020– ', 'The Pocket Book 2021', '7 Days in a Coma 2017', 'Bitter Honey 2005 Video', 'Diamond Lady: The Business Woman 2004 Video', 'Beyond Riches 2020', 'Power as of Old 2007 Video', 'Leap of Faith 2006 Video', 'Vigilante 1988', 'Love and Cancer 2017', 'Deadly Instinct 2015', 'Beautiful People 2022', 'Sins of the Flesh 2005 Video', 'Eyes of the Nun 2009 Video', 'Personal Assignment 2 2006 Video', 'Inside Job 2 II 2005 Video', 'Life in New York 2004 Video', 'Magic Cap 2 2006 Video', 'Tongues of Fire 2003 Video', 'Orange Groove 2 2005 Video', 'The Tester 2015', 'Butterfly 2003 Video', 'Crazy Twins 1999 Video', 'Silence... 2016', 'Romeo II 2022', 'Joy of Natasha 2015', 'Desperadoes 2 2001 Video', 'Too Much I 2010 Video', 'Akoto olokada 2009 Video', 'Fardadowar Borno 2017– ', 'Modern Love II 2022', 'Excess Luggage 2017', \"Somma's Love List 2022\", 'Common Sense 2 2005 Video', 'End of Battle 2 2006 Video', 'Daddies Face Off 2021', \"Royal Father's 2014\", 'Domestic Accident 2018', 'Sleek Ladies 2 2007 Video', 'Saving Alero 2001 Video', 'Split II 2019', 'Atonement 2 2005 Video', 'Divorce Not Allowed 2018', 'The Corridors of Power 2 2005 Video', 'The Engagement 2016', 'Esan 1985', 'Suicide Lovers 2005 Video', 'Divided Kingdom 2 2005 Video', 'Timeless X 2017', 'Promise Me Forever 2 2004 Video', \"Shaffy's Sister 2021\", \"Hope's Paradise 2020\", 'Secret Mission 2 2006 Video', 'Ejika the Tailor 2021', 'Unplugged 2020', 'Breakfast III 2022', 'Grey Roses 2022', 'Try & See 2007 Video', 'Gl2 2 2005 Video', 'Knight of the Night 2005 Video', 'Peace Talk 2006 Video', 'Flash of Pain 2016', 'Nwaka the Bread Seller 2015', 'Lost Kingdom 2 1999 Video', 'A Weeping Soul 2009 Video', 'Eni Eleni 2005 Video', 'Mary the Hunter 2014', 'Isidore 2019', \"Can't Say Mother 2019\", 'Anike olufa 2009 Video', 'My Bosses 2022', 'The AIDS Patient 2005 Video', 'Wrong Romance 2022', 'Boys from Holland 2 2006 Video', 'Love Temple 2004 Video', 'The Day They Came 2013 Video', \"It's Juliet or No One 2 2005 Video\", 'The Haunting Shadows 2 2005 Video', 'Dangerous Blood 2 2005 Video', 'Emotional Tears 2003 Video', 'Tuesday the 14th 2021', 'Last Date 2018', 'Life on Line Strand 2021', 'Just Me 2005 Video', 'Water Palava 2020', 'Efemena 2021', 'Up to Me 2006 Video', 'Town in Danger 2003 Video', 'Village Rascals 2 2012 Video', 'Love and War 2013 TV Movie', 'Dinta 2021', 'Akanchawa 2005 Video', 'Flakky Ijaya 2017', 'Jemima the Trophy Wife 2019', 'Mafians 2 2006 Video', 'Beautiful Soul 2 2008 Video', 'Torn VII 2013', 'Plane Crash 3 2008 Video', 'David III 2021', 'Died to Save 2004 Video', 'Rabuwa 2008 Video', 'Final Weekend 2016', 'For the City II', 'Pathetic 2016', 'Baby Guards 2 2005 Video', 'Common Game 2 2007 Video', 'Choices IX 2019', 'The Church Is Mine 2003 Video', 'Omaliko 2 2005 Video', 'Black Day II 2018', 'Royal Promise 2007 Video', 'Sweet Words 2019', 'Hatred 3 2001 Video', 'Sh*t happens 2022', 'Useless Gist 2014', 'The Juice 2012– ', \"No Man's Land 2 2009 Video\", 'Wedding Fever 2006 Video', 'Save the Baby 2 2005 Video', 'Four Sisters 3 2008 Video', 'All for Nma 2021', 'Ambience II 2019', 'Light in the Tunnel 2 2007 Video', 'The Search V 2012', 'Hope - This is Our Life 2014', 'Lockdown XII 2021', 'The Lie Maker 2021', 'Trouble Street Maker 2003 Video', 'Aiye Ma Le 1994 Video', \"Don't Give Up on Us 2022\", 'Never Die for Love 2 2004 Video', 'Champagne III 2014', 'Under the Sky 2 2006 Video', 'Being Annabel 2019', 'Wild Goose 2022', 'A Cry for Help 3 2002 Video', 'Blindfold 2 2008 Video', 'Nigersteel 1975', 'Lagos Island 2012', 'End of Battle 2006 Video', 'Eje odo 2008 Video', 'Husband My Foot 2 2008 Video', 'Ile oko 2009 Video', 'Crab II 2022', 'Tell Me Why 2 2008 Video', 'Yes We Will 2016', 'The Kingdom 2012', 'Crash & Burn 2020', 'Eewo orisa 2 2007 Video', 'Erased II 2015', 'Kadara Afri-T 2002 Video', 'Esther Rox Music TV I 2020– ', 'Insecurity 2007 Video', 'Heat Wave 2021', 'Mental Case 2 2008 Video', 'Níbolójásí 2006 Video', 'Tears in the Sun 2003 Video', 'Mtv Base: Touching Base 2011– ', 'A Distant Cry 2018', 'The Heart of Man 2 2004 Video', 'The Perfect Crime 2018', 'Kòséfowórà 2006 Video', 'Sèblá 2022', 'Not Just Enough II 2021', 'Kingdom Apart 2 2007 Video', 'Omo Bishop 2 2005 Video', 'Dilemma 2017', 'The Recipient 2019', 'Emotional Battle 2005 Video', 'Hell Proof 2020', 'Olugbare 2007 Video', '13th Day: Ojó ketàlá 2005 Video', 'No More War 2 2005 Video', 'The One I Trust 2003 Video', 'The Right Kind of Wrong 2019', 'Ophidiophobia 2022', 'Confidential Romance 2 2007 Video', 'Her Son 2021', 'Olorun esan 2004 Video', 'Shattered Mirror 2 2012 Video', 'Yahoo Millionaire 2 2007 Video', 'Jimi Bendel 2016', 'Àbèfé jengbetiele 2005 Video', 'A Kiss from Rose 2004 Video', 'Before My Eyes 2008 Video', 'Clueless 2015', 'Bloody Weekend 2020', 'A Can of Worms 2 2008 Video', 'My Last Ambition 2 2009 Video', 'Criminal Law 2 2006 Video', 'MTV Africa Music Awards MAMAs 2010 2010 TV Special', 'The Guy Called Jakes 2022', 'Marry Me 2 2005 Video', 'Four Crooks and a Rookie 2013', 'Queen of Hasso Rock 2005 Video', 'After My Heart 2 2008 Video', 'Aramotu 2010', 'Brothers War 2013', 'Cats of Darkness 2015 Video', 'Simple People 2020', 'Iru kileyi 2007 Video', 'A Moment, I Remember 2022', 'Behind the Faces 2021', 'Gone Grey 2016', 'Treasures of Fortune 2 2007 Video', 'In the Dark IV 2022', 'Greenlight 2022', 'A Life Called Tears 2019', 'Dating Diane 2022', 'Royal War 2 2009 Video', 'Paint My Dreams 2020', 'The Omega 2 2003 Video', 'Clash of Destiny 2 2005 Video', 'Hadassah 2023', 'Stubborn Doctor 2008 Video', 'Chill Pill 2007', 'Akan 2014', 'Ayé àjekú 2006 Video', 'End of Discussion 2006 Video', 'Working Class Lady 2 2004 Video', 'The Confession I 2020', 'Iyawo Elenu Razor 2006 Video', 'Secret Shadows 2010 Video', 'The Rain Makers 2 2009 Video', 'The Teacher II 2021', '5th Anniversary 2019', 'Adesoro 2006 Video', 'Okan soso 2 2004 Video', 'Helpline II 2022', 'Yanayi 2019', 'Queen Lateefat 2021', 'True Sacrifice 2 2008 Video', 'Blind Obsession 2005 Video', 'The Accursed 2 2007 Video', 'A Little Thought 2020', 'Sebeeyan ni 2005 Video', 'Songs of Sorrow 2 2005 Video', 'Roleplay II 2021', 'What a Mother... 2 2005 Video', 'Asoko peye 2 2008 Video', 'No Shaking 2003 Video', 'Akámó 2007 Video', 'Bitter Generation 2 2010 Video', 'Clash of Interest 2006 Video', 'Silence of the Gods 2 2006 Video', 'Stripped II 2013', 'Love Is a Game 2 2005 Video', 'EYO - the Spirit Mortal ', 'I Need a Man 2 2005 Video', 'Lords of the Game 2 2008 Video', 'Sins of the Flesh 2 2005 Video', 'Virtue of Ignorance 2022', 'Love Double 2021', 'Ise onise 2009 Video', 'Date Night XVI 2017', 'Defiance: Voices of a New Generation Nigerian LGBT 2020', 'Conversations at Dinner 2013 TV Movie', 'Grandihub 2017 Video', 'The Cadet 2007 Video', 'Jidda 2019', 'Close to Perfect 2018', 'The Wrong Money 2008 Video', 'Celebration of Death 2005 Video', 'Emily K 2015', 'Lina I 2016', 'Omo oku òrun 2004 Video', 'Silent Burner 2006 Video', 'Warriors of Satan 2 2007 Video', 'The Empire 2006', 'Escape to Destiny 2007 Video', 'A Trip To South-West Naija 2017', 'Trauma in Paradise 2020', 'Friends & Lovers 2 2005 Video', 'Long John 2 2002 Video', 'Holy Man 2 2007 Video', 'Jack & Jill 2011 Video', 'The Chronicles of Queen Catherine Ajike 2019', 'Tamed 2016', 'Kala & Jamal 2016– ', 'Supremacy 2 2006 Video', 'Pasito Deinde 2005 Video', 'Celebration of Death 2 2005 Video', 'Ewon Ife 2021', 'Espionage 2016', 'Broken Pieces II 2019', 'Fresh Pain 2 2003 Video', 'Elulu tofajo 2006 Video', 'Put It on Me 2 2006 Video', 'Royal Insult 2006 Video', 'Magic Moment 2004 Video', 'SCARS 2018', 'Fire on the Mountain 2002 Video', 'Common Game 2007 Video', 'Behind the Scenes II 2015', 'Hidima 2 2006 Video', 'Okwute 1999 Video', 'Sound of the Waves 2021', 'Arise Made in Africa Mercedes Benz Fashion Week 2011 TV Special', 'Ebo isinmi 2007 Video', 'Bobby Ibo 2017– ', 'Omo Bishop 2005 Video', 'Street Fame 2005 Video', 'Sacrifice for Love 2 2006 Video', 'Unhappy Moment 2 2007 Video', 'Rejected 2022', 'Always Mine 2009 Video', 'Heroes & Zeros 2012', 'N150 Million 2003 Video', 'Asunder 2016–2017', 'Dare da wawa 2006 Video', 'House in Crisis 2007 Video', 'Jesu Mushin 2002 Video', 'The Journalist 2 2006 Video', 'Save A Sole 2018', 'Shades Of Lagos 2021', 'Home Sickness 2 2004 Video', 'My Command 2003 Video', 'Aure na mutumcina 2006 Video', \"Heaven's Grace 2 2006 Video\", 'Jawonbe 2003 Video', 'Write Your Name in the Sky 2007 Video', 'When You Are Mine 2 2007 Video', 'The Crusader 2 2006 Video', 'Disco Dancer 2006 Video', 'UnLucky 2022', 'Reconciliation 2016', 'Aga Meta 2022', 'Heart Trending 2018', 'On My Wedding Day 2006 Video', 'Wounded Harmony 2015', 'Guys on the Line 2 2005 Video', 'Sin No More 2 2008 Video', 'The Cabals 2007 Video', 'Dirty Sunday 2022', 'Desperate Women 2 2006 Video', 'Royal Destiny 2007 Video', 'Mu rike amana 2008 Video', 'The Drills of Afi Mountain 2015', 'Escape from Home 2013 Video', \"Women's Cot 2005 Video\", 'End of My Fantasy 2 2010 Video', 'Owo laso oge 2005 Video', 'Arewà 2003 Video', 'Eto ikoko 2005 Video', 'That Other Side 2021', 'Wild Fire 2018', 'Taqaddama 2018', 'The Cobweb 2015', 'For Richer 2021', 'Treasure 2004 Video', 'Anointed Liars 2 2009 Video', 'The Sassy One 2015', 'Lost Conscience 2021', 'Strangers in Paradise 2005 Video', 'Edikan 2 2009 Video', 'Sins of the Past 2 2012 Video', 'Cry Like Rivers 2004 Video', 'Uzuri 2017', 'Taking Chances 2006 Video', 'Trigger II 2018', 'Maku 2007 Video', 'My Own Share 2 2004 Video', 'Fortunately Ridiculous 2019', 'Aid People Change Naija 2019', 'The House of Nwapa 2016', 'Silent Scandal 2 2009 Video', 'Unforgivable Ainidariji 2013', 'Madam Yoyo 2004 Video', 'Mi ose kogba 2 2005 Video', 'One Day Go Be One Day 2019', 'Haunted Pleasures 2022', 'Abuja Top Ladies 2 2006 Video', \"It's My Turn Oh God 2006 Video\", 'Unprotected 2016', 'The Forest Is Dreadful 2022', 'Change of Heart 2007 Video', 'The Bet 2005 Video', 'Fix Me II 2019', 'Two Wrongs 2020', 'Desperate Need 2005 Video', 'The Break Out 2005 Video', 'Old School 3 2004 Video', \"Alero's Symphony 2011\", 'A Sweet Stench 2022', 'Idajo mi tide 2 2005 Video', 'The Scorpion God 2007 Video', 'Masterstroke 2004 Video', 'Prophet of Doom 2015 Video', 'Love Alone 2010 Video', 'When Love Is Not Enough 2020', 'Genevieve 2 2007 Video', 'The Way Things Happen 2022', 'Sacred Tradition 2 2005 Video', 'Stranded II 2022', 'Buried II 2021', 'Let Your Hair Down 2012', 'Lálàálù 2008 Video', 'Mr & Mrs Onoja 2015', 'Ofin kokanla 2 2005 Video', 'Within Reach III 2019', 'Elérìín eye 2009 Video', 'Súnmibáre 2003 Video', 'Prey VI 2022', 'You & I Forever 2 2005 Video', 'Monica 2003 Video', 'Abiamo tooto 2007 Video', 'Contractors 2 2003 Video', '5 Apostles 3 2009 Video', 'Nothing But the Truth 2017', 'What Makes You Tick 2017', 'Maroko 2006', 'The Oil of Amadi ', 'Chiugo 2023', 'Caretaker 1995 Video', 'A Caring Player 2021', 'Ojukwu 2018– ', 'Offensive Relationship 2 2008 Video', 'Native Son 2009 Video', 'OutCast 2019', 'The Widow of Nkanu 2021', 'When Star Cross 2021', 'Onitemi 2022', 'Passionate Appeal 2006 Video', 'Chronicles of Solo 2021–2023', 'Please Marry Me 2020', 'Divine Twins 2 2007 Video', 'Muntu 2020', 'Knight of the Night 2 2005 Video', 'Men Do Cry 2 2005 Video', 'Depraved II 2019', 'Hidden Treasures 2005 Video', 'Dissonance 2022', 'Kill the Bride 2 2005 Video', 'Last Card 2020 Video', 'Conspiracy 2 1999 Video', 'One Crazy Weekend 2019', 'Long Walk to Nothing 2019', 'Atlanta Series 2011– ', 'Forgiveness 2 2005 Video', 'Lady of Faith 2 2006 Video', 'Idunnu Obi 2016', 'Iyawo aremo 2 2006 Video', 'Àbíkú 2022', 'Girl Child 2016', \"Heaven's Grace 2006 Video\", 'Men and Ego 2019', 'Fillo 2019', 'No Way Out 2005 Video', 'Dry Leaves 2022', 'Divided Attention 2006 Video', 'The Perfect Plan I 2014', 'Raging Storm 1998 Video', 'Ina fitila 2007 Video', 'The Journalist 2006 Video', 'Atónà 2009 Video', 'Scorned Queen 2019', 'Security Risk 2 2005 Video', 'Her Lines 2015', 'True Vision II 2020', 'Turn Table 2 2004 Video', 'Dear God 2 2007 Video', 'The Tenant II 2022', 'Elede 2008 Video', 'Call Me Themmie Dc Themmie 2022– ', 'Boya lemo 2002 Video', 'The Final Days 2006 Video', 'No Way Out 2 2005 Video', 'Secret Shadows 2 2010 Video', 'Double Slap 2006 Video', 'Endless Lies 2005 Video', 'The Ex II 2015', 'Feb IV 2019', 'Òfin mósè 2006 Video', 'Ajenifeni 2021', \"Freeman's College 2004–2006\", 'Breath Again 2006 Video', 'My Tomorrow 2013 Video', 'Simi: Joromi 2017 Music Video', 'Last Warning 2002 Video', 'Different World 2 2006 Video', 'Armageddon King 2003 Video', 'Kajola 2005 Video', 'Etàn 2007 Video', 'Forced 2018', 'Extra Mile 2021', 'Ìdàmu eléwòn 2009 Video', 'Lagos Blades 2019', 'Iranse Aje 2007', 'Dear Devil from Tomiwa with Love 2021', 'Love and Age 2007 Video', 'High Stake 2006 Video', 'One Nigeria 1969', 'Rebound 2010', 'Personal Desire 2009 Video', 'Aye kinimose? 2007 Video', 'Love Entangle 2003 Video', 'Cajole 2016', 'Evil Deeds 2018', 'Hannatu 2018', 'Evil Kingdom 2005 Video', 'The Barrister 2 2006 Video', \"Rosemary's Fight 2014\", 'Kirakitah Okunrin Metta 2011 Video', \"Darima's Dilemma 2016\", 'The Laptop 2008 Video', 'Immoral Act 2 2005 Video', 'Ibinu eleda 2008 Video', 'A Faithful Wife 2022– ', 'Same Difference 2014', 'Getting Him to Kneel 2019', 'His Holiness 2 2008 Video', 'Descendants of Jezebel 2006 Video', 'Gl2 2005 Video', 'Logun Ofe 2017', 'Binta Kolonko 2018', 'Super Warriors 2 2003 Video', 'Oju ogbe mileyi 2009 Video', 'Oreke mulero 2006 Video', 'Working Class Lady 2004 Video', 'My Last Wedding 2009 Video', 'The Key of Happiness 2 2007 Video', 'Esin obinrin 2009 Video', 'Over Heat 2006 Video', 'Dance 234 2011', 'Misale 2009 Video', 'Obi omo 2009 Video', 'Hidden Murderer 2 2006 Video', 'Price of Admission 2020', 'Save a Soul 2 2007 Video', 'A Day at Smart Kids Zone 2018', 'Wetin Women Want 2018', 'Two Dry Girls 2018–2019', 'The 3rd Rule 2019', 'Emotional Violence: Words Can Build, Words Can Break 2015 Video', 'Discontent 2 2017', 'Security Risk 2005 Video', 'Not by Height 2004 Video', 'Love Apart 2 2008 Video', 'Dance of Grace 2016', 'Dying with the King 2011', 'Chop Knuckle 2019', 'Kings Battle 2009', 'Break Up 2 2003 Video', 'Ms Independent 2019', 'Elebute 2022', 'The Captor 2 2006 Video', 'Faith in Christ 2 2004 Video', 'Femi oko asewo 2008 Video', 'My Gambian Holiday 2010', 'Distance Between 2008', 'Luke of Lies 2015', 'Wealth Aside 2 2007 Video', 'The Legend 2004 Video', 'Baba Insurance 2009 Video', 'The Nancy Isime Show 2019– ', 'Trumpet of Death 2 2007 Video', 'Blood Apart 2 2007 Video', 'Flip Side - The Diary Notebook 2018', 'Church on Fire 2 2008 Video', 'The Legend 2 2004 Video', 'Blood Stain in Bokodo 2006 Video', 'The End X 2019', 'Tosin 2019', 'Ellis III 2022', 'Without Goodbye 2009 Video', 'Love and Age 2 2007 Video', 'Wedding Gift 2005 Video', 'All That Glitters III 2013', 'Oro lanre pesije 2005 Video', 'House Party 2 2004 Video', 'Masterstroke 2 2004 Video', 'Wife Material 2022– ', 'Treasure Hunt 2 2007 Video', 'Recharge Card 2006 Video', 'Innocent But Guilty 2022', 'Family at War 2020', 'Blame IV 2017', 'Memory Lane II 2016', 'Contractors 2003 Video', 'Finding CHI 2021', 'My Little Secret 2 2006 Video', 'The Little Things I 2022', 'Taste of Sin 2 2006 Video', 'Dirty Reflections 2022', 'Sins of the Past 2012 Video', 'Before the Rain 2 2008 Video', 'The Promotion II 2018', 'Man of the Law 2019 Video', 'Ebuwa 2009', 'Taxi Driver 2018', 'The storm 2022', 'Chidera What God Has Written 2012', 'My Conclusion 2008 Video', 'Give It Up 2008 Video', 'Crime Planner 2 2006 Video', 'Zubaida 2022', 'Wicked Intentions 2008 Video', 'Mewa n sele 2006 Video', 'Onye Okoso 2018 TV Movie', 'World of Commotion 2 2007 Video', 'Olórí 2007 Video', 'The Alternative 2022', 'The Fish Girl 2016 Video', 'Who Killed Chief? 2017', 'The Bond: A Boy in the Middle 2008 Video', 'Oga on Top 2013', 'The Prince of My Heart 2 2007 Video']\n"
          ]
        }
      ]
    },
    {
      "cell_type": "code",
      "source": [
        "# finding the close match for the movie name given by the user, I have adjusted the similarity cutoff from the default 0.6 to 0.5, because some movie titles have numbers and special characters attached to it.\n",
        "\n",
        "find_close_match = difflib.get_close_matches(word = movie_name, possibilities = list_of_all_titles, n = 5, cutoff = 0.5)\n",
        "print(find_close_match)"
      ],
      "metadata": {
        "colab": {
          "base_uri": "https://localhost:8080/"
        },
        "id": "mnVyN6lE4eLq",
        "outputId": "3cde838b-9701-4d42-9a15-858983b1b3b4"
      },
      "execution_count": null,
      "outputs": [
        {
          "output_type": "stream",
          "name": "stdout",
          "text": [
            "['The Wedding Party II 2016', 'Wedding Saga 2019', 'Wedding Plan 2022', 'Leading Lady 2018', 'Wedding Night 2022']\n"
          ]
        }
      ]
    },
    {
      "cell_type": "code",
      "source": [
        "close_match = find_close_match[0]\n",
        "print(close_match)"
      ],
      "metadata": {
        "colab": {
          "base_uri": "https://localhost:8080/"
        },
        "id": "tatYgIoA2lPi",
        "outputId": "80765ca1-3a2b-48cb-dfb1-06f150377862"
      },
      "execution_count": null,
      "outputs": [
        {
          "output_type": "stream",
          "name": "stdout",
          "text": [
            "The Wedding Party II 2016\n"
          ]
        }
      ]
    },
    {
      "cell_type": "code",
      "source": [
        "# confirming the index of the movie with title\n",
        "\n",
        "index_of_the_movie = movies_data[movies_data.movie_title == close_match]['index'].values[0]\n",
        "print(index_of_the_movie)"
      ],
      "metadata": {
        "colab": {
          "base_uri": "https://localhost:8080/"
        },
        "id": "bShGo38KFVTM",
        "outputId": "730e4ba0-0e83-449f-8710-6cfbc50599c6"
      },
      "execution_count": null,
      "outputs": [
        {
          "output_type": "stream",
          "name": "stdout",
          "text": [
            "50\n"
          ]
        }
      ]
    },
    {
      "cell_type": "markdown",
      "source": [
        "Now I will compare the index of the movie closely matched to the searched item, with the similarities scores of every movie in the data frame."
      ],
      "metadata": {
        "id": "YbqXd4sUVHP5"
      }
    },
    {
      "cell_type": "code",
      "source": [
        "# getting a list of similar movies\n",
        "\n",
        "similarity_score = list(enumerate(similarity[index_of_the_movie]))\n",
        "print(similarity_score)"
      ],
      "metadata": {
        "colab": {
          "base_uri": "https://localhost:8080/"
        },
        "id": "m-K-DdTgTO1o",
        "outputId": "debe8266-5be5-4b22-e7d9-2dc6a87455ce"
      },
      "execution_count": null,
      "outputs": [
        {
          "output_type": "stream",
          "name": "stdout",
          "text": [
            "[(0, 0.045184039174245925), (1, 0.0), (2, 0.011459690618368568), (3, 0.0), (4, 0.0), (5, 0.029102996363876824), (6, 0.0017492219481488973), (7, 0.0019222393667701666), (8, 0.042838149588462826), (9, 0.010142486139056333), (10, 0.0017099408929409576), (11, 0.017884546222214186), (12, 0.00970231135831608), (13, 0.0), (14, 0.002491054303286952), (15, 0.001831552880402206), (16, 0.0017913909882638968), (17, 0.031051101181087313), (18, 0.05529574588559897), (19, 0.0), (20, 0.0016194813174028927), (21, 0.01704084189901195), (22, 0.003110945023354837), (23, 0.001923583143609195), (24, 0.009000834042332494), (25, 0.0015286401760070875), (26, 0.0), (27, 0.018293062194352238), (28, 0.03210438899085695), (29, 0.03576050406494982), (30, 0.009045205731573594), (31, 0.002018589853849546), (32, 0.017679932656598604), (33, 0.0), (34, 0.023478851126938233), (35, 0.0), (36, 0.02276471334176249), (37, 0.0017548001353092613), (38, 0.0), (39, 0.0449570025097577), (40, 0.011417597415706755), (41, 0.0), (42, 0.0), (43, 0.001957891245788514), (44, 0.0014787794255308447), (45, 0.02564711024958719), (46, 0.025421481118205524), (47, 0.02077886930828233), (48, 0.0), (49, 0.02539197893749767), (50, 1.0), (51, 0.0), (52, 0.0015655911846163522), (53, 0.016015329266811575), (54, 0.002447401390838505), (55, 0.015339415465170633), (56, 0.02520802612093468), (57, 0.002075941094894732), (58, 0.0), (59, 0.0), (60, 0.010596629236902933), (61, 0.05759591419585911), (62, 0.009625833428127681), (63, 0.0), (64, 0.001922931877640998), (65, 0.0), (66, 0.02110923292030638), (67, 0.0018628737476626728), (68, 0.06306909491700484), (69, 0.002135750528318711), (70, 0.029623047870113526), (71, 0.015478366870755912), (72, 0.0), (73, 0.00291846675272925), (74, 0.0), (75, 0.0013800006530191187), (76, 0.01028499237138722), (77, 0.0015219174387847033), (78, 0.0015527973213339068), (79, 0.0124728218805981), (80, 0.001843669984953256), (81, 0.016288022195372464), (82, 0.0027942877255409094), (83, 0.0), (84, 0.0016044449343771091), (85, 0.0), (86, 0.014781508903308958), (87, 0.0547711334604921), (88, 0.004854503034891376), (89, 0.0), (90, 0.0), (91, 0.030526608580942614), (92, 0.0), (93, 0.01543621717502354), (94, 0.0), (95, 0.011781952388556791), (96, 0.017667895155109414), (97, 0.001183415661338852), (98, 0.04102402259476607), (99, 0.03517664685887912), (100, 0.018099548810029197), (101, 0.03834481650251986), (102, 0.041490991517823234), (103, 0.012523940550421952), (104, 0.01119887689672714), (105, 0.00295241101361785), (106, 0.0019095294104061861), (107, 0.09452765132160966), (108, 0.0020237846569235696), (109, 0.0018111035233801716), (110, 0.0015013395458145576), (111, 0.025102972091818613), (112, 0.0), (113, 0.0015116116972472124), (114, 0.01938703412063929), (115, 0.0), (116, 0.01432366392219128), (117, 0.0015576221081906212), (118, 0.001696875134793535), (119, 0.002012646103491827), (120, 0.010974409922478664), (121, 0.002896560984928542), (122, 0.010149170102478854), (123, 0.006710437244230075), (124, 0.07560570659443494), (125, 0.0023542369956297735), (126, 0.0483814591467021), (127, 0.002519279395775054), (128, 0.0), (129, 0.01910596478510261), (130, 0.0016424216270700756), (131, 0.014386541761834619), (132, 0.0), (133, 0.04052554813726841), (134, 0.002205243982162735), (135, 0.001734458201896472), (136, 0.053552092608576074), (137, 0.028445961384569722), (138, 0.017729220861425248), (139, 0.008609528025481141), (140, 0.016307175426444123), (141, 0.013601832798461834), (142, 0.0), (143, 0.0), (144, 0.0022986230134459506), (145, 0.028257703898228306), (146, 0.013697249067546678), (147, 0.0), (148, 0.002182217174587817), (149, 0.0), (150, 0.030361699865449013), (151, 0.0021954493324222724), (152, 0.0), (153, 0.02399723325362049), (154, 0.03873575213967603), (155, 0.019168724538532834), (156, 0.0018874919218398256), (157, 0.0350558642052346), (158, 0.017685768718131024), (159, 0.0), (160, 0.0), (161, 0.0022382419799015876), (162, 0.0021286589804682086), (163, 0.0458000477608635), (164, 0.00768364694528595), (165, 0.009507577202887524), (166, 0.0), (167, 0.01827397543120961), (168, 0.01825704456619871), (169, 0.001546879490408315), (170, 0.012872189466647388), (171, 0.03847181507332985), (172, 0.024104113682138044), (173, 0.06121164869449195), (174, 0.0), (175, 0.0020500614809779816), (176, 0.011928365066992318), (177, 0.1341242514785812), (178, 0.013113521681170238), (179, 0.01857259873127383), (180, 0.00871419137687035), (181, 0.03214328190048881), (182, 0.0), (183, 0.01658251848114865), (184, 0.0018886624027938713), (185, 0.0027562426520446087), (186, 0.0), (187, 0.0), (188, 0.0016021113716445327), (189, 0.011851281860572549), (190, 0.06315108348426106), (191, 0.07029098936521129), (192, 0.02081732829120117), (193, 0.0021896049846806907), (194, 0.0012774364891241976), (195, 0.001951613209397555), (196, 0.0021831236923187964), (197, 0.0), (198, 0.0), (199, 0.0), (200, 0.0015627363238072233), (201, 0.003101964453890762), (202, 0.005525787497694661), (203, 0.018434153386001226), (204, 0.0), (205, 0.0), (206, 0.005659506761896379), (207, 0.022294147255712465), (208, 0.0018897326524738396), (209, 0.011841260931880801), (210, 0.0), (211, 0.012311964562497574), (212, 0.008769298093118513), (213, 0.002024248841020578), (214, 0.006800824074123326), (215, 0.0), (216, 0.0035082299771375994), (217, 0.020518804696216197), (218, 0.0), (219, 0.009463438569761607), (220, 0.011293942464626942), (221, 0.001660556307092985), (222, 0.024958366072665144), (223, 0.0), (224, 0.0), (225, 0.023897151445801495), (226, 0.029294787013000104), (227, 0.001983393857275238), (228, 0.015630535854255438), (229, 0.0016233088512359224), (230, 0.0022084305248299668), (231, 0.0029982079915394293), (232, 0.0), (233, 0.004970673585764659), (234, 0.05448572604890155), (235, 0.04378657157095853), (236, 0.0027163684606563315), (237, 0.031450552584138085), (238, 0.0016672678629623772), (239, 0.001997046802528938), (240, 0.0017001844604264415), (241, 0.016434239119083593), (242, 0.022623102489935012), (243, 0.042082218765395446), (244, 0.0012927575890649208), (245, 0.013885830835661913), (246, 0.0), (247, 0.0), (248, 0.04952607536289318), (249, 0.028584719093208814), (250, 0.00275354533433141), (251, 0.01128037447986517), (252, 0.09144913254455264), (253, 0.0031188143282578815), (254, 0.0), (255, 0.0014353016042592337), (256, 0.001501213638134459), (257, 0.002059143250433422), (258, 0.0029133072190879383), (259, 0.05033282031580519), (260, 0.0669477093338946), (261, 0.0015561347814381976), (262, 0.0027185257974592786), (263, 0.0015880953329629026), (264, 0.0019104731279384545), (265, 0.010551824356440368), (266, 0.002176055157789816), (267, 0.0), (268, 0.0030753960712741634), (269, 0.013683853883442166), (270, 0.002592889078593363), (271, 0.00544489048789473), (272, 0.031297559720428976), (273, 0.012711619370297191), (274, 0.007482953040952093), (275, 0.06768098828802173), (276, 0.033765821134938534), (277, 0.01781408373435459), (278, 0.0021189864971552608), (279, 0.038340106154220246), (280, 0.0060474283570489205), (281, 0.0021595972931023684), (282, 0.0024104109429486033), (283, 0.0), (284, 0.011971275808304994), (285, 0.0017828353579297314), (286, 0.0), (287, 0.010738780798368229), (288, 0.0), (289, 0.055950464414354875), (290, 0.07454245798567033), (291, 0.01740467911929433), (292, 0.010085520585086757), (293, 0.001685468535808076), (294, 0.0018041616724846386), (295, 0.00286890166293481), (296, 0.0016197858991853873), (297, 0.012508407760924201), (298, 0.018882308531975804), (299, 0.0), (300, 0.0021289762840365914), (301, 0.014712978220181715), (302, 0.002514758391172314), (303, 0.0), (304, 0.011669487846436526), (305, 0.003226839858455452), (306, 0.020209238889956505), (307, 0.002580684229527061), (308, 0.0), (309, 0.0030922839400958765), (310, 0.015205395173139642), (311, 0.0026675516965235777), (312, 0.0), (313, 0.0), (314, 0.0), (315, 0.0), (316, 0.08417639666372087), (317, 0.0050457447583321215), (318, 0.001743833359579964), (319, 0.022994571928823374), (320, 0.02104219832286187), (321, 0.0), (322, 0.0019436305387886355), (323, 0.014680434833943014), (324, 0.0016011104748091724), (325, 0.006773214847947347), (326, 0.054014979987179544), (327, 0.03555602457896362), (328, 0.0), (329, 0.010347825616347464), (330, 0.0), (331, 0.012534342254751838), (332, 0.002185262721541644), (333, 0.03741919040880105), (334, 0.0), (335, 0.011587944013079016), (336, 0.03829084175634057), (337, 0.0017186474852005217), (338, 0.016677556654820905), (339, 0.015450386761777702), (340, 0.0), (341, 0.01941984822131787), (342, 0.0), (343, 0.0024008143924930613), (344, 0.0014938433452344594), (345, 0.0), (346, 0.011758544902962005), (347, 0.0022375852073470513), (348, 0.013370375734610071), (349, 0.0), (350, 0.0020328935173221895), (351, 0.02187568497168746), (352, 0.0), (353, 0.0), (354, 0.00795915414000595), (355, 0.0019287448660225848), (356, 0.03094541557037498), (357, 0.0), (358, 0.0), (359, 0.021075044746703925), (360, 0.0016696967321751907), (361, 0.0), (362, 0.04946970658586516), (363, 0.018915868751020026), (364, 0.02233581610847906), (365, 0.03942878314778496), (366, 0.002652053110269879), (367, 0.0024733918973570295), (368, 0.04382332449130239), (369, 0.0017213114576187397), (370, 0.015202282564959611), (371, 0.002634079680139772), (372, 0.002012493002117501), (373, 0.0), (374, 0.0025764487778850544), (375, 0.0192080248094645), (376, 0.0), (377, 0.10527154780769644), (378, 0.0022157952423023613), (379, 0.05229817591294989), (380, 0.01168750413932427), (381, 0.016462666519226146), (382, 0.06505191013622347), (383, 0.0), (384, 0.0), (385, 0.002504737642521853), (386, 0.002241709230237897), (387, 0.0), (388, 0.020386145081499194), (389, 0.01153788818408744), (390, 0.024762505834258285), (391, 0.0034842173346639723), (392, 0.0), (393, 0.01587719731130476), (394, 0.0), (395, 0.0), (396, 0.0), (397, 0.0), (398, 0.024914446504534758), (399, 0.001980466125665593), (400, 0.02962134667196179), (401, 0.010870810953066943), (402, 0.011306007156156683), (403, 0.018029777830809893), (404, 0.011110291765305563), (405, 0.010591530035058912), (406, 0.03597558293610215), (407, 0.002544376953808878), (408, 0.002409529356327532), (409, 0.0), (410, 0.054276217281345907), (411, 0.0029445175801904493), (412, 0.002571568653236517), (413, 0.001601122199637953), (414, 0.0), (415, 0.00307219126377136), (416, 0.0), (417, 0.013397826781851505), (418, 0.0022372987695500578), (419, 0.03375219304330719), (420, 0.012772530994770808), (421, 0.013844754096322603), (422, 0.0), (423, 0.025299906728404147), (424, 0.0030842213122253496), (425, 0.002555397059341668), (426, 0.0), (427, 0.0030877747362519285), (428, 0.0018945899768497703), (429, 0.0), (430, 0.002642931665983153), (431, 0.0037249241037243253), (432, 0.0), (433, 0.022020039000202527), (434, 0.0), (435, 0.007830236935898162), (436, 0.002355307424203615), (437, 0.015385059709664257), (438, 0.011781348800464891), (439, 0.0023229918141480493), (440, 0.0), (441, 0.022912602683789536), (442, 0.002738161882827415), (443, 0.02405089074362896), (444, 0.006747478017238127), (445, 0.00987822280442668), (446, 0.015468711053942354), (447, 0.011996799136739773), (448, 0.011653044410991312), (449, 0.013524706590430239), (450, 0.003278043072567226), (451, 0.0), (452, 0.028737436032320825), (453, 0.00818831896746492), (454, 0.006708146557108361), (455, 0.01126450986920181), (456, 0.0027733446048333753), (457, 0.07663443342422158), (458, 0.0051045055463362675), (459, 0.01715461776468198), (460, 0.019853218436798294), (461, 0.002967406440997435), (462, 0.002858963370526988), (463, 0.013506489606915712), (464, 0.0), (465, 0.01398672639926319), (466, 0.0), (467, 0.009861789371929417), (468, 0.011739184854099511), (469, 0.004077852003670777), (470, 0.0014111837648714586), (471, 0.015141644673688608), (472, 0.0013816928759634761), (473, 0.0023874926906544192), (474, 0.133181934623753), (475, 0.012875167096440258), (476, 0.008276493268991238), (477, 0.012376225690893052), (478, 0.0), (479, 0.0020736783046011024), (480, 0.028435471118736268), (481, 0.002623239466811799), (482, 0.01593314572143232), (483, 0.025957957000020033), (484, 0.008924968251468476), (485, 0.017950076021427307), (486, 0.0104233154149689), (487, 0.03087594041115906), (488, 0.01170986087338641), (489, 0.01820211551931493), (490, 0.0), (491, 0.0030867023270852206), (492, 0.009463438569761607), (493, 0.0), (494, 0.002638818226244669), (495, 0.009556825376167841), (496, 0.03510799032536774), (497, 0.015807565151873818), (498, 0.018596037161089506), (499, 0.0026551322041172645), (500, 0.011874923895354182), (501, 0.011569446559134035), (502, 0.002480180226029008), (503, 0.006758095218858926), (504, 0.09468292468611392), (505, 0.0026267688549774268), (506, 0.0), (507, 0.015049993245289772), (508, 0.010130484207606993), (509, 0.009971144015568843), (510, 0.0), (511, 0.0018468247873049501), (512, 0.01602684700402213), (513, 0.013432074420070727), (514, 0.008060925745847708), (515, 0.0025998789522118735), (516, 0.0023993298510636293), (517, 0.0023610300390133955), (518, 0.0020753431180101224), (519, 0.010799283431652026), (520, 0.013583705945904771), (521, 0.01893206840908259), (522, 0.012995494160117685), (523, 0.01056657598266729), (524, 0.015045481414265588), (525, 0.0025565614265504856), (526, 0.003992352344111166), (527, 0.05227531465351605), (528, 0.0071850398978725505), (529, 0.0), (530, 0.0013942922365354467), (531, 0.023032705402123516), (532, 0.012388820043934656), (533, 0.00976534301001903), (534, 0.01512546347500276), (535, 0.0017642023128565973), (536, 0.0028527044633418503), (537, 0.016744251676110697), (538, 0.011175676455194197), (539, 0.013703302728981627), (540, 0.013135082977993713), (541, 0.033935072152036935), (542, 0.1341242514785812), (543, 0.0020146272911827643), (544, 0.002573604422838319), (545, 0.0021197944873649795), (546, 0.021955654387619948), (547, 0.0), (548, 0.01858845326814653), (549, 0.008747295051747511), (550, 0.006437100874752138), (551, 0.008815016197969427), (552, 0.0), (553, 0.002444826811437393), (554, 0.015942844479197596), (555, 0.0), (556, 0.012982551434874277), (557, 0.0025480117822750726), (558, 0.02343790058375171), (559, 0.015890529829761392), (560, 0.015966537124734455), (561, 0.0), (562, 0.047513556438841184), (563, 0.0020174360296224803), (564, 0.011835879776202804), (565, 0.007375638954209052), (566, 0.0017607545539029016), (567, 0.003778779317356247), (568, 0.06414004196170314), (569, 0.002367476024735527), (570, 0.0027072682430004354), (571, 0.01860701248937126), (572, 0.002467747836326046), (573, 0.061239290731132164), (574, 0.0), (575, 0.0079988913110774), (576, 0.0024430529967737796), (577, 0.0), (578, 0.0), (579, 0.01732586669316125), (580, 0.0022965575756509495), (581, 0.0), (582, 0.0), (583, 0.007596757455695456), (584, 0.01800005942503951), (585, 0.017604119872497763), (586, 0.026906343530418333), (587, 0.002660821569337184), (588, 0.029327056132833457), (589, 0.028905218191001406), (590, 0.0169298211611527), (591, 0.0017743377387659674), (592, 0.053816498478068873), (593, 0.002893112060313043), (594, 0.0025394175865945637), (595, 0.014293281018299788), (596, 0.0), (597, 0.06248155692482904), (598, 0.08031231056282101), (599, 0.011495918228505618), (600, 0.003155342784561242), (601, 0.0021850793111596162), (602, 0.0), (603, 0.04269805306412993), (604, 0.002315993805499866), (605, 0.0013292693667236275), (606, 0.010085057314632051), (607, 0.06581923922371634), (608, 0.017299978516852187), (609, 0.0), (610, 0.019720673570754722), (611, 0.0023887999030232985), (612, 0.013296356426252546), (613, 0.021646646551460234), (614, 0.006854226601033079), (615, 0.0023607617212999324), (616, 0.017970423680522), (617, 0.0028050881207428904), (618, 0.0), (619, 0.002391889150843604), (620, 0.003016103262123064), (621, 0.012176744721079043), (622, 0.0), (623, 0.006934580297679325), (624, 0.002177064119070756), (625, 0.0021966155504061446), (626, 0.17427768847588174), (627, 0.012144701862932872), (628, 0.015166569337445299), (629, 0.013661525791155732), (630, 0.009373032883743908), (631, 0.001409555091765415), (632, 0.002103154514642251), (633, 0.057130317324841966), (634, 0.0017866895395569277), (635, 0.02778993989500202), (636, 0.0020512782854529925), (637, 0.055293742652599044), (638, 0.01979704247158574), (639, 0.016102273952297224), (640, 0.0015454126709839706), (641, 0.014547588503280324), (642, 0.05753331540492347), (643, 0.007952084580945751), (644, 0.009242263290140745), (645, 0.007100543139684088), (646, 0.01591513329714834), (647, 0.013603098623648342), (648, 0.018878582777930447), (649, 0.00908981160115389), (650, 0.0), (651, 0.0037442089314357286), (652, 0.014347313446787947), (653, 0.0021004966942123593), (654, 0.022561899971888864), (655, 0.0025771187140708586), (656, 0.01051571116023698), (657, 0.039907741391214224), (658, 0.0029219292472693493), (659, 0.002592900308261378), (660, 0.0), (661, 0.005750241372228813), (662, 0.002364898930341941), (663, 0.0), (664, 0.026593532705210542), (665, 0.025809357341853432), (666, 0.002492270391468242), (667, 0.41537431651902645), (668, 0.001944553389725612), (669, 0.013461398496131611), (670, 0.016291469572751065), (671, 0.0), (672, 0.006172832617892179), (673, 0.03042939998589628), (674, 0.0636235510874199), (675, 0.006187889117656853), (676, 0.002126627408035888), (677, 0.0), (678, 0.022447007807587578), (679, 0.014658918815864935), (680, 0.0), (681, 0.0), (682, 0.056137120823019686), (683, 0.028905100557058874), (684, 0.016977500064200166), (685, 0.024910109908740895), (686, 0.013742420159851762), (687, 0.00215238230534619), (688, 0.029205289216322067), (689, 0.0), (690, 0.017907635656029618), (691, 0.0024090620243958304), (692, 0.005854982303680721), (693, 0.025377749466735454), (694, 0.0), (695, 0.01989666557241238), (696, 0.015486010609871495), (697, 0.0), (698, 0.0), (699, 0.005117809214007714), (700, 0.020835294587338946), (701, 0.004956457929716327), (702, 0.05427201582405373), (703, 0.002345367256134861), (704, 0.022868430804817534), (705, 0.011022313188687995), (706, 0.07583564815139293), (707, 0.002293445743587187), (708, 0.040812333029924465), (709, 0.02356545347866125), (710, 0.014943178290261233), (711, 0.0016282248699060258), (712, 0.0), (713, 0.0), (714, 0.002383202784817372), (715, 0.015344002175300391), (716, 0.0026798469206063477), (717, 0.0), (718, 0.010752178294617202), (719, 0.002345056306481256), (720, 0.01100367957817721), (721, 0.0018874457456131727), (722, 0.002490837958540976), (723, 0.04252775437921068), (724, 0.0), (725, 0.014144597797390763), (726, 0.05520758855207919), (727, 0.0), (728, 0.001584493999988349), (729, 0.04093148493738356), (730, 0.0743415949047993), (731, 0.0028539220895471866), (732, 0.010714200269802462), (733, 0.011133142992376385), (734, 0.01022371089383741), (735, 0.0021886452831747253), (736, 0.0), (737, 0.04688604293946637), (738, 0.049708623842943576), (739, 0.002752763610200186), (740, 0.08016139820822683), (741, 0.01188362997856956), (742, 0.001921122224449897), (743, 0.04672618326372281), (744, 0.00250924462780886), (745, 0.0), (746, 0.016952776936471646), (747, 0.056548404562253914), (748, 0.03073427810791563), (749, 0.009922969968417121), (750, 0.02231543573646167), (751, 0.01334333004423398), (752, 0.0), (753, 0.061286415962623), (754, 0.0), (755, 0.10697158282793473), (756, 0.0), (757, 0.007903760270839827), (758, 0.0), (759, 0.0), (760, 0.008638179945923407), (761, 0.0), (762, 0.01069084906781122), (763, 0.0128407465122867), (764, 0.0), (765, 0.01058598435260543), (766, 0.00246936343850922), (767, 0.0022556612026938287), (768, 0.004401436812284307), (769, 0.010130704077512436), (770, 0.001996193064811931), (771, 0.05816379714383549), (772, 0.013941599784426282), (773, 0.0), (774, 0.0020261498696466764), (775, 0.0019487613114758788), (776, 0.0028392791086767435), (777, 0.007252255040723611), (778, 0.013196718326294116), (779, 0.009760838246645406), (780, 0.06687442134967932), (781, 0.013599336267787114), (782, 0.02480285992959696), (783, 0.1789836778028174), (784, 0.0008279653429596839), (785, 0.004249207565225688), (786, 0.0), (787, 0.014515372025116817), (788, 0.0), (789, 0.013096010522148548), (790, 0.025113516482595834), (791, 0.003456200087704242), (792, 0.010943887178093541), (793, 0.10030170799779516), (794, 0.009846384251517508), (795, 0.0172079270514297), (796, 0.0022528754184711628), (797, 0.002759205773997335), (798, 0.025516235599812448), (799, 0.0025128500684073714), (800, 0.0018930060929709465), (801, 0.002820080637475716), (802, 0.001997463736165636), (803, 0.012524192356458182), (804, 0.0), (805, 0.012609228853402247), (806, 0.0020999895567826036), (807, 0.0), (808, 0.11486499413197249), (809, 0.0), (810, 0.0024181650477163815), (811, 0.00837145771163981), (812, 0.06746901698525398), (813, 0.0023784550191211042), (814, 0.07257950397758337), (815, 0.018342816989022258), (816, 0.0), (817, 0.0), (818, 0.01784363803377539), (819, 0.008707139896786186), (820, 0.016567807388960916), (821, 0.0), (822, 0.008749370956073692), (823, 0.05976831397144895), (824, 0.038699556110000824), (825, 0.06493985738380155), (826, 0.0), (827, 0.0), (828, 0.002360649118616059), (829, 0.002019644426926276), (830, 0.013507274319600752), (831, 0.007371458134838392), (832, 0.010096320476653316), (833, 0.002329229250887365), (834, 0.0), (835, 0.03095341056555922), (836, 0.008908623538220264), (837, 0.002841253885468642), (838, 0.009094611117320303), (839, 0.001959640592002341), (840, 0.0), (841, 0.0027820496814966976), (842, 0.009991085801131545), (843, 0.016759122983462823), (844, 0.002297734445043287), (845, 0.0231766421874809), (846, 0.028597266558190032), (847, 0.0), (848, 0.014295887586493916), (849, 0.0237019198172349), (850, 0.00968233077581211), (851, 0.01998890637567159), (852, 0.021919006845861677), (853, 0.002078009887155211), (854, 0.05784588512824865), (855, 0.0016137386360679158), (856, 0.008889254776870945), (857, 0.002848462868503931), (858, 0.010688836287610987), (859, 0.05950334914633746), (860, 0.01967819370312839), (861, 0.015465349320837173), (862, 0.050328684738563514), (863, 0.0023823919797240447), (864, 0.0), (865, 0.003330718326037179), (866, 0.0), (867, 0.04473983242704633), (868, 0.061292295091293816), (869, 0.01954871291694715), (870, 0.014003532730811242), (871, 0.0), (872, 0.12746064620667077), (873, 0.0028079454704090104), (874, 0.002009644946770426), (875, 0.00292899732233523), (876, 0.01284564655357815), (877, 0.005876384921520247), (878, 0.01436136291273878), (879, 0.10475131796068948), (880, 0.018499221719303852), (881, 0.021828284965196166), (882, 0.004645639086632866), (883, 0.0), (884, 0.06967535790475483), (885, 0.053621762709180044), (886, 0.012502616293950148), (887, 0.013823903649621008), (888, 0.0033999885528603778), (889, 0.007294815971809464), (890, 0.004751015642387509), (891, 0.01761623418764046), (892, 0.0), (893, 0.022886002475046192), (894, 0.02473581152505708), (895, 0.002077975341240663), (896, 0.0026598277578960355), (897, 0.012413988985202188), (898, 0.003192139473507863), (899, 0.06564794038614129), (900, 0.0063850499333278216), (901, 0.0), (902, 0.011756513695883342), (903, 0.013258804775482552), (904, 0.013199840143333613), (905, 0.09727077223938149), (906, 0.0), (907, 0.011225608170038252), (908, 0.009980546418738374), (909, 0.010735918843759655), (910, 0.003435691388757647), (911, 0.005502457107738409), (912, 0.011133592072319837), (913, 0.0), (914, 0.016412546037748117), (915, 0.01410234862532727), (916, 0.006878996591431812), (917, 0.05528893039328542), (918, 0.0069337494831792894), (919, 0.0), (920, 0.003938307003365631), (921, 0.013786607352376655), (922, 0.008390465737507794), (923, 0.005847909274949374), (924, 0.08416584513692399), (925, 0.017027005070711882), (926, 0.01205584881512772), (927, 0.1032301567978327), (928, 0.0021542907781843426), (929, 0.11571113810613833), (930, 0.0032118391375434915), (931, 0.01361713787985646), (932, 0.008336710054304522), (933, 0.0021256841522100402), (934, 0.05095276920205035), (935, 0.012457579898338707), (936, 0.011787827228847577), (937, 0.0029698453649087573), (938, 0.049785664840713395), (939, 0.0029825229681796103), (940, 0.0032336423750490236), (941, 0.003242248890211254), (942, 0.008526279099670004), (943, 0.04015313661468993), (944, 0.0), (945, 0.0), (946, 0.0029638114666286795), (947, 0.0), (948, 0.0021206068481081737), (949, 0.0), (950, 0.0027894551130888193), (951, 0.07273683001574073), (952, 0.010240823784410118), (953, 0.013568767133061826), (954, 0.1305355991850212), (955, 0.013943124934173021), (956, 0.0022124006196513083), (957, 0.017706507631565244), (958, 0.0071845257859452965), (959, 0.003050799095877961), (960, 0.014299115663596006), (961, 0.03465733560932812), (962, 0.05715501333534208), (963, 0.0029856670587306566), (964, 0.03171119408111209), (965, 0.013899223355358072), (966, 0.03308969453405824), (967, 0.004557400970344473), (968, 0.017518917428110535), (969, 0.0), (970, 0.017954775982520012), (971, 0.0030788359210621777), (972, 0.039811944537064436), (973, 0.01566448965182992), (974, 0.020272607591824594), (975, 0.006801652770025961), (976, 0.0), (977, 0.021379075133790847), (978, 0.002018976336732661), (979, 0.006952436744781911), (980, 0.018890504800196488), (981, 0.011162509238491458), (982, 0.011354901635811968), (983, 0.0107916586974636), (984, 0.0), (985, 0.002849086730404706), (986, 0.0023081861108392864), (987, 0.010422998972274), (988, 0.013692959718174955), (989, 0.0032809790534401332), (990, 0.0135366770373637), (991, 0.004492029146646695), (992, 0.04662926909512753), (993, 0.014345980089103602), (994, 0.0), (995, 0.014410455260026713), (996, 0.01640174851423439), (997, 0.001989554670380039), (998, 0.007075888555133572), (999, 0.0014313841283516407), (1000, 0.004415430968144757), (1001, 0.0), (1002, 0.07250129024387648), (1003, 0.016178952434652012), (1004, 0.00693550767276886), (1005, 0.015218274489967362), (1006, 0.011915572582116396), (1007, 0.008264470470916243), (1008, 0.05145271165562817), (1009, 0.008319004975900093), (1010, 0.0), (1011, 0.0017148310183480668), (1012, 0.0027966672108552574), (1013, 0.0026608563875459455), (1014, 0.07383536646266756), (1015, 0.010494720381626549), (1016, 0.0), (1017, 0.002510040759102531), (1018, 0.013052238361029828), (1019, 0.0), (1020, 0.02813044773163786), (1021, 0.013276059451935076), (1022, 0.0025539817924043794), (1023, 0.002494199904356985), (1024, 0.009033869485474282), (1025, 0.012208658742519947), (1026, 0.012526064512369378), (1027, 0.14276912557568233), (1028, 0.011211077718709413), (1029, 0.0), (1030, 0.014041381672521707), (1031, 0.045163004986877545), (1032, 0.0021813293503473983), (1033, 0.002219645345501316), (1034, 0.0020002753937416505), (1035, 0.009482081113901523), (1036, 0.0026569443490951695), (1037, 0.0), (1038, 0.03500792946576514), (1039, 0.020310236455500192), (1040, 0.00869141612260917), (1041, 0.019492722510167787), (1042, 0.04609383507980153), (1043, 0.049098479490225215), (1044, 0.002864008468781649), (1045, 0.009575594348559799), (1046, 0.0), (1047, 0.016830555421196547), (1048, 0.0020384143412402055), (1049, 0.0034815310454344886), (1050, 0.0), (1051, 0.01802026080839645), (1052, 0.014964245598148466), (1053, 0.00990773093688236), (1054, 0.002042287528489428), (1055, 0.03006401237619965), (1056, 0.0021752326578602823), (1057, 0.009551134215173738), (1058, 0.0), (1059, 0.019120801283328173), (1060, 0.014861642272506796), (1061, 0.03742722171783932), (1062, 0.0), (1063, 0.0025079882978556937), (1064, 0.0014488940108021318), (1065, 0.010342670494406356), (1066, 0.02599609862375084), (1067, 0.005127731746086872), (1068, 0.002273549839037838), (1069, 0.01826624292490169), (1070, 0.012620034991620083), (1071, 0.024104113682138044), (1072, 0.012631879209317957), (1073, 0.014042403502313939), (1074, 0.0), (1075, 0.0), (1076, 0.0034101798650205757), (1077, 0.0), (1078, 0.017393357780006287), (1079, 0.0), (1080, 0.09635746701813955), (1081, 0.011287807214283333), (1082, 0.006880415297176078), (1083, 0.011319902732868377), (1084, 0.00661986161504601), (1085, 0.001979438664387845), (1086, 0.0029099503316314334), (1087, 0.0020752774999581673), (1088, 0.0), (1089, 0.009970105464021491), (1090, 0.016277643202106878), (1091, 0.002356615909813193), (1092, 0.015478801849634283), (1093, 0.012306769702714741), (1094, 0.02047945377538602), (1095, 0.015088623411248028), (1096, 0.009206131512987829), (1097, 0.0025711412492945614), (1098, 0.002248995842613225), (1099, 0.0), (1100, 0.0), (1101, 0.11863117964696858), (1102, 0.07132595266793262), (1103, 0.010891523270563079), (1104, 0.0027941850227844447), (1105, 0.024284027086897076), (1106, 0.0), (1107, 0.012519757438697049), (1108, 0.0024241673401041233), (1109, 0.011036030767048441), (1110, 0.015526693975367316), (1111, 0.07898426202051362), (1112, 0.001866027145311505), (1113, 0.07485685327659314), (1114, 0.0020856743787558175), (1115, 0.0018597040391437072), (1116, 0.008030054488479373), (1117, 0.00611320283289551), (1118, 0.04436968366150231), (1119, 0.06679653539981113), (1120, 0.002302189611927619), (1121, 0.0028549161392715902), (1122, 0.0027348415387326176), (1123, 0.002131743494009651), (1124, 0.00848067300250056), (1125, 0.0743415949047993), (1126, 0.011736507578489224), (1127, 0.15527540505845788), (1128, 0.001630958996858717), (1129, 0.012450089087906716), (1130, 0.00802634835259055), (1131, 0.03654046272870519), (1132, 0.0), (1133, 0.01269538705228369), (1134, 0.0015909001924970959), (1135, 0.028523196629059458), (1136, 0.020340514349370127), (1137, 0.007919280378684772), (1138, 0.008274102393243379), (1139, 0.019878240475053204), (1140, 0.010671406737695746), (1141, 0.016266021392152094), (1142, 0.037214343065570615), (1143, 0.002771337337434045), (1144, 0.012620034991620083), (1145, 0.011687202519139255), (1146, 0.006607432765728057), (1147, 0.1720711348320796), (1148, 0.00338821314778994), (1149, 0.0), (1150, 0.006241907116668664), (1151, 0.009086699309118814), (1152, 0.02885230640084529), (1153, 0.002042806761611977), (1154, 0.002224035972725017), (1155, 0.0032216291577489347), (1156, 0.029044277035780323), (1157, 0.006269605278922357), (1158, 0.011986343278572495), (1159, 0.0026240102384673713), (1160, 0.025441850547828042), (1161, 0.0021171640154209093), (1162, 0.010924150404335076), (1163, 0.010085057314632051), (1164, 0.0018998533449095802), (1165, 0.02399679380604515), (1166, 0.01680569123122354), (1167, 0.0075962297260906905), (1168, 0.002127207504583631), (1169, 0.05903712086501746), (1170, 0.002177446549523059), (1171, 0.007233670940784759), (1172, 0.04465625223725388), (1173, 0.0), (1174, 0.04356712636977678), (1175, 0.05004458313755098), (1176, 0.009418202393188066), (1177, 0.024178707079547865), (1178, 0.0406807630776536), (1179, 0.003171416035190062), (1180, 0.0), (1181, 0.020168405635716546), (1182, 0.0024301619725393144), (1183, 0.012233103648951315), (1184, 0.0), (1185, 0.007996340077869523), (1186, 0.021476403794748064), (1187, 0.0023032630820879864), (1188, 0.014880161324365152), (1189, 0.0), (1190, 0.02365266330868605), (1191, 0.02818199127805133), (1192, 0.0024615857048075128), (1193, 0.017675602190301544), (1194, 0.014042403502313939), (1195, 0.008534619614628747), (1196, 0.052969459355359655), (1197, 0.018496851243375093), (1198, 0.019527048203475072), (1199, 0.0026746547392779937), (1200, 0.0), (1201, 0.0020058520845006767), (1202, 0.012575525409981995), (1203, 0.11077224655141417), (1204, 1.0), (1205, 0.002091821513551595), (1206, 0.0023625732507277994), (1207, 0.015175271395748157), (1208, 0.006479780950965802), (1209, 0.0027189874247968344), (1210, 0.07311128619789371), (1211, 0.008538614087505827), (1212, 0.00207408969398012), (1213, 0.0), (1214, 0.06017302399412716), (1215, 0.1434776317681285), (1216, 0.020983103022096012), (1217, 0.0), (1218, 0.014919820540517163), (1219, 0.013162987510788447), (1220, 0.009977153932835946), (1221, 0.01361044811333181), (1222, 0.011578148833247506), (1223, 0.026817390974840104), (1224, 0.05623802218989959), (1225, 0.014168785033262753), (1226, 0.014067674715348739), (1227, 0.00563730440739715), (1228, 0.0015227818419209051), (1229, 0.00306454818042417), (1230, 0.012856290152095764), (1231, 0.0), (1232, 0.012068003681042366), (1233, 0.0), (1234, 0.0021096806464359695), (1235, 0.008584237969253047), (1236, 0.090497056299122), (1237, 0.008705906506603977), (1238, 0.015838149442801066), (1239, 0.009002590914659924), (1240, 0.009973201458555282), (1241, 0.02225106328999152), (1242, 0.007312076878895445), (1243, 0.0019023906542541178), (1244, 0.0), (1245, 0.009324706131262244), (1246, 0.009460600629355356), (1247, 0.016744251676110697), (1248, 0.015610710149101037), (1249, 0.002430135495797805), (1250, 0.02663588817385977), (1251, 0.015744536016433767), (1252, 0.013128764569007556), (1253, 0.04360169506900117), (1254, 0.011599779091556144), (1255, 0.008726831108944708), (1256, 0.007366654738313631), (1257, 0.014373002747720201), (1258, 0.0024919833998282752), (1259, 0.0), (1260, 0.0), (1261, 0.0025336360901059567), (1262, 0.066859100842959), (1263, 0.0), (1264, 0.048176125141923466), (1265, 0.010924189840158988), (1266, 0.0), (1267, 0.006533902410645534), (1268, 0.0743415949047993), (1269, 0.014143064933905762), (1270, 0.0031999857622573265), (1271, 0.02305844703164741), (1272, 0.0030435260644520058), (1273, 0.011286107823744519), (1274, 0.007573016685534013), (1275, 0.005010853388024655), (1276, 0.001434432889692319), (1277, 0.0021710349746365864), (1278, 0.0102059115014255), (1279, 0.002434561060626206), (1280, 0.0), (1281, 0.008806340544246978), (1282, 0.09985933311799919), (1283, 0.04164197236725441), (1284, 0.012117597550787902), (1285, 0.0), (1286, 0.05666936631350792), (1287, 0.002619111252876609), (1288, 0.01872365095821361), (1289, 0.0), (1290, 0.003097678912104608), (1291, 0.023913718268051876), (1292, 0.0), (1293, 0.012798001693818908), (1294, 0.012400760531921563), (1295, 0.01939026281761683), (1296, 0.12268621041149722), (1297, 0.0029238773895919608), (1298, 0.14681116525718857), (1299, 0.0), (1300, 0.02138960955875975), (1301, 0.003450674766400577), (1302, 0.04869344501104296), (1303, 0.0019891943841107203), (1304, 0.01698564749828599), (1305, 0.01132048832298462), (1306, 0.01935196627259962), (1307, 0.015828708616670743), (1308, 0.0021505948402212936), (1309, 0.017401521149842315), (1310, 0.04692847340498608), (1311, 0.0032006244915351125), (1312, 0.008575626482998089), (1313, 0.001994862040461521), (1314, 0.0075941659454702385), (1315, 0.011580507275813334), (1316, 0.0071693808246711095), (1317, 0.07560570659443494), (1318, 0.0), (1319, 0.009388309107128451), (1320, 0.002963844492235468), (1321, 0.0014241605708435621), (1322, 0.008248646289909492), (1323, 0.012003169103176801), (1324, 0.2613980021968188), (1325, 0.01709437003478235), (1326, 0.005602470803210939), (1327, 0.0026398078756465887), (1328, 0.05678221605094937), (1329, 0.03961233127283011), (1330, 0.01721941759211221), (1331, 0.03273229117260661), (1332, 0.14815862520219245), (1333, 0.0), (1334, 0.028418791185679623), (1335, 0.0024344781894844523), (1336, 0.0023937093895161276), (1337, 0.0025910482515418133), (1338, 0.014624999696483204), (1339, 0.014430085021570054), (1340, 0.015554349384742084), (1341, 0.015536290852878967), (1342, 0.033600246383108844), (1343, 0.03268265041185643), (1344, 0.03843296448481559), (1345, 0.020992986298305427), (1346, 0.005151825976457622), (1347, 0.01920462424941599), (1348, 0.006422964704885941), (1349, 0.05014827419182844), (1350, 0.002287864726907313), (1351, 0.009371026179212965), (1352, 0.019932081153526633), (1353, 0.0021070405324272114), (1354, 0.06151302309780597), (1355, 0.0), (1356, 0.010804488768923768), (1357, 0.1368730979498424), (1358, 0.0029007777440851206), (1359, 0.033950667695572694), (1360, 0.015807495052718806), (1361, 0.007310521179623613), (1362, 0.015939422251017188), (1363, 0.04128803297121479), (1364, 0.016985383945539945), (1365, 0.04942730476933553), (1366, 0.08574530905672234), (1367, 0.1186279014806636), (1368, 0.0070750095237857285), (1369, 0.002246844254811188), (1370, 0.0), (1371, 0.002414910431464774), (1372, 0.015597515616101735), (1373, 0.02101164403811146), (1374, 0.028653052825196878), (1375, 0.02356545347866125), (1376, 0.010160906853566206), (1377, 0.0), (1378, 0.016766883289509767), (1379, 0.018230911629484984), (1380, 0.0), (1381, 0.051453753148425256), (1382, 0.010134365012759428), (1383, 0.01288771863483981), (1384, 0.015582876157527018), (1385, 0.0028489261551478563), (1386, 0.0030185685121762664), (1387, 0.008982348601359134), (1388, 0.16779732202167197), (1389, 0.002726276710944504), (1390, 0.013943799485118799), (1391, 0.024431702295708645), (1392, 0.017334472887407415), (1393, 0.0), (1394, 0.013174178114706654), (1395, 0.01637808549827797), (1396, 0.12165228054029004), (1397, 0.056567640676727295), (1398, 0.009165654158353236), (1399, 0.014991555893218994), (1400, 0.01574589507316874), (1401, 0.08353806531963606), (1402, 0.018364565182288555), (1403, 0.0), (1404, 0.0163573966371999), (1405, 0.0), (1406, 0.020474934409978572), (1407, 0.013033198382194456), (1408, 0.002573064001031925), (1409, 0.0), (1410, 0.036086494115185025), (1411, 0.016205418147438512), (1412, 0.0023185056886217193), (1413, 0.007272179403993993), (1414, 0.020665067612291216), (1415, 0.01370302314461333), (1416, 0.010673892233376892), (1417, 0.001788790778994846), (1418, 0.01470833798702821), (1419, 0.011949255166321561), (1420, 0.00832349990513732), (1421, 0.013917507672506432), (1422, 0.009626851656823497), (1423, 0.0), (1424, 0.017973002493550924), (1425, 0.0), (1426, 0.01167167957331827), (1427, 0.024402904028292163), (1428, 0.061016186996344604), (1429, 0.0), (1430, 0.002152061982980021), (1431, 0.0019505722706427218), (1432, 0.15963198883683585), (1433, 0.00918632701036793), (1434, 0.008128403727178435), (1435, 0.01686032458593283), (1436, 0.002703169695167208), (1437, 0.017801644083698963), (1438, 0.035359767585137536), (1439, 0.007818192138947749), (1440, 0.006264700598461551), (1441, 0.01462947788458338), (1442, 0.015248133705446979), (1443, 0.006972394959315558), (1444, 0.0021359668951327205), (1445, 0.00553252878162478), (1446, 0.014745869916288632), (1447, 0.017743911950713405), (1448, 0.0), (1449, 0.017407842297990327), (1450, 0.00930929179021997), (1451, 0.002204028473924936), (1452, 0.010205280513629955), (1453, 0.02383579913304849), (1454, 0.0636235510874199), (1455, 0.04225502969788853), (1456, 0.0), (1457, 0.0019126878553464557), (1458, 0.017872730936390174), (1459, 0.02646057734772186), (1460, 0.005213811404379742), (1461, 0.013119576586395613), (1462, 0.005309692813874075), (1463, 0.001741839863936873), (1464, 0.014139828782431073), (1465, 0.016890214059764735), (1466, 0.0021344007611679987), (1467, 0.01371517101102564), (1468, 0.013503979564700475), (1469, 0.0018068273032793578), (1470, 0.03182071850617065), (1471, 0.015390224412315752), (1472, 0.0038839183022734763), (1473, 0.06643741959781543), (1474, 0.016146539012469097), (1475, 0.014186630745837168), (1476, 0.012386393892438053), (1477, 0.016567807388960916), (1478, 0.0023080059076331016), (1479, 0.012361532325810623), (1480, 0.0), (1481, 0.025329324771813384), (1482, 0.013697293739939921), (1483, 0.009992107217042905), (1484, 0.016636854245811458), (1485, 0.0), (1486, 0.0029200944131387743), (1487, 0.0), (1488, 0.015552060875451525), (1489, 0.012056689804083458), (1490, 0.06974917383156036), (1491, 0.0), (1492, 0.006115373171518122), (1493, 0.010077633177631946), (1494, 0.002431577823569546), (1495, 0.010458350614822556), (1496, 0.009486292369529456), (1497, 0.008784971947650556), (1498, 0.0), (1499, 0.0017316960588939982), (1500, 0.040968168290385784), (1501, 0.0171296976442614), (1502, 0.08250466666789795), (1503, 0.006315918723015582), (1504, 0.21324517883439792), (1505, 0.0050740622809509976), (1506, 0.03546522625613943), (1507, 0.0022394992304788333), (1508, 0.010372805909488424), (1509, 0.089126250906443), (1510, 0.0022376078107963866), (1511, 0.00527142867843161), (1512, 0.056548404562253914), (1513, 0.013889251726492333), (1514, 0.015978097981578003), (1515, 0.00789504989495061), (1516, 0.0032797577569841016), (1517, 0.013931153085904747), (1518, 0.0023587925579540083), (1519, 0.0), (1520, 0.05544055226988827), (1521, 0.003365651330288727), (1522, 0.0), (1523, 0.0), (1524, 0.002516760698398505), (1525, 0.04971350858784517), (1526, 0.01433611732040234), (1527, 0.0031732223498394194), (1528, 0.03006401237619965), (1529, 0.04913636451308487), (1530, 0.002145294432634698), (1531, 0.03892062929389367), (1532, 0.01580987673897028), (1533, 0.0024026755214069267), (1534, 0.0029397299868410966), (1535, 0.0019864621261615582), (1536, 0.12775986920030616), (1537, 0.016468962578464648), (1538, 0.0), (1539, 0.005420264711176001), (1540, 0.002098821520308718), (1541, 0.017581760956067546), (1542, 0.0039904229809153155), (1543, 0.009045718660438323), (1544, 0.0), (1545, 0.0), (1546, 0.01006545156526651), (1547, 0.002046885849953921), (1548, 0.01968332006278632), (1549, 0.03595607574194329), (1550, 0.00911655536935922), (1551, 0.0020512782854529925), (1552, 0.0019094187363781227), (1553, 0.02051944057383365), (1554, 0.014728614426834232), (1555, 0.17128740176831436), (1556, 0.012610139440091327), (1557, 0.01190351710213671), (1558, 0.06821173425093702), (1559, 0.035359767585137536), (1560, 0.0), (1561, 0.012146198641366018), (1562, 0.0027919028562250754), (1563, 0.002298511303197348), (1564, 0.2613980021968188), (1565, 0.0), (1566, 0.0027813251719686536), (1567, 0.029825964983673667), (1568, 0.005206940745194592), (1569, 0.026301560767554234), (1570, 0.0024231706837654003), (1571, 0.0021945120851975617), (1572, 0.0032408429274246105), (1573, 0.09398399088561872), (1574, 0.020582031651566225), (1575, 0.016858038678653507), (1576, 0.02534729129956663), (1577, 0.019619092786546503), (1578, 0.002906531767161804), (1579, 0.01208332336090857), (1580, 0.01765523698957581), (1581, 0.02007440482819263), (1582, 0.0021845811320927258), (1583, 0.011054559154395594), (1584, 0.0013452718103025563), (1585, 0.010704973755354109), (1586, 0.002996407947617674), (1587, 0.16244650696223606), (1588, 0.008993839518285529), (1589, 0.0), (1590, 0.0026784333601525645), (1591, 0.0), (1592, 0.014194264362839507), (1593, 0.005218410338155384), (1594, 0.007400527571400644), (1595, 0.07128823023828691), (1596, 0.019830243093597755), (1597, 0.0), (1598, 0.015537812013566825), (1599, 0.018805984792388535), (1600, 0.0), (1601, 0.006798820328459139), (1602, 0.0), (1603, 0.00881789594055784), (1604, 0.010373936309491861), (1605, 0.017509134230639517), (1606, 0.017020393464545914), (1607, 0.0022489024844386638), (1608, 0.009659250917185242), (1609, 0.007050696064059372), (1610, 0.016368357443296788), (1611, 0.013541539975343745), (1612, 0.019799032470456092), (1613, 0.0), (1614, 0.0024146967263191862), (1615, 0.0038426219572579006), (1616, 0.0), (1617, 0.012097710029607828), (1618, 0.019828144719946428), (1619, 0.032632629971949524), (1620, 0.0031871623971630376), (1621, 0.0), (1622, 0.0017343751900697698), (1623, 0.003401390075512577), (1624, 0.0015163480899835482), (1625, 0.04033462402482818), (1626, 0.008869217119799313), (1627, 0.00763642749035867), (1628, 0.02758001170071741), (1629, 0.023041296596074984), (1630, 0.009036026026121184), (1631, 0.07831789201537336), (1632, 0.0), (1633, 0.020476424520396774), (1634, 0.01837822336710908), (1635, 0.008835206314782074), (1636, 0.018076431847324076), (1637, 0.033671990837064555), (1638, 0.00787059581871637), (1639, 0.00740844841576252), (1640, 0.009104342651231424), (1641, 0.010085057314632051), (1642, 0.0), (1643, 0.051233666524076196), (1644, 0.00440995280750338), (1645, 0.00231051363556982), (1646, 0.13646405949255744), (1647, 0.009320438014997611), (1648, 0.015480141658776668), (1649, 0.009085704230046268), (1650, 0.0033010064013270085), (1651, 0.002947389301192859), (1652, 0.01855947674476561), (1653, 0.01761376035060335), (1654, 0.0), (1655, 0.013541444093863184), (1656, 0.0032452488485151644), (1657, 0.016155479247554387), (1658, 0.06540245406291437), (1659, 0.022233229523755994), (1660, 0.04686068635218541), (1661, 0.03523115290506315), (1662, 0.002455553382048219), (1663, 0.0064049231631571335), (1664, 0.002653603682193823), (1665, 0.00852053219982014), (1666, 0.01577536341155681), (1667, 0.012030267345627156), (1668, 0.05134259564760435), (1669, 0.018644620144464802), (1670, 0.02218839048376358), (1671, 0.02364484764548044), (1672, 0.002089960887181215), (1673, 0.008188763631762653), (1674, 0.002996266336607592), (1675, 0.0), (1676, 0.01320432032845469), (1677, 0.015322341325556023), (1678, 0.0031416572313886447), (1679, 0.0030775827313899865), (1680, 0.0), (1681, 0.020383563747315515), (1682, 0.012695318843791136), (1683, 0.005637343323186132), (1684, 0.0024854731102970486), (1685, 0.0025968995638691503), (1686, 0.0023508079708077505), (1687, 0.002488849623857672), (1688, 0.01140094111457287), (1689, 0.018239042615856745), (1690, 0.002564227607358172), (1691, 0.001783904696049433), (1692, 0.0024638671089195056), (1693, 0.02030759016624139), (1694, 0.017648546084537354), (1695, 0.00258550048882102), (1696, 0.0), (1697, 0.0032273295477612696), (1698, 0.017153948668011447), (1699, 0.0), (1700, 0.020018566335043154), (1701, 0.002359024891435572), (1702, 0.0025978847121719967), (1703, 0.0023120053903653093), (1704, 0.196993749002603), (1705, 0.0022269627063455956), (1706, 0.0), (1707, 0.014747087100655235), (1708, 0.021543978633315062), (1709, 0.01329096735602537), (1710, 0.017801644083698963), (1711, 0.007186272181847066), (1712, 0.028883967652807558), (1713, 0.0028857642784281064), (1714, 0.0023948328896472013), (1715, 0.0), (1716, 0.034908966447360856), (1717, 0.029300992367401253), (1718, 0.011018573750024388), (1719, 0.0018637719792586973), (1720, 0.00566225616783622), (1721, 0.009324852406208593), (1722, 0.0022187749862648447), (1723, 0.0054129758619089995), (1724, 0.03373623344356989), (1725, 0.011093393662174978), (1726, 0.015524442933014564), (1727, 0.009634320240215617), (1728, 0.0020641459760391907), (1729, 0.003102582811240616), (1730, 0.0026379163863512268), (1731, 0.0020931845819153736), (1732, 0.0022467723402224853), (1733, 0.002913077021433535), (1734, 0.01225940301593315), (1735, 0.0130285133606164), (1736, 0.032502708996526256), (1737, 0.002292392346657747), (1738, 0.026620104029544994), (1739, 0.00993930401675313), (1740, 0.009589838851329862), (1741, 0.002560874368815026), (1742, 0.010825509532965457), (1743, 0.09068710519551425), (1744, 0.017930620537451415), (1745, 0.014332910186549643), (1746, 0.016004079289986678), (1747, 0.017349773832056922), (1748, 0.014749666227155397), (1749, 0.015905308402497688), (1750, 0.0023879937721054153), (1751, 0.019135017186711487), (1752, 0.054993225731789185), (1753, 0.010095187371549932), (1754, 0.0022341556891469047), (1755, 0.21324517883439792), (1756, 0.003010285743165934), (1757, 0.01141292074294575), (1758, 0.016783790864467518), (1759, 0.021604343264827332), (1760, 0.0), (1761, 0.0020830519673520134), (1762, 0.012546829148693178), (1763, 0.08244761453911018), (1764, 0.16353575228323933), (1765, 0.012059022262890429), (1766, 0.09927053087600783), (1767, 0.0), (1768, 0.0028262513628036423), (1769, 0.01820708282542529), (1770, 0.004201973302563324), (1771, 0.0014067308218208264), (1772, 0.017920546632003834), (1773, 0.029084048092322075), (1774, 0.0), (1775, 0.011806627461971496), (1776, 0.015384220506177956), (1777, 0.0015400608836363802), (1778, 0.022308954791056722), (1779, 0.011203275060967044), (1780, 0.13976416316273466), (1781, 0.0), (1782, 0.0027498597044678156), (1783, 0.06612152348664152), (1784, 0.008127720246113253), (1785, 0.0), (1786, 0.007796204225674922), (1787, 0.011768202556549544), (1788, 0.13670820112638016), (1789, 0.0027784072406088316), (1790, 0.0023962661707751546), (1791, 0.017311482278139684), (1792, 0.0), (1793, 0.018221655026132377), (1794, 0.05470661641107843), (1795, 0.0), (1796, 0.007965740624762114), (1797, 0.00934820687349233), (1798, 0.006557366567893823), (1799, 0.009000956501313575), (1800, 0.008268324181832222), (1801, 0.004114521970220762), (1802, 0.002523429129700871), (1803, 0.04387641824305241), (1804, 0.0), (1805, 0.008737865520207081), (1806, 0.011388686818927228), (1807, 0.0021841204790297203), (1808, 0.002310270993473665), (1809, 0.0), (1810, 0.002095409983037263), (1811, 0.004758255324456516), (1812, 0.018142669849446572), (1813, 0.054140348510479414), (1814, 0.011921325675621174), (1815, 0.010938777000568839), (1816, 0.006874558168548301), (1817, 0.010513423197906692), (1818, 0.033295556938426916), (1819, 0.0028995757807143275), (1820, 0.03570217940259775), (1821, 0.018251868748585556), (1822, 0.009245940204612366), (1823, 0.010159542796320763), (1824, 0.005173692768122484), (1825, 0.0), (1826, 0.0032931764953020985), (1827, 0.051658059091320783), (1828, 0.021387011848599678), (1829, 0.002281547364852217), (1830, 0.05162025490574265), (1831, 0.013775036656796637), (1832, 0.0), (1833, 0.0023063450384799033), (1834, 0.039174935742749765), (1835, 0.009806097421848414), (1836, 0.028935103768672542), (1837, 0.011685891904090341), (1838, 0.00478687885649708), (1839, 0.015851705840864348), (1840, 0.013215547254263198), (1841, 0.009564119003586675), (1842, 0.032891124241659284), (1843, 0.022314053091921363), (1844, 0.00210293625178912), (1845, 0.006973017266809665), (1846, 0.014880161324365152), (1847, 0.0029891233506571875), (1848, 0.06398464435953931), (1849, 0.013585314207340967), (1850, 0.0027622161319492224), (1851, 0.0024165770526230162), (1852, 0.0), (1853, 0.014124633773498721), (1854, 0.0018788361573506586), (1855, 0.0020482015529547136), (1856, 0.015896368229339614), (1857, 0.059250072525490145), (1858, 0.0074151684696011026), (1859, 0.002190028201522865), (1860, 0.007742383117442548), (1861, 0.023770530254546837), (1862, 0.06111885070382443), (1863, 0.019745094188150684), (1864, 0.031569581820797665), (1865, 0.04534658681390486), (1866, 0.002733698413924336), (1867, 0.010474280177036999), (1868, 0.12240288397379237), (1869, 0.007750942988572542), (1870, 0.0020138831368222854), (1871, 0.006263323335600809), (1872, 0.06564794038614129), (1873, 0.0027569161547932714), (1874, 0.004070977580839859), (1875, 0.029408716188185413), (1876, 0.08884007332422436), (1877, 0.05529550471697553), (1878, 0.002984839006987713), (1879, 0.0034285721472321583), (1880, 0.035522891353455724), (1881, 0.007089999508110224), (1882, 0.01914613959820879), (1883, 0.002390246992009646), (1884, 0.030737731179286854), (1885, 0.031854609514138855), (1886, 0.02613147174834495), (1887, 0.0), (1888, 0.008525295381321863), (1889, 0.002375367590407724), (1890, 0.013996933238011516), (1891, 0.03881233538777161), (1892, 0.0), (1893, 0.0026013250987247764), (1894, 0.01395919160451611), (1895, 0.0019973793315258372), (1896, 0.019892554469099943), (1897, 0.00303159656536552), (1898, 0.021950412315475364), (1899, 0.0), (1900, 0.0025290433179226066), (1901, 0.011731312303055356), (1902, 0.0017332755039446315), (1903, 0.002339846800395079), (1904, 0.02308412294079259), (1905, 0.01024254489070708), (1906, 0.0743415949047993), (1907, 0.0), (1908, 0.013828983751400185), (1909, 0.010982654389191434), (1910, 0.05189574584417939), (1911, 0.008835206314782074), (1912, 0.019706102029014076), (1913, 0.013257448180835872), (1914, 0.008885407393806569), (1915, 0.0), (1916, 0.0), (1917, 0.019062807308908795), (1918, 0.0022675073031788746), (1919, 0.0), (1920, 0.012713961849841752), (1921, 0.0026791315762494257), (1922, 0.1704599169510203), (1923, 0.00802995205337478), (1924, 0.12126973657142398), (1925, 0.02320551050587515), (1926, 0.003533014290912927), (1927, 0.008695965219459303), (1928, 0.01663134214293901), (1929, 0.03210193858493807), (1930, 0.1368730979498424), (1931, 0.0073237688260232945), (1932, 0.007794280926309294), (1933, 0.01522569200035416), (1934, 0.0027784825801624134), (1935, 0.08233938962156213), (1936, 0.143132337726772), (1937, 0.01901279340525496), (1938, 0.0022384911559393604), (1939, 0.019619092786546503), (1940, 0.0021079408684845755), (1941, 0.017741668992731663), (1942, 0.011083900151754016), (1943, 0.007547640079314657), (1944, 0.014330854208845174), (1945, 0.012610158776156961), (1946, 0.0020939916805780686), (1947, 0.018944315744270294), (1948, 0.0), (1949, 0.0018541741484438723), (1950, 0.015664048735585065), (1951, 0.01129561012531119), (1952, 0.10809300083818357), (1953, 0.01161897918751547), (1954, 0.0783694249980744), (1955, 0.0), (1956, 0.10014736293240648), (1957, 0.15360054258809078), (1958, 0.1059394228483901), (1959, 0.0024070250242985685), (1960, 0.0019312689420635976), (1961, 0.0016925953375690323), (1962, 0.0025054798517810113), (1963, 0.012679989554127937), (1964, 0.0), (1965, 0.001941391784835523), (1966, 0.0), (1967, 0.015966396461883824), (1968, 0.01009840342534683), (1969, 0.009201229383288729), (1970, 0.015861861649565576), (1971, 0.011706495333425557), (1972, 0.01290899659172759), (1973, 0.00302903813160151), (1974, 0.0), (1975, 0.009312632505356395), (1976, 0.0032947185156536234), (1977, 0.0), (1978, 0.020277855957512223), (1979, 0.0), (1980, 0.0), (1981, 0.0025533195876992834), (1982, 0.0), (1983, 0.010296705099984232), (1984, 0.0027749728788486654), (1985, 0.007004952874694511), (1986, 0.0020217734289079913), (1987, 0.04522792212574224), (1988, 0.0023872324994565837), (1989, 0.03487626192996713), (1990, 0.0), (1991, 0.014922740834291383), (1992, 0.014414674522531534), (1993, 0.010719620449501517), (1994, 0.008417094281586521), (1995, 0.011856610345240163), (1996, 0.0025487641225217504), (1997, 0.007823091352718525), (1998, 0.02027354525670721), (1999, 0.007271135182639292), (2000, 0.02964245139363897), (2001, 0.021569490796567913), (2002, 0.0026102338490663394), (2003, 0.01549313578593418), (2004, 0.009592613601859193), (2005, 0.08076183980522297), (2006, 0.020104855444796507), (2007, 0.0018976054807670097), (2008, 0.021576609482430384), (2009, 0.0), (2010, 0.002496089073257781), (2011, 0.01799439195036851), (2012, 0.007044382598081677), (2013, 0.011634113035838507), (2014, 0.01862492284058409), (2015, 0.0045349623833786535), (2016, 0.002422051906499554), (2017, 0.025383821479152413), (2018, 0.014682433975661527), (2019, 0.0), (2020, 0.0), (2021, 0.02057068663910896), (2022, 0.002693701465836537), (2023, 0.012394686239176403), (2024, 0.021894950451199244), (2025, 0.0020512782854529925), (2026, 0.0023006889264896697), (2027, 0.002447561488925213), (2028, 0.013102754544042245), (2029, 0.031165945975063798), (2030, 0.009199402979662357), (2031, 0.0024868077332571054), (2032, 0.0), (2033, 0.0026499171463396382), (2034, 0.0), (2035, 0.020676135310405755), (2036, 0.017721917165297203), (2037, 0.05800570938541065), (2038, 0.07188801324194931), (2039, 0.0021982362021385968), (2040, 0.012767298105970711), (2041, 0.005696257828135763), (2042, 0.0024545866118400967), (2043, 0.014011666394072347), (2044, 0.002007564075395912), (2045, 0.01921168057912568), (2046, 0.11840686697506614), (2047, 0.010872627268841101), (2048, 0.011823341564030145), (2049, 0.008085842531732832), (2050, 0.01710701744320122), (2051, 0.010563559042668556), (2052, 0.013794308122710815), (2053, 0.014742783989694253), (2054, 0.011363029304852354), (2055, 0.011263798359903541), (2056, 0.010696763326174008), (2057, 0.017152215150661468), (2058, 0.03505999414685295), (2059, 0.011179291131891762), (2060, 0.0), (2061, 0.06665941169788246), (2062, 0.022028588208303578), (2063, 0.0025600117842365182), (2064, 0.008637071127269212), (2065, 0.01771613768350462), (2066, 0.002906919294605386), (2067, 0.0021957033406657576), (2068, 0.013358922194506294), (2069, 0.002500163914231249), (2070, 0.006726098755003978), (2071, 0.005644054624289642), (2072, 0.021660590412978284), (2073, 0.04960279560043286), (2074, 0.002052181264520742), (2075, 0.0022711625720108876), (2076, 0.014452597401722927), (2077, 0.009835456058906396), (2078, 0.008347789021790768), (2079, 0.01704860899703107), (2080, 0.01674875944173124), (2081, 0.002530405173165526), (2082, 0.002887548647840829), (2083, 0.016054657492935026), (2084, 0.059167407830119714), (2085, 0.009204596254556722), (2086, 0.010644392301219573), (2087, 0.0439869887021651), (2088, 0.015011416214963953), (2089, 0.03029942262909769), (2090, 0.014885601665623317), (2091, 0.013604114855622075), (2092, 0.002089207307244514), (2093, 0.0025264948346000534), (2094, 0.019174332273574686), (2095, 0.014917173549159744), (2096, 0.008030077115779084), (2097, 0.009917577069005463), (2098, 0.0), (2099, 0.0022750652142104885), (2100, 0.010975350261852573), (2101, 0.008157638100490704), (2102, 0.01012333501480719), (2103, 0.010481748852081238), (2104, 0.006576403473421976), (2105, 0.0), (2106, 0.016571997655283055), (2107, 0.010669545679791174), (2108, 0.05743601529449613), (2109, 0.07209826290688398), (2110, 0.014497422332369088), (2111, 0.14180193831931298), (2112, 0.1443918414092955), (2113, 0.023690494856821082), (2114, 0.059532780811943284), (2115, 0.002254471823022683), (2116, 0.03488090217462601), (2117, 0.025634491218422494), (2118, 0.018053044613892226), (2119, 0.00653016701534247), (2120, 0.019610156709591132), (2121, 0.010554999505263774), (2122, 0.0), (2123, 0.05800439867466648), (2124, 0.012020224373431185), (2125, 0.14532970052292973), (2126, 0.00865218043843135), (2127, 0.010600926378057636), (2128, 0.012081754252228662), (2129, 0.03282679769595417), (2130, 0.019320932896398385), (2131, 0.01771613768350462), (2132, 0.02387305248785895), (2133, 0.06254579718809265), (2134, 0.0019297332804816762), (2135, 0.06302077810653349), (2136, 0.0011896852118032971), (2137, 0.017084248390464334), (2138, 0.01447495209435883), (2139, 0.002513543512306274), (2140, 0.0027919956769092346), (2141, 0.0), (2142, 0.05162025490574265), (2143, 0.016508318425365077), (2144, 0.0), (2145, 0.02477711429760629), (2146, 0.0), (2147, 0.016815389251586495), (2148, 0.012906751169975021), (2149, 0.011552031915320797), (2150, 0.059870547563384446), (2151, 0.0), (2152, 0.011858235703355105), (2153, 0.01051818397938039), (2154, 0.04863922906064882), (2155, 0.014258133829273295), (2156, 0.035359767585137536), (2157, 0.0), (2158, 0.01389405096599697), (2159, 0.01108946291706237), (2160, 0.09436942120478943), (2161, 0.04066837399875551), (2162, 0.0070996702194227775), (2163, 0.06187085129094255), (2164, 0.07820140129227052), (2165, 0.0020394450398145644), (2166, 0.07104530480976774), (2167, 0.0), (2168, 0.0031374871569505094), (2169, 0.014379225068273983), (2170, 0.007545233916216099), (2171, 0.009655585806573365), (2172, 0.0), (2173, 0.01490264792941405), (2174, 0.01451120584013656), (2175, 0.0119819424449682), (2176, 0.023655542234396133), (2177, 0.015028338889284447), (2178, 0.0), (2179, 0.01801425242957514), (2180, 0.01548494711298426), (2181, 0.0743415949047993), (2182, 0.0028490250761667884), (2183, 0.03642723532725767), (2184, 0.020791475641180314), (2185, 0.014753618421770465), (2186, 0.011825556394253804), (2187, 0.0027474866483933897), (2188, 0.0056896436645959845), (2189, 0.019976129465874418), (2190, 0.021303315919788984), (2191, 0.009660669123527676), (2192, 0.005518194901109553), (2193, 0.00813078045736852), (2194, 0.031460405775086596), (2195, 0.015960287817006296), (2196, 0.16863176140721792), (2197, 0.014788085594747962), (2198, 0.008093406618388057), (2199, 0.002069137127017112), (2200, 0.015195267856046673), (2201, 0.021634802531568527), (2202, 0.019014421602854176), (2203, 0.08639663676489298), (2204, 0.0023921213900021062), (2205, 0.019461900850374345), (2206, 0.022763673805546593), (2207, 0.0), (2208, 0.011049513086771798), (2209, 0.007783559257837397), (2210, 0.030872016764376654), (2211, 0.007834206321873802), (2212, 0.011855945077781685), (2213, 0.007382740147335747), (2214, 0.002017667607375991), (2215, 0.0), (2216, 0.015512666212011441), (2217, 0.01840376116521145), (2218, 0.013830186547884246), (2219, 0.010922176533576765), (2220, 0.017830397289024094), (2221, 0.11518733073964568), (2222, 0.008849945807058043), (2223, 0.01134323592268913), (2224, 0.012574636801099942), (2225, 0.0), (2226, 0.0), (2227, 0.006321978120608364), (2228, 0.023081278519445792), (2229, 0.019556862249460454), (2230, 0.012361532325810623), (2231, 0.1426250109110935), (2232, 0.009909261361482489), (2233, 0.04816745151334097), (2234, 0.010086904474440748), (2235, 0.03528992800007716), (2236, 0.00695021433792386), (2237, 0.025105682258095365), (2238, 0.0), (2239, 0.004987523855689583), (2240, 0.013319520753548591), (2241, 0.03216835062196506), (2242, 0.0), (2243, 0.008069713884637206), (2244, 0.0023444221463096463), (2245, 0.02305844703164741), (2246, 0.00252531354084423), (2247, 0.047193287999619596), (2248, 0.021820879365421566), (2249, 0.0028296042361293417), (2250, 0.02057068663910896), (2251, 0.0), (2252, 0.012630602403354934), (2253, 0.0019422124989500983), (2254, 0.0), (2255, 0.010089193791824887), (2256, 0.0026668667197143644), (2257, 0.03933783776174589), (2258, 0.010436624941081983), (2259, 0.0), (2260, 0.007954584564191326), (2261, 0.01928352115766558), (2262, 0.01361702843678762), (2263, 0.01303941175717638), (2264, 0.01813251724000222), (2265, 0.0), (2266, 0.0028489910284873795), (2267, 0.01938326276812557), (2268, 0.0027877376702924936), (2269, 0.002737935659083292), (2270, 0.0), (2271, 0.01548494711298426), (2272, 0.02601063469287819), (2273, 0.037733027676236416), (2274, 0.0), (2275, 0.01620318218299273), (2276, 0.002591115596830587), (2277, 0.005941839729202127), (2278, 0.012802307670956838), (2279, 0.0079513257478039), (2280, 0.013882493299607057), (2281, 0.0), (2282, 0.01919135281375909), (2283, 0.013344793453466461), (2284, 0.002341667927703997), (2285, 0.012088123846398874), (2286, 0.05295478238562505), (2287, 0.005084406086343251), (2288, 0.010024121783544615), (2289, 0.010545385304267914), (2290, 0.05499894147139807), (2291, 0.005565549880553033), (2292, 0.019728687491269055), (2293, 0.001809885163885502), (2294, 0.014614909984740212), (2295, 0.044463503523893194), (2296, 0.014372877660397704), (2297, 0.0141897703698928), (2298, 0.09585015673733946), (2299, 0.024641508321938847), (2300, 0.0026016643514493675), (2301, 0.01196208451815479), (2302, 0.027566330592663182), (2303, 0.00791334210270444), (2304, 0.015393756632120191), (2305, 0.13325408716639747), (2306, 0.0018833747544652261), (2307, 0.0026985585900116352), (2308, 0.06499128431321269), (2309, 0.0), (2310, 0.012386028604658783), (2311, 0.011052350745145451), (2312, 0.07409796184143118), (2313, 0.003032975319567324), (2314, 0.016388894879572482), (2315, 0.017147898891563994), (2316, 0.01857417119578408), (2317, 0.0), (2318, 0.012204582813562164), (2319, 0.013197177058570899), (2320, 0.002421162862489344), (2321, 0.08839728489569382), (2322, 0.0026871648795517), (2323, 0.006784485925854395), (2324, 0.014054385659977905), (2325, 0.01459502191736489), (2326, 0.0), (2327, 0.01961744811323527), (2328, 0.012137094931014674), (2329, 0.014972749234924358), (2330, 0.014338461743648355), (2331, 0.034569699397502235), (2332, 0.0020844842622995442), (2333, 0.0020549913855999937), (2334, 0.0), (2335, 0.015031603743378051), (2336, 0.09021510033265716), (2337, 0.10371304308459955), (2338, 0.016979883234213178), (2339, 0.01946494152845793), (2340, 0.032078119908152264), (2341, 0.01626068699716718), (2342, 0.013751865153968656), (2343, 0.07049940970488601), (2344, 0.04609653307679938), (2345, 0.0016587632778373616), (2346, 0.0), (2347, 0.012282576498303738), (2348, 0.002899786296805074), (2349, 0.044699415559352494), (2350, 0.0), (2351, 0.002136672796982971), (2352, 0.022718458538911097), (2353, 0.015563770035847333), (2354, 0.005268372260534492), (2355, 0.0018463663777875965), (2356, 0.017090054107102355), (2357, 0.005749609329004814), (2358, 0.009103522910184512), (2359, 0.0162980645926693), (2360, 0.0026790212934132106), (2361, 0.012230079942405827), (2362, 0.002991464987693912), (2363, 0.0025484120007770476), (2364, 0.0022298866384833924), (2365, 0.019745601945204132), (2366, 0.0021608165169578765), (2367, 0.017157156138404385), (2368, 0.0035222387192090673), (2369, 0.008790201418870084), (2370, 0.003148146236177257), (2371, 0.014302522951996445), (2372, 0.0), (2373, 0.0), (2374, 0.024027916491660237), (2375, 0.03204911674759176), (2376, 0.04030593280433435), (2377, 0.006395408627449094), (2378, 0.01694765117472051), (2379, 0.0), (2380, 0.002697614139715182), (2381, 0.01994864625294782), (2382, 0.0), (2383, 0.008014956980573553), (2384, 0.013672349982541701), (2385, 0.014435651048485744), (2386, 0.008315104553849975), (2387, 0.0), (2388, 0.021297886142466603), (2389, 0.07073700685354445), (2390, 0.017239595809887896), (2391, 0.011077839307480308), (2392, 0.0017157667940708183), (2393, 0.02602629293633344), (2394, 0.012696966784924274), (2395, 0.01573926460034656), (2396, 0.01712500959170942), (2397, 0.01772595817036347), (2398, 0.08974502748564103), (2399, 0.2077524101218031), (2400, 0.0036344900133400007), (2401, 0.014204413537286461), (2402, 0.011310569789831786), (2403, 0.08253265753041517), (2404, 0.0024516366372862824), (2405, 0.00167587008535654), (2406, 0.014113337517694335), (2407, 0.02539945119365997), (2408, 0.03887779329442333), (2409, 0.0022671674668662068), (2410, 0.013685910749528313), (2411, 0.008257639072066742), (2412, 0.0), (2413, 0.0024020405768301564), (2414, 0.008638162857841053), (2415, 0.033466061419856544), (2416, 0.002434668836406384), (2417, 0.002493889867371109), (2418, 0.07214738638724645), (2419, 0.016830042232056454), (2420, 0.011183890302390925), (2421, 0.061651278528698), (2422, 0.0), (2423, 0.014876913723387186), (2424, 0.28085547970763347), (2425, 0.013215547254263198), (2426, 0.010460860815266662), (2427, 0.0), (2428, 0.0032041529757865), (2429, 0.0023889118904023053), (2430, 0.07933428159038436), (2431, 0.013064730278616977), (2432, 0.0018710265075279598), (2433, 0.009025653857948745), (2434, 0.0), (2435, 0.015388947932920253), (2436, 0.04508948990795518), (2437, 0.0), (2438, 0.014572813548685582), (2439, 0.01072059925386932), (2440, 0.004746507000156654), (2441, 0.013927766072757605), (2442, 0.037610785434220195), (2443, 0.008637370247038284), (2444, 0.06065141027601702), (2445, 0.019932081153526633), (2446, 0.14971868791460163), (2447, 0.012788747183050321), (2448, 0.015475655440393674), (2449, 0.0024540120471852685), (2450, 0.0021165316760159403), (2451, 0.011142007560747028), (2452, 0.02441213664787809), (2453, 0.0025036251021432186), (2454, 0.06256212971257258), (2455, 0.0018772750481561675), (2456, 0.022740147108150352), (2457, 0.007036587751243108), (2458, 0.011169928157049779), (2459, 0.04692282909455638), (2460, 0.07605219419973439), (2461, 0.0021919587757382006), (2462, 0.0), (2463, 0.09765325295858016), (2464, 0.03152373268572352), (2465, 0.0012621878704080483), (2466, 0.0017194343425650858), (2467, 0.0019058674218167583), (2468, 0.02009537751736748), (2469, 0.0023204800478264257), (2470, 0.019161636617570543), (2471, 0.0), (2472, 0.008421336597543093), (2473, 0.0029594138263674356), (2474, 0.07484461734498539), (2475, 0.01894706080255009), (2476, 0.03528992800007716), (2477, 0.0025068189955348183), (2478, 0.019527048203475072), (2479, 0.007952012420967944), (2480, 0.003211118350192894), (2481, 0.0397496718531855), (2482, 0.0), (2483, 0.0022049778679645734), (2484, 0.009876782623805126), (2485, 0.002188693893909006), (2486, 0.010613279482574255), (2487, 0.003521059551884054), (2488, 0.017001920943761604), (2489, 0.0022297291178798944), (2490, 0.025019031120076803), (2491, 0.008662181277189717), (2492, 0.06471333658163722), (2493, 0.039310140902183266), (2494, 0.01083153137833028), (2495, 0.014141107184229297), (2496, 0.020386614295598664), (2497, 0.02257314239475453), (2498, 0.01580987673897028), (2499, 0.008174290889532114), (2500, 0.02813044773163786), (2501, 0.012259241283474885), (2502, 0.020137251137225556), (2503, 0.008473849411685937), (2504, 0.009470235511429483), (2505, 0.002714791762309703), (2506, 0.0), (2507, 0.011354093990252763), (2508, 0.21149280854348584), (2509, 0.017581760956067546), (2510, 0.0102083549372286), (2511, 0.0), (2512, 0.007252836327867557), (2513, 0.002624262428459376), (2514, 0.055827725750575624), (2515, 0.07527656790446935), (2516, 0.012091374572878868), (2517, 0.003077474161709561), (2518, 0.007370211221571504), (2519, 0.002790380271971462), (2520, 0.0029073250868940042), (2521, 0.00255792231420639), (2522, 0.004310114078651513), (2523, 0.002046107673672214), (2524, 0.013792637848634035), (2525, 0.0032092400501847677), (2526, 0.023073150739698633), (2527, 0.02912897164046607), (2528, 0.07667473026638515), (2529, 0.0019287757807374905), (2530, 0.056739935943374585), (2531, 0.008657680684749171), (2532, 0.01095665065354191), (2533, 0.002736613325213422), (2534, 0.0031126006197000114), (2535, 0.0024883015786171018), (2536, 0.0026166869032887828), (2537, 0.015364361735929774), (2538, 0.0019086446746299191), (2539, 0.0), (2540, 0.030388377443521936), (2541, 0.04843235621991886), (2542, 0.01623542321118758), (2543, 0.02007509035193076), (2544, 0.0), (2545, 0.007537578909618859), (2546, 0.02010354484032124), (2547, 0.1368730979498424), (2548, 0.0027828792383645753), (2549, 0.00666050333940141), (2550, 0.030837514312655082), (2551, 0.007870270443780723), (2552, 0.002375914779341183), (2553, 0.00896999770723244), (2554, 0.015312756182726978), (2555, 0.01531765092873216), (2556, 0.0), (2557, 0.00858986593149039), (2558, 0.012733534962094931), (2559, 0.010371487377494078), (2560, 0.0651264557228275), (2561, 0.011204341869834652), (2562, 0.015439747620620812), (2563, 0.011187544675845727), (2564, 0.013703441151166567), (2565, 0.0024676315563706003), (2566, 0.02081620119432872), (2567, 0.010588271562980358), (2568, 0.0018705925942559258), (2569, 0.00155004049638062), (2570, 0.002618856758935218), (2571, 0.01934785249991889), (2572, 0.008422930323726083), (2573, 0.004464773606155696), (2574, 0.016860785942256887), (2575, 0.009925653666576294), (2576, 0.015963881383821685), (2577, 0.0), (2578, 0.04664092135506189), (2579, 0.039759167740079274), (2580, 0.08645150835302924), (2581, 0.01269856819853558), (2582, 0.016148152808203795), (2583, 0.030881908766637323), (2584, 0.008034354612765847), (2585, 0.0), (2586, 0.0018100440899482039), (2587, 0.020422568576636695), (2588, 0.014018484587037985), (2589, 0.02486820272374461), (2590, 0.01616503995531843), (2591, 0.012100528704294063), (2592, 0.002306911891924363), (2593, 0.0), (2594, 0.0022291147409854548), (2595, 0.015230039973059502), (2596, 0.0028919550857338986), (2597, 0.018917737304256478), (2598, 0.010477041166095796), (2599, 0.0), (2600, 0.004726691389779948), (2601, 0.0031126204188563805), (2602, 0.010683450820563479), (2603, 0.018053044613892226), (2604, 0.0023534250217234305), (2605, 0.01319272142331162), (2606, 0.0025166497329209554), (2607, 0.1020218656368525), (2608, 0.008216757869985854), (2609, 0.02226115925272736), (2610, 0.013840378016664018), (2611, 0.0024605091979619997), (2612, 0.06404004990342413), (2613, 0.11344706168051323), (2614, 0.012814858566983667), (2615, 0.010274564238834778), (2616, 0.00863267617690919), (2617, 0.0019595543773109495), (2618, 0.002425036733172285), (2619, 0.012406723947526727), (2620, 0.017973711469351276), (2621, 0.002115556544391011), (2622, 0.0), (2623, 0.0020593496407621146), (2624, 0.02570158631696869), (2625, 0.0), (2626, 0.009279942723584688), (2627, 0.0022528591733913883), (2628, 0.0), (2629, 0.002768316552312892), (2630, 0.01699050188474715), (2631, 0.14492141437986822), (2632, 0.00827146278090226), (2633, 0.02035889986130021), (2634, 0.011167972878572028), (2635, 0.002422681968071225), (2636, 0.0), (2637, 0.016760021341742606), (2638, 0.11023756557553158), (2639, 0.12083657086903582), (2640, 0.004070153108953153), (2641, 0.11877550536815923), (2642, 0.002124244438402206), (2643, 0.02813044773163786), (2644, 0.0023431762386947707), (2645, 0.018412024037236498), (2646, 0.12579223506273265), (2647, 0.0031282365695246054), (2648, 0.024790684878210907), (2649, 0.02145785272232946), (2650, 0.01777740728341096), (2651, 0.021757725015119453), (2652, 0.10364178067057844), (2653, 0.01321461142307132), (2654, 0.009715867681793278), (2655, 0.0026630999611565783), (2656, 0.0025722893884154515), (2657, 0.0017341706640899204), (2658, 0.23947365249467625), (2659, 0.014008816916506238), (2660, 0.003493971694924249), (2661, 0.013472915030138498), (2662, 0.038784586525497246), (2663, 0.007163008642445067), (2664, 0.046388839560034874), (2665, 0.0027702601315393633), (2666, 0.014099392037572375), (2667, 0.0027404878752538935), (2668, 0.0), (2669, 0.010945520262986686), (2670, 0.09065945520833228), (2671, 0.0), (2672, 0.006182672861896759), (2673, 0.006542784210494453), (2674, 0.0030145637475480942), (2675, 0.024188691031768638), (2676, 0.027269193031367586), (2677, 0.009312305643522022), (2678, 0.01244016260552882), (2679, 0.035384184027846564), (2680, 0.017711826502282223), (2681, 0.016163578566442523), (2682, 0.0321672024489139), (2683, 0.014192246669959961), (2684, 0.07234519816151866), (2685, 0.0029565775803152973), (2686, 0.02183299884654572), (2687, 0.0023290475000860207), (2688, 0.03534051012912446), (2689, 0.02225383091628596), (2690, 0.12631139042924855), (2691, 0.0038566220598862866), (2692, 0.011399787524457715), (2693, 0.08987565813179331), (2694, 0.011838140985333447), (2695, 0.012162303943242561), (2696, 0.06778225189302588), (2697, 0.002306447507641402), (2698, 0.0), (2699, 0.0021595970047793758), (2700, 0.002373911339190651), (2701, 0.18109785625700253), (2702, 0.0022057162369981394), (2703, 0.020437795529889828), (2704, 0.0023357135390647005), (2705, 0.02035889986130021), (2706, 0.13646405949255744), (2707, 0.006855684688587855), (2708, 0.0), (2709, 0.016214062870645737), (2710, 0.0), (2711, 0.011193223770628317), (2712, 0.0), (2713, 0.07468306278234402), (2714, 0.10424526695348196), (2715, 0.006868942494305243), (2716, 0.0027148437863768783), (2717, 0.0), (2718, 0.016591741251836583), (2719, 0.05080940569522522), (2720, 0.017840439713884625), (2721, 0.01567880954695643), (2722, 0.019640149264690054), (2723, 0.02599575084246221), (2724, 0.010557973299139975), (2725, 0.05800439867466648), (2726, 0.0021686812904936517), (2727, 0.0020500283967654527), (2728, 0.009589706902193369), (2729, 0.017773892559581478), (2730, 0.0), (2731, 0.0033829093702504157), (2732, 0.009537448461099364), (2733, 0.016827625579011688), (2734, 0.01835670049596926), (2735, 0.019943692020784345), (2736, 0.021595669731933838), (2737, 0.01443261998225119), (2738, 0.045381484148852284), (2739, 0.10622848107875368), (2740, 0.020968611306050874), (2741, 0.014447546465376401), (2742, 0.014536702290311381), (2743, 0.0), (2744, 0.0), (2745, 0.0), (2746, 0.01692858922787381), (2747, 0.012051131881555042), (2748, 0.0497261983796772), (2749, 0.0031769897577763506), (2750, 0.010263417558928758), (2751, 0.01141010982684672), (2752, 0.010085655114304598), (2753, 0.01294943014847377), (2754, 0.1413392554049833), (2755, 0.020164711926981282), (2756, 0.002696143662429494), (2757, 0.09585015673733946), (2758, 0.030694131740998568), (2759, 0.0), (2760, 0.006850699908295431), (2761, 0.011441568253028092), (2762, 0.014300594741011044), (2763, 0.002280467384917294), (2764, 0.04455168053378701), (2765, 0.05227531465351605), (2766, 0.002014845505972155), (2767, 0.015067902056084949), (2768, 0.0084947646176796), (2769, 0.017721917165297203), (2770, 0.007736040453112672), (2771, 0.006149886379929947), (2772, 0.002303921473310762), (2773, 0.020474934409978572), (2774, 0.01400158342446094), (2775, 0.011156224609163084), (2776, 0.011858235703355105), (2777, 0.0029644683272064794), (2778, 0.0029627506340814892), (2779, 0.02062460683905276), (2780, 0.014560457529434384), (2781, 0.014436685290621233), (2782, 0.04465625223725388), (2783, 0.0028829129597740285), (2784, 0.008179341919843357), (2785, 0.017705714358339956), (2786, 0.014737874937753487), (2787, 0.018151907339344388), (2788, 0.0021268257390966434), (2789, 0.0023472867163534636), (2790, 0.014342566690115095), (2791, 0.03719782312054589), (2792, 0.01289707976186014), (2793, 0.016421861984726983), (2794, 0.00189846123950252), (2795, 0.015343355575579483), (2796, 0.02403326384920114), (2797, 0.015218270243007582), (2798, 0.02102676172792988), (2799, 0.015034343666721097), (2800, 0.014926371585389644), (2801, 0.009505661215341629), (2802, 0.002414406406197334), (2803, 0.018186592489035706), (2804, 0.05825236546306188), (2805, 0.06039833745672838), (2806, 0.03487448493953291), (2807, 0.013772458947090454), (2808, 0.05268891652687567), (2809, 0.11751501908685888), (2810, 0.020237950080379576), (2811, 0.002424673402476512), (2812, 0.00823770002898), (2813, 0.009956737260084055), (2814, 0.008737577846371003), (2815, 0.02062460683905276), (2816, 0.009710352144568045), (2817, 0.15783076318621173), (2818, 0.019452898928464767), (2819, 0.02698056040237592), (2820, 0.023780103111718614), (2821, 0.008907350023950562), (2822, 0.0020364229797541667), (2823, 0.07136380826499313), (2824, 0.0027300671198449), (2825, 0.017401521149842315), (2826, 0.02198423653123232), (2827, 0.022402161717592975), (2828, 0.042543998610277425), (2829, 0.0), (2830, 0.019859039682177743), (2831, 0.014829416228701764), (2832, 0.005547781668274153), (2833, 0.0262822873850422), (2834, 0.011123679413865755), (2835, 0.007387353196310082), (2836, 0.01766611862685956), (2837, 0.002269907273571281), (2838, 0.01151740066025905), (2839, 0.0029064115748825645), (2840, 0.015866099521636503), (2841, 0.002608620989993163), (2842, 0.012992919357957329), (2843, 0.006116816648327557), (2844, 0.017807434801397685), (2845, 0.044379062048855014), (2846, 0.018638793574100157), (2847, 0.0038647225747591453), (2848, 0.00251993764409936), (2849, 0.0023311416835284965), (2850, 0.03204911674759176), (2851, 0.0), (2852, 0.0019965622595564812), (2853, 0.014788085594747962), (2854, 0.022263917068942617), (2855, 0.012200256971643474), (2856, 0.014627688045472681), (2857, 0.002845833199190939), (2858, 0.01958756886344689), (2859, 0.0022506806719864384), (2860, 0.013057920617745824), (2861, 0.017401521149842315), (2862, 0.0026562541399492373), (2863, 0.0), (2864, 0.015554349384742084), (2865, 0.12458108657425343), (2866, 0.001891828221942182), (2867, 0.06412461595855579), (2868, 0.0), (2869, 0.12041766918930227), (2870, 0.025709861287202165), (2871, 0.025395566352789698), (2872, 0.0032851559755749547), (2873, 0.009779283494493723), (2874, 0.015576874043570768), (2875, 0.0028552287967617196), (2876, 0.012233464770613893), (2877, 0.01273039003062602), (2878, 0.015583930148148037), (2879, 0.01134534103605201), (2880, 0.015050492358751145), (2881, 0.09243651933245514), (2882, 0.0024965496330880766), (2883, 0.0), (2884, 0.0030697083974862978), (2885, 0.004276318207248446), (2886, 0.024865877715269085), (2887, 0.002640493151097887), (2888, 0.02395778414154712), (2889, 0.026418443581410763), (2890, 0.011874115387049654), (2891, 0.01134008220783669), (2892, 0.014421724844950724), (2893, 0.016118758196327364), (2894, 0.12406259921491339), (2895, 0.012231723759192636), (2896, 0.0022878873585656673), (2897, 0.0), (2898, 0.002347806776325053), (2899, 0.0031228891730755957), (2900, 0.04702273104392347), (2901, 0.002341978049494797), (2902, 0.002552288362325909), (2903, 0.0060670879317296375), (2904, 0.033518297726761855), (2905, 0.02813044773163786), (2906, 0.01219751670874882), (2907, 0.0016254094921094194), (2908, 0.012523846316757051), (2909, 0.04989398047730609), (2910, 0.035249721717175345), (2911, 0.017272851145821586), (2912, 0.010462515268503048), (2913, 0.025300047918128295), (2914, 0.02813044773163786), (2915, 0.00810339484698674), (2916, 0.016518592079608346), (2917, 0.0), (2918, 0.012560905986632164), (2919, 0.0026719436559420463), (2920, 0.006534592777173279), (2921, 0.002482865271954562), (2922, 0.02027106941452595), (2923, 0.004398080849908817), (2924, 0.14266660715431223), (2925, 0.034082909733069634), (2926, 0.0022046513916097123), (2927, 0.012736088691142981), (2928, 0.017932737883488786), (2929, 0.004269725460760397), (2930, 0.0018147313950570437), (2931, 0.012750175517375426), (2932, 0.09138854161696217), (2933, 0.002513724164937326), (2934, 0.013674193711651041), (2935, 0.002033617276022056), (2936, 0.04948134083208301), (2937, 0.11900159835438721), (2938, 0.01653914851541765), (2939, 0.014515208980508435), (2940, 0.0), (2941, 0.017603749006318545), (2942, 0.00221307712649059), (2943, 0.003105415411725288), (2944, 0.0), (2945, 0.0), (2946, 0.06889687988843908), (2947, 0.00960322130397907), (2948, 0.056445262928952494), (2949, 0.0), (2950, 0.016360810953834064), (2951, 0.006318566828147922), (2952, 0.022405112734789692), (2953, 0.017095971958115005), (2954, 0.03628988503034958), (2955, 0.01012420857306899), (2956, 0.019892554469099943), (2957, 0.01056667020676642), (2958, 0.001733599256357248), (2959, 0.0991897727422249), (2960, 0.014134312252783408), (2961, 0.0), (2962, 0.0020076838138159935), (2963, 0.0), (2964, 0.016671970747950553), (2965, 0.017780977710944664), (2966, 0.14971868791460163), (2967, 0.0), (2968, 0.008503878978150598), (2969, 0.021254553014836388), (2970, 0.063208694922192), (2971, 0.010825584289407745), (2972, 0.002750307338605124), (2973, 0.029526121669076744), (2974, 0.002572066530312679), (2975, 0.014337691339882667), (2976, 0.01225031076388655), (2977, 0.0024046813028910674), (2978, 0.009852710582350946), (2979, 0.022250659471498326), (2980, 0.0), (2981, 0.061101416914747866), (2982, 0.02306923584787965), (2983, 0.001891229226549747), (2984, 0.0023932619101394276), (2985, 0.0023746322083670413), (2986, 0.014461608795670412), (2987, 0.023521979684350255), (2988, 0.007887162687325838), (2989, 0.0060606307096059304), (2990, 0.0018724766662567634), (2991, 0.0019659910902577937), (2992, 0.05748708845701132), (2993, 0.016588718150185332), (2994, 0.008241178564884172), (2995, 0.03515345672476308), (2996, 0.0024971374310627484), (2997, 0.019285456528660278), (2998, 0.045197108469124656), (2999, 0.020027847539378148), (3000, 0.0030885654840155474), (3001, 0.010059231875986313), (3002, 0.13250861854340282), (3003, 0.00758718192331473), (3004, 0.016571118608742552), (3005, 0.0020929862800809483), (3006, 0.01595839730153435), (3007, 0.002398484908196748), (3008, 0.0020611155055070963), (3009, 0.01523241038576497), (3010, 0.01262917786612736), (3011, 0.015032904619481265), (3012, 0.01277453860003236), (3013, 0.01517349797866319), (3014, 0.0743415949047993), (3015, 0.0027462258878745947), (3016, 0.02698056040237592), (3017, 0.01582777287857929), (3018, 0.0), (3019, 0.015510931080520127), (3020, 0.010940132801896705), (3021, 0.013706025098694485), (3022, 0.0), (3023, 0.0), (3024, 0.049464988442403754), (3025, 0.002922073125598414), (3026, 0.0), (3027, 0.002638300352182397), (3028, 0.01434924672554737), (3029, 0.05179582126373214), (3030, 0.00558529149499102), (3031, 0.005561501730286641), (3032, 0.016695365470553107), (3033, 0.0024125654798681927), (3034, 0.01148009305974616), (3035, 0.009006391915680093), (3036, 0.11801379144792348), (3037, 0.050365155832799526), (3038, 0.02027106941452595), (3039, 0.08296718239682406), (3040, 0.0031292192101763133), (3041, 0.035687897206000074), (3042, 0.16394707833176814), (3043, 0.049401451643737604), (3044, 0.0024058962535268027), (3045, 0.01872753252395471), (3046, 0.0), (3047, 0.01772926985728382), (3048, 0.014185320950280678), (3049, 0.0020375108434468694), (3050, 0.0021944034750291026), (3051, 0.014625686653743529), (3052, 0.1698505705233097), (3053, 0.014837572386225132), (3054, 0.0021501023030712735), (3055, 0.10883141426130873), (3056, 0.0), (3057, 0.01570853375904382), (3058, 0.016009699042589965), (3059, 0.0024010047959107756), (3060, 0.0025106749126427882), (3061, 0.0024370086606407848), (3062, 0.019802144201431497), (3063, 0.020420056736520538), (3064, 0.002868933519375534), (3065, 0.02581928637469512), (3066, 0.06481457875984394), (3067, 0.157433138429539), (3068, 0.0032527251408856605), (3069, 0.020340514349370127), (3070, 0.015461711239308944), (3071, 0.017749348129565266), (3072, 0.021818415447230104), (3073, 0.021291361823579154), (3074, 0.09578374978488272), (3075, 0.11136470622723293), (3076, 0.002842982189324346), (3077, 0.012236910302917441), (3078, 0.0), (3079, 0.06719254539252859), (3080, 0.004659387086159195), (3081, 0.01333493181260938), (3082, 0.0), (3083, 0.008024683348899619), (3084, 0.008749370956073692), (3085, 0.010763161780542246), (3086, 0.002317083910895839), (3087, 0.018890504800196488), (3088, 0.0022026428794569646), (3089, 0.020607488582868594), (3090, 0.16705475857879915), (3091, 0.0), (3092, 0.001795235503757541), (3093, 0.017731584359612883), (3094, 0.0027100178148644722), (3095, 0.013372523497566203), (3096, 0.0023986546595570384), (3097, 0.020304984854652135), (3098, 0.007658657576425425), (3099, 0.019062807308908795), (3100, 0.08418989589918945), (3101, 0.0), (3102, 0.002806435098642574), (3103, 0.015610710149101037), (3104, 0.0), (3105, 0.0018696389220438311), (3106, 0.004956457929716327), (3107, 0.0023260935254582945), (3108, 0.006444056041258543), (3109, 0.0027337904644508986), (3110, 0.005652590390899432), (3111, 0.01744454014955508), (3112, 0.0), (3113, 0.01241577372523438), (3114, 0.07845656749058634), (3115, 0.0), (3116, 0.021178594729797006), (3117, 0.0021732016180857493), (3118, 0.0), (3119, 0.0028563122706433287), (3120, 0.0), (3121, 0.003420620058855983), (3122, 0.05765399660314187), (3123, 0.019565962204732376), (3124, 0.0), (3125, 0.0029163684798296755), (3126, 0.0), (3127, 0.01028228780997614), (3128, 0.020310236455500192), (3129, 0.002543802077095133), (3130, 0.008320486589066728), (3131, 0.0023472964179593147), (3132, 0.013648672097597014), (3133, 0.07016430435107383), (3134, 0.05101883538023799), (3135, 0.016301488817829366), (3136, 0.08034822533891081), (3137, 0.002331938927315871), (3138, 0.0027234406043636487), (3139, 0.008482065463680745), (3140, 0.006404208276921953), (3141, 0.009789684177060023), (3142, 0.040422674886691774), (3143, 0.007413228837429592), (3144, 0.0), (3145, 0.0022762387190957954), (3146, 0.01828984181265002), (3147, 0.002303872163943072), (3148, 0.0022787151523660995), (3149, 0.013446145348186559), (3150, 0.002517566109904845), (3151, 0.09579491632044511), (3152, 0.003304530165594611), (3153, 0.05535245511321191), (3154, 0.0), (3155, 0.016286884574356092), (3156, 0.05478472667078016), (3157, 0.0016580647207560674), (3158, 0.009079486036918005), (3159, 0.0), (3160, 0.015710005338922414), (3161, 0.019624059258077066), (3162, 0.05732782834697828), (3163, 0.0259313072192835), (3164, 0.04097373489666023), (3165, 0.02813044773163786), (3166, 0.10880369213836757), (3167, 0.010126497987378268), (3168, 0.05303479397273202), (3169, 0.01290550311845303), (3170, 0.00972193115600686), (3171, 0.015689367093810705), (3172, 0.0), (3173, 0.002895282478905332), (3174, 0.021842931358389724), (3175, 0.0), (3176, 0.007698017485374003), (3177, 0.008586320454345538), (3178, 0.00824487186472066), (3179, 0.022308954791056722), (3180, 0.01616267296558518), (3181, 0.0030375800824113254), (3182, 0.018097372228843774), (3183, 0.002655934480214666), (3184, 0.010939901666987625), (3185, 0.00976147188046748), (3186, 0.0024567857593703352), (3187, 0.0024100210002538356), (3188, 0.014113337517694335), (3189, 0.027044906119990744), (3190, 0.007451982174795011), (3191, 0.0321672024489139), (3192, 0.006021609585302584), (3193, 0.010707237394797604), (3194, 0.0162923316559206), (3195, 0.01564945157686238), (3196, 0.10186969025111399), (3197, 0.016830555421196547), (3198, 0.017311482278139684), (3199, 0.0022770412563926008), (3200, 0.07803055742274813), (3201, 0.012583548047113008), (3202, 0.13129628604098184), (3203, 0.002805773097807977), (3204, 0.039872275683506236), (3205, 0.030302389515888904), (3206, 0.06262455690931608), (3207, 0.054375947411555846), (3208, 0.012331345126011299), (3209, 0.002135301234027042), (3210, 0.012447477425514594), (3211, 0.017134015544327554), (3212, 0.022164211172606214), (3213, 0.011035956568241587), (3214, 0.0), (3215, 0.1440974351193206), (3216, 0.012601101746164871), (3217, 0.018145229612300005), (3218, 0.001906918943226032), (3219, 0.010610889575427416), (3220, 0.0), (3221, 0.018929375115858717), (3222, 0.024082249920526853), (3223, 0.008431074367468573), (3224, 0.013996933238011516), (3225, 0.034697348114314575), (3226, 0.0027094225478358153), (3227, 0.002670549825317117), (3228, 0.0024698094101563766), (3229, 0.014791473975147582), (3230, 0.013749935740720046), (3231, 0.0123172743342342), (3232, 0.014681409651282663), (3233, 0.00238511506286055), (3234, 0.014557097472752781), (3235, 0.022721416768114698), (3236, 0.0), (3237, 0.0), (3238, 0.0), (3239, 0.024827400024831255), (3240, 0.0027948425195552275), (3241, 0.007915301173788131), (3242, 0.0026984189990650865), (3243, 0.013742470544782679), (3244, 0.007163108208153801), (3245, 0.037339150881833066), (3246, 0.013037998976337652), (3247, 0.0), (3248, 0.05246256980753353), (3249, 0.016198542790573374), (3250, 0.01962846253964079), (3251, 0.026276394317854352), (3252, 0.02263718103934932), (3253, 0.009108280591580907), (3254, 0.0034647164692653666), (3255, 0.04036806104224916), (3256, 0.04020386004765026), (3257, 0.03663092902767234), (3258, 0.0), (3259, 0.02695098763992826), (3260, 0.01571336880292207), (3261, 0.010111878303932152), (3262, 0.04123931815274297), (3263, 0.008272480690040494), (3264, 0.035270644602669925), (3265, 0.020823922874191464), (3266, 0.0027530387154154254), (3267, 0.010794978335083534), (3268, 0.009991914900847958), (3269, 0.016239461386203087), (3270, 0.0024653465893595744), (3271, 0.015749644864046272), (3272, 0.0022036672696271187), (3273, 0.0028469774289427378), (3274, 0.014940813511755784), (3275, 0.018168576664112875), (3276, 0.01233314462472121), (3277, 0.002594458371372629), (3278, 0.0), (3279, 0.014627688045472681), (3280, 0.002652626496836067), (3281, 0.29099486398805685), (3282, 0.0023608725833390034), (3283, 0.011336270844948369), (3284, 0.019486916163155673), (3285, 0.0026707744282193366), (3286, 0.0191669266415591), (3287, 0.01682605316259935), (3288, 0.0), (3289, 0.01352047441112451), (3290, 0.0), (3291, 0.0), (3292, 0.0), (3293, 0.01672335689829976), (3294, 0.07073584954852877), (3295, 0.0127840851815606), (3296, 0.01722449387935657), (3297, 0.019136378414887068), (3298, 0.012083454534159264), (3299, 0.02216942054169876), (3300, 0.01167255433829687), (3301, 0.01861556212316782), (3302, 0.0018511685957255978), (3303, 0.014349573317660267), (3304, 0.0022912543717486166), (3305, 0.143132337726772), (3306, 0.0), (3307, 0.01031849650112519), (3308, 0.012906139523795705), (3309, 0.00997344641624005), (3310, 0.006516175546133563), (3311, 0.011754953087228182), (3312, 0.007545008680265926), (3313, 0.01568667718343399), (3314, 0.03683370246092724), (3315, 0.020859875277265398), (3316, 0.012291065241071574), (3317, 0.0), (3318, 0.016564818864102437), (3319, 0.17128740176831436), (3320, 0.006173428733067706), (3321, 0.0058450283937954055), (3322, 0.01823343167755556), (3323, 0.008047867920567912), (3324, 0.0262822873850422), (3325, 0.0474894816432975), (3326, 0.023141947029498417), (3327, 0.009411662069134106), (3328, 0.010682564552092898), (3329, 0.04455168053378701), (3330, 0.031407366353501776), (3331, 0.07163225133593842), (3332, 0.009641736079987806), (3333, 0.01911640764201287), (3334, 0.0022638719233842803), (3335, 0.007749559503364176), (3336, 0.002843608090440153), (3337, 0.014137459047662324), (3338, 0.017582349418321805), (3339, 0.007065370226608346), (3340, 0.011517034896737404), (3341, 0.01883719751098232), (3342, 0.017994639002281685), (3343, 0.0446806770354888), (3344, 0.024313200909919494), (3345, 0.002531814598252245), (3346, 0.002535087704431555), (3347, 0.013584171373615873), (3348, 0.0), (3349, 0.10940371311574855), (3350, 0.0176202369807405), (3351, 0.013539740725661676), (3352, 0.00984100278832937), (3353, 0.005841079059784948), (3354, 0.005319082660921229), (3355, 0.011634113035838507), (3356, 0.002894597436731195), (3357, 0.012743116190588908), (3358, 0.0), (3359, 0.04680498871671902), (3360, 0.0632921176077721), (3361, 0.002405405668483114), (3362, 0.017072479708943253), (3363, 0.04539884221775091), (3364, 0.016579650592708235), (3365, 0.008715622837229993), (3366, 0.013117327194433523), (3367, 0.007111180418916981), (3368, 0.0022029653079185234), (3369, 0.014829416228701764), (3370, 0.017950076021427307), (3371, 0.018851086036066462), (3372, 0.1637911017401068), (3373, 0.0020225056371050484), (3374, 0.011460610061603744), (3375, 0.02641354170000146), (3376, 0.07762429302847752), (3377, 0.01405185104826501), (3378, 0.0025818543728066603), (3379, 0.026689976558329866), (3380, 0.010287501052559699), (3381, 0.021563027614773602), (3382, 0.013134021165076561), (3383, 0.0), (3384, 0.025794440400943905), (3385, 0.012249674952119012), (3386, 0.004809944649858301), (3387, 0.029889533998674774), (3388, 0.04240995704862506), (3389, 0.0024665585603029414), (3390, 0.015167681672326225), (3391, 0.018949789117982077), (3392, 0.003016656031664499), (3393, 0.05748708845701132), (3394, 0.02158682776899975), (3395, 0.01112659517898763), (3396, 0.0262822873850422), (3397, 0.015813483491096958), (3398, 0.08226697841300927), (3399, 0.0022781493410955794), (3400, 0.01174236224012891), (3401, 0.012362752353881172), (3402, 0.017682557479457503), (3403, 0.032194635012108175), (3404, 0.01004871703028707), (3405, 0.006975799783893925), (3406, 0.1198088407333045), (3407, 0.056567640676727295), (3408, 0.016191601665207753), (3409, 0.010989433746686249), (3410, 0.01451120584013656), (3411, 0.0030154432847423894), (3412, 0.018113012991596386), (3413, 0.00265794174841915), (3414, 0.05341956058740481), (3415, 0.030793598814593832), (3416, 0.021962490616903765), (3417, 0.016588545820851903), (3418, 0.008931600821587563), (3419, 0.013093433785371424), (3420, 0.03144691671993882), (3421, 0.03111653104071191), (3422, 0.002461092073636793), (3423, 0.00264356379017963), (3424, 0.0), (3425, 0.054993225731789185), (3426, 0.0028956844625141974), (3427, 0.002344189323835887), (3428, 0.0), (3429, 0.09933372450264093), (3430, 0.009712465225985394), (3431, 0.024384233541102897), (3432, 0.0), (3433, 0.013236086971724886), (3434, 0.0), (3435, 0.006061448195969305), (3436, 0.015327854393456446), (3437, 0.011998270879344013), (3438, 0.010376204854219357), (3439, 0.020094986695113795), (3440, 0.01945427480399345), (3441, 0.029084048092322075), (3442, 0.008897896509818731), (3443, 0.016389458099666798), (3444, 0.01934249840480648), (3445, 0.01721941759211221), (3446, 0.0022351055148657636), (3447, 0.012531372467857849), (3448, 0.12618586029114265), (3449, 0.07127389292111574), (3450, 0.15048313257858487), (3451, 0.04202101621732466), (3452, 0.016578794470098055), (3453, 0.08168040268846953), (3454, 0.0), (3455, 0.016368357443296788), (3456, 0.00830841651628716), (3457, 0.020046278090319468), (3458, 0.01405185104826501), (3459, 0.0025301844547090968), (3460, 0.0632432857290699), (3461, 0.04851495653923203), (3462, 0.0), (3463, 0.0), (3464, 0.0), (3465, 0.03629156533918676), (3466, 0.0), (3467, 0.0050065734996591555), (3468, 0.011394665942046337), (3469, 0.006601861196397973), (3470, 0.007744692383810505), (3471, 0.017076934678152834), (3472, 0.011582635527755819), (3473, 0.01619790609450908), (3474, 0.030900567906368477), (3475, 0.017483369104459592), (3476, 0.019859039682177743), (3477, 0.017636214641639315), (3478, 0.012894213951212805), (3479, 0.012476726183330067), (3480, 0.016467409288881574), (3481, 0.008483619598122542), (3482, 0.17882133157149846), (3483, 0.009183892649751927), (3484, 0.0033171748534016796), (3485, 0.012783243503974974), (3486, 0.07104260267237152), (3487, 0.021159489280751457), (3488, 0.0047936190558088496), (3489, 0.03966268872041348), (3490, 0.009271325221614387), (3491, 0.006404196733146452), (3492, 0.022683659879475196), (3493, 0.016885479339852082), (3494, 0.01959950716918979), (3495, 0.10522951731180692), (3496, 0.010937848171901495), (3497, 0.03362534576480845), (3498, 0.004815101471601264), (3499, 0.011113219875902934), (3500, 0.016852401860569858), (3501, 0.0), (3502, 0.02844433514581093), (3503, 0.017035483380991846), (3504, 0.013500864322295093), (3505, 0.021437028932960664), (3506, 0.00908204408078618), (3507, 0.02048360232895764), (3508, 0.017915593679935223), (3509, 0.01911640764201287), (3510, 0.011187544675845727), (3511, 0.05895966892276038), (3512, 0.016195724517983068), (3513, 0.41537431651902645), (3514, 0.013616032945489324), (3515, 0.00834203816304849), (3516, 0.011591249782223756), (3517, 0.0545545975112932), (3518, 0.011481949676568676), (3519, 0.0029883721494967054), (3520, 0.021586077508578015), (3521, 0.0034478725105490434), (3522, 0.0029938245296407488), (3523, 0.07706395916701025), (3524, 0.0022645113033820372), (3525, 0.016622449588083572), (3526, 0.002819790890560195), (3527, 0.012628327171464912), (3528, 0.012468498152287103), (3529, 0.01856688857073846), (3530, 0.010949018335971773), (3531, 0.01424921064195962), (3532, 0.002655395616599385), (3533, 0.006683918172922763), (3534, 0.010607189458318162), (3535, 0.017830397289024094), (3536, 0.023267017358011774), (3537, 0.015450153611789301), (3538, 0.010471553461934147), (3539, 0.0023900044964925878), (3540, 0.008493976702001884), (3541, 0.0), (3542, 0.0), (3543, 0.09467450466116117), (3544, 0.0), (3545, 0.01728194849008768), (3546, 0.0026419619183558076), (3547, 0.018915881159727407), (3548, 0.019236297488171537), (3549, 0.003719808859616434), (3550, 0.0028386671016197317), (3551, 0.012211476447211177), (3552, 0.06254579718809265), (3553, 0.05562541991926552), (3554, 0.012610158776156961), (3555, 0.002373578201825165), (3556, 0.002392247999653047), (3557, 0.04102510470037729), (3558, 0.03554299077983547), (3559, 0.010328111673894032), (3560, 0.0), (3561, 0.039306917495468476), (3562, 0.0), (3563, 0.007367531875117107), (3564, 0.008853489584286741), (3565, 0.022047029903783405), (3566, 0.009680058341523006), (3567, 0.013139538321580338), (3568, 0.0038699145952977515), (3569, 0.012260750561951719), (3570, 0.010707237394797604), (3571, 0.011272280019425991), (3572, 0.0024816034209648318), (3573, 0.01538592287911894), (3574, 0.02144205198771436), (3575, 0.02021159489520431), (3576, 0.020009883379306436), (3577, 0.002394379535518028), (3578, 0.0033960763182772366), (3579, 0.002332415549701919), (3580, 0.0412903451400901), (3581, 0.006844832931843776), (3582, 0.019859039682177743), (3583, 0.021017015858836238), (3584, 0.1340178611189872), (3585, 0.006345444960430287), (3586, 0.0022283990821652024), (3587, 0.02365875801678439), (3588, 0.14084232688343137), (3589, 0.002771292620181984), (3590, 0.01562840771541773), (3591, 0.0843117663795297), (3592, 0.010341909376915837), (3593, 0.013487895303159358), (3594, 0.020130447230066434), (3595, 0.002482802624811219), (3596, 0.03533596863877256), (3597, 0.0029237452374445616), (3598, 0.0242022064637574), (3599, 0.02203077040851824), (3600, 0.007501591924577104), (3601, 0.014387274475822037), (3602, 0.03060064009995957), (3603, 0.020007932226443724), (3604, 0.026989808508834427), (3605, 0.15176456444056613), (3606, 0.04802999182768364), (3607, 0.011577772094990592), (3608, 0.1881414987380659), (3609, 0.015905308402497688), (3610, 0.019881368769970334), (3611, 0.009506126473103848), (3612, 0.00872936587606521), (3613, 0.025115703562564217), (3614, 0.002063214209517882), (3615, 0.002168924148813586), (3616, 0.0026083466858320436), (3617, 0.009547445026968231), (3618, 0.020803132190272057), (3619, 0.0022509364076067602), (3620, 0.014625686653743529), (3621, 0.012723494088016356), (3622, 0.0), (3623, 0.045090920517529234), (3624, 0.017033539989435333), (3625, 0.0027701207630116574), (3626, 0.19014625217493417), (3627, 0.01338926555211297), (3628, 0.0033391500041735417), (3629, 0.05362368056163362), (3630, 0.0), (3631, 0.0023121066181569965), (3632, 0.00308691301007915), (3633, 0.1744409235387149), (3634, 0.08296718239682406), (3635, 0.009849197056838184), (3636, 0.0019317532621545455), (3637, 0.0036110671070349177), (3638, 0.021681070634970608), (3639, 0.010844495171884384), (3640, 0.016117190845441602), (3641, 0.16863176140721792), (3642, 0.008266313128626926), (3643, 0.0029718087177071245), (3644, 0.007234911640892478), (3645, 0.002016041052377228), (3646, 1.0), (3647, 0.01229636360258847), (3648, 0.2682430347304645), (3649, 0.010600926378057636), (3650, 0.017313137358343063), (3651, 0.1382696323589771), (3652, 0.06961676567975948), (3653, 0.0025576036489557224), (3654, 0.10420159531571935), (3655, 0.01435748164199669), (3656, 0.15428796568579764), (3657, 0.01826438508922429), (3658, 0.002841253885468642), (3659, 0.01484736518554656), (3660, 0.02117533944650856), (3661, 0.006693226456323521), (3662, 0.16244650696223606), (3663, 0.07293269267436933), (3664, 0.13013286258939089), (3665, 0.020323133332721073), (3666, 0.011111105703318089), (3667, 0.13029151539451664), (3668, 0.00281708471037834), (3669, 0.016045652445164503), (3670, 0.01290550311845303), (3671, 0.012455615536064344), (3672, 0.001966894593635546), (3673, 0.010192485052548907), (3674, 0.017296465574748204), (3675, 0.0200111533215799), (3676, 0.011759044862827257), (3677, 0.0026509465109664405), (3678, 0.013491650378061737), (3679, 0.019058076735201004), (3680, 0.009821770288658566), (3681, 0.01909334002206055), (3682, 0.0021023259810195433), (3683, 0.006079125687839351), (3684, 0.0196425397503882), (3685, 0.041213865436466296), (3686, 0.0077575211297647075), (3687, 0.012523846316757051), (3688, 0.02186220580721679), (3689, 0.07723306685424353), (3690, 0.022250659471498326), (3691, 0.0023607360541240486), (3692, 0.021579551777246075), (3693, 0.0037152011489600995), (3694, 0.019534063258448628), (3695, 0.10351062428975943), (3696, 0.006130668960673753), (3697, 0.014359783346568974), (3698, 0.0), (3699, 0.016700793034829024), (3700, 0.12660375389277098), (3701, 0.01522569200035416), (3702, 0.0021766699740468818), (3703, 0.016995809865877284), (3704, 0.0029034390143038483), (3705, 0.0), (3706, 0.06030121416438232), (3707, 0.015566386868456204), (3708, 0.002075937937007204), (3709, 0.02662505425616517), (3710, 0.004104995460173439), (3711, 0.19014625217493417), (3712, 0.015137236158323115), (3713, 0.0026948250370405903), (3714, 0.0), (3715, 0.016698091581950226), (3716, 0.015982531001571383), (3717, 0.0161184091788076), (3718, 0.07741970686135788), (3719, 0.006774339736525783), (3720, 0.05318284873875111), (3721, 0.01553430848134412), (3722, 0.04686351675362359), (3723, 0.020434088353198522), (3724, 0.012639555179203878), (3725, 0.0029785520194955646), (3726, 0.09415850177687005), (3727, 0.04156049384092081), (3728, 0.002724518783605038), (3729, 0.0037368606156835908), (3730, 0.0027436016795263835), (3731, 0.01027695212427779), (3732, 0.08749866690748362), (3733, 0.0), (3734, 0.11439776917926162), (3735, 0.001822813345072657), (3736, 0.0), (3737, 0.015183894201636556), (3738, 0.0), (3739, 0.003357520802876533), (3740, 0.010763708142407864), (3741, 0.013049358312367986), (3742, 0.01868235829744916), (3743, 0.01590264939723772), (3744, 0.012055133391505189), (3745, 0.1012286755731675), (3746, 0.01287668724949196), (3747, 0.0032071569730091594), (3748, 0.014090846367681212), (3749, 0.032712287935807306), (3750, 0.06312287994669422), (3751, 0.0025237251329568227), (3752, 0.00204155251997687), (3753, 0.018602503990229245), (3754, 0.0019938847893381166), (3755, 0.004434308347913134), (3756, 0.0035428868966634317), (3757, 0.025070054734590584), (3758, 0.07130881362863828), (3759, 0.0), (3760, 0.05707769066074602), (3761, 0.013963216334251096), (3762, 0.0), (3763, 0.06161670337413458), (3764, 0.002295265443356257), (3765, 0.016213788444365395), (3766, 0.002184082844465339), (3767, 0.06264846190720022), (3768, 0.0022229541324214333), (3769, 0.01608785845874275), (3770, 0.0021551429476057327), (3771, 0.011260566887837954), (3772, 0.01915614814195192), (3773, 0.015734822784770102), (3774, 0.0018777774426698838), (3775, 0.13674350330737822), (3776, 0.03178944220687287), (3777, 0.20525973595108274), (3778, 0.025441850547828042), (3779, 0.001969478601157274), (3780, 0.016439497376994454), (3781, 0.002599493119866278), (3782, 0.0027216444004668577), (3783, 0.023008799493895105), (3784, 0.04205118482152109), (3785, 0.1542869595610128), (3786, 0.0), (3787, 0.011590238718404748), (3788, 0.02164989760152221), (3789, 0.01586030814340544), (3790, 0.003087621589362699), (3791, 0.0262822873850422), (3792, 0.20909590882459247), (3793, 0.0025309016487733964), (3794, 0.014874894877856853), (3795, 0.01094672913725834), (3796, 0.011688590260208857), (3797, 0.0029521206309165433), (3798, 0.016165999645734203), (3799, 0.01765952068279831), (3800, 0.0), (3801, 0.010164750847723019), (3802, 0.025362813014376838), (3803, 0.011814823198396097), (3804, 0.002013648301409207), (3805, 0.006952005203077443), (3806, 0.00982856403418601), (3807, 0.014414674522531534), (3808, 0.009764951137825967), (3809, 0.002313798707853985), (3810, 0.022725123255966036), (3811, 0.012575367312761786), (3812, 0.0018790355910944466), (3813, 0.0), (3814, 0.024049757696447238), (3815, 0.03878853729671806), (3816, 0.018575317100756467), (3817, 0.01849616048074278), (3818, 0.007874764767741191), (3819, 0.010313671675202092), (3820, 0.021428212499013197), (3821, 0.020004055487723736), (3822, 0.014059374824029965), (3823, 0.028370882679112232), (3824, 0.013604114855622075), (3825, 0.01695036291222243), (3826, 0.006751783753524848), (3827, 0.008456638702229114), (3828, 0.10351062428975943), (3829, 0.01392291909227138), (3830, 0.010840731056490464), (3831, 0.04640789856201502), (3832, 0.016579650592708235), (3833, 0.0024636492390493064), (3834, 0.003203838727951092), (3835, 0.13019957723193093), (3836, 0.014389993608581272), (3837, 0.01040189990951281), (3838, 0.01602133320308981), (3839, 0.05317389102823605), (3840, 0.014359818884499161), (3841, 0.01659453641827147), (3842, 0.011430774159228201), (3843, 0.01034792706605596), (3844, 0.021168146578526167), (3845, 0.0030190260842616235), (3846, 0.002397460900935797), (3847, 0.14498929753413856), (3848, 0.021342157831464648), (3849, 0.0070750095237857285), (3850, 0.016818750097838158), (3851, 0.13811714298869554), (3852, 0.009360704468451787), (3853, 0.01610600475717524), (3854, 0.0026134324601777854), (3855, 0.0023472237265448116), (3856, 0.0), (3857, 0.014189905100946244), (3858, 0.003109221032060022), (3859, 0.011021383915012528), (3860, 0.019954672150033874), (3861, 0.01358751040714418), (3862, 0.0025469059483129294), (3863, 0.007936634994622369), (3864, 0.006673979553724389), (3865, 0.11064470769955502), (3866, 0.014115042984121588), (3867, 0.017828913949658836), (3868, 0.013363177469982149), (3869, 0.018056639508159767), (3870, 0.0024149618617044376), (3871, 0.00815336164094159), (3872, 0.0028115434767528942), (3873, 0.005022013776292716), (3874, 0.02641354170000146), (3875, 0.020854577709990857), (3876, 0.00894587610546153), (3877, 0.08145346020752504), (3878, 0.009450958266834859), (3879, 0.028314978185449986), (3880, 0.027989723148861112), (3881, 0.004275391441027879), (3882, 0.013428659429002536), (3883, 0.010045901815222436), (3884, 0.0029706336804079868), (3885, 0.02063249444145504), (3886, 0.010384516373929334), (3887, 0.01768499087743654), (3888, 0.01078471912321139), (3889, 0.2098052690161507), (3890, 0.02789405154588096), (3891, 0.03647727903562636), (3892, 0.002313823815960094), (3893, 0.01435748164199669), (3894, 0.016617561973730235), (3895, 0.014430707623210116), (3896, 0.017296465574748204), (3897, 0.0), (3898, 0.03268216625622127), (3899, 0.013218914184300766), (3900, 0.01323217014660923), (3901, 0.0024778685233154784), (3902, 0.0023533742595580514), (3903, 0.0), (3904, 0.020859875277265398), (3905, 0.03496545189462845), (3906, 0.012068003681042366), (3907, 0.03959526821351281), (3908, 0.009949511793529247), (3909, 0.018638793574100157), (3910, 0.04768468401798251), (3911, 0.00869515579123752), (3912, 0.007014145731847015), (3913, 0.004258827018093204), (3914, 0.0022820133713009456), (3915, 0.06062824120398081), (3916, 0.014601911511781588), (3917, 0.002456832614808966), (3918, 0.015391208440319267), (3919, 0.006392236023898401), (3920, 0.0022627357706525232), (3921, 0.02263546973610895), (3922, 0.016503353340392872), (3923, 0.016051827599573937), (3924, 0.0), (3925, 0.0716559197230392), (3926, 0.010547624852680137), (3927, 0.014124348082168265), (3928, 0.005594224261038191), (3929, 0.019441823839222157), (3930, 0.0020390762534609444), (3931, 0.1070343558421841), (3932, 0.0), (3933, 0.05019861631445105), (3934, 0.06653053892691488), (3935, 0.002668191277562948), (3936, 0.0), (3937, 0.08655532965698935), (3938, 0.016620538542932634), (3939, 0.0), (3940, 0.002184355946677453), (3941, 0.003254704752591708), (3942, 0.09462913105913136), (3943, 0.005965394592148322), (3944, 0.01987261424552019), (3945, 0.051374823370155906), (3946, 0.04965976395329766), (3947, 0.01223012606459823), (3948, 0.002259686116992993), (3949, 0.04802648849417648), (3950, 0.06814432742855049), (3951, 0.0023546372894633844), (3952, 0.02151588080706075), (3953, 0.1918538323626155), (3954, 0.020046278090319468), (3955, 0.0030648726120536232), (3956, 0.013843770453786038), (3957, 0.013120792193842998), (3958, 0.003547642940405468), (3959, 0.00446889073602621), (3960, 0.002980162780632754), (3961, 0.011980895398655392), (3962, 0.010300770251775445), (3963, 0.002120819034952054), (3964, 0.01642590685324745), (3965, 0.0023976339151645385), (3966, 0.16620086626903646), (3967, 0.016185295465843994), (3968, 0.012686141731567612), (3969, 0.002142863286559502), (3970, 0.0035599380903929157), (3971, 0.0), (3972, 0.005979563253307183), (3973, 0.020028139253911323), (3974, 0.015266898700713693), (3975, 0.0024421455865418704), (3976, 0.019873330022479256), (3977, 0.0076192291362548814), (3978, 0.20235837100810192), (3979, 0.0022144592397144785), (3980, 0.04769764267689534), (3981, 0.015750559712303876), (3982, 0.0), (3983, 0.0), (3984, 0.013992933713230127), (3985, 0.01166587666678124), (3986, 0.011800958123441516), (3987, 0.02062460683905276), (3988, 0.0244538010326508), (3989, 0.02043417179850764), (3990, 0.002804031872676405), (3991, 0.014657120041041883), (3992, 0.028821648129792366), (3993, 0.002811472364812482), (3994, 0.0), (3995, 0.0028025609338927305), (3996, 0.06484785365125216), (3997, 0.03293362567633078), (3998, 0.06961676567975948), (3999, 0.023877795200675626), (4000, 0.007668042403368025), (4001, 0.01334878882950776), (4002, 0.012628327171464912), (4003, 0.0636235510874199), (4004, 0.0034184724873681876), (4005, 0.018060169488581707), (4006, 0.002149633986946837), (4007, 0.0019314142100157218), (4008, 0.002762571556123501), (4009, 0.02002040770858954), (4010, 0.0), (4011, 0.003202600795625515), (4012, 0.01974402438705253), (4013, 0.01573287389073247), (4014, 0.005734966220137454), (4015, 0.01791167347082133), (4016, 0.0024791382558880908), (4017, 0.007027753574074881), (4018, 0.0024600789355488516), (4019, 0.2613980021968188), (4020, 0.003050681190914057), (4021, 0.035359767585137536), (4022, 0.10289457930135515), (4023, 0.017095971958115005), (4024, 0.0030130746850125806), (4025, 0.0171113261610796), (4026, 0.014959272190555706), (4027, 0.010817772216949281), (4028, 0.009199535334776509), (4029, 0.00231992568632734), (4030, 0.01484194884408237), (4031, 0.013224123376723643), (4032, 0.018805984792388535), (4033, 0.016571898435888386), (4034, 0.0), (4035, 0.0), (4036, 0.01031849650112519), (4037, 0.06626212511164137), (4038, 0.015481951459784876), (4039, 0.017875059279591713), (4040, 0.04965976395329766), (4041, 0.0031061717132896153), (4042, 0.055762684766101196), (4043, 0.009859903301126132), (4044, 0.0022385750010976446), (4045, 0.0), (4046, 0.01650322773351224), (4047, 0.01077325079221925), (4048, 0.019891031836111878), (4049, 0.026747550758234675), (4050, 0.01761819163487022), (4051, 0.0162980645926693), (4052, 0.011598842247815173), (4053, 0.013126531936445151), (4054, 0.014277993380098254), (4055, 0.023049619994948183), (4056, 0.013335898038593872), (4057, 0.022835609818248163), (4058, 0.060520026996398545), (4059, 0.0023722408044026966), (4060, 0.01933514233119985), (4061, 0.012999113869473992), (4062, 0.010338289877774774), (4063, 0.022884386582135867), (4064, 0.019576524859085877), (4065, 0.0022021304122000194), (4066, 0.01580062079028303), (4067, 0.012226747887532622), (4068, 0.022362573581653875), (4069, 0.011643989457168559), (4070, 0.01651077941140881), (4071, 0.011698584068485535), (4072, 0.020541952063974675), (4073, 0.009748164221133606), (4074, 0.01743659448147168), (4075, 0.01237597532457126), (4076, 0.009561150789721189), (4077, 0.0262822873850422), (4078, 0.007436490509144798), (4079, 0.14498929753413856), (4080, 0.017023276402026333), (4081, 0.012083454534159264), (4082, 0.006614431069547327), (4083, 0.04680498871671902), (4084, 0.02171006211954316), (4085, 0.0024367179610088967), (4086, 0.01632892417764476), (4087, 0.01746641529745173), (4088, 0.008958868343330966), (4089, 0.014379225068273983), (4090, 0.008533394184791609), (4091, 0.01599302038658835), (4092, 0.016719509433189294), (4093, 0.01878327338481854), (4094, 0.0), (4095, 0.016768776333964407), (4096, 0.0025415151904855113), (4097, 0.011204475155396732), (4098, 0.01166587666678124), (4099, 0.0), (4100, 0.014515208980508435), (4101, 0.0024383628840034693), (4102, 0.03088105311699505), (4103, 0.19720496435199983), (4104, 0.05179582126373214), (4105, 0.0), (4106, 0.06804095613014517), (4107, 0.06751367144594247), (4108, 0.0020135719237092363), (4109, 0.010239782208854737), (4110, 0.009629744160191923), (4111, 0.019432314095935436), (4112, 0.012790537368283046), (4113, 0.010100537768546176), (4114, 0.010698037465846303), (4115, 0.0), (4116, 0.21418029867847047), (4117, 0.015759001290921528), (4118, 0.017551531471547647), (4119, 0.25594221451885346), (4120, 0.011469359774899233), (4121, 0.06004502429741338), (4122, 0.13013286258939089), (4123, 0.033758579794001514), (4124, 0.013021119650341778), (4125, 0.014569308964914016), (4126, 0.014745582804631157), (4127, 0.0), (4128, 0.008981339826190619), (4129, 0.10389291767603623), (4130, 0.016212761210139044), (4131, 0.023761766467156678), (4132, 0.02399635991932596), (4133, 0.0023483877709731724), (4134, 0.017496815865849776), (4135, 0.016818750097838158), (4136, 0.013878914433939588), (4137, 0.0), (4138, 0.01938326276812557), (4139, 0.013182268179634317), (4140, 0.0031959166203530875), (4141, 0.065785560287221), (4142, 0.12493224974042468), (4143, 0.021642578421459023), (4144, 0.01778627261844761), (4145, 0.011852578368773365), (4146, 0.04352599987492274), (4147, 0.025750003032866155), (4148, 0.20525973595108274), (4149, 0.0026746788454867303), (4150, 0.05814198053664929), (4151, 0.025596721253762205), (4152, 0.015469406571484523), (4153, 0.018185618162840547), (4154, 0.0031040309865266813), (4155, 0.01811333139052991), (4156, 0.020001179751281746), (4157, 0.0), (4158, 0.00777819021914616), (4159, 0.017200192306189167), (4160, 0.0), (4161, 0.011123224719402924), (4162, 0.01975237878828366), (4163, 0.018929375115858717), (4164, 0.18338562783542683), (4165, 0.24038040995756374), (4166, 0.017515080872743356), (4167, 0.010344571026402988), (4168, 0.055653950904146376), (4169, 0.01479105034629795), (4170, 0.015393756632120191), (4171, 0.009409755918198244), (4172, 0.11272797028470363), (4173, 0.13734076340086787), (4174, 0.010876347942725814), (4175, 0.01690913439500946), (4176, 0.143132337726772), (4177, 0.02138960955875975), (4178, 0.0), (4179, 0.002352320971156782), (4180, 0.011702335358277907), (4181, 0.010529658591891203), (4182, 0.017427358715473025), (4183, 0.01695036291222243), (4184, 0.043064735515527676), (4185, 0.01255616386538025), (4186, 0.007773019184610421), (4187, 0.00616368550623385), (4188, 0.0), (4189, 0.016687095294222035), (4190, 0.0), (4191, 0.016957383671963387), (4192, 0.002281505093939439), (4193, 0.013840378016664018), (4194, 0.002458571769028349), (4195, 0.003247795374997077), (4196, 0.006860337810836153), (4197, 0.018126371170285815), (4198, 0.009236785352704202), (4199, 0.016724123453921585), (4200, 0.018087887427197785), (4201, 0.01046816675173963), (4202, 0.07303886187583988), (4203, 0.008382007403307624), (4204, 0.0), (4205, 0.01633046649350137), (4206, 0.12458108657425343), (4207, 0.009147739664608518), (4208, 0.01326613006732667), (4209, 0.013684874381982234), (4210, 0.1032301567978327), (4211, 0.011640872137026775), (4212, 0.01997712666013566), (4213, 0.0), (4214, 0.024284027086897076), (4215, 0.22567063643914778), (4216, 0.0048413704106972915), (4217, 0.008358199053699849), (4218, 0.003158377154683126), (4219, 0.021900589482494334), (4220, 0.04854203363149276), (4221, 0.0), (4222, 0.0014925038489690403), (4223, 0.0017657612608754664), (4224, 0.02819552284080433), (4225, 0.048682830591019695), (4226, 0.014154989875853327), (4227, 0.008641083852397678), (4228, 0.010922176533576765), (4229, 0.0162923316559206), (4230, 0.01704537858803646), (4231, 0.07047099632996949), (4232, 0.016016342712485577), (4233, 0.016564818864102437), (4234, 0.015169323403465754), (4235, 0.026801264836004677), (4236, 0.04169617998105116), (4237, 0.0), (4238, 0.018056639508159767), (4239, 0.012537336017482645), (4240, 0.06619500395091453), (4241, 0.013093433785371424), (4242, 0.0025956631778818943), (4243, 0.00898415078985743), (4244, 0.01909386230538356), (4245, 0.08749866690748362), (4246, 0.09918740777069973), (4247, 0.09611240298171495), (4248, 0.0), (4249, 0.011003519468788223), (4250, 0.06581923922371634), (4251, 0.011011067700911453), (4252, 0.012256581799682698), (4253, 0.013118172520510235), (4254, 0.008020354964662574), (4255, 0.013584459996497069), (4256, 0.0), (4257, 0.012007254935111546), (4258, 0.005660574404100314), (4259, 0.41537431651902645), (4260, 0.04007854278997962), (4261, 0.002590503624212671), (4262, 0.009960824306579547), (4263, 0.012012607293479062), (4264, 0.012328766396813923), (4265, 0.021097765127005497), (4266, 0.12598693398960406), (4267, 0.002176846675636262), (4268, 0.02007509035193076), (4269, 0.002546781715915905), (4270, 0.002614525211519111), (4271, 0.015455825835619963), (4272, 0.06767911091107306), (4273, 0.09927053087600783), (4274, 0.016118758196327364), (4275, 0.008232942868153643), (4276, 0.00913816794976395), (4277, 0.0), (4278, 0.0), (4279, 0.013117327194433523), (4280, 0.1331102843637431), (4281, 0.002431397680543138), (4282, 0.010087384658588211), (4283, 0.10389291767603623), (4284, 0.0), (4285, 0.003233683739473654), (4286, 0.1382696323589771), (4287, 0.01608147101207099), (4288, 0.20685727479868113), (4289, 0.0), (4290, 0.0843117663795297), (4291, 0.1426250109110935), (4292, 0.013311907623275415), (4293, 0.011906486479510797), (4294, 0.08951127325816147), (4295, 0.018167086242196588), (4296, 0.00997850031727512), (4297, 0.010225519546682885), (4298, 0.01928790610106196), (4299, 0.12695054072150655), (4300, 0.002533918581262961), (4301, 0.15343724103563694), (4302, 0.011397085841053247), (4303, 0.0), (4304, 0.017937971635107956), (4305, 0.016836657531142978), (4306, 0.02456034598103934), (4307, 0.0), (4308, 0.0013460987147487036), (4309, 0.03312113781433979), (4310, 0.015364361735929774), (4311, 0.025689900780891145), (4312, 0.002537201966574374), (4313, 0.00613238817093055), (4314, 0.011188073292112515), (4315, 0.008615086782421654), (4316, 0.008340056234523016), (4317, 0.005507885741196377), (4318, 0.018766255791025636), (4319, 0.01965364948314286), (4320, 0.003219158302676309), (4321, 0.0), (4322, 0.0), (4323, 0.06440534504896074), (4324, 0.008345403120081375), (4325, 0.013938648424096423), (4326, 0.018001714108016712), (4327, 0.0026731157177845182), (4328, 0.010815840427351387), (4329, 0.06977742929662753), (4330, 0.017509134230639517), (4331, 0.09607527161998798), (4332, 0.0523786261865704), (4333, 0.009892602821999162), (4334, 0.013728385699168871), (4335, 0.018600940053197013), (4336, 0.014293175000586869), (4337, 0.002621434578107126), (4338, 0.010453573154819429), (4339, 0.1922748538410847), (4340, 0.019859846016053548), (4341, 0.15313308716763085), (4342, 0.01501933847122094), (4343, 0.0023540615232738303), (4344, 0.0), (4345, 0.0), (4346, 0.05049100215417232), (4347, 0.0432775617920777), (4348, 0.015396934750110784), (4349, 0.01659453641827147), (4350, 0.0), (4351, 0.03174507397993463), (4352, 0.002219896128169053), (4353, 0.18109785625700253), (4354, 0.002293649955861272), (4355, 0.002842564370222278), (4356, 0.01985645186334243), (4357, 0.056505316597409413), (4358, 0.0032077634593512816), (4359, 0.019808169481218458), (4360, 0.010534920685368295), (4361, 0.010301025760867704), (4362, 0.017083449804855804), (4363, 0.0), (4364, 0.012868638248612705), (4365, 0.013684659351251457), (4366, 0.007894299400314341), (4367, 0.011643989457168559), (4368, 0.01385686721698634), (4369, 0.009223386778889675), (4370, 0.0210384861925002), (4371, 0.002883663115248735), (4372, 0.014637964474732132), (4373, 0.015874657276757298), (4374, 0.07241167193040077), (4375, 0.016146539012469097), (4376, 0.02181148320471856), (4377, 0.002201414669252501), (4378, 0.022362573581653875), (4379, 0.07520866961091337), (4380, 0.012765419529714585), (4381, 0.020823922874191464), (4382, 0.0), (4383, 0.009055357887782884), (4384, 0.016700793034829024), (4385, 0.11051656300019307), (4386, 0.04130479762682743), (4387, 0.010729349313055591), (4388, 0.003173636917658082), (4389, 0.006166867235379146), (4390, 0.030968990213284902), (4391, 0.01661138907195134), (4392, 0.020854537026414634), (4393, 0.008818632585092037), (4394, 0.00807606406247197), (4395, 0.04073992571950619), (4396, 0.019447150853585178), (4397, 0.08061015344593751), (4398, 0.005658909448487669), (4399, 0.006563847205888655), (4400, 0.011758352367653357), (4401, 0.013296809028891025), (4402, 0.0), (4403, 0.0034619499478484145), (4404, 0.012291819365032397), (4405, 0.06955168431710572), (4406, 0.09021780697955686), (4407, 0.06943228809008825), (4408, 0.017749348129565266), (4409, 0.016562180640284606), (4410, 0.17773862353858635), (4411, 0.0021522164658437553), (4412, 0.1637911017401068), (4413, 0.002765578538565506), (4414, 0.016663505101292775), (4415, 0.013706921215945429), (4416, 0.014017886849212749), (4417, 0.007329293202366134), (4418, 0.008967578128049653), (4419, 0.010245358801167375), (4420, 0.05344544695880185), (4421, 0.005305984518767636), (4422, 0.0), (4423, 0.014513259047610699), (4424, 0.0265402718467289), (4425, 0.03482501256264293), (4426, 0.01772926985728382), (4427, 0.026218051475379766), (4428, 0.0), (4429, 0.05318284873875111), (4430, 0.0), (4431, 0.10787209394598571), (4432, 0.012350217340928622), (4433, 0.15276836287769), (4434, 0.011588592026004247), (4435, 0.0), (4436, 0.019799032470456092), (4437, 0.013503072451907511), (4438, 0.02813044773163786), (4439, 0.12334277071636765), (4440, 0.06915922948408547), (4441, 0.0024623876150367727), (4442, 0.048981474616015874), (4443, 0.028195868573292232), (4444, 0.0022911468627696803), (4445, 0.08056410455060482), (4446, 0.005922050866329999), (4447, 0.003607048611203921), (4448, 0.022512108976157442), (4449, 0.0023808730589644452), (4450, 0.019618969544999015), (4451, 0.01886407590958473), (4452, 0.01775780641102807), (4453, 0.019713034976147133), (4454, 0.011153699772425137), (4455, 0.006724160906409333), (4456, 0.01914016917141033), (4457, 0.0238018281757945), (4458, 0.017599096430703905), (4459, 0.01166587666678124), (4460, 0.002611058622072162), (4461, 0.0019844503756826673), (4462, 0.011306544471515904), (4463, 0.017935501677168238), (4464, 0.02415755502529947), (4465, 0.0), (4466, 0.017987938124230055), (4467, 0.052481179406623), (4468, 0.0), (4469, 0.024966910033585008), (4470, 0.008706259651910344), (4471, 0.01985645186334243), (4472, 0.010254607178070604), (4473, 0.012724308292458367), (4474, 0.00692818549620988), (4475, 0.008592656484493779), (4476, 0.008418768672637321), (4477, 0.0), (4478, 0.0023541192280179856), (4479, 0.12618586029114265), (4480, 0.011714473354417177), (4481, 0.016286884574356092), (4482, 0.0), (4483, 0.003742220487115039), (4484, 0.06876307129423623), (4485, 0.011539795391512581), (4486, 0.0024019698826919763), (4487, 0.012803496049484388), (4488, 0.015007856430843729), (4489, 0.012649018833366894), (4490, 0.019244911276842504), (4491, 0.011127847912367966), (4492, 0.04913337622661684), (4493, 0.01632553228463619), (4494, 0.019557676124810755), (4495, 0.0), (4496, 0.06631417483086123), (4497, 0.013045638626009885), (4498, 0.020420056736520538), (4499, 0.011407764535001697), (4500, 0.016547541065756628), (4501, 0.012250037547598822), (4502, 0.010951735574903743), (4503, 0.01511892106429148), (4504, 0.0), (4505, 0.13910883138305233), (4506, 0.0), (4507, 0.002609968701717323), (4508, 0.017059915380699578), (4509, 0.018062097990308362), (4510, 0.11598353195275608), (4511, 0.015034343666721097), (4512, 0.01856688857073846), (4513, 0.02344866866486543), (4514, 0.0023619434471638325), (4515, 0.06830594950711995), (4516, 0.011289808065766592), (4517, 0.00941696442179325), (4518, 0.003675647901817278), (4519, 0.0183978724781997), (4520, 0.0), (4521, 0.02770297483858042), (4522, 0.010209131769535638), (4523, 0.01991590208808333), (4524, 0.0), (4525, 0.00885635611598554), (4526, 0.0), (4527, 0.0), (4528, 0.10527154780769644), (4529, 0.017050629015397993), (4530, 0.0262822873850422), (4531, 0.0), (4532, 0.026218051475379766), (4533, 0.015740327453571797), (4534, 0.012918676813258576), (4535, 0.010194059400183298), (4536, 0.007925358671775535), (4537, 0.05500746276524467), (4538, 0.025135968035839885), (4539, 0.006379866315432152), (4540, 0.0028553370986512277), (4541, 0.013516269168584526), (4542, 0.0036856388238320527), (4543, 0.0086653771832284), (4544, 0.022407291128999043), (4545, 0.3146560868419804), (4546, 0.01044533088230762), (4547, 0.012650222675805126), (4548, 0.015359311058265553), (4549, 0.02446591945877647), (4550, 0.0), (4551, 0.0032568364048266778), (4552, 0.02206829162767765), (4553, 0.0), (4554, 0.006490189887187648), (4555, 0.009199989433167369), (4556, 0.01567001750641893), (4557, 0.019842485470340177), (4558, 0.020604627809876597), (4559, 0.00911090938970811), (4560, 0.011892637553557944), (4561, 0.019995309007568095), (4562, 0.014805433084269664), (4563, 0.007928569197455278), (4564, 0.013824890318979363), (4565, 0.07163225133593842), (4566, 0.01682244274946996), (4567, 0.017206530968746678), (4568, 0.009886685666337113), (4569, 0.13443361811926677), (4570, 0.002783649861760386), (4571, 0.016484878056533547), (4572, 0.04600086052181087), (4573, 0.10288450318433517), (4574, 0.0012620337883535644), (4575, 0.015007036394647238), (4576, 0.016200111315755626), (4577, 0.005588158521321442), (4578, 0.0020557386413088408), (4579, 0.0031543339982300876), (4580, 0.017823485710712447), (4581, 0.06653560485411128), (4582, 0.05880237559138856), (4583, 0.006922830265131265), (4584, 0.06073524757316565), (4585, 0.023655542234396133), (4586, 0.0), (4587, 0.0074745116706233725), (4588, 0.017509134230639517), (4589, 0.0), (4590, 0.002473511421492431), (4591, 0.0027064216204787292), (4592, 0.002299282542640004), (4593, 0.016456582775815354), (4594, 0.0024533161752736637), (4595, 0.022121143220001756), (4596, 0.0), (4597, 0.06454843565723731), (4598, 0.009968474287562971), (4599, 0.014136799541122996), (4600, 0.002805561578048045), (4601, 0.010081100680324164), (4602, 0.054140348510479414), (4603, 0.02190834741241679), (4604, 0.014090846367681212), (4605, 0.022226053728834225), (4606, 0.01908197853339851), (4607, 0.01844989897554553), (4608, 0.0), (4609, 0.010308268657959689), (4610, 0.008779777171627985), (4611, 0.02063345050816061), (4612, 0.17167008973432302), (4613, 0.003990255446160362), (4614, 0.0113807699275567), (4615, 0.16691448444047507), (4616, 0.063107749704954), (4617, 0.001953334653329298), (4618, 0.011342229539783557), (4619, 0.005596037535451976), (4620, 0.015699118568230343), (4621, 0.018697259263873646), (4622, 0.011449457448819672), (4623, 0.00544709161393858), (4624, 0.019997257395586533), (4625, 0.07326794781223023), (4626, 0.07318965839526909), (4627, 0.017783216171243812), (4628, 0.015136450994349609), (4629, 0.015052554845114084), (4630, 0.021863832722027392), (4631, 0.017817902780805295), (4632, 0.012402350049202922), (4633, 0.02508320381594931), (4634, 0.015546418578589603), (4635, 0.0101823353176956), (4636, 0.008062070490500107), (4637, 0.05280446525083524), (4638, 0.015965667817425866), (4639, 0.02144205198771436), (4640, 0.0), (4641, 0.022087706737313525), (4642, 0.03858746693523162), (4643, 0.06955168431710572), (4644, 0.010660345952171042), (4645, 0.014952149331222384), (4646, 0.005066111625637882), (4647, 0.0023711430687391225), (4648, 0.020271203438852844), (4649, 0.0018989525521000198), (4650, 0.016742758878225482), (4651, 0.020594504588267313), (4652, 0.008513142625865252), (4653, 0.0032960762335595977), (4654, 0.040847241259931194), (4655, 0.01851779698523958), (4656, 0.012952607359524018), (4657, 0.002312300089103114), (4658, 0.015784667236692605), (4659, 0.019236297488171537), (4660, 0.06889687988843908), (4661, 0.001790060452274844), (4662, 0.01969136825411588), (4663, 0.010902773252426789), (4664, 0.01966787930785892), (4665, 0.017824753953029848), (4666, 0.042668420942384475), (4667, 0.01208332336090857), (4668, 0.012117597550787902), (4669, 0.0), (4670, 0.013204340418212222), (4671, 0.01691276299739138), (4672, 0.01791167347082133), (4673, 0.016521389683293967), (4674, 0.01851779698523958), (4675, 0.006608107948092383), (4676, 0.012075924528730509), (4677, 0.07421409487764959), (4678, 0.09105768581750867), (4679, 0.012161673722961074), (4680, 0.017007737435883154), (4681, 0.07078687428525822), (4682, 0.016016342712485577), (4683, 0.0027321689503419784), (4684, 0.014467324758897383), (4685, 0.020420056736520538), (4686, 0.009446852887047566), (4687, 0.04765367762066294), (4688, 0.03959661701614771), (4689, 0.0), (4690, 0.01291875345392508), (4691, 0.019722088369355094), (4692, 0.010791328874666436), (4693, 0.020604627809876597), (4694, 0.016634362800187225), (4695, 0.02030759016624139), (4696, 0.31985256017952085), (4697, 0.04518828043370182), (4698, 0.06268566409559165), (4699, 0.008102784344479558), (4700, 0.0021500057540294504), (4701, 0.05001292787937304), (4702, 0.014884800782071973), (4703, 0.007233476858100548), (4704, 0.09834529844197447), (4705, 0.019587518923637397), (4706, 0.011452148832159354), (4707, 0.00551038960498876), (4708, 0.12155784321442184), (4709, 0.03350763292725362), (4710, 0.014572355244904588), (4711, 0.02201023115578286), (4712, 0.018264869307529356), (4713, 0.01726071422936585), (4714, 0.11863448094925738), (4715, 0.014067674715348739), (4716, 0.00678674214903593), (4717, 0.002909744802839717), (4718, 0.0024631244702185075), (4719, 0.026531141865061177), (4720, 0.01725475199877855), (4721, 0.009149387462564579), (4722, 0.012793263882694804), (4723, 0.12535743762444007), (4724, 0.00783690601143006), (4725, 0.017877112859433893), (4726, 0.01881337558503318), (4727, 0.022183157778591832), (4728, 0.015902517294639443), (4729, 0.01756421989962159), (4730, 0.0), (4731, 0.010608113854639015), (4732, 0.23025013008583464), (4733, 0.2064266370691542), (4734, 0.013684551034179048), (4735, 0.009114003146814497), (4736, 0.010128821620576014), (4737, 0.0024979822465428323), (4738, 0.002185336359626321), (4739, 0.0060366206546112805), (4740, 0.012998670242471654), (4741, 0.002415097107038045), (4742, 0.017282356425475192), (4743, 0.007597699705194051), (4744, 0.003400428166277023), (4745, 0.0029976923580329567), (4746, 0.019675933246330036), (4747, 0.01037961682845688), (4748, 0.01031849650112519), (4749, 0.023656087026846635), (4750, 0.00898705539265453), (4751, 0.016495231611808627), (4752, 0.01481121222443145), (4753, 0.010000061836208673), (4754, 0.05707769066074602), (4755, 0.01411337927573311), (4756, 0.01650618929230352), (4757, 0.03420182356586767), (4758, 0.011244135816333876), (4759, 0.02188138154910469), (4760, 0.010951497315740317), (4761, 0.01711686131441083), (4762, 0.0), (4763, 0.02092345744476454), (4764, 0.1002407472190208), (4765, 0.011220171615825794), (4766, 0.0031843738976162985), (4767, 0.0), (4768, 0.016725112705907152), (4769, 0.018372576677936694), (4770, 0.0), (4771, 0.0031783577415957203), (4772, 0.046536036714167305), (4773, 0.016885479339852082), (4774, 0.01954871291694715), (4775, 0.002645619202715939), (4776, 0.0028101708035223427), (4777, 0.019215588828640898), (4778, 0.011145838524939968), (4779, 0.06843871753358205), (4780, 0.037994856683931856), (4781, 0.30099667956645576), (4782, 0.012600607396217128), (4783, 0.018264520580002074), (4784, 0.01590098787107223), (4785, 0.01724459368603421), (4786, 0.01017457026101463), (4787, 0.01958057597226725), (4788, 0.002275101023284955), (4789, 0.016008387117725384), (4790, 0.008030327432869206), (4791, 0.012583598490812035), (4792, 0.0), (4793, 0.028320990678681143), (4794, 0.010721448424636734), (4795, 0.016746621498503846), (4796, 0.03139363076567456), (4797, 0.10456833095117973), (4798, 0.01909284060496401), (4799, 0.01657350315928086), (4800, 0.006644096804609096), (4801, 0.0), (4802, 0.028068132830983143), (4803, 0.00280344834727981), (4804, 0.0), (4805, 0.0028209140843997557), (4806, 0.010218594259255677), (4807, 0.01454088929673869), (4808, 0.061585790552312315), (4809, 0.016038169858763406), (4810, 0.36675598974326157), (4811, 0.0020036547603573284), (4812, 0.002534248405462446), (4813, 0.01911820529419778), (4814, 0.00929921904983985), (4815, 0.06727112336372527), (4816, 0.01486438365552083), (4817, 0.0), (4818, 0.009065148018562431), (4819, 0.0023159051808027483), (4820, 0.01775780641102807), (4821, 0.015722736495668597), (4822, 0.017283685685976467), (4823, 0.01542740039204844), (4824, 0.015022066112091847), (4825, 0.13878286477727791), (4826, 0.0027957574986697802), (4827, 0.06791784609812523), (4828, 0.01758080745386356), (4829, 0.07418400294222545), (4830, 0.012788240731435705), (4831, 0.011998270879344013), (4832, 0.017906438635685668), (4833, 0.016776965441898287), (4834, 0.01397445369994132), (4835, 0.021531666558161786), (4836, 0.010875228488153999), (4837, 0.02201023115578286), (4838, 0.010099291956112238), (4839, 0.01515191087868626), (4840, 0.017427032939403248), (4841, 0.012221896784298494), (4842, 0.021963001788077793), (4843, 0.01020656714719499), (4844, 0.023036604474416755), (4845, 0.011740397806201628), (4846, 0.019587518923637397), (4847, 0.009116387151724258), (4848, 0.020961261163399542), (4849, 0.018974274419231787), (4850, 0.019558304152362833), (4851, 0.0029969017718198144), (4852, 0.016989553174640286), (4853, 0.05102194929306898), (4854, 0.009058166493919243), (4855, 0.008900113461729309), (4856, 0.0), (4857, 0.01373242529945797), (4858, 0.010321986976238347), (4859, 0.017427032939403248), (4860, 0.30099667956645576), (4861, 0.023132486588039496), (4862, 0.08582109212045388), (4863, 0.014867938547693488), (4864, 0.0040595305429435204), (4865, 0.006835338879471999), (4866, 0.008993425610344176), (4867, 0.01096495421063639), (4868, 0.012639248371623474), (4869, 0.12722391390376933), (4870, 0.0), (4871, 0.15624447188848248), (4872, 0.06913180619637897), (4873, 0.05823305454674131), (4874, 0.016892651360672153), (4875, 0.017171153385428524), (4876, 0.0), (4877, 0.019606402386737914), (4878, 0.013145824104821697), (4879, 0.0), (4880, 0.01655969780263374), (4881, 0.0), (4882, 0.00901860082536227), (4883, 0.01729642963018742), (4884, 0.028512185101344144), (4885, 0.017803181276919385), (4886, 0.30523110204152404), (4887, 0.018308271490495652), (4888, 0.014465340044589721), (4889, 0.0033176300390428187), (4890, 0.002961204599294912), (4891, 0.01445523721683218), (4892, 0.01831298017632837), (4893, 0.0117272714533522), (4894, 0.04379575831132109), (4895, 0.012785472526085749), (4896, 0.007753768622107231), (4897, 0.002641771883314489), (4898, 0.016964718525198094), (4899, 0.013152546956960928), (4900, 0.0029124241821498645), (4901, 0.0023436732277584043), (4902, 0.01748729298874791), (4903, 0.021291361823579154), (4904, 0.019446766709865504), (4905, 0.01886407590958473), (4906, 0.006460342364441663), (4907, 0.01251722457908204), (4908, 0.01312534285950527), (4909, 0.010901266378619195), (4910, 0.017322946361093553), (4911, 0.17167008973432302), (4912, 0.031265151932816274), (4913, 0.06062824120398081), (4914, 0.017339885639963866), (4915, 0.023209464062913146), (4916, 0.0), (4917, 0.0106262638306154), (4918, 0.014551727182462046), (4919, 0.11051656300019307), (4920, 0.0), (4921, 0.015956802636104935), (4922, 0.019162344420383524), (4923, 0.006395819407446938), (4924, 0.04538229773899476), (4925, 0.010548449456569351), (4926, 0.0030801726444963677), (4927, 0.010089193791824887), (4928, 0.018974274419231787), (4929, 0.0136254446726367), (4930, 0.0187497950034654), (4931, 0.20525973595108274), (4932, 0.006256255715593795), (4933, 0.022163899507243158), (4934, 0.0014590869278863306), (4935, 0.021919006845861677), (4936, 0.0027573508500699346), (4937, 0.00848739399440348), (4938, 0.056445262928952494), (4939, 0.018166870759219602), (4940, 0.022340826864023118), (4941, 0.0030416519109665906), (4942, 0.07539798996914174), (4943, 0.013867470545340323), (4944, 0.015002680575197342), (4945, 0.019345606187015973), (4946, 0.012328625182776992), (4947, 0.01850054308909704), (4948, 0.016389458099666798), (4949, 0.018221651850738194), (4950, 0.0), (4951, 0.013648672097597014), (4952, 0.019345606187015973), (4953, 0.019099307339219995), (4954, 0.0034115096381173845), (4955, 0.019751561996774518), (4956, 0.01390621107039948), (4957, 0.023775324638979252), (4958, 0.00901860082536227), (4959, 0.027789358573487636), (4960, 0.002009812029901529), (4961, 0.013380506176954073), (4962, 0.090497056299122), (4963, 0.12475698710996067), (4964, 0.011368039229994666), (4965, 0.018494268672628253), (4966, 0.02375585862473988), (4967, 0.014692407581645564), (4968, 0.0), (4969, 0.02050538261557102), (4970, 0.010001810863726103), (4971, 0.01657350315928086), (4972, 0.0), (4973, 0.023165858894233643), (4974, 0.019340096007671906), (4975, 0.029459834532080426), (4976, 0.11038433655768735), (4977, 0.01031849650112519), (4978, 0.41537431651902645), (4979, 0.022523165298048396), (4980, 0.0379785464334719), (4981, 0.0), (4982, 0.009801677706877654), (4983, 0.04764372079570724), (4984, 0.007033999002281197), (4985, 0.03961133645559247), (4986, 0.012987803362860003), (4987, 0.009515317419909096), (4988, 0.014071750027456625), (4989, 0.0479125025352064), (4990, 0.026021993766446767), (4991, 0.06757559028673574), (4992, 0.1440974351193206), (4993, 0.023068186218943312), (4994, 0.00909636692702575), (4995, 0.002184558760509006), (4996, 0.0), (4997, 0.012691147785868228), (4998, 0.011755480042994062), (4999, 0.01371517101102564)]\n"
          ]
        }
      ]
    },
    {
      "cell_type": "markdown",
      "source": [
        "All the movies have been highlighted, with their index number and similarity scores with respect to the searched item."
      ],
      "metadata": {
        "id": "1ehl00TaXWvg"
      }
    },
    {
      "cell_type": "code",
      "source": [
        "# sorting the movies based on their similarity score\n",
        "\n",
        "sorted_similar_movies = sorted(similarity_score, key = lambda x:x[1]) \n",
        "print(sorted_similar_movies)"
      ],
      "metadata": {
        "colab": {
          "base_uri": "https://localhost:8080/"
        },
        "id": "m2ktqic-XQxW",
        "outputId": "9722b2f4-f570-400f-f256-ba791dfb1051"
      },
      "execution_count": null,
      "outputs": [
        {
          "output_type": "stream",
          "name": "stdout",
          "text": [
            "[(1, 0.0), (3, 0.0), (4, 0.0), (13, 0.0), (19, 0.0), (26, 0.0), (33, 0.0), (35, 0.0), (38, 0.0), (41, 0.0), (42, 0.0), (48, 0.0), (51, 0.0), (58, 0.0), (59, 0.0), (63, 0.0), (65, 0.0), (72, 0.0), (74, 0.0), (83, 0.0), (85, 0.0), (89, 0.0), (90, 0.0), (92, 0.0), (94, 0.0), (112, 0.0), (115, 0.0), (128, 0.0), (132, 0.0), (142, 0.0), (143, 0.0), (147, 0.0), (149, 0.0), (152, 0.0), (159, 0.0), (160, 0.0), (166, 0.0), (174, 0.0), (182, 0.0), (186, 0.0), (187, 0.0), (197, 0.0), (198, 0.0), (199, 0.0), (204, 0.0), (205, 0.0), (210, 0.0), (215, 0.0), (218, 0.0), (223, 0.0), (224, 0.0), (232, 0.0), (246, 0.0), (247, 0.0), (254, 0.0), (267, 0.0), (283, 0.0), (286, 0.0), (288, 0.0), (299, 0.0), (303, 0.0), (308, 0.0), (312, 0.0), (313, 0.0), (314, 0.0), (315, 0.0), (321, 0.0), (328, 0.0), (330, 0.0), (334, 0.0), (340, 0.0), (342, 0.0), (345, 0.0), (349, 0.0), (352, 0.0), (353, 0.0), (357, 0.0), (358, 0.0), (361, 0.0), (373, 0.0), (376, 0.0), (383, 0.0), (384, 0.0), (387, 0.0), (392, 0.0), (394, 0.0), (395, 0.0), (396, 0.0), (397, 0.0), (409, 0.0), (414, 0.0), (416, 0.0), (422, 0.0), (426, 0.0), (429, 0.0), (432, 0.0), (434, 0.0), (440, 0.0), (451, 0.0), (464, 0.0), (466, 0.0), (478, 0.0), (490, 0.0), (493, 0.0), (506, 0.0), (510, 0.0), (529, 0.0), (547, 0.0), (552, 0.0), (555, 0.0), (561, 0.0), (574, 0.0), (577, 0.0), (578, 0.0), (581, 0.0), (582, 0.0), (596, 0.0), (602, 0.0), (609, 0.0), (618, 0.0), (622, 0.0), (650, 0.0), (660, 0.0), (663, 0.0), (671, 0.0), (677, 0.0), (680, 0.0), (681, 0.0), (689, 0.0), (694, 0.0), (697, 0.0), (698, 0.0), (712, 0.0), (713, 0.0), (717, 0.0), (724, 0.0), (727, 0.0), (736, 0.0), (745, 0.0), (752, 0.0), (754, 0.0), (756, 0.0), (758, 0.0), (759, 0.0), (761, 0.0), (764, 0.0), (773, 0.0), (786, 0.0), (788, 0.0), (804, 0.0), (807, 0.0), (809, 0.0), (816, 0.0), (817, 0.0), (821, 0.0), (826, 0.0), (827, 0.0), (834, 0.0), (840, 0.0), (847, 0.0), (864, 0.0), (866, 0.0), (871, 0.0), (883, 0.0), (892, 0.0), (901, 0.0), (906, 0.0), (913, 0.0), (919, 0.0), (944, 0.0), (945, 0.0), (947, 0.0), (949, 0.0), (969, 0.0), (976, 0.0), (984, 0.0), (994, 0.0), (1001, 0.0), (1010, 0.0), (1016, 0.0), (1019, 0.0), (1029, 0.0), (1037, 0.0), (1046, 0.0), (1050, 0.0), (1058, 0.0), (1062, 0.0), (1074, 0.0), (1075, 0.0), (1077, 0.0), (1079, 0.0), (1088, 0.0), (1099, 0.0), (1100, 0.0), (1106, 0.0), (1132, 0.0), (1149, 0.0), (1173, 0.0), (1180, 0.0), (1184, 0.0), (1189, 0.0), (1200, 0.0), (1213, 0.0), (1217, 0.0), (1231, 0.0), (1233, 0.0), (1244, 0.0), (1259, 0.0), (1260, 0.0), (1263, 0.0), (1266, 0.0), (1280, 0.0), (1285, 0.0), (1289, 0.0), (1292, 0.0), (1299, 0.0), (1318, 0.0), (1333, 0.0), (1355, 0.0), (1370, 0.0), (1377, 0.0), (1380, 0.0), (1393, 0.0), (1403, 0.0), (1405, 0.0), (1409, 0.0), (1423, 0.0), (1425, 0.0), (1429, 0.0), (1448, 0.0), (1456, 0.0), (1480, 0.0), (1485, 0.0), (1487, 0.0), (1491, 0.0), (1498, 0.0), (1519, 0.0), (1522, 0.0), (1523, 0.0), (1538, 0.0), (1544, 0.0), (1545, 0.0), (1560, 0.0), (1565, 0.0), (1589, 0.0), (1591, 0.0), (1597, 0.0), (1600, 0.0), (1602, 0.0), (1613, 0.0), (1616, 0.0), (1621, 0.0), (1632, 0.0), (1642, 0.0), (1654, 0.0), (1675, 0.0), (1680, 0.0), (1696, 0.0), (1699, 0.0), (1706, 0.0), (1715, 0.0), (1760, 0.0), (1767, 0.0), (1774, 0.0), (1781, 0.0), (1785, 0.0), (1792, 0.0), (1795, 0.0), (1804, 0.0), (1809, 0.0), (1825, 0.0), (1832, 0.0), (1852, 0.0), (1887, 0.0), (1892, 0.0), (1899, 0.0), (1907, 0.0), (1915, 0.0), (1916, 0.0), (1919, 0.0), (1948, 0.0), (1955, 0.0), (1964, 0.0), (1966, 0.0), (1974, 0.0), (1977, 0.0), (1979, 0.0), (1980, 0.0), (1982, 0.0), (1990, 0.0), (2009, 0.0), (2019, 0.0), (2020, 0.0), (2032, 0.0), (2034, 0.0), (2060, 0.0), (2098, 0.0), (2105, 0.0), (2122, 0.0), (2141, 0.0), (2144, 0.0), (2146, 0.0), (2151, 0.0), (2157, 0.0), (2167, 0.0), (2172, 0.0), (2178, 0.0), (2207, 0.0), (2215, 0.0), (2225, 0.0), (2226, 0.0), (2238, 0.0), (2242, 0.0), (2251, 0.0), (2254, 0.0), (2259, 0.0), (2265, 0.0), (2270, 0.0), (2274, 0.0), (2281, 0.0), (2309, 0.0), (2317, 0.0), (2326, 0.0), (2334, 0.0), (2346, 0.0), (2350, 0.0), (2372, 0.0), (2373, 0.0), (2379, 0.0), (2382, 0.0), (2387, 0.0), (2412, 0.0), (2422, 0.0), (2427, 0.0), (2434, 0.0), (2437, 0.0), (2462, 0.0), (2471, 0.0), (2482, 0.0), (2506, 0.0), (2511, 0.0), (2539, 0.0), (2544, 0.0), (2556, 0.0), (2577, 0.0), (2585, 0.0), (2593, 0.0), (2599, 0.0), (2622, 0.0), (2625, 0.0), (2628, 0.0), (2636, 0.0), (2668, 0.0), (2671, 0.0), (2698, 0.0), (2708, 0.0), (2710, 0.0), (2712, 0.0), (2717, 0.0), (2730, 0.0), (2743, 0.0), (2744, 0.0), (2745, 0.0), (2759, 0.0), (2829, 0.0), (2851, 0.0), (2863, 0.0), (2868, 0.0), (2883, 0.0), (2897, 0.0), (2917, 0.0), (2940, 0.0), (2944, 0.0), (2945, 0.0), (2949, 0.0), (2961, 0.0), (2963, 0.0), (2967, 0.0), (2980, 0.0), (3018, 0.0), (3022, 0.0), (3023, 0.0), (3026, 0.0), (3046, 0.0), (3056, 0.0), (3078, 0.0), (3082, 0.0), (3091, 0.0), (3101, 0.0), (3104, 0.0), (3112, 0.0), (3115, 0.0), (3118, 0.0), (3120, 0.0), (3124, 0.0), (3126, 0.0), (3144, 0.0), (3154, 0.0), (3159, 0.0), (3172, 0.0), (3175, 0.0), (3214, 0.0), (3220, 0.0), (3236, 0.0), (3237, 0.0), (3238, 0.0), (3247, 0.0), (3258, 0.0), (3278, 0.0), (3288, 0.0), (3290, 0.0), (3291, 0.0), (3292, 0.0), (3306, 0.0), (3317, 0.0), (3348, 0.0), (3358, 0.0), (3383, 0.0), (3424, 0.0), (3428, 0.0), (3432, 0.0), (3434, 0.0), (3454, 0.0), (3462, 0.0), (3463, 0.0), (3464, 0.0), (3466, 0.0), (3501, 0.0), (3541, 0.0), (3542, 0.0), (3544, 0.0), (3560, 0.0), (3562, 0.0), (3622, 0.0), (3630, 0.0), (3698, 0.0), (3705, 0.0), (3714, 0.0), (3733, 0.0), (3736, 0.0), (3738, 0.0), (3759, 0.0), (3762, 0.0), (3786, 0.0), (3800, 0.0), (3813, 0.0), (3856, 0.0), (3897, 0.0), (3903, 0.0), (3924, 0.0), (3932, 0.0), (3936, 0.0), (3939, 0.0), (3971, 0.0), (3982, 0.0), (3983, 0.0), (3994, 0.0), (4010, 0.0), (4034, 0.0), (4035, 0.0), (4045, 0.0), (4094, 0.0), (4099, 0.0), (4105, 0.0), (4115, 0.0), (4127, 0.0), (4137, 0.0), (4157, 0.0), (4160, 0.0), (4178, 0.0), (4188, 0.0), (4190, 0.0), (4204, 0.0), (4213, 0.0), (4221, 0.0), (4237, 0.0), (4248, 0.0), (4256, 0.0), (4277, 0.0), (4278, 0.0), (4284, 0.0), (4289, 0.0), (4303, 0.0), (4307, 0.0), (4321, 0.0), (4322, 0.0), (4344, 0.0), (4345, 0.0), (4350, 0.0), (4363, 0.0), (4382, 0.0), (4402, 0.0), (4422, 0.0), (4428, 0.0), (4430, 0.0), (4435, 0.0), (4465, 0.0), (4468, 0.0), (4477, 0.0), (4482, 0.0), (4495, 0.0), (4504, 0.0), (4506, 0.0), (4520, 0.0), (4524, 0.0), (4526, 0.0), (4527, 0.0), (4531, 0.0), (4550, 0.0), (4553, 0.0), (4586, 0.0), (4589, 0.0), (4596, 0.0), (4608, 0.0), (4640, 0.0), (4669, 0.0), (4689, 0.0), (4730, 0.0), (4762, 0.0), (4767, 0.0), (4770, 0.0), (4792, 0.0), (4801, 0.0), (4804, 0.0), (4817, 0.0), (4856, 0.0), (4870, 0.0), (4876, 0.0), (4879, 0.0), (4881, 0.0), (4916, 0.0), (4920, 0.0), (4950, 0.0), (4968, 0.0), (4972, 0.0), (4981, 0.0), (4996, 0.0), (784, 0.0008279653429596839), (97, 0.001183415661338852), (2136, 0.0011896852118032971), (4574, 0.0012620337883535644), (2465, 0.0012621878704080483), (194, 0.0012774364891241976), (244, 0.0012927575890649208), (605, 0.0013292693667236275), (1584, 0.0013452718103025563), (4308, 0.0013460987147487036), (75, 0.0013800006530191187), (472, 0.0013816928759634761), (530, 0.0013942922365354467), (1771, 0.0014067308218208264), (631, 0.001409555091765415), (470, 0.0014111837648714586), (1321, 0.0014241605708435621), (999, 0.0014313841283516407), (1276, 0.001434432889692319), (255, 0.0014353016042592337), (1064, 0.0014488940108021318), (4934, 0.0014590869278863306), (44, 0.0014787794255308447), (4222, 0.0014925038489690403), (344, 0.0014938433452344594), (256, 0.001501213638134459), (110, 0.0015013395458145576), (113, 0.0015116116972472124), (1624, 0.0015163480899835482), (77, 0.0015219174387847033), (1228, 0.0015227818419209051), (25, 0.0015286401760070875), (1777, 0.0015400608836363802), (640, 0.0015454126709839706), (169, 0.001546879490408315), (2569, 0.00155004049638062), (78, 0.0015527973213339068), (261, 0.0015561347814381976), (117, 0.0015576221081906212), (200, 0.0015627363238072233), (52, 0.0015655911846163522), (728, 0.001584493999988349), (263, 0.0015880953329629026), (1134, 0.0015909001924970959), (324, 0.0016011104748091724), (413, 0.001601122199637953), (188, 0.0016021113716445327), (84, 0.0016044449343771091), (855, 0.0016137386360679158), (20, 0.0016194813174028927), (296, 0.0016197858991853873), (229, 0.0016233088512359224), (2907, 0.0016254094921094194), (711, 0.0016282248699060258), (1128, 0.001630958996858717), (130, 0.0016424216270700756), (3157, 0.0016580647207560674), (2345, 0.0016587632778373616), (221, 0.001660556307092985), (238, 0.0016672678629623772), (360, 0.0016696967321751907), (2405, 0.00167587008535654), (293, 0.001685468535808076), (1961, 0.0016925953375690323), (118, 0.001696875134793535), (240, 0.0017001844604264415), (10, 0.0017099408929409576), (1011, 0.0017148310183480668), (2392, 0.0017157667940708183), (337, 0.0017186474852005217), (2466, 0.0017194343425650858), (369, 0.0017213114576187397), (1499, 0.0017316960588939982), (1902, 0.0017332755039446315), (2958, 0.001733599256357248), (2657, 0.0017341706640899204), (1622, 0.0017343751900697698), (135, 0.001734458201896472), (1463, 0.001741839863936873), (318, 0.001743833359579964), (6, 0.0017492219481488973), (37, 0.0017548001353092613), (566, 0.0017607545539029016), (535, 0.0017642023128565973), (4223, 0.0017657612608754664), (591, 0.0017743377387659674), (285, 0.0017828353579297314), (1691, 0.001783904696049433), (634, 0.0017866895395569277), (1417, 0.001788790778994846), (4661, 0.001790060452274844), (16, 0.0017913909882638968), (3092, 0.001795235503757541), (294, 0.0018041616724846386), (1469, 0.0018068273032793578), (2293, 0.001809885163885502), (2586, 0.0018100440899482039), (109, 0.0018111035233801716), (2930, 0.0018147313950570437), (3735, 0.001822813345072657), (15, 0.001831552880402206), (80, 0.001843669984953256), (2355, 0.0018463663777875965), (511, 0.0018468247873049501), (3302, 0.0018511685957255978), (1949, 0.0018541741484438723), (1115, 0.0018597040391437072), (67, 0.0018628737476626728), (1719, 0.0018637719792586973), (1112, 0.001866027145311505), (3105, 0.0018696389220438311), (2568, 0.0018705925942559258), (2432, 0.0018710265075279598), (2990, 0.0018724766662567634), (2455, 0.0018772750481561675), (3774, 0.0018777774426698838), (1854, 0.0018788361573506586), (3812, 0.0018790355910944466), (2306, 0.0018833747544652261), (721, 0.0018874457456131727), (156, 0.0018874919218398256), (184, 0.0018886624027938713), (208, 0.0018897326524738396), (2983, 0.001891229226549747), (2866, 0.001891828221942182), (800, 0.0018930060929709465), (428, 0.0018945899768497703), (2007, 0.0018976054807670097), (2794, 0.00189846123950252), (4649, 0.0018989525521000198), (1164, 0.0018998533449095802), (1243, 0.0019023906542541178), (2467, 0.0019058674218167583), (3218, 0.001906918943226032), (2538, 0.0019086446746299191), (1552, 0.0019094187363781227), (106, 0.0019095294104061861), (264, 0.0019104731279384545), (1457, 0.0019126878553464557), (742, 0.001921122224449897), (7, 0.0019222393667701666), (64, 0.001922931877640998), (23, 0.001923583143609195), (355, 0.0019287448660225848), (2529, 0.0019287757807374905), (2134, 0.0019297332804816762), (1960, 0.0019312689420635976), (4007, 0.0019314142100157218), (3636, 0.0019317532621545455), (1965, 0.001941391784835523), (2253, 0.0019422124989500983), (322, 0.0019436305387886355), (668, 0.001944553389725612), (775, 0.0019487613114758788), (1431, 0.0019505722706427218), (195, 0.001951613209397555), (4617, 0.001953334653329298), (43, 0.001957891245788514), (2617, 0.0019595543773109495), (839, 0.001959640592002341), (2991, 0.0019659910902577937), (3672, 0.001966894593635546), (3779, 0.001969478601157274), (1085, 0.001979438664387845), (399, 0.001980466125665593), (227, 0.001983393857275238), (4461, 0.0019844503756826673), (1535, 0.0019864621261615582), (1303, 0.0019891943841107203), (997, 0.001989554670380039), (3754, 0.0019938847893381166), (1313, 0.001994862040461521), (770, 0.001996193064811931), (2852, 0.0019965622595564812), (239, 0.001997046802528938), (1895, 0.0019973793315258372), (802, 0.001997463736165636), (1034, 0.0020002753937416505), (4811, 0.0020036547603573284), (1201, 0.0020058520845006767), (2044, 0.002007564075395912), (2962, 0.0020076838138159935), (874, 0.002009644946770426), (4960, 0.002009812029901529), (372, 0.002012493002117501), (119, 0.002012646103491827), (4108, 0.0020135719237092363), (3804, 0.002013648301409207), (1870, 0.0020138831368222854), (543, 0.0020146272911827643), (2766, 0.002014845505972155), (3645, 0.002016041052377228), (563, 0.0020174360296224803), (2214, 0.002017667607375991), (31, 0.002018589853849546), (978, 0.002018976336732661), (829, 0.002019644426926276), (1986, 0.0020217734289079913), (3373, 0.0020225056371050484), (108, 0.0020237846569235696), (213, 0.002024248841020578), (774, 0.0020261498696466764), (350, 0.0020328935173221895), (2935, 0.002033617276022056), (2822, 0.0020364229797541667), (3049, 0.0020375108434468694), (1048, 0.0020384143412402055), (3930, 0.0020390762534609444), (2165, 0.0020394450398145644), (3752, 0.00204155251997687), (1054, 0.002042287528489428), (1153, 0.002042806761611977), (2523, 0.002046107673672214), (1547, 0.002046885849953921), (1855, 0.0020482015529547136), (2727, 0.0020500283967654527), (175, 0.0020500614809779816), (636, 0.0020512782854529925), (1551, 0.0020512782854529925), (2025, 0.0020512782854529925), (2074, 0.002052181264520742), (2333, 0.0020549913855999937), (4578, 0.0020557386413088408), (257, 0.002059143250433422), (2623, 0.0020593496407621146), (3008, 0.0020611155055070963), (3614, 0.002063214209517882), (1728, 0.0020641459760391907), (2199, 0.002069137127017112), (479, 0.0020736783046011024), (1212, 0.00207408969398012), (1087, 0.0020752774999581673), (518, 0.0020753431180101224), (3708, 0.002075937937007204), (57, 0.002075941094894732), (895, 0.002077975341240663), (853, 0.002078009887155211), (1761, 0.0020830519673520134), (2332, 0.0020844842622995442), (1114, 0.0020856743787558175), (2092, 0.002089207307244514), (1672, 0.002089960887181215), (1205, 0.002091821513551595), (3005, 0.0020929862800809483), (1731, 0.0020931845819153736), (1946, 0.0020939916805780686), (1810, 0.002095409983037263), (1540, 0.002098821520308718), (806, 0.0020999895567826036), (653, 0.0021004966942123593), (3682, 0.0021023259810195433), (1844, 0.00210293625178912), (632, 0.002103154514642251), (1353, 0.0021070405324272114), (1940, 0.0021079408684845755), (1234, 0.0021096806464359695), (2621, 0.002115556544391011), (2450, 0.0021165316760159403), (1161, 0.0021171640154209093), (278, 0.0021189864971552608), (545, 0.0021197944873649795), (948, 0.0021206068481081737), (3963, 0.002120819034952054), (2642, 0.002124244438402206), (933, 0.0021256841522100402), (676, 0.002126627408035888), (2788, 0.0021268257390966434), (1168, 0.002127207504583631), (162, 0.0021286589804682086), (300, 0.0021289762840365914), (1123, 0.002131743494009651), (1466, 0.0021344007611679987), (3209, 0.002135301234027042), (69, 0.002135750528318711), (1444, 0.0021359668951327205), (2351, 0.002136672796982971), (3969, 0.002142863286559502), (1530, 0.002145294432634698), (4006, 0.002149633986946837), (4700, 0.0021500057540294504), (3054, 0.0021501023030712735), (1308, 0.0021505948402212936), (1430, 0.002152061982980021), (4411, 0.0021522164658437553), (687, 0.00215238230534619), (928, 0.0021542907781843426), (3770, 0.0021551429476057327), (2699, 0.0021595970047793758), (281, 0.0021595972931023684), (2366, 0.0021608165169578765), (2726, 0.0021686812904936517), (3615, 0.002168924148813586), (1277, 0.0021710349746365864), (3117, 0.0021732016180857493), (1056, 0.0021752326578602823), (266, 0.002176055157789816), (3702, 0.0021766699740468818), (4267, 0.002176846675636262), (624, 0.002177064119070756), (1170, 0.002177446549523059), (1032, 0.0021813293503473983), (148, 0.002182217174587817), (196, 0.0021831236923187964), (3766, 0.002184082844465339), (1807, 0.0021841204790297203), (3940, 0.002184355946677453), (4995, 0.002184558760509006), (1582, 0.0021845811320927258), (601, 0.0021850793111596162), (332, 0.002185262721541644), (4738, 0.002185336359626321), (735, 0.0021886452831747253), (2485, 0.002188693893909006), (193, 0.0021896049846806907), (1859, 0.002190028201522865), (2461, 0.0021919587757382006), (3050, 0.0021944034750291026), (1571, 0.0021945120851975617), (151, 0.0021954493324222724), (2067, 0.0021957033406657576), (625, 0.0021966155504061446), (2039, 0.0021982362021385968), (4377, 0.002201414669252501), (4065, 0.0022021304122000194), (3088, 0.0022026428794569646), (3368, 0.0022029653079185234), (3272, 0.0022036672696271187), (1451, 0.002204028473924936), (2926, 0.0022046513916097123), (2483, 0.0022049778679645734), (134, 0.002205243982162735), (2702, 0.0022057162369981394), (230, 0.0022084305248299668), (956, 0.0022124006196513083), (2942, 0.00221307712649059), (3979, 0.0022144592397144785), (378, 0.0022157952423023613), (1722, 0.0022187749862648447), (1033, 0.002219645345501316), (4352, 0.002219896128169053), (3768, 0.0022229541324214333), (1154, 0.002224035972725017), (1705, 0.0022269627063455956), (3586, 0.0022283990821652024), (2594, 0.0022291147409854548), (2489, 0.0022297291178798944), (2364, 0.0022298866384833924), (1754, 0.0022341556891469047), (3446, 0.0022351055148657636), (418, 0.0022372987695500578), (347, 0.0022375852073470513), (1510, 0.0022376078107963866), (161, 0.0022382419799015876), (1938, 0.0022384911559393604), (4044, 0.0022385750010976446), (1507, 0.0022394992304788333), (386, 0.002241709230237897), (1732, 0.0022467723402224853), (1369, 0.002246844254811188), (1607, 0.0022489024844386638), (1098, 0.002248995842613225), (2859, 0.0022506806719864384), (3619, 0.0022509364076067602), (2627, 0.0022528591733913883), (796, 0.0022528754184711628), (2115, 0.002254471823022683), (767, 0.0022556612026938287), (3948, 0.002259686116992993), (3920, 0.0022627357706525232), (3334, 0.0022638719233842803), (3524, 0.0022645113033820372), (2409, 0.0022671674668662068), (1918, 0.0022675073031788746), (2837, 0.002269907273571281), (2075, 0.0022711625720108876), (1068, 0.002273549839037838), (2099, 0.0022750652142104885), (4788, 0.002275101023284955), (3145, 0.0022762387190957954), (3199, 0.0022770412563926008), (3399, 0.0022781493410955794), (3148, 0.0022787151523660995), (2763, 0.002280467384917294), (4192, 0.002281505093939439), (1829, 0.002281547364852217), (3914, 0.0022820133713009456), (1350, 0.002287864726907313), (2896, 0.0022878873585656673), (4444, 0.0022911468627696803), (3304, 0.0022912543717486166), (1737, 0.002292392346657747), (707, 0.002293445743587187), (4354, 0.002293649955861272), (3764, 0.002295265443356257), (580, 0.0022965575756509495), (844, 0.002297734445043287), (1563, 0.002298511303197348), (144, 0.0022986230134459506), (4592, 0.002299282542640004), (2026, 0.0023006889264896697), (1120, 0.002302189611927619), (1187, 0.0023032630820879864), (3147, 0.002303872163943072), (2772, 0.002303921473310762), (1833, 0.0023063450384799033), (2697, 0.002306447507641402), (2592, 0.002306911891924363), (1478, 0.0023080059076331016), (986, 0.0023081861108392864), (1808, 0.002310270993473665), (1645, 0.00231051363556982), (1703, 0.0023120053903653093), (3631, 0.0023121066181569965), (4657, 0.002312300089103114), (3809, 0.002313798707853985), (3892, 0.002313823815960094), (4819, 0.0023159051808027483), (604, 0.002315993805499866), (3086, 0.002317083910895839), (1412, 0.0023185056886217193), (4029, 0.00231992568632734), (2469, 0.0023204800478264257), (439, 0.0023229918141480493), (3107, 0.0023260935254582945), (2687, 0.0023290475000860207), (833, 0.002329229250887365), (2849, 0.0023311416835284965), (3137, 0.002331938927315871), (3579, 0.002332415549701919), (2704, 0.0023357135390647005), (1903, 0.002339846800395079), (2284, 0.002341667927703997), (2901, 0.002341978049494797), (2644, 0.0023431762386947707), (4901, 0.0023436732277584043), (3427, 0.002344189323835887), (2244, 0.0023444221463096463), (719, 0.002345056306481256), (703, 0.002345367256134861), (3855, 0.0023472237265448116), (2789, 0.0023472867163534636), (3131, 0.0023472964179593147), (2898, 0.002347806776325053), (4133, 0.0023483877709731724), (1686, 0.0023508079708077505), (4179, 0.002352320971156782), (3902, 0.0023533742595580514), (2604, 0.0023534250217234305), (4343, 0.0023540615232738303), (4478, 0.0023541192280179856), (125, 0.0023542369956297735), (3951, 0.0023546372894633844), (436, 0.002355307424203615), (1091, 0.002356615909813193), (1518, 0.0023587925579540083), (1701, 0.002359024891435572), (828, 0.002360649118616059), (3691, 0.0023607360541240486), (615, 0.0023607617212999324), (3282, 0.0023608725833390034), (517, 0.0023610300390133955), (4514, 0.0023619434471638325), (1206, 0.0023625732507277994), (662, 0.002364898930341941), (569, 0.002367476024735527), (4647, 0.0023711430687391225), (4059, 0.0023722408044026966), (3555, 0.002373578201825165), (2700, 0.002373911339190651), (2985, 0.0023746322083670413), (1889, 0.002375367590407724), (2552, 0.002375914779341183), (813, 0.0023784550191211042), (4449, 0.0023808730589644452), (863, 0.0023823919797240447), (714, 0.002383202784817372), (3233, 0.00238511506286055), (1988, 0.0023872324994565837), (473, 0.0023874926906544192), (1750, 0.0023879937721054153), (611, 0.0023887999030232985), (2429, 0.0023889118904023053), (3539, 0.0023900044964925878), (1883, 0.002390246992009646), (619, 0.002391889150843604), (2204, 0.0023921213900021062), (3556, 0.002392247999653047), (2984, 0.0023932619101394276), (1336, 0.0023937093895161276), (3577, 0.002394379535518028), (1714, 0.0023948328896472013), (1790, 0.0023962661707751546), (3846, 0.002397460900935797), (3965, 0.0023976339151645385), (3007, 0.002398484908196748), (3096, 0.0023986546595570384), (516, 0.0023993298510636293), (343, 0.0024008143924930613), (3059, 0.0024010047959107756), (4486, 0.0024019698826919763), (2413, 0.0024020405768301564), (1533, 0.0024026755214069267), (2977, 0.0024046813028910674), (3361, 0.002405405668483114), (3044, 0.0024058962535268027), (1959, 0.0024070250242985685), (691, 0.0024090620243958304), (408, 0.002409529356327532), (3187, 0.0024100210002538356), (282, 0.0024104109429486033), (3033, 0.0024125654798681927), (2802, 0.002414406406197334), (1614, 0.0024146967263191862), (1371, 0.002414910431464774), (3870, 0.0024149618617044376), (4741, 0.002415097107038045), (1851, 0.0024165770526230162), (810, 0.0024181650477163815), (2320, 0.002421162862489344), (2016, 0.002422051906499554), (2635, 0.002422681968071225), (1570, 0.0024231706837654003), (1108, 0.0024241673401041233), (2811, 0.002424673402476512), (2618, 0.002425036733172285), (1249, 0.002430135495797805), (1182, 0.0024301619725393144), (4281, 0.002431397680543138), (1494, 0.002431577823569546), (1335, 0.0024344781894844523), (1279, 0.002434561060626206), (2416, 0.002434668836406384), (4085, 0.0024367179610088967), (3061, 0.0024370086606407848), (4101, 0.0024383628840034693), (3975, 0.0024421455865418704), (576, 0.0024430529967737796), (553, 0.002444826811437393), (54, 0.002447401390838505), (2027, 0.002447561488925213), (2404, 0.0024516366372862824), (4594, 0.0024533161752736637), (2449, 0.0024540120471852685), (2042, 0.0024545866118400967), (1662, 0.002455553382048219), (3186, 0.0024567857593703352), (3917, 0.002456832614808966), (4194, 0.002458571769028349), (4018, 0.0024600789355488516), (2611, 0.0024605091979619997), (3422, 0.002461092073636793), (1192, 0.0024615857048075128), (4441, 0.0024623876150367727), (4718, 0.0024631244702185075), (3833, 0.0024636492390493064), (1692, 0.0024638671089195056), (3270, 0.0024653465893595744), (3389, 0.0024665585603029414), (2565, 0.0024676315563706003), (572, 0.002467747836326046), (766, 0.00246936343850922), (3228, 0.0024698094101563766), (367, 0.0024733918973570295), (4590, 0.002473511421492431), (3901, 0.0024778685233154784), (4016, 0.0024791382558880908), (502, 0.002480180226029008), (3572, 0.0024816034209648318), (3595, 0.002482802624811219), (2921, 0.002482865271954562), (1684, 0.0024854731102970486), (2031, 0.0024868077332571054), (2535, 0.0024883015786171018), (1687, 0.002488849623857672), (722, 0.002490837958540976), (14, 0.002491054303286952), (1258, 0.0024919833998282752), (666, 0.002492270391468242), (2417, 0.002493889867371109), (1023, 0.002494199904356985), (2010, 0.002496089073257781), (2882, 0.0024965496330880766), (2996, 0.0024971374310627484), (4737, 0.0024979822465428323), (2069, 0.002500163914231249), (2453, 0.0025036251021432186), (385, 0.002504737642521853), (1962, 0.0025054798517810113), (2477, 0.0025068189955348183), (1063, 0.0025079882978556937), (744, 0.00250924462780886), (1017, 0.002510040759102531), (3060, 0.0025106749126427882), (799, 0.0025128500684073714), (2139, 0.002513543512306274), (2933, 0.002513724164937326), (302, 0.002514758391172314), (2606, 0.0025166497329209554), (1524, 0.002516760698398505), (3150, 0.002517566109904845), (127, 0.002519279395775054), (2848, 0.00251993764409936), (1802, 0.002523429129700871), (3751, 0.0025237251329568227), (2246, 0.00252531354084423), (2093, 0.0025264948346000534), (1900, 0.0025290433179226066), (3459, 0.0025301844547090968), (2081, 0.002530405173165526), (3793, 0.0025309016487733964), (3345, 0.002531814598252245), (1261, 0.0025336360901059567), (4300, 0.002533918581262961), (4812, 0.002534248405462446), (3346, 0.002535087704431555), (4312, 0.002537201966574374), (594, 0.0025394175865945637), (4096, 0.0025415151904855113), (3129, 0.002543802077095133), (407, 0.002544376953808878), (4269, 0.002546781715915905), (3862, 0.0025469059483129294), (557, 0.0025480117822750726), (2363, 0.0025484120007770476), (1996, 0.0025487641225217504), (2902, 0.002552288362325909), (1981, 0.0025533195876992834), (1022, 0.0025539817924043794), (425, 0.002555397059341668), (525, 0.0025565614265504856), (3653, 0.0025576036489557224), (2521, 0.00255792231420639), (2063, 0.0025600117842365182), (1741, 0.002560874368815026), (1690, 0.002564227607358172), (1097, 0.0025711412492945614), (412, 0.002571568653236517), (2974, 0.002572066530312679), (2656, 0.0025722893884154515), (1408, 0.002573064001031925), (544, 0.002573604422838319), (374, 0.0025764487778850544), (655, 0.0025771187140708586), (307, 0.002580684229527061), (3378, 0.0025818543728066603), (1695, 0.00258550048882102), (4261, 0.002590503624212671), (1337, 0.0025910482515418133), (2276, 0.002591115596830587), (270, 0.002592889078593363), (659, 0.002592900308261378), (3277, 0.002594458371372629), (4242, 0.0025956631778818943), (1685, 0.0025968995638691503), (1702, 0.0025978847121719967), (3781, 0.002599493119866278), (515, 0.0025998789522118735), (1893, 0.0026013250987247764), (2300, 0.0026016643514493675), (3616, 0.0026083466858320436), (2841, 0.002608620989993163), (4507, 0.002609968701717323), (2002, 0.0026102338490663394), (4460, 0.002611058622072162), (3854, 0.0026134324601777854), (4270, 0.002614525211519111), (2536, 0.0026166869032887828), (2570, 0.002618856758935218), (1287, 0.002619111252876609), (4337, 0.002621434578107126), (481, 0.002623239466811799), (1159, 0.0026240102384673713), (2513, 0.002624262428459376), (505, 0.0026267688549774268), (371, 0.002634079680139772), (1730, 0.0026379163863512268), (3027, 0.002638300352182397), (494, 0.002638818226244669), (1327, 0.0026398078756465887), (2887, 0.002640493151097887), (4897, 0.002641771883314489), (3546, 0.0026419619183558076), (430, 0.002642931665983153), (3423, 0.00264356379017963), (4775, 0.002645619202715939), (2033, 0.0026499171463396382), (3677, 0.0026509465109664405), (366, 0.002652053110269879), (3280, 0.002652626496836067), (1664, 0.002653603682193823), (499, 0.0026551322041172645), (3532, 0.002655395616599385), (3183, 0.002655934480214666), (2862, 0.0026562541399492373), (1036, 0.0026569443490951695), (3413, 0.00265794174841915), (896, 0.0026598277578960355), (587, 0.002660821569337184), (1013, 0.0026608563875459455), (2655, 0.0026630999611565783), (2256, 0.0026668667197143644), (311, 0.0026675516965235777), (3935, 0.002668191277562948), (3227, 0.002670549825317117), (3285, 0.0026707744282193366), (2919, 0.0026719436559420463), (4327, 0.0026731157177845182), (1199, 0.0026746547392779937), (4149, 0.0026746788454867303), (1590, 0.0026784333601525645), (2360, 0.0026790212934132106), (1921, 0.0026791315762494257), (716, 0.0026798469206063477), (2322, 0.0026871648795517), (2022, 0.002693701465836537), (3713, 0.0026948250370405903), (2756, 0.002696143662429494), (2380, 0.002697614139715182), (3242, 0.0026984189990650865), (2307, 0.0026985585900116352), (1436, 0.002703169695167208), (4591, 0.0027064216204787292), (570, 0.0027072682430004354), (3226, 0.0027094225478358153), (3094, 0.0027100178148644722), (2505, 0.002714791762309703), (2716, 0.0027148437863768783), (236, 0.0027163684606563315), (262, 0.0027185257974592786), (1209, 0.0027189874247968344), (3782, 0.0027216444004668577), (3138, 0.0027234406043636487), (3728, 0.002724518783605038), (1389, 0.002726276710944504), (2824, 0.0027300671198449), (4683, 0.0027321689503419784), (1866, 0.002733698413924336), (3109, 0.0027337904644508986), (1122, 0.0027348415387326176), (2533, 0.002736613325213422), (2269, 0.002737935659083292), (442, 0.002738161882827415), (2667, 0.0027404878752538935), (3730, 0.0027436016795263835), (3015, 0.0027462258878745947), (2187, 0.0027474866483933897), (1782, 0.0027498597044678156), (2972, 0.002750307338605124), (739, 0.002752763610200186), (3266, 0.0027530387154154254), (250, 0.00275354533433141), (185, 0.0027562426520446087), (1873, 0.0027569161547932714), (4936, 0.0027573508500699346), (797, 0.002759205773997335), (1850, 0.0027622161319492224), (4008, 0.002762571556123501), (4413, 0.002765578538565506), (2629, 0.002768316552312892), (3625, 0.0027701207630116574), (2665, 0.0027702601315393633), (3589, 0.002771292620181984), (1143, 0.002771337337434045), (456, 0.0027733446048333753), (1984, 0.0027749728788486654), (1789, 0.0027784072406088316), (1934, 0.0027784825801624134), (1566, 0.0027813251719686536), (841, 0.0027820496814966976), (2548, 0.0027828792383645753), (4570, 0.002783649861760386), (2268, 0.0027877376702924936), (950, 0.0027894551130888193), (2519, 0.002790380271971462), (1562, 0.0027919028562250754), (2140, 0.0027919956769092346), (1104, 0.0027941850227844447), (82, 0.0027942877255409094), (3240, 0.0027948425195552275), (4826, 0.0027957574986697802), (1012, 0.0027966672108552574), (3995, 0.0028025609338927305), (4803, 0.00280344834727981), (3990, 0.002804031872676405), (617, 0.0028050881207428904), (4600, 0.002805561578048045), (3203, 0.002805773097807977), (3102, 0.002806435098642574), (873, 0.0028079454704090104), (4776, 0.0028101708035223427), (3993, 0.002811472364812482), (3872, 0.0028115434767528942), (3668, 0.00281708471037834), (3526, 0.002819790890560195), (801, 0.002820080637475716), (4805, 0.0028209140843997557), (1768, 0.0028262513628036423), (2249, 0.0028296042361293417), (3550, 0.0028386671016197317), (776, 0.0028392791086767435), (837, 0.002841253885468642), (3658, 0.002841253885468642), (4355, 0.002842564370222278), (3076, 0.002842982189324346), (3336, 0.002843608090440153), (2857, 0.002845833199190939), (3273, 0.0028469774289427378), (857, 0.002848462868503931), (1385, 0.0028489261551478563), (2266, 0.0028489910284873795), (2182, 0.0028490250761667884), (985, 0.002849086730404706), (536, 0.0028527044633418503), (731, 0.0028539220895471866), (1121, 0.0028549161392715902), (2875, 0.0028552287967617196), (4540, 0.0028553370986512277), (3119, 0.0028563122706433287), (462, 0.002858963370526988), (1044, 0.002864008468781649), (295, 0.00286890166293481), (3064, 0.002868933519375534), (2783, 0.0028829129597740285), (4371, 0.002883663115248735), (1713, 0.0028857642784281064), (2082, 0.002887548647840829), (2596, 0.0028919550857338986), (593, 0.002893112060313043), (3356, 0.002894597436731195), (3173, 0.002895282478905332), (3426, 0.0028956844625141974), (121, 0.002896560984928542), (1819, 0.0028995757807143275), (2348, 0.002899786296805074), (1358, 0.0029007777440851206), (3704, 0.0029034390143038483), (2839, 0.0029064115748825645), (1578, 0.002906531767161804), (2066, 0.002906919294605386), (2520, 0.0029073250868940042), (4717, 0.002909744802839717), (1086, 0.0029099503316314334), (4900, 0.0029124241821498645), (1733, 0.002913077021433535), (258, 0.0029133072190879383), (3125, 0.0029163684798296755), (73, 0.00291846675272925), (1486, 0.0029200944131387743), (658, 0.0029219292472693493), (3025, 0.002922073125598414), (3597, 0.0029237452374445616), (1297, 0.0029238773895919608), (875, 0.00292899732233523), (1534, 0.0029397299868410966), (411, 0.0029445175801904493), (1651, 0.002947389301192859), (3797, 0.0029521206309165433), (105, 0.00295241101361785), (2685, 0.0029565775803152973), (2473, 0.0029594138263674356), (4890, 0.002961204599294912), (2778, 0.0029627506340814892), (946, 0.0029638114666286795), (1320, 0.002963844492235468), (2777, 0.0029644683272064794), (461, 0.002967406440997435), (937, 0.0029698453649087573), (3884, 0.0029706336804079868), (3643, 0.0029718087177071245), (3725, 0.0029785520194955646), (3960, 0.002980162780632754), (939, 0.0029825229681796103), (1878, 0.002984839006987713), (963, 0.0029856670587306566), (3519, 0.0029883721494967054), (1847, 0.0029891233506571875), (2362, 0.002991464987693912), (3522, 0.0029938245296407488), (1674, 0.002996266336607592), (1586, 0.002996407947617674), (4851, 0.0029969017718198144), (4745, 0.0029976923580329567), (231, 0.0029982079915394293), (1756, 0.003010285743165934), (4024, 0.0030130746850125806), (2674, 0.0030145637475480942), (3411, 0.0030154432847423894), (620, 0.003016103262123064), (3392, 0.003016656031664499), (1386, 0.0030185685121762664), (3845, 0.0030190260842616235), (1973, 0.00302903813160151), (1897, 0.00303159656536552), (2313, 0.003032975319567324), (3181, 0.0030375800824113254), (4941, 0.0030416519109665906), (1272, 0.0030435260644520058), (4020, 0.003050681190914057), (959, 0.003050799095877961), (1229, 0.00306454818042417), (3955, 0.0030648726120536232), (2884, 0.0030697083974862978), (415, 0.00307219126377136), (268, 0.0030753960712741634), (2517, 0.003077474161709561), (1679, 0.0030775827313899865), (971, 0.0030788359210621777), (4926, 0.0030801726444963677), (424, 0.0030842213122253496), (491, 0.0030867023270852206), (3632, 0.00308691301007915), (3790, 0.003087621589362699), (427, 0.0030877747362519285), (3000, 0.0030885654840155474), (309, 0.0030922839400958765), (1290, 0.003097678912104608), (201, 0.003101964453890762), (1729, 0.003102582811240616), (4154, 0.0031040309865266813), (2943, 0.003105415411725288), (4041, 0.0031061717132896153), (3858, 0.003109221032060022), (22, 0.003110945023354837), (2534, 0.0031126006197000114), (2601, 0.0031126204188563805), (253, 0.0031188143282578815), (2899, 0.0031228891730755957), (2647, 0.0031282365695246054), (3040, 0.0031292192101763133), (2168, 0.0031374871569505094), (1678, 0.0031416572313886447), (2370, 0.003148146236177257), (4579, 0.0031543339982300876), (600, 0.003155342784561242), (4218, 0.003158377154683126), (1179, 0.003171416035190062), (1527, 0.0031732223498394194), (4388, 0.003173636917658082), (2749, 0.0031769897577763506), (4771, 0.0031783577415957203), (4766, 0.0031843738976162985), (1620, 0.0031871623971630376), (898, 0.003192139473507863), (4140, 0.0031959166203530875), (1270, 0.0031999857622573265), (1311, 0.0032006244915351125), (4011, 0.003202600795625515), (3834, 0.003203838727951092), (2428, 0.0032041529757865), (3747, 0.0032071569730091594), (4358, 0.0032077634593512816), (2525, 0.0032092400501847677), (2480, 0.003211118350192894), (930, 0.0032118391375434915), (4320, 0.003219158302676309), (1155, 0.0032216291577489347), (305, 0.003226839858455452), (1697, 0.0032273295477612696), (940, 0.0032336423750490236), (4285, 0.003233683739473654), (1572, 0.0032408429274246105), (941, 0.003242248890211254), (1656, 0.0032452488485151644), (4195, 0.003247795374997077), (3068, 0.0032527251408856605), (3941, 0.003254704752591708), (4551, 0.0032568364048266778), (450, 0.003278043072567226), (1516, 0.0032797577569841016), (989, 0.0032809790534401332), (2872, 0.0032851559755749547), (1826, 0.0032931764953020985), (1976, 0.0032947185156536234), (4653, 0.0032960762335595977), (1650, 0.0033010064013270085), (3152, 0.003304530165594611), (3484, 0.0033171748534016796), (4889, 0.0033176300390428187), (865, 0.003330718326037179), (3628, 0.0033391500041735417), (3739, 0.003357520802876533), (1521, 0.003365651330288727), (2731, 0.0033829093702504157), (1148, 0.00338821314778994), (3578, 0.0033960763182772366), (888, 0.0033999885528603778), (4744, 0.003400428166277023), (1623, 0.003401390075512577), (1076, 0.0034101798650205757), (4954, 0.0034115096381173845), (4004, 0.0034184724873681876), (3121, 0.003420620058855983), (1879, 0.0034285721472321583), (910, 0.003435691388757647), (3521, 0.0034478725105490434), (1301, 0.003450674766400577), (791, 0.003456200087704242), (4403, 0.0034619499478484145), (3254, 0.0034647164692653666), (1049, 0.0034815310454344886), (391, 0.0034842173346639723), (2660, 0.003493971694924249), (216, 0.0035082299771375994), (2487, 0.003521059551884054), (2368, 0.0035222387192090673), (1926, 0.003533014290912927), (3756, 0.0035428868966634317), (3958, 0.003547642940405468), (3970, 0.0035599380903929157), (4447, 0.003607048611203921), (3637, 0.0036110671070349177), (2400, 0.0036344900133400007), (4518, 0.003675647901817278), (4542, 0.0036856388238320527), (3693, 0.0037152011489600995), (3549, 0.003719808859616434), (431, 0.0037249241037243253), (3729, 0.0037368606156835908), (4483, 0.003742220487115039), (651, 0.0037442089314357286), (567, 0.003778779317356247), (1615, 0.0038426219572579006), (2691, 0.0038566220598862866), (2847, 0.0038647225747591453), (3568, 0.0038699145952977515), (1472, 0.0038839183022734763), (920, 0.003938307003365631), (4613, 0.003990255446160362), (1542, 0.0039904229809153155), (526, 0.003992352344111166), (4864, 0.0040595305429435204), (2640, 0.004070153108953153), (1874, 0.004070977580839859), (469, 0.004077852003670777), (3710, 0.004104995460173439), (1801, 0.004114521970220762), (1770, 0.004201973302563324), (785, 0.004249207565225688), (3913, 0.004258827018093204), (2929, 0.004269725460760397), (3881, 0.004275391441027879), (2885, 0.004276318207248446), (2522, 0.004310114078651513), (2923, 0.004398080849908817), (768, 0.004401436812284307), (1644, 0.00440995280750338), (1000, 0.004415430968144757), (3755, 0.004434308347913134), (2573, 0.004464773606155696), (3959, 0.00446889073602621), (991, 0.004492029146646695), (2015, 0.0045349623833786535), (967, 0.004557400970344473), (882, 0.004645639086632866), (3080, 0.004659387086159195), (2600, 0.004726691389779948), (2440, 0.004746507000156654), (890, 0.004751015642387509), (1811, 0.004758255324456516), (1838, 0.00478687885649708), (3488, 0.0047936190558088496), (3386, 0.004809944649858301), (3498, 0.004815101471601264), (4216, 0.0048413704106972915), (88, 0.004854503034891376), (701, 0.004956457929716327), (3106, 0.004956457929716327), (233, 0.004970673585764659), (2239, 0.004987523855689583), (3467, 0.0050065734996591555), (1275, 0.005010853388024655), (3873, 0.005022013776292716), (317, 0.0050457447583321215), (4646, 0.005066111625637882), (1505, 0.0050740622809509976), (2287, 0.005084406086343251), (458, 0.0051045055463362675), (699, 0.005117809214007714), (1067, 0.005127731746086872), (1346, 0.005151825976457622), (1824, 0.005173692768122484), (1568, 0.005206940745194592), (1460, 0.005213811404379742), (1593, 0.005218410338155384), (2354, 0.005268372260534492), (1511, 0.00527142867843161), (4421, 0.005305984518767636), (1462, 0.005309692813874075), (3354, 0.005319082660921229), (1723, 0.0054129758619089995), (1539, 0.005420264711176001), (271, 0.00544489048789473), (4623, 0.00544709161393858), (911, 0.005502457107738409), (4317, 0.005507885741196377), (4707, 0.00551038960498876), (2192, 0.005518194901109553), (202, 0.005525787497694661), (1445, 0.00553252878162478), (2832, 0.005547781668274153), (3031, 0.005561501730286641), (2291, 0.005565549880553033), (3030, 0.00558529149499102), (4577, 0.005588158521321442), (3928, 0.005594224261038191), (4619, 0.005596037535451976), (1326, 0.005602470803210939), (1227, 0.00563730440739715), (1683, 0.005637343323186132), (2071, 0.005644054624289642), (3110, 0.005652590390899432), (4398, 0.005658909448487669), (206, 0.005659506761896379), (4258, 0.005660574404100314), (1720, 0.00566225616783622), (2188, 0.0056896436645959845), (2041, 0.005696257828135763), (4014, 0.005734966220137454), (2357, 0.005749609329004814), (661, 0.005750241372228813), (3353, 0.005841079059784948), (3321, 0.0058450283937954055), (923, 0.005847909274949374), (692, 0.005854982303680721), (877, 0.005876384921520247), (4446, 0.005922050866329999), (2277, 0.005941839729202127), (3943, 0.005965394592148322), (3972, 0.005979563253307183), (3192, 0.006021609585302584), (4739, 0.0060366206546112805), (280, 0.0060474283570489205), (2989, 0.0060606307096059304), (3435, 0.006061448195969305), (2903, 0.0060670879317296375), (3683, 0.006079125687839351), (1117, 0.00611320283289551), (1492, 0.006115373171518122), (2843, 0.006116816648327557), (3696, 0.006130668960673753), (4313, 0.00613238817093055), (2771, 0.006149886379929947), (4187, 0.00616368550623385), (4389, 0.006166867235379146), (672, 0.006172832617892179), (3320, 0.006173428733067706), (2672, 0.006182672861896759), (675, 0.006187889117656853), (1150, 0.006241907116668664), (4932, 0.006256255715593795), (1871, 0.006263323335600809), (1440, 0.006264700598461551), (1157, 0.006269605278922357), (1503, 0.006315918723015582), (2951, 0.006318566828147922), (2227, 0.006321978120608364), (3585, 0.006345444960430287), (4539, 0.006379866315432152), (900, 0.0063850499333278216), (3919, 0.006392236023898401), (2377, 0.006395408627449094), (4923, 0.006395819407446938), (3491, 0.006404196733146452), (3140, 0.006404208276921953), (1663, 0.0064049231631571335), (1348, 0.006422964704885941), (550, 0.006437100874752138), (3108, 0.006444056041258543), (4906, 0.006460342364441663), (1208, 0.006479780950965802), (4554, 0.006490189887187648), (3310, 0.006516175546133563), (2119, 0.00653016701534247), (1267, 0.006533902410645534), (2920, 0.006534592777173279), (2673, 0.006542784210494453), (1798, 0.006557366567893823), (4399, 0.006563847205888655), (2104, 0.006576403473421976), (3469, 0.006601861196397973), (1146, 0.006607432765728057), (4675, 0.006608107948092383), (4082, 0.006614431069547327), (1084, 0.00661986161504601), (4800, 0.006644096804609096), (2549, 0.00666050333940141), (3864, 0.006673979553724389), (3533, 0.006683918172922763), (3661, 0.006693226456323521), (454, 0.006708146557108361), (123, 0.006710437244230075), (4455, 0.006724160906409333), (2070, 0.006726098755003978), (444, 0.006747478017238127), (3826, 0.006751783753524848), (503, 0.006758095218858926), (325, 0.006773214847947347), (3719, 0.006774339736525783), (2323, 0.006784485925854395), (4716, 0.00678674214903593), (1601, 0.006798820328459139), (214, 0.006800824074123326), (975, 0.006801652770025961), (4865, 0.006835338879471999), (3581, 0.006844832931843776), (2760, 0.006850699908295431), (614, 0.006854226601033079), (2707, 0.006855684688587855), (4196, 0.006860337810836153), (2715, 0.006868942494305243), (1816, 0.006874558168548301), (916, 0.006878996591431812), (1082, 0.006880415297176078), (4583, 0.006922830265131265), (4474, 0.00692818549620988), (918, 0.0069337494831792894), (623, 0.006934580297679325), (1004, 0.00693550767276886), (2236, 0.00695021433792386), (3805, 0.006952005203077443), (979, 0.006952436744781911), (1443, 0.006972394959315558), (1845, 0.006973017266809665), (3405, 0.006975799783893925), (1985, 0.007004952874694511), (3912, 0.007014145731847015), (4017, 0.007027753574074881), (4984, 0.007033999002281197), (2457, 0.007036587751243108), (2012, 0.007044382598081677), (1609, 0.007050696064059372), (3339, 0.007065370226608346), (1368, 0.0070750095237857285), (3849, 0.0070750095237857285), (998, 0.007075888555133572), (1881, 0.007089999508110224), (2162, 0.0070996702194227775), (645, 0.007100543139684088), (3367, 0.007111180418916981), (2663, 0.007163008642445067), (3244, 0.007163108208153801), (1316, 0.0071693808246711095), (958, 0.0071845257859452965), (528, 0.0071850398978725505), (1711, 0.007186272181847066), (4703, 0.007233476858100548), (1171, 0.007233670940784759), (3644, 0.007234911640892478), (777, 0.007252255040723611), (2512, 0.007252836327867557), (1999, 0.007271135182639292), (1413, 0.007272179403993993), (889, 0.007294815971809464), (1361, 0.007310521179623613), (1242, 0.007312076878895445), (1931, 0.0073237688260232945), (4417, 0.007329293202366134), (1256, 0.007366654738313631), (3563, 0.007367531875117107), (2518, 0.007370211221571504), (831, 0.007371458134838392), (565, 0.007375638954209052), (2213, 0.007382740147335747), (2835, 0.007387353196310082), (1594, 0.007400527571400644), (1639, 0.00740844841576252), (3143, 0.007413228837429592), (1858, 0.0074151684696011026), (4078, 0.007436490509144798), (3190, 0.007451982174795011), (4587, 0.0074745116706233725), (274, 0.007482953040952093), (3600, 0.007501591924577104), (2545, 0.007537578909618859), (3312, 0.007545008680265926), (2170, 0.007545233916216099), (1943, 0.007547640079314657), (1274, 0.007573016685534013), (3003, 0.00758718192331473), (1314, 0.0075941659454702385), (1167, 0.0075962297260906905), (583, 0.007596757455695456), (4743, 0.007597699705194051), (3977, 0.0076192291362548814), (1627, 0.00763642749035867), (3098, 0.007658657576425425), (4000, 0.007668042403368025), (164, 0.00768364694528595), (3176, 0.007698017485374003), (2770, 0.007736040453112672), (1860, 0.007742383117442548), (3470, 0.007744692383810505), (3335, 0.007749559503364176), (1869, 0.007750942988572542), (4896, 0.007753768622107231), (3686, 0.0077575211297647075), (4186, 0.007773019184610421), (4158, 0.00777819021914616), (2209, 0.007783559257837397), (1932, 0.007794280926309294), (1786, 0.007796204225674922), (1439, 0.007818192138947749), (1997, 0.007823091352718525), (435, 0.007830236935898162), (2211, 0.007834206321873802), (4724, 0.00783690601143006), (2551, 0.007870270443780723), (1638, 0.00787059581871637), (3818, 0.007874764767741191), (2988, 0.007887162687325838), (4366, 0.007894299400314341), (1515, 0.00789504989495061), (757, 0.007903760270839827), (2303, 0.00791334210270444), (3241, 0.007915301173788131), (1137, 0.007919280378684772), (4536, 0.007925358671775535), (4563, 0.007928569197455278), (3863, 0.007936634994622369), (2279, 0.0079513257478039), (2479, 0.007952012420967944), (643, 0.007952084580945751), (2260, 0.007954584564191326), (354, 0.00795915414000595), (1796, 0.007965740624762114), (1185, 0.007996340077869523), (575, 0.0079988913110774), (2383, 0.008014956980573553), (4254, 0.008020354964662574), (3083, 0.008024683348899619), (1130, 0.00802634835259055), (1923, 0.00802995205337478), (1116, 0.008030054488479373), (2096, 0.008030077115779084), (4790, 0.008030327432869206), (2584, 0.008034354612765847), (3323, 0.008047867920567912), (514, 0.008060925745847708), (4636, 0.008062070490500107), (2243, 0.008069713884637206), (4394, 0.00807606406247197), (2049, 0.008085842531732832), (2198, 0.008093406618388057), (4699, 0.008102784344479558), (2915, 0.00810339484698674), (1784, 0.008127720246113253), (1434, 0.008128403727178435), (2193, 0.00813078045736852), (3871, 0.00815336164094159), (2101, 0.008157638100490704), (2499, 0.008174290889532114), (2784, 0.008179341919843357), (453, 0.00818831896746492), (1673, 0.008188763631762653), (2608, 0.008216757869985854), (4275, 0.008232942868153643), (2812, 0.00823770002898), (2994, 0.008241178564884172), (3178, 0.00824487186472066), (1322, 0.008248646289909492), (2411, 0.008257639072066742), (1007, 0.008264470470916243), (3642, 0.008266313128626926), (1800, 0.008268324181832222), (2632, 0.00827146278090226), (3263, 0.008272480690040494), (1138, 0.008274102393243379), (476, 0.008276493268991238), (3456, 0.00830841651628716), (2386, 0.008315104553849975), (1009, 0.008319004975900093), (3130, 0.008320486589066728), (1420, 0.00832349990513732), (932, 0.008336710054304522), (4316, 0.008340056234523016), (3515, 0.00834203816304849), (4324, 0.008345403120081375), (2078, 0.008347789021790768), (4217, 0.008358199053699849), (811, 0.00837145771163981), (4203, 0.008382007403307624), (922, 0.008390465737507794), (1994, 0.008417094281586521), (4476, 0.008418768672637321), (2472, 0.008421336597543093), (2572, 0.008422930323726083), (3223, 0.008431074367468573), (3827, 0.008456638702229114), (2503, 0.008473849411685937), (1124, 0.00848067300250056), (3139, 0.008482065463680745), (3481, 0.008483619598122542), (4937, 0.00848739399440348), (3540, 0.008493976702001884), (2768, 0.0084947646176796), (2968, 0.008503878978150598), (4652, 0.008513142625865252), (1665, 0.00852053219982014), (1888, 0.008525295381321863), (942, 0.008526279099670004), (4090, 0.008533394184791609), (1195, 0.008534619614628747), (1211, 0.008538614087505827), (1312, 0.008575626482998089), (1235, 0.008584237969253047), (3177, 0.008586320454345538), (2557, 0.00858986593149039), (4475, 0.008592656484493779), (139, 0.008609528025481141), (4315, 0.008615086782421654), (2616, 0.00863267617690919), (2064, 0.008637071127269212), (2443, 0.008637370247038284), (2414, 0.008638162857841053), (760, 0.008638179945923407), (4227, 0.008641083852397678), (2126, 0.00865218043843135), (2531, 0.008657680684749171), (2491, 0.008662181277189717), (4543, 0.0086653771832284), (1040, 0.00869141612260917), (3911, 0.00869515579123752), (1927, 0.008695965219459303), (1237, 0.008705906506603977), (4470, 0.008706259651910344), (819, 0.008707139896786186), (180, 0.00871419137687035), (3365, 0.008715622837229993), (1255, 0.008726831108944708), (3612, 0.00872936587606521), (2814, 0.008737577846371003), (1805, 0.008737865520207081), (549, 0.008747295051747511), (822, 0.008749370956073692), (3084, 0.008749370956073692), (212, 0.008769298093118513), (4610, 0.008779777171627985), (1497, 0.008784971947650556), (2369, 0.008790201418870084), (1281, 0.008806340544246978), (551, 0.008815016197969427), (1603, 0.00881789594055784), (4393, 0.008818632585092037), (1635, 0.008835206314782074), (1911, 0.008835206314782074), (2222, 0.008849945807058043), (3564, 0.008853489584286741), (4525, 0.00885635611598554), (1626, 0.008869217119799313), (1914, 0.008885407393806569), (856, 0.008889254776870945), (3442, 0.008897896509818731), (4855, 0.008900113461729309), (2821, 0.008907350023950562), (836, 0.008908623538220264), (484, 0.008924968251468476), (3418, 0.008931600821587563), (3876, 0.00894587610546153), (4088, 0.008958868343330966), (4418, 0.008967578128049653), (2553, 0.00896999770723244), (4128, 0.008981339826190619), (1387, 0.008982348601359134), (4243, 0.00898415078985743), (4750, 0.00898705539265453), (4866, 0.008993425610344176), (1588, 0.008993839518285529), (24, 0.009000834042332494), (1799, 0.009000956501313575), (1239, 0.009002590914659924), (3035, 0.009006391915680093), (4882, 0.00901860082536227), (4958, 0.00901860082536227), (2433, 0.009025653857948745), (1024, 0.009033869485474282), (1630, 0.009036026026121184), (30, 0.009045205731573594), (1543, 0.009045718660438323), (4383, 0.009055357887782884), (4854, 0.009058166493919243), (4818, 0.009065148018562431), (3158, 0.009079486036918005), (3506, 0.00908204408078618), (1649, 0.009085704230046268), (1151, 0.009086699309118814), (649, 0.00908981160115389), (838, 0.009094611117320303), (4994, 0.00909636692702575), (2358, 0.009103522910184512), (1640, 0.009104342651231424), (3253, 0.009108280591580907), (4559, 0.00911090938970811), (4735, 0.009114003146814497), (4847, 0.009116387151724258), (1550, 0.00911655536935922), (4276, 0.00913816794976395), (4207, 0.009147739664608518), (4721, 0.009149387462564579), (1398, 0.009165654158353236), (3483, 0.009183892649751927), (1433, 0.00918632701036793), (2030, 0.009199402979662357), (4028, 0.009199535334776509), (4555, 0.009199989433167369), (1969, 0.009201229383288729), (2085, 0.009204596254556722), (1096, 0.009206131512987829), (4369, 0.009223386778889675), (4198, 0.009236785352704202), (644, 0.009242263290140745), (1822, 0.009245940204612366), (3490, 0.009271325221614387), (2626, 0.009279942723584688), (4814, 0.00929921904983985), (1450, 0.00930929179021997), (2677, 0.009312305643522022), (1975, 0.009312632505356395), (1647, 0.009320438014997611), (1245, 0.009324706131262244), (1721, 0.009324852406208593), (1797, 0.00934820687349233), (3852, 0.009360704468451787), (1351, 0.009371026179212965), (630, 0.009373032883743908), (1319, 0.009388309107128451), (4171, 0.009409755918198244), (3327, 0.009411662069134106), (4517, 0.00941696442179325), (1176, 0.009418202393188066), (4686, 0.009446852887047566), (3878, 0.009450958266834859), (1246, 0.009460600629355356), (219, 0.009463438569761607), (492, 0.009463438569761607), (2504, 0.009470235511429483), (1035, 0.009482081113901523), (1496, 0.009486292369529456), (2801, 0.009505661215341629), (3611, 0.009506126473103848), (165, 0.009507577202887524), (4987, 0.009515317419909096), (2732, 0.009537448461099364), (3617, 0.009547445026968231), (1057, 0.009551134215173738), (495, 0.009556825376167841), (4076, 0.009561150789721189), (1841, 0.009564119003586675), (1045, 0.009575594348559799), (2728, 0.009589706902193369), (1740, 0.009589838851329862), (2004, 0.009592613601859193), (2947, 0.00960322130397907), (62, 0.009625833428127681), (1422, 0.009626851656823497), (4110, 0.009629744160191923), (1727, 0.009634320240215617), (3332, 0.009641736079987806), (2171, 0.009655585806573365), (1608, 0.009659250917185242), (2191, 0.009660669123527676), (3566, 0.009680058341523006), (850, 0.00968233077581211), (12, 0.00970231135831608), (2816, 0.009710352144568045), (3430, 0.009712465225985394), (2654, 0.009715867681793278), (3170, 0.00972193115600686), (4073, 0.009748164221133606), (779, 0.009760838246645406), (3185, 0.00976147188046748), (3808, 0.009764951137825967), (533, 0.00976534301001903), (2873, 0.009779283494493723), (3141, 0.009789684177060023), (4982, 0.009801677706877654), (1835, 0.009806097421848414), (3680, 0.009821770288658566), (3806, 0.00982856403418601), (2077, 0.009835456058906396), (3352, 0.00984100278832937), (794, 0.009846384251517508), (3635, 0.009849197056838184), (2978, 0.009852710582350946), (4043, 0.009859903301126132), (467, 0.009861789371929417), (2484, 0.009876782623805126), (445, 0.00987822280442668), (4568, 0.009886685666337113), (4333, 0.009892602821999162), (1053, 0.00990773093688236), (2232, 0.009909261361482489), (2097, 0.009917577069005463), (749, 0.009922969968417121), (2575, 0.009925653666576294), (1739, 0.00993930401675313), (3908, 0.009949511793529247), (2813, 0.009956737260084055), (4262, 0.009960824306579547), (4598, 0.009968474287562971), (1089, 0.009970105464021491), (509, 0.009971144015568843), (1240, 0.009973201458555282), (3309, 0.00997344641624005), (1220, 0.009977153932835946), (4296, 0.00997850031727512), (908, 0.009980546418738374), (842, 0.009991085801131545), (3268, 0.009991914900847958), (1483, 0.009992107217042905), (4753, 0.010000061836208673), (4970, 0.010001810863726103), (2288, 0.010024121783544615), (3883, 0.010045901815222436), (3404, 0.01004871703028707), (3001, 0.010059231875986313), (1546, 0.01006545156526651), (1493, 0.010077633177631946), (4601, 0.010081100680324164), (606, 0.010085057314632051), (1163, 0.010085057314632051), (1641, 0.010085057314632051), (292, 0.010085520585086757), (2752, 0.010085655114304598), (2234, 0.010086904474440748), (4282, 0.010087384658588211), (2255, 0.010089193791824887), (4927, 0.010089193791824887), (1753, 0.010095187371549932), (832, 0.010096320476653316), (1968, 0.01009840342534683), (4838, 0.010099291956112238), (4113, 0.010100537768546176), (3261, 0.010111878303932152), (2102, 0.01012333501480719), (2955, 0.01012420857306899), (3167, 0.010126497987378268), (4736, 0.010128821620576014), (508, 0.010130484207606993), (769, 0.010130704077512436), (1382, 0.010134365012759428), (9, 0.010142486139056333), (122, 0.010149170102478854), (1823, 0.010159542796320763), (1376, 0.010160906853566206), (3801, 0.010164750847723019), (4786, 0.01017457026101463), (4635, 0.0101823353176956), (3673, 0.010192485052548907), (4535, 0.010194059400183298), (1452, 0.010205280513629955), (1278, 0.0102059115014255), (4843, 0.01020656714719499), (2510, 0.0102083549372286), (4522, 0.010209131769535638), (4806, 0.010218594259255677), (734, 0.01022371089383741), (4297, 0.010225519546682885), (4109, 0.010239782208854737), (952, 0.010240823784410118), (1905, 0.01024254489070708), (4419, 0.010245358801167375), (4472, 0.010254607178070604), (2750, 0.010263417558928758), (2615, 0.010274564238834778), (3731, 0.01027695212427779), (3127, 0.01028228780997614), (76, 0.01028499237138722), (3380, 0.010287501052559699), (1983, 0.010296705099984232), (3962, 0.010300770251775445), (4361, 0.010301025760867704), (4609, 0.010308268657959689), (3819, 0.010313671675202092), (3307, 0.01031849650112519), (4036, 0.01031849650112519), (4748, 0.01031849650112519), (4977, 0.01031849650112519), (4858, 0.010321986976238347), (3559, 0.010328111673894032), (4062, 0.010338289877774774), (3592, 0.010341909376915837), (1065, 0.010342670494406356), (4167, 0.010344571026402988), (329, 0.010347825616347464), (3843, 0.01034792706605596), (2559, 0.010371487377494078), (1508, 0.010372805909488424), (1604, 0.010373936309491861), (3438, 0.010376204854219357), (4747, 0.01037961682845688), (3886, 0.010384516373929334), (3837, 0.01040189990951281), (987, 0.010422998972274), (486, 0.0104233154149689), (2258, 0.010436624941081983), (4546, 0.01044533088230762), (4338, 0.010453573154819429), (1495, 0.010458350614822556), (2426, 0.010460860815266662), (2912, 0.010462515268503048), (4201, 0.01046816675173963), (3538, 0.010471553461934147), (1867, 0.010474280177036999), (2598, 0.010477041166095796), (2103, 0.010481748852081238), (1015, 0.010494720381626549), (1817, 0.010513423197906692), (656, 0.01051571116023698), (2153, 0.01051818397938039), (4181, 0.010529658591891203), (4360, 0.010534920685368295), (2289, 0.010545385304267914), (3926, 0.010547624852680137), (4925, 0.010548449456569351), (265, 0.010551824356440368), (2121, 0.010554999505263774), (2724, 0.010557973299139975), (2051, 0.010563559042668556), (523, 0.01056657598266729), (2957, 0.01056667020676642), (765, 0.01058598435260543), (2567, 0.010588271562980358), (405, 0.010591530035058912), (60, 0.010596629236902933), (2127, 0.010600926378057636), (3649, 0.010600926378057636), (3534, 0.010607189458318162), (4731, 0.010608113854639015), (3219, 0.010610889575427416), (2486, 0.010613279482574255), (4917, 0.0106262638306154), (2086, 0.010644392301219573), (4644, 0.010660345952171042), (2107, 0.010669545679791174), (1140, 0.010671406737695746), (1416, 0.010673892233376892), (3328, 0.010682564552092898), (2602, 0.010683450820563479), (858, 0.010688836287610987), (762, 0.01069084906781122), (2056, 0.010696763326174008), (4114, 0.010698037465846303), (1585, 0.010704973755354109), (3193, 0.010707237394797604), (3570, 0.010707237394797604), (732, 0.010714200269802462), (1993, 0.010719620449501517), (2439, 0.01072059925386932), (4794, 0.010721448424636734), (4387, 0.010729349313055591), (909, 0.010735918843759655), (287, 0.010738780798368229), (718, 0.010752178294617202), (3085, 0.010763161780542246), (3740, 0.010763708142407864), (4047, 0.01077325079221925), (3888, 0.01078471912321139), (4692, 0.010791328874666436), (983, 0.0107916586974636), (3267, 0.010794978335083534), (519, 0.010799283431652026), (1356, 0.010804488768923768), (4328, 0.010815840427351387), (4027, 0.010817772216949281), (1742, 0.010825509532965457), (2971, 0.010825584289407745), (2494, 0.01083153137833028), (3830, 0.010840731056490464), (3639, 0.010844495171884384), (401, 0.010870810953066943), (2047, 0.010872627268841101), (4836, 0.010875228488153999), (4174, 0.010876347942725814), (1103, 0.010891523270563079), (4909, 0.010901266378619195), (4663, 0.010902773252426789), (2219, 0.010922176533576765), (4228, 0.010922176533576765), (1162, 0.010924150404335076), (1265, 0.010924189840158988), (3496, 0.010937848171901495), (1815, 0.010938777000568839), (3184, 0.010939901666987625), (3020, 0.010940132801896705), (792, 0.010943887178093541), (2669, 0.010945520262986686), (3795, 0.01094672913725834), (3530, 0.010949018335971773), (4760, 0.010951497315740317), (4502, 0.010951735574903743), (2532, 0.01095665065354191), (4867, 0.01096495421063639), (120, 0.010974409922478664), (2100, 0.010975350261852573), (1909, 0.010982654389191434), (3409, 0.010989433746686249), (4249, 0.011003519468788223), (720, 0.01100367957817721), (4251, 0.011011067700911453), (1718, 0.011018573750024388), (3859, 0.011021383915012528), (705, 0.011022313188687995), (3213, 0.011035956568241587), (1109, 0.011036030767048441), (2208, 0.011049513086771798), (2311, 0.011052350745145451), (1583, 0.011054559154395594), (2391, 0.011077839307480308), (1942, 0.011083900151754016), (2159, 0.01108946291706237), (1725, 0.011093393662174978), (404, 0.011110291765305563), (3666, 0.011111105703318089), (3499, 0.011113219875902934), (4161, 0.011123224719402924), (2834, 0.011123679413865755), (3395, 0.01112659517898763), (4491, 0.011127847912367966), (733, 0.011133142992376385), (912, 0.011133592072319837), (2451, 0.011142007560747028), (4778, 0.011145838524939968), (4454, 0.011153699772425137), (2775, 0.011156224609163084), (981, 0.011162509238491458), (2634, 0.011167972878572028), (2458, 0.011169928157049779), (538, 0.011175676455194197), (2059, 0.011179291131891762), (2420, 0.011183890302390925), (2563, 0.011187544675845727), (3510, 0.011187544675845727), (4314, 0.011188073292112515), (2711, 0.011193223770628317), (104, 0.01119887689672714), (1779, 0.011203275060967044), (2561, 0.011204341869834652), (4097, 0.011204475155396732), (1028, 0.011211077718709413), (4765, 0.011220171615825794), (907, 0.011225608170038252), (4758, 0.011244135816333876), (3771, 0.011260566887837954), (2055, 0.011263798359903541), (455, 0.01126450986920181), (3571, 0.011272280019425991), (251, 0.01128037447986517), (1273, 0.011286107823744519), (1081, 0.011287807214283333), (4516, 0.011289808065766592), (220, 0.011293942464626942), (1951, 0.01129561012531119), (402, 0.011306007156156683), (4462, 0.011306544471515904), (2402, 0.011310569789831786), (1083, 0.011319902732868377), (1305, 0.01132048832298462), (3283, 0.011336270844948369), (2891, 0.01134008220783669), (4618, 0.011342229539783557), (2223, 0.01134323592268913), (2879, 0.01134534103605201), (2507, 0.011354093990252763), (982, 0.011354901635811968), (2054, 0.011363029304852354), (4964, 0.011368039229994666), (4614, 0.0113807699275567), (1806, 0.011388686818927228), (3468, 0.011394665942046337), (4302, 0.011397085841053247), (2692, 0.011399787524457715), (1688, 0.01140094111457287), (4499, 0.011407764535001697), (2751, 0.01141010982684672), (1757, 0.01141292074294575), (40, 0.011417597415706755), (3842, 0.011430774159228201), (2761, 0.011441568253028092), (4622, 0.011449457448819672), (4706, 0.011452148832159354), (2, 0.011459690618368568), (3374, 0.011460610061603744), (4120, 0.011469359774899233), (3034, 0.01148009305974616), (3518, 0.011481949676568676), (599, 0.011495918228505618), (3340, 0.011517034896737404), (2838, 0.01151740066025905), (389, 0.01153788818408744), (4485, 0.011539795391512581), (2149, 0.011552031915320797), (501, 0.011569446559134035), (3607, 0.011577772094990592), (1222, 0.011578148833247506), (1315, 0.011580507275813334), (3472, 0.011582635527755819), (335, 0.011587944013079016), (4434, 0.011588592026004247), (3787, 0.011590238718404748), (3516, 0.011591249782223756), (4052, 0.011598842247815173), (1254, 0.011599779091556144), (1953, 0.01161897918751547), (2013, 0.011634113035838507), (3355, 0.011634113035838507), (4211, 0.011640872137026775), (4069, 0.011643989457168559), (4367, 0.011643989457168559), (448, 0.011653044410991312), (3985, 0.01166587666678124), (4098, 0.01166587666678124), (4459, 0.01166587666678124), (304, 0.011669487846436526), (1426, 0.01167167957331827), (3300, 0.01167255433829687), (1837, 0.011685891904090341), (1145, 0.011687202519139255), (380, 0.01168750413932427), (3796, 0.011688590260208857), (4071, 0.011698584068485535), (4180, 0.011702335358277907), (1971, 0.011706495333425557), (488, 0.01170986087338641), (4480, 0.011714473354417177), (4893, 0.0117272714533522), (1901, 0.011731312303055356), (1126, 0.011736507578489224), (468, 0.011739184854099511), (4845, 0.011740397806201628), (3400, 0.01174236224012891), (3311, 0.011754953087228182), (4998, 0.011755480042994062), (902, 0.011756513695883342), (4400, 0.011758352367653357), (346, 0.011758544902962005), (3676, 0.011759044862827257), (1787, 0.011768202556549544), (438, 0.011781348800464891), (95, 0.011781952388556791), (936, 0.011787827228847577), (3986, 0.011800958123441516), (1775, 0.011806627461971496), (3803, 0.011814823198396097), (2048, 0.011823341564030145), (2186, 0.011825556394253804), (564, 0.011835879776202804), (2694, 0.011838140985333447), (209, 0.011841260931880801), (189, 0.011851281860572549), (4145, 0.011852578368773365), (2212, 0.011855945077781685), (1995, 0.011856610345240163), (2152, 0.011858235703355105), (2776, 0.011858235703355105), (2890, 0.011874115387049654), (500, 0.011874923895354182), (741, 0.01188362997856956), (4560, 0.011892637553557944), (1557, 0.01190351710213671), (4293, 0.011906486479510797), (1006, 0.011915572582116396), (1814, 0.011921325675621174), (176, 0.011928365066992318), (1419, 0.011949255166321561), (2301, 0.01196208451815479), (284, 0.011971275808304994), (3961, 0.011980895398655392), (2175, 0.0119819424449682), (1158, 0.011986343278572495), (447, 0.011996799136739773), (3437, 0.011998270879344013), (4831, 0.011998270879344013), (1323, 0.012003169103176801), (4257, 0.012007254935111546), (4263, 0.012012607293479062), (2124, 0.012020224373431185), (1667, 0.012030267345627156), (2747, 0.012051131881555042), (3744, 0.012055133391505189), (926, 0.01205584881512772), (1489, 0.012056689804083458), (1765, 0.012059022262890429), (1232, 0.012068003681042366), (3906, 0.012068003681042366), (4676, 0.012075924528730509), (2128, 0.012081754252228662), (1579, 0.01208332336090857), (4667, 0.01208332336090857), (3298, 0.012083454534159264), (4081, 0.012083454534159264), (2285, 0.012088123846398874), (2516, 0.012091374572878868), (1617, 0.012097710029607828), (2591, 0.012100528704294063), (1284, 0.012117597550787902), (4668, 0.012117597550787902), (2328, 0.012137094931014674), (627, 0.012144701862932872), (1561, 0.012146198641366018), (4679, 0.012161673722961074), (2695, 0.012162303943242561), (621, 0.012176744721079043), (2906, 0.01219751670874882), (2855, 0.012200256971643474), (2318, 0.012204582813562164), (1025, 0.012208658742519947), (3551, 0.012211476447211177), (4841, 0.012221896784298494), (4067, 0.012226747887532622), (2361, 0.012230079942405827), (3947, 0.01223012606459823), (2895, 0.012231723759192636), (1183, 0.012233103648951315), (2876, 0.012233464770613893), (3077, 0.012236910302917441), (3385, 0.012249674952119012), (4501, 0.012250037547598822), (2976, 0.01225031076388655), (4252, 0.012256581799682698), (2501, 0.012259241283474885), (1734, 0.01225940301593315), (3569, 0.012260750561951719), (2347, 0.012282576498303738), (3316, 0.012291065241071574), (4404, 0.012291819365032397), (3647, 0.01229636360258847), (1093, 0.012306769702714741), (211, 0.012311964562497574), (3231, 0.0123172743342342), (4946, 0.012328625182776992), (4264, 0.012328766396813923), (3208, 0.012331345126011299), (3276, 0.01233314462472121), (4432, 0.012350217340928622), (1479, 0.012361532325810623), (2230, 0.012361532325810623), (3401, 0.012362752353881172), (4075, 0.01237597532457126), (477, 0.012376225690893052), (2310, 0.012386028604658783), (1476, 0.012386393892438053), (532, 0.012388820043934656), (2023, 0.012394686239176403), (1294, 0.012400760531921563), (4632, 0.012402350049202922), (2619, 0.012406723947526727), (897, 0.012413988985202188), (3113, 0.01241577372523438), (2678, 0.01244016260552882), (3210, 0.012447477425514594), (1129, 0.012450089087906716), (3671, 0.012455615536064344), (935, 0.012457579898338707), (3528, 0.012468498152287103), (79, 0.0124728218805981), (3479, 0.012476726183330067), (886, 0.012502616293950148), (297, 0.012508407760924201), (4907, 0.01251722457908204), (1107, 0.012519757438697049), (2908, 0.012523846316757051), (3687, 0.012523846316757051), (103, 0.012523940550421952), (803, 0.012524192356458182), (1026, 0.012526064512369378), (3447, 0.012531372467857849), (331, 0.012534342254751838), (4239, 0.012537336017482645), (1762, 0.012546829148693178), (4185, 0.01255616386538025), (2918, 0.012560905986632164), (2224, 0.012574636801099942), (3811, 0.012575367312761786), (1202, 0.012575525409981995), (3201, 0.012583548047113008), (4791, 0.012583598490812035), (4782, 0.012600607396217128), (3216, 0.012601101746164871), (805, 0.012609228853402247), (1556, 0.012610139440091327), (1945, 0.012610158776156961), (3554, 0.012610158776156961), (1070, 0.012620034991620083), (1144, 0.012620034991620083), (3527, 0.012628327171464912), (4002, 0.012628327171464912), (3010, 0.01262917786612736), (2252, 0.012630602403354934), (1072, 0.012631879209317957), (4868, 0.012639248371623474), (3724, 0.012639555179203878), (4489, 0.012649018833366894), (4547, 0.012650222675805126), (1963, 0.012679989554127937), (3968, 0.012686141731567612), (4997, 0.012691147785868228), (1682, 0.012695318843791136), (1133, 0.01269538705228369), (2394, 0.012696966784924274), (2581, 0.01269856819853558), (273, 0.012711619370297191), (1920, 0.012713961849841752), (3621, 0.012723494088016356), (4473, 0.012724308292458367), (2877, 0.01273039003062602), (2558, 0.012733534962094931), (2927, 0.012736088691142981), (3357, 0.012743116190588908), (2931, 0.012750175517375426), (4380, 0.012765419529714585), (2040, 0.012767298105970711), (420, 0.012772530994770808), (3012, 0.01277453860003236), (3485, 0.012783243503974974), (3295, 0.0127840851815606), (4895, 0.012785472526085749), (4830, 0.012788240731435705), (2447, 0.012788747183050321), (4112, 0.012790537368283046), (4722, 0.012793263882694804), (1293, 0.012798001693818908), (2278, 0.012802307670956838), (4487, 0.012803496049484388), (2614, 0.012814858566983667), (763, 0.0128407465122867), (876, 0.01284564655357815), (1230, 0.012856290152095764), (4364, 0.012868638248612705), (170, 0.012872189466647388), (475, 0.012875167096440258), (3746, 0.01287668724949196), (1383, 0.01288771863483981), (3478, 0.012894213951212805), (2792, 0.01289707976186014), (3169, 0.01290550311845303), (3670, 0.01290550311845303), (3308, 0.012906139523795705), (2148, 0.012906751169975021), (1972, 0.01290899659172759), (4534, 0.012918676813258576), (4690, 0.01291875345392508), (2753, 0.01294943014847377), (4656, 0.012952607359524018), (556, 0.012982551434874277), (4986, 0.012987803362860003), (2842, 0.012992919357957329), (522, 0.012995494160117685), (4740, 0.012998670242471654), (4061, 0.012999113869473992), (4124, 0.013021119650341778), (1735, 0.0130285133606164), (1407, 0.013033198382194456), (3246, 0.013037998976337652), (2263, 0.01303941175717638), (4497, 0.013045638626009885), (3741, 0.013049358312367986), (1018, 0.013052238361029828), (2860, 0.013057920617745824), (2431, 0.013064730278616977), (3419, 0.013093433785371424), (4241, 0.013093433785371424), (789, 0.013096010522148548), (2028, 0.013102754544042245), (178, 0.013113521681170238), (3366, 0.013117327194433523), (4279, 0.013117327194433523), (4253, 0.013118172520510235), (1461, 0.013119576586395613), (3957, 0.013120792193842998), (4908, 0.01312534285950527), (4053, 0.013126531936445151), (1252, 0.013128764569007556), (3382, 0.013134021165076561), (540, 0.013135082977993713), (3567, 0.013139538321580338), (4878, 0.013145824104821697), (4899, 0.013152546956960928), (1219, 0.013162987510788447), (1394, 0.013174178114706654), (4139, 0.013182268179634317), (2605, 0.01319272142331162), (778, 0.013196718326294116), (2319, 0.013197177058570899), (904, 0.013199840143333613), (1676, 0.01320432032845469), (4670, 0.013204340418212222), (2653, 0.01321461142307132), (1840, 0.013215547254263198), (2425, 0.013215547254263198), (3899, 0.013218914184300766), (4031, 0.013224123376723643), (3900, 0.01323217014660923), (3433, 0.013236086971724886), (1913, 0.013257448180835872), (903, 0.013258804775482552), (4208, 0.01326613006732667), (1021, 0.013276059451935076), (1709, 0.01329096735602537), (612, 0.013296356426252546), (4401, 0.013296809028891025), (4292, 0.013311907623275415), (2240, 0.013319520753548591), (3081, 0.01333493181260938), (4056, 0.013335898038593872), (751, 0.01334333004423398), (2283, 0.013344793453466461), (4001, 0.01334878882950776), (2068, 0.013358922194506294), (3868, 0.013363177469982149), (348, 0.013370375734610071), (3095, 0.013372523497566203), (4961, 0.013380506176954073), (3627, 0.01338926555211297), (417, 0.013397826781851505), (3882, 0.013428659429002536), (513, 0.013432074420070727), (3149, 0.013446145348186559), (669, 0.013461398496131611), (2661, 0.013472915030138498), (3593, 0.013487895303159358), (3678, 0.013491650378061737), (3504, 0.013500864322295093), (4437, 0.013503072451907511), (1468, 0.013503979564700475), (463, 0.013506489606915712), (830, 0.013507274319600752), (4541, 0.013516269168584526), (3289, 0.01352047441112451), (449, 0.013524706590430239), (990, 0.0135366770373637), (3351, 0.013539740725661676), (1655, 0.013541444093863184), (1611, 0.013541539975343745), (953, 0.013568767133061826), (520, 0.013583705945904771), (3347, 0.013584171373615873), (4255, 0.013584459996497069), (1849, 0.013585314207340967), (3861, 0.01358751040714418), (781, 0.013599336267787114), (141, 0.013601832798461834), (647, 0.013603098623648342), (2091, 0.013604114855622075), (3824, 0.013604114855622075), (1221, 0.01361044811333181), (3514, 0.013616032945489324), (2262, 0.01361702843678762), (931, 0.01361713787985646), (4929, 0.0136254446726367), (3132, 0.013648672097597014), (4951, 0.013648672097597014), (629, 0.013661525791155732), (2384, 0.013672349982541701), (2934, 0.013674193711651041), (269, 0.013683853883442166), (4734, 0.013684551034179048), (4365, 0.013684659351251457), (4209, 0.013684874381982234), (2410, 0.013685910749528313), (988, 0.013692959718174955), (146, 0.013697249067546678), (1482, 0.013697293739939921), (1415, 0.01370302314461333), (539, 0.013703302728981627), (2564, 0.013703441151166567), (3021, 0.013706025098694485), (4415, 0.013706921215945429), (1467, 0.01371517101102564), (4999, 0.01371517101102564), (4334, 0.013728385699168871), (4857, 0.01373242529945797), (686, 0.013742420159851762), (3243, 0.013742470544782679), (3230, 0.013749935740720046), (2342, 0.013751865153968656), (2807, 0.013772458947090454), (1831, 0.013775036656796637), (921, 0.013786607352376655), (2524, 0.013792637848634035), (2052, 0.013794308122710815), (887, 0.013823903649621008), (4564, 0.013824890318979363), (1908, 0.013828983751400185), (2218, 0.013830186547884246), (2610, 0.013840378016664018), (4193, 0.013840378016664018), (3956, 0.013843770453786038), (421, 0.013844754096322603), (4368, 0.01385686721698634), (4943, 0.013867470545340323), (4136, 0.013878914433939588), (2280, 0.013882493299607057), (245, 0.013885830835661913), (1513, 0.013889251726492333), (2158, 0.01389405096599697), (965, 0.013899223355358072), (4956, 0.01390621107039948), (1421, 0.013917507672506432), (3829, 0.01392291909227138), (2441, 0.013927766072757605), (1517, 0.013931153085904747), (4325, 0.013938648424096423), (772, 0.013941599784426282), (955, 0.013943124934173021), (1390, 0.013943799485118799), (1894, 0.01395919160451611), (3761, 0.013963216334251096), (4834, 0.01397445369994132), (465, 0.01398672639926319), (3984, 0.013992933713230127), (1890, 0.013996933238011516), (3224, 0.013996933238011516), (2774, 0.01400158342446094), (870, 0.014003532730811242), (2659, 0.014008816916506238), (2043, 0.014011666394072347), (4416, 0.014017886849212749), (2588, 0.014018484587037985), (1030, 0.014041381672521707), (1073, 0.014042403502313939), (1194, 0.014042403502313939), (3377, 0.01405185104826501), (3458, 0.01405185104826501), (2324, 0.014054385659977905), (3822, 0.014059374824029965), (1226, 0.014067674715348739), (4715, 0.014067674715348739), (4988, 0.014071750027456625), (3748, 0.014090846367681212), (4604, 0.014090846367681212), (2666, 0.014099392037572375), (915, 0.01410234862532727), (2406, 0.014113337517694335), (3188, 0.014113337517694335), (4755, 0.01411337927573311), (3866, 0.014115042984121588), (3927, 0.014124348082168265), (1853, 0.014124633773498721), (2960, 0.014134312252783408), (4599, 0.014136799541122996), (3337, 0.014137459047662324), (1464, 0.014139828782431073), (2495, 0.014141107184229297), (1269, 0.014143064933905762), (725, 0.014144597797390763), (4226, 0.014154989875853327), (1225, 0.014168785033262753), (3048, 0.014185320950280678), (1475, 0.014186630745837168), (2297, 0.0141897703698928), (3857, 0.014189905100946244), (2683, 0.014192246669959961), (1592, 0.014194264362839507), (2401, 0.014204413537286461), (3531, 0.01424921064195962), (2155, 0.014258133829273295), (4054, 0.014277993380098254), (4336, 0.014293175000586869), (595, 0.014293281018299788), (848, 0.014295887586493916), (960, 0.014299115663596006), (2762, 0.014300594741011044), (2371, 0.014302522951996445), (116, 0.01432366392219128), (1944, 0.014330854208845174), (1745, 0.014332910186549643), (1526, 0.01433611732040234), (2975, 0.014337691339882667), (2330, 0.014338461743648355), (2790, 0.014342566690115095), (993, 0.014345980089103602), (652, 0.014347313446787947), (3028, 0.01434924672554737), (3303, 0.014349573317660267), (3655, 0.01435748164199669), (3893, 0.01435748164199669), (3697, 0.014359783346568974), (3840, 0.014359818884499161), (878, 0.01436136291273878), (2296, 0.014372877660397704), (1257, 0.014373002747720201), (2169, 0.014379225068273983), (4089, 0.014379225068273983), (131, 0.014386541761834619), (3601, 0.014387274475822037), (3836, 0.014389993608581272), (995, 0.014410455260026713), (1992, 0.014414674522531534), (3807, 0.014414674522531534), (2892, 0.014421724844950724), (1339, 0.014430085021570054), (3895, 0.014430707623210116), (2737, 0.01443261998225119), (2385, 0.014435651048485744), (2781, 0.014436685290621233), (2741, 0.014447546465376401), (2076, 0.014452597401722927), (4891, 0.01445523721683218), (2986, 0.014461608795670412), (4888, 0.014465340044589721), (4684, 0.014467324758897383), (2138, 0.01447495209435883), (2110, 0.014497422332369088), (2174, 0.01451120584013656), (3410, 0.01451120584013656), (4423, 0.014513259047610699), (2939, 0.014515208980508435), (4100, 0.014515208980508435), (787, 0.014515372025116817), (2742, 0.014536702290311381), (4807, 0.01454088929673869), (641, 0.014547588503280324), (4918, 0.014551727182462046), (3234, 0.014557097472752781), (2780, 0.014560457529434384), (4125, 0.014569308964914016), (4710, 0.014572355244904588), (2438, 0.014572813548685582), (2325, 0.01459502191736489), (3916, 0.014601911511781588), (2294, 0.014614909984740212), (1338, 0.014624999696483204), (3051, 0.014625686653743529), (3620, 0.014625686653743529), (2856, 0.014627688045472681), (3279, 0.014627688045472681), (1441, 0.01462947788458338), (4372, 0.014637964474732132), (3991, 0.014657120041041883), (679, 0.014658918815864935), (323, 0.014680434833943014), (3232, 0.014681409651282663), (2018, 0.014682433975661527), (4967, 0.014692407581645564), (1418, 0.01470833798702821), (301, 0.014712978220181715), (1554, 0.014728614426834232), (2786, 0.014737874937753487), (2053, 0.014742783989694253), (4126, 0.014745582804631157), (1446, 0.014745869916288632), (1707, 0.014747087100655235), (1748, 0.014749666227155397), (2185, 0.014753618421770465), (86, 0.014781508903308958), (2197, 0.014788085594747962), (2853, 0.014788085594747962), (4169, 0.01479105034629795), (3229, 0.014791473975147582), (4562, 0.014805433084269664), (4752, 0.01481121222443145), (2831, 0.014829416228701764), (3369, 0.014829416228701764), (3053, 0.014837572386225132), (4030, 0.01484194884408237), (3659, 0.01484736518554656), (1060, 0.014861642272506796), (4816, 0.01486438365552083), (4863, 0.014867938547693488), (3794, 0.014874894877856853), (2423, 0.014876913723387186), (1188, 0.014880161324365152), (1846, 0.014880161324365152), (4702, 0.014884800782071973), (2090, 0.014885601665623317), (2173, 0.01490264792941405), (2095, 0.014917173549159744), (1218, 0.014919820540517163), (1991, 0.014922740834291383), (2800, 0.014926371585389644), (3274, 0.014940813511755784), (710, 0.014943178290261233), (4645, 0.014952149331222384), (4026, 0.014959272190555706), (1052, 0.014964245598148466), (2329, 0.014972749234924358), (1399, 0.014991555893218994), (4944, 0.015002680575197342), (4575, 0.015007036394647238), (4488, 0.015007856430843729), (2088, 0.015011416214963953), (4342, 0.01501933847122094), (4824, 0.015022066112091847), (2177, 0.015028338889284447), (2335, 0.015031603743378051), (3011, 0.015032904619481265), (2799, 0.015034343666721097), (4511, 0.015034343666721097), (524, 0.015045481414265588), (507, 0.015049993245289772), (2880, 0.015050492358751145), (4629, 0.015052554845114084), (2767, 0.015067902056084949), (1095, 0.015088623411248028), (4503, 0.01511892106429148), (534, 0.01512546347500276), (4628, 0.015136450994349609), (3712, 0.015137236158323115), (471, 0.015141644673688608), (4839, 0.01515191087868626), (628, 0.015166569337445299), (3390, 0.015167681672326225), (4234, 0.015169323403465754), (3013, 0.01517349797866319), (1207, 0.015175271395748157), (3737, 0.015183894201636556), (2200, 0.015195267856046673), (370, 0.015202282564959611), (310, 0.015205395173139642), (2797, 0.015218270243007582), (1005, 0.015218274489967362), (1933, 0.01522569200035416), (3701, 0.01522569200035416), (2595, 0.015230039973059502), (3009, 0.01523241038576497), (1442, 0.015248133705446979), (3974, 0.015266898700713693), (2554, 0.015312756182726978), (2555, 0.01531765092873216), (1677, 0.015322341325556023), (3436, 0.015327854393456446), (55, 0.015339415465170633), (2795, 0.015343355575579483), (715, 0.015344002175300391), (4548, 0.015359311058265553), (2537, 0.015364361735929774), (4310, 0.015364361735929774), (1776, 0.015384220506177956), (437, 0.015385059709664257), (3573, 0.01538592287911894), (2435, 0.015388947932920253), (1471, 0.015390224412315752), (3918, 0.015391208440319267), (2304, 0.015393756632120191), (4170, 0.015393756632120191), (4348, 0.015396934750110784), (4823, 0.01542740039204844), (93, 0.01543621717502354), (2562, 0.015439747620620812), (3537, 0.015450153611789301), (339, 0.015450386761777702), (4271, 0.015455825835619963), (3070, 0.015461711239308944), (861, 0.015465349320837173), (446, 0.015468711053942354), (4152, 0.015469406571484523), (2448, 0.015475655440393674), (71, 0.015478366870755912), (1092, 0.015478801849634283), (1648, 0.015480141658776668), (4038, 0.015481951459784876), (2180, 0.01548494711298426), (2271, 0.01548494711298426), (696, 0.015486010609871495), (2003, 0.01549313578593418), (3019, 0.015510931080520127), (2216, 0.015512666212011441), (1726, 0.015524442933014564), (1110, 0.015526693975367316), (3721, 0.01553430848134412), (1341, 0.015536290852878967), (1598, 0.015537812013566825), (4634, 0.015546418578589603), (1488, 0.015552060875451525), (1340, 0.015554349384742084), (2864, 0.015554349384742084), (2353, 0.015563770035847333), (3707, 0.015566386868456204), (2874, 0.015576874043570768), (1384, 0.015582876157527018), (2878, 0.015583930148148037), (1372, 0.015597515616101735), (1248, 0.015610710149101037), (3103, 0.015610710149101037), (3590, 0.01562840771541773), (228, 0.015630535854255438), (3195, 0.01564945157686238), (1950, 0.015664048735585065), (973, 0.01566448965182992), (4556, 0.01567001750641893), (2721, 0.01567880954695643), (3313, 0.01568667718343399), (3171, 0.015689367093810705), (4620, 0.015699118568230343), (3057, 0.01570853375904382), (3160, 0.015710005338922414), (3260, 0.01571336880292207), (4821, 0.015722736495668597), (4013, 0.01573287389073247), (3773, 0.015734822784770102), (2395, 0.01573926460034656), (4533, 0.015740327453571797), (1251, 0.015744536016433767), (1400, 0.01574589507316874), (3271, 0.015749644864046272), (3981, 0.015750559712303876), (4117, 0.015759001290921528), (1666, 0.01577536341155681), (4658, 0.015784667236692605), (4066, 0.01580062079028303), (1360, 0.015807495052718806), (497, 0.015807565151873818), (1532, 0.01580987673897028), (2498, 0.01580987673897028), (3397, 0.015813483491096958), (3017, 0.01582777287857929), (1307, 0.015828708616670743), (1238, 0.015838149442801066), (1839, 0.015851705840864348), (3789, 0.01586030814340544), (1970, 0.015861861649565576), (2840, 0.015866099521636503), (4373, 0.015874657276757298), (393, 0.01587719731130476), (559, 0.015890529829761392), (1856, 0.015896368229339614), (4784, 0.01590098787107223), (4728, 0.015902517294639443), (3743, 0.01590264939723772), (1749, 0.015905308402497688), (3609, 0.015905308402497688), (646, 0.01591513329714834), (482, 0.01593314572143232), (1362, 0.015939422251017188), (554, 0.015942844479197596), (4921, 0.015956802636104935), (3006, 0.01595839730153435), (2195, 0.015960287817006296), (2576, 0.015963881383821685), (4638, 0.015965667817425866), (1967, 0.015966396461883824), (560, 0.015966537124734455), (1514, 0.015978097981578003), (3716, 0.015982531001571383), (4091, 0.01599302038658835), (1746, 0.016004079289986678), (4789, 0.016008387117725384), (3058, 0.016009699042589965), (53, 0.016015329266811575), (4232, 0.016016342712485577), (4682, 0.016016342712485577), (3838, 0.01602133320308981), (512, 0.01602684700402213), (4809, 0.016038169858763406), (3669, 0.016045652445164503), (3923, 0.016051827599573937), (2083, 0.016054657492935026), (4287, 0.01608147101207099), (3769, 0.01608785845874275), (639, 0.016102273952297224), (3853, 0.01610600475717524), (3640, 0.016117190845441602), (3717, 0.0161184091788076), (2893, 0.016118758196327364), (4274, 0.016118758196327364), (1474, 0.016146539012469097), (4375, 0.016146539012469097), (2582, 0.016148152808203795), (1657, 0.016155479247554387), (3180, 0.01616267296558518), (2681, 0.016163578566442523), (2590, 0.01616503995531843), (3798, 0.016165999645734203), (1003, 0.016178952434652012), (3967, 0.016185295465843994), (3408, 0.016191601665207753), (3512, 0.016195724517983068), (3473, 0.01619790609450908), (3249, 0.016198542790573374), (4576, 0.016200111315755626), (2275, 0.01620318218299273), (1411, 0.016205418147438512), (4130, 0.016212761210139044), (3765, 0.016213788444365395), (2709, 0.016214062870645737), (2542, 0.01623542321118758), (3269, 0.016239461386203087), (2341, 0.01626068699716718), (1141, 0.016266021392152094), (1090, 0.016277643202106878), (3155, 0.016286884574356092), (4481, 0.016286884574356092), (81, 0.016288022195372464), (670, 0.016291469572751065), (3194, 0.0162923316559206), (4229, 0.0162923316559206), (2359, 0.0162980645926693), (4051, 0.0162980645926693), (3135, 0.016301488817829366), (140, 0.016307175426444123), (4493, 0.01632553228463619), (4086, 0.01632892417764476), (4205, 0.01633046649350137), (1404, 0.0163573966371999), (2950, 0.016360810953834064), (1610, 0.016368357443296788), (3455, 0.016368357443296788), (1395, 0.01637808549827797), (2314, 0.016388894879572482), (3443, 0.016389458099666798), (4948, 0.016389458099666798), (996, 0.01640174851423439), (914, 0.016412546037748117), (2793, 0.016421861984726983), (3964, 0.01642590685324745), (241, 0.016434239119083593), (3780, 0.016439497376994454), (4593, 0.016456582775815354), (381, 0.016462666519226146), (3480, 0.016467409288881574), (1537, 0.016468962578464648), (4571, 0.016484878056533547), (4751, 0.016495231611808627), (4046, 0.01650322773351224), (3922, 0.016503353340392872), (4756, 0.01650618929230352), (2143, 0.016508318425365077), (4070, 0.01651077941140881), (2916, 0.016518592079608346), (4673, 0.016521389683293967), (2938, 0.01653914851541765), (4500, 0.016547541065756628), (4880, 0.01655969780263374), (4409, 0.016562180640284606), (3318, 0.016564818864102437), (4233, 0.016564818864102437), (820, 0.016567807388960916), (1477, 0.016567807388960916), (3004, 0.016571118608742552), (4033, 0.016571898435888386), (2106, 0.016571997655283055), (4799, 0.01657350315928086), (4971, 0.01657350315928086), (3452, 0.016578794470098055), (3364, 0.016579650592708235), (3832, 0.016579650592708235), (183, 0.01658251848114865), (3417, 0.016588545820851903), (2993, 0.016588718150185332), (2718, 0.016591741251836583), (3841, 0.01659453641827147), (4349, 0.01659453641827147), (4391, 0.01661138907195134), (3894, 0.016617561973730235), (3938, 0.016620538542932634), (3525, 0.016622449588083572), (1928, 0.01663134214293901), (4694, 0.016634362800187225), (1484, 0.016636854245811458), (4414, 0.016663505101292775), (2964, 0.016671970747950553), (338, 0.016677556654820905), (4189, 0.016687095294222035), (3032, 0.016695365470553107), (3715, 0.016698091581950226), (3699, 0.016700793034829024), (4384, 0.016700793034829024), (4092, 0.016719509433189294), (3293, 0.01672335689829976), (4199, 0.016724123453921585), (4768, 0.016725112705907152), (4650, 0.016742758878225482), (537, 0.016744251676110697), (1247, 0.016744251676110697), (4795, 0.016746621498503846), (2080, 0.01674875944173124), (843, 0.016759122983462823), (2637, 0.016760021341742606), (1378, 0.016766883289509767), (4095, 0.016768776333964407), (4833, 0.016776965441898287), (1758, 0.016783790864467518), (1166, 0.01680569123122354), (2147, 0.016815389251586495), (3850, 0.016818750097838158), (4135, 0.016818750097838158), (4566, 0.01682244274946996), (3287, 0.01682605316259935), (2733, 0.016827625579011688), (2419, 0.016830042232056454), (1047, 0.016830555421196547), (3197, 0.016830555421196547), (4305, 0.016836657531142978), (3500, 0.016852401860569858), (1575, 0.016858038678653507), (1435, 0.01686032458593283), (2574, 0.016860785942256887), (3493, 0.016885479339852082), (4773, 0.016885479339852082), (1465, 0.016890214059764735), (4874, 0.016892651360672153), (4175, 0.01690913439500946), (4671, 0.01691276299739138), (2746, 0.01692858922787381), (590, 0.0169298211611527), (2378, 0.01694765117472051), (3825, 0.01695036291222243), (4183, 0.01695036291222243), (746, 0.016952776936471646), (4191, 0.016957383671963387), (4898, 0.016964718525198094), (684, 0.016977500064200166), (2338, 0.016979883234213178), (1364, 0.016985383945539945), (1304, 0.01698564749828599), (4852, 0.016989553174640286), (2630, 0.01699050188474715), (3703, 0.016995809865877284), (2488, 0.017001920943761604), (4680, 0.017007737435883154), (1606, 0.017020393464545914), (4080, 0.017023276402026333), (925, 0.017027005070711882), (3624, 0.017033539989435333), (3503, 0.017035483380991846), (21, 0.01704084189901195), (4230, 0.01704537858803646), (2079, 0.01704860899703107), (4529, 0.017050629015397993), (4508, 0.017059915380699578), (3362, 0.017072479708943253), (3471, 0.017076934678152834), (4362, 0.017083449804855804), (2137, 0.017084248390464334), (2356, 0.017090054107102355), (1325, 0.01709437003478235), (2953, 0.017095971958115005), (4023, 0.017095971958115005), (2050, 0.01710701744320122), (4025, 0.0171113261610796), (4761, 0.01711686131441083), (2396, 0.01712500959170942), (1501, 0.0171296976442614), (3211, 0.017134015544327554), (2315, 0.017147898891563994), (2057, 0.017152215150661468), (1698, 0.017153948668011447), (459, 0.01715461776468198), (2367, 0.017157156138404385), (4875, 0.017171153385428524), (4159, 0.017200192306189167), (4567, 0.017206530968746678), (795, 0.0172079270514297), (1330, 0.01721941759211221), (3445, 0.01721941759211221), (3296, 0.01722449387935657), (2390, 0.017239595809887896), (4785, 0.01724459368603421), (4720, 0.01725475199877855), (4713, 0.01726071422936585), (2911, 0.017272851145821586), (3545, 0.01728194849008768), (4742, 0.017282356425475192), (4822, 0.017283685685976467), (4883, 0.01729642963018742), (3674, 0.017296465574748204), (3896, 0.017296465574748204), (608, 0.017299978516852187), (1791, 0.017311482278139684), (3198, 0.017311482278139684), (3650, 0.017313137358343063), (4910, 0.017322946361093553), (579, 0.01732586669316125), (1392, 0.017334472887407415), (4914, 0.017339885639963866), (1747, 0.017349773832056922), (1078, 0.017393357780006287), (1309, 0.017401521149842315), (2825, 0.017401521149842315), (2861, 0.017401521149842315), (291, 0.01740467911929433), (1449, 0.017407842297990327), (4840, 0.017427032939403248), (4859, 0.017427032939403248), (4182, 0.017427358715473025), (4074, 0.01743659448147168), (3111, 0.01744454014955508), (4087, 0.01746641529745173), (3475, 0.017483369104459592), (4902, 0.01748729298874791), (4134, 0.017496815865849776), (1605, 0.017509134230639517), (4330, 0.017509134230639517), (4588, 0.017509134230639517), (4166, 0.017515080872743356), (968, 0.017518917428110535), (4118, 0.017551531471547647), (4729, 0.01756421989962159), (4828, 0.01758080745386356), (1541, 0.017581760956067546), (2509, 0.017581760956067546), (3338, 0.017582349418321805), (4458, 0.017599096430703905), (2941, 0.017603749006318545), (585, 0.017604119872497763), (1653, 0.01761376035060335), (891, 0.01761623418764046), (4050, 0.01761819163487022), (3350, 0.0176202369807405), (3477, 0.017636214641639315), (1694, 0.017648546084537354), (1580, 0.01765523698957581), (3799, 0.01765952068279831), (2836, 0.01766611862685956), (96, 0.017667895155109414), (1193, 0.017675602190301544), (32, 0.017679932656598604), (3402, 0.017682557479457503), (3887, 0.01768499087743654), (158, 0.017685768718131024), (2785, 0.017705714358339956), (957, 0.017706507631565244), (2680, 0.017711826502282223), (2065, 0.01771613768350462), (2131, 0.01771613768350462), (2036, 0.017721917165297203), (2769, 0.017721917165297203), (2397, 0.01772595817036347), (138, 0.017729220861425248), (3047, 0.01772926985728382), (4426, 0.01772926985728382), (3093, 0.017731584359612883), (1941, 0.017741668992731663), (1447, 0.017743911950713405), (3071, 0.017749348129565266), (4408, 0.017749348129565266), (4452, 0.01775780641102807), (4820, 0.01775780641102807), (2729, 0.017773892559581478), (2650, 0.01777740728341096), (2965, 0.017780977710944664), (4627, 0.017783216171243812), (4144, 0.01778627261844761), (1437, 0.017801644083698963), (1710, 0.017801644083698963), (4885, 0.017803181276919385), (2844, 0.017807434801397685), (277, 0.01781408373435459), (4631, 0.017817902780805295), (4580, 0.017823485710712447), (4665, 0.017824753953029848), (3867, 0.017828913949658836), (2220, 0.017830397289024094), (3535, 0.017830397289024094), (2720, 0.017840439713884625), (818, 0.01784363803377539), (1458, 0.017872730936390174), (4039, 0.017875059279591713), (4725, 0.017877112859433893), (11, 0.017884546222214186), (4832, 0.017906438635685668), (690, 0.017907635656029618), (4015, 0.01791167347082133), (4672, 0.01791167347082133), (3508, 0.017915593679935223), (1772, 0.017920546632003834), (1744, 0.017930620537451415), (2928, 0.017932737883488786), (4463, 0.017935501677168238), (4304, 0.017937971635107956), (485, 0.017950076021427307), (3370, 0.017950076021427307), (970, 0.017954775982520012), (616, 0.017970423680522), (1424, 0.017973002493550924), (2620, 0.017973711469351276), (4466, 0.017987938124230055), (2011, 0.01799439195036851), (3342, 0.017994639002281685), (584, 0.01800005942503951), (4326, 0.018001714108016712), (2179, 0.01801425242957514), (1051, 0.01802026080839645), (403, 0.018029777830809893), (2118, 0.018053044613892226), (2603, 0.018053044613892226), (3869, 0.018056639508159767), (4238, 0.018056639508159767), (4005, 0.018060169488581707), (4509, 0.018062097990308362), (1636, 0.018076431847324076), (4200, 0.018087887427197785), (3182, 0.018097372228843774), (100, 0.018099548810029197), (3412, 0.018113012991596386), (4155, 0.01811333139052991), (4197, 0.018126371170285815), (2264, 0.01813251724000222), (1812, 0.018142669849446572), (3217, 0.018145229612300005), (2787, 0.018151907339344388), (4939, 0.018166870759219602), (4295, 0.018167086242196588), (3275, 0.018168576664112875), (4153, 0.018185618162840547), (2803, 0.018186592489035706), (489, 0.01820211551931493), (1769, 0.01820708282542529), (4949, 0.018221651850738194), (1793, 0.018221655026132377), (1379, 0.018230911629484984), (3322, 0.01823343167755556), (1689, 0.018239042615856745), (1821, 0.018251868748585556), (168, 0.01825704456619871), (3657, 0.01826438508922429), (4783, 0.018264520580002074), (4712, 0.018264869307529356), (1069, 0.01826624292490169), (167, 0.01827397543120961), (3146, 0.01828984181265002), (27, 0.018293062194352238), (4887, 0.018308271490495652), (4892, 0.01831298017632837), (815, 0.018342816989022258), (2734, 0.01835670049596926), (1402, 0.018364565182288555), (4769, 0.018372576677936694), (1634, 0.01837822336710908), (4519, 0.0183978724781997), (2217, 0.01840376116521145), (2645, 0.018412024037236498), (203, 0.018434153386001226), (4607, 0.01844989897554553), (4965, 0.018494268672628253), (3817, 0.01849616048074278), (1197, 0.018496851243375093), (880, 0.018499221719303852), (4947, 0.01850054308909704), (4655, 0.01851779698523958), (4674, 0.01851779698523958), (1652, 0.01855947674476561), (3529, 0.01856688857073846), (4512, 0.01856688857073846), (179, 0.01857259873127383), (2316, 0.01857417119578408), (3816, 0.018575317100756467), (548, 0.01858845326814653), (498, 0.018596037161089506), (4335, 0.018600940053197013), (3753, 0.018602503990229245), (571, 0.01860701248937126), (3301, 0.01861556212316782), (2014, 0.01862492284058409), (2846, 0.018638793574100157), (3909, 0.018638793574100157), (1669, 0.018644620144464802), (3742, 0.01868235829744916), (4621, 0.018697259263873646), (1288, 0.01872365095821361), (3045, 0.01872753252395471), (4930, 0.0187497950034654), (4318, 0.018766255791025636), (4093, 0.01878327338481854), (1599, 0.018805984792388535), (4032, 0.018805984792388535), (4726, 0.01881337558503318), (3341, 0.01883719751098232), (3371, 0.018851086036066462), (4451, 0.01886407590958473), (4905, 0.01886407590958473), (648, 0.018878582777930447), (298, 0.018882308531975804), (980, 0.018890504800196488), (3087, 0.018890504800196488), (363, 0.018915868751020026), (3547, 0.018915881159727407), (2597, 0.018917737304256478), (3221, 0.018929375115858717), (4163, 0.018929375115858717), (521, 0.01893206840908259), (1947, 0.018944315744270294), (2475, 0.01894706080255009), (3391, 0.018949789117982077), (4849, 0.018974274419231787), (4928, 0.018974274419231787), (1937, 0.01901279340525496), (2202, 0.019014421602854176), (3679, 0.019058076735201004), (1917, 0.019062807308908795), (3099, 0.019062807308908795), (4606, 0.01908197853339851), (4798, 0.01909284060496401), (3681, 0.01909334002206055), (4244, 0.01909386230538356), (4953, 0.019099307339219995), (129, 0.01910596478510261), (3333, 0.01911640764201287), (3509, 0.01911640764201287), (4813, 0.01911820529419778), (1059, 0.019120801283328173), (1751, 0.019135017186711487), (3297, 0.019136378414887068), (4456, 0.01914016917141033), (1882, 0.01914613959820879), (3772, 0.01915614814195192), (2470, 0.019161636617570543), (4922, 0.019162344420383524), (3286, 0.0191669266415591), (155, 0.019168724538532834), (2094, 0.019174332273574686), (2282, 0.01919135281375909), (1347, 0.01920462424941599), (375, 0.0192080248094645), (2045, 0.01921168057912568), (4777, 0.019215588828640898), (3548, 0.019236297488171537), (4659, 0.019236297488171537), (4490, 0.019244911276842504), (2261, 0.01928352115766558), (2997, 0.019285456528660278), (4298, 0.01928790610106196), (2130, 0.019320932896398385), (4060, 0.01933514233119985), (4974, 0.019340096007671906), (3444, 0.01934249840480648), (4945, 0.019345606187015973), (4952, 0.019345606187015973), (2571, 0.01934785249991889), (1306, 0.01935196627259962), (2267, 0.01938326276812557), (4138, 0.01938326276812557), (114, 0.01938703412063929), (1295, 0.01939026281761683), (341, 0.01941984822131787), (4111, 0.019432314095935436), (3929, 0.019441823839222157), (4904, 0.019446766709865504), (4396, 0.019447150853585178), (2818, 0.019452898928464767), (3440, 0.01945427480399345), (2205, 0.019461900850374345), (2339, 0.01946494152845793), (3284, 0.019486916163155673), (1041, 0.019492722510167787), (1198, 0.019527048203475072), (2478, 0.019527048203475072), (3694, 0.019534063258448628), (869, 0.01954871291694715), (4774, 0.01954871291694715), (2229, 0.019556862249460454), (4494, 0.019557676124810755), (4850, 0.019558304152362833), (3123, 0.019565962204732376), (4064, 0.019576524859085877), (4787, 0.01958057597226725), (4705, 0.019587518923637397), (4846, 0.019587518923637397), (2858, 0.01958756886344689), (3494, 0.01959950716918979), (4877, 0.019606402386737914), (2120, 0.019610156709591132), (2327, 0.01961744811323527), (4450, 0.019618969544999015), (1577, 0.019619092786546503), (1939, 0.019619092786546503), (3161, 0.019624059258077066), (3250, 0.01962846253964079), (2722, 0.019640149264690054), (3684, 0.0196425397503882), (4319, 0.01965364948314286), (4664, 0.01966787930785892), (4746, 0.019675933246330036), (860, 0.01967819370312839), (1548, 0.01968332006278632), (4662, 0.01969136825411588), (1912, 0.019706102029014076), (4453, 0.019713034976147133), (610, 0.019720673570754722), (4691, 0.019722088369355094), (2292, 0.019728687491269055), (4012, 0.01974402438705253), (1863, 0.019745094188150684), (2365, 0.019745601945204132), (4955, 0.019751561996774518), (4162, 0.01975237878828366), (638, 0.01979704247158574), (1612, 0.019799032470456092), (4436, 0.019799032470456092), (3062, 0.019802144201431497), (4359, 0.019808169481218458), (1618, 0.019828144719946428), (1596, 0.019830243093597755), (4557, 0.019842485470340177), (460, 0.019853218436798294), (4356, 0.01985645186334243), (4471, 0.01985645186334243), (2830, 0.019859039682177743), (3476, 0.019859039682177743), (3582, 0.019859039682177743), (4340, 0.019859846016053548), (3944, 0.01987261424552019), (3976, 0.019873330022479256), (1139, 0.019878240475053204), (3610, 0.019881368769970334), (4048, 0.019891031836111878), (1896, 0.019892554469099943), (2956, 0.019892554469099943), (695, 0.01989666557241238), (4523, 0.01991590208808333), (1352, 0.019932081153526633), (2445, 0.019932081153526633), (2735, 0.019943692020784345), (2381, 0.01994864625294782), (3860, 0.019954672150033874), (2189, 0.019976129465874418), (4212, 0.01997712666013566), (851, 0.01998890637567159), (4561, 0.019995309007568095), (4624, 0.019997257395586533), (4156, 0.020001179751281746), (3821, 0.020004055487723736), (3603, 0.020007932226443724), (3576, 0.020009883379306436), (3675, 0.0200111533215799), (1700, 0.020018566335043154), (4009, 0.02002040770858954), (2999, 0.020027847539378148), (3973, 0.020028139253911323), (3457, 0.020046278090319468), (3954, 0.020046278090319468), (1581, 0.02007440482819263), (2543, 0.02007509035193076), (4268, 0.02007509035193076), (3439, 0.020094986695113795), (2468, 0.02009537751736748), (2546, 0.02010354484032124), (2006, 0.020104855444796507), (3594, 0.020130447230066434), (2502, 0.020137251137225556), (2755, 0.020164711926981282), (1181, 0.020168405635716546), (306, 0.020209238889956505), (3575, 0.02021159489520431), (2810, 0.020237950080379576), (2922, 0.02027106941452595), (3038, 0.02027106941452595), (4648, 0.020271203438852844), (974, 0.020272607591824594), (1998, 0.02027354525670721), (1978, 0.020277855957512223), (3097, 0.020304984854652135), (1693, 0.02030759016624139), (4695, 0.02030759016624139), (1039, 0.020310236455500192), (3128, 0.020310236455500192), (3665, 0.020323133332721073), (1136, 0.020340514349370127), (3069, 0.020340514349370127), (2633, 0.02035889986130021), (2705, 0.02035889986130021), (1681, 0.020383563747315515), (388, 0.020386145081499194), (2496, 0.020386614295598664), (3063, 0.020420056736520538), (4498, 0.020420056736520538), (4685, 0.020420056736520538), (2587, 0.020422568576636695), (3723, 0.020434088353198522), (3989, 0.02043417179850764), (2703, 0.020437795529889828), (1406, 0.020474934409978572), (2773, 0.020474934409978572), (1633, 0.020476424520396774), (1094, 0.02047945377538602), (3507, 0.02048360232895764), (4969, 0.02050538261557102), (217, 0.020518804696216197), (1553, 0.02051944057383365), (4072, 0.020541952063974675), (2021, 0.02057068663910896), (2250, 0.02057068663910896), (1574, 0.020582031651566225), (4651, 0.020594504588267313), (4558, 0.020604627809876597), (4693, 0.020604627809876597), (3089, 0.020607488582868594), (2779, 0.02062460683905276), (2815, 0.02062460683905276), (3987, 0.02062460683905276), (3885, 0.02063249444145504), (4611, 0.02063345050816061), (1414, 0.020665067612291216), (2035, 0.020676135310405755), (47, 0.02077886930828233), (2184, 0.020791475641180314), (3618, 0.020803132190272057), (2566, 0.02081620119432872), (192, 0.02081732829120117), (3265, 0.020823922874191464), (4381, 0.020823922874191464), (700, 0.020835294587338946), (4392, 0.020854537026414634), (3875, 0.020854577709990857), (3315, 0.020859875277265398), (3904, 0.020859875277265398), (4763, 0.02092345744476454), (4848, 0.020961261163399542), (2740, 0.020968611306050874), (1216, 0.020983103022096012), (1345, 0.020992986298305427), (1373, 0.02101164403811146), (3583, 0.021017015858836238), (2798, 0.02102676172792988), (4370, 0.0210384861925002), (320, 0.02104219832286187), (359, 0.021075044746703925), (4265, 0.021097765127005497), (66, 0.02110923292030638), (3487, 0.021159489280751457), (3844, 0.021168146578526167), (3660, 0.02117533944650856), (3116, 0.021178594729797006), (2969, 0.021254553014836388), (3073, 0.021291361823579154), (4903, 0.021291361823579154), (2388, 0.021297886142466603), (2190, 0.021303315919788984), (3848, 0.021342157831464648), (977, 0.021379075133790847), (1828, 0.021387011848599678), (1300, 0.02138960955875975), (4177, 0.02138960955875975), (3820, 0.021428212499013197), (3505, 0.021437028932960664), (3574, 0.02144205198771436), (4639, 0.02144205198771436), (2649, 0.02145785272232946), (1186, 0.021476403794748064), (3952, 0.02151588080706075), (4835, 0.021531666558161786), (1708, 0.021543978633315062), (3381, 0.021563027614773602), (2001, 0.021569490796567913), (2008, 0.021576609482430384), (3692, 0.021579551777246075), (3520, 0.021586077508578015), (3394, 0.02158682776899975), (2736, 0.021595669731933838), (1759, 0.021604343264827332), (2201, 0.021634802531568527), (4143, 0.021642578421459023), (613, 0.021646646551460234), (3788, 0.02164989760152221), (2072, 0.021660590412978284), (3638, 0.021681070634970608), (4084, 0.02171006211954316), (2651, 0.021757725015119453), (4376, 0.02181148320471856), (3072, 0.021818415447230104), (2248, 0.021820879365421566), (881, 0.021828284965196166), (2686, 0.02183299884654572), (3174, 0.021842931358389724), (3688, 0.02186220580721679), (4630, 0.021863832722027392), (351, 0.02187568497168746), (4759, 0.02188138154910469), (2024, 0.021894950451199244), (4219, 0.021900589482494334), (4603, 0.02190834741241679), (852, 0.021919006845861677), (4935, 0.021919006845861677), (1898, 0.021950412315475364), (546, 0.021955654387619948), (3416, 0.021962490616903765), (4842, 0.021963001788077793), (2826, 0.02198423653123232), (4711, 0.02201023115578286), (4837, 0.02201023115578286), (433, 0.022020039000202527), (2062, 0.022028588208303578), (3599, 0.02203077040851824), (3565, 0.022047029903783405), (4552, 0.02206829162767765), (4641, 0.022087706737313525), (4595, 0.022121143220001756), (4933, 0.022163899507243158), (3212, 0.022164211172606214), (3299, 0.02216942054169876), (4727, 0.022183157778591832), (1670, 0.02218839048376358), (4605, 0.022226053728834225), (1659, 0.022233229523755994), (2979, 0.022250659471498326), (3690, 0.022250659471498326), (1241, 0.02225106328999152), (2689, 0.02225383091628596), (2609, 0.02226115925272736), (2854, 0.022263917068942617), (207, 0.022294147255712465), (1778, 0.022308954791056722), (3179, 0.022308954791056722), (1843, 0.022314053091921363), (750, 0.02231543573646167), (364, 0.02233581610847906), (4940, 0.022340826864023118), (4068, 0.022362573581653875), (4378, 0.022362573581653875), (2827, 0.022402161717592975), (2952, 0.022405112734789692), (4544, 0.022407291128999043), (678, 0.022447007807587578), (4448, 0.022512108976157442), (4979, 0.022523165298048396), (654, 0.022561899971888864), (2497, 0.02257314239475453), (242, 0.022623102489935012), (3921, 0.02263546973610895), (3252, 0.02263718103934932), (3492, 0.022683659879475196), (2352, 0.022718458538911097), (3235, 0.022721416768114698), (3810, 0.022725123255966036), (2456, 0.022740147108150352), (2206, 0.022763673805546593), (36, 0.02276471334176249), (4057, 0.022835609818248163), (704, 0.022868430804817534), (4063, 0.022884386582135867), (893, 0.022886002475046192), (441, 0.022912602683789536), (319, 0.022994571928823374), (3783, 0.023008799493895105), (531, 0.023032705402123516), (4844, 0.023036604474416755), (1629, 0.023041296596074984), (4055, 0.023049619994948183), (1271, 0.02305844703164741), (2245, 0.02305844703164741), (4993, 0.023068186218943312), (2982, 0.02306923584787965), (2526, 0.023073150739698633), (2228, 0.023081278519445792), (1904, 0.02308412294079259), (4861, 0.023132486588039496), (3326, 0.023141947029498417), (4973, 0.023165858894233643), (845, 0.0231766421874809), (1925, 0.02320551050587515), (4915, 0.023209464062913146), (3536, 0.023267017358011774), (558, 0.02343790058375171), (4513, 0.02344866866486543), (34, 0.023478851126938233), (2987, 0.023521979684350255), (709, 0.02356545347866125), (1375, 0.02356545347866125), (1671, 0.02364484764548044), (1190, 0.02365266330868605), (2176, 0.023655542234396133), (4585, 0.023655542234396133), (4749, 0.023656087026846635), (3587, 0.02365875801678439), (2113, 0.023690494856821082), (849, 0.0237019198172349), (4966, 0.02375585862473988), (4131, 0.023761766467156678), (1861, 0.023770530254546837), (4957, 0.023775324638979252), (2820, 0.023780103111718614), (4457, 0.0238018281757945), (1453, 0.02383579913304849), (2132, 0.02387305248785895), (3999, 0.023877795200675626), (225, 0.023897151445801495), (1291, 0.023913718268051876), (2888, 0.02395778414154712), (4132, 0.02399635991932596), (1165, 0.02399679380604515), (153, 0.02399723325362049), (2374, 0.024027916491660237), (2796, 0.02403326384920114), (3814, 0.024049757696447238), (443, 0.02405089074362896), (3222, 0.024082249920526853), (172, 0.024104113682138044), (1071, 0.024104113682138044), (4464, 0.02415755502529947), (1177, 0.024178707079547865), (2675, 0.024188691031768638), (3598, 0.0242022064637574), (1105, 0.024284027086897076), (4214, 0.024284027086897076), (3344, 0.024313200909919494), (3431, 0.024384233541102897), (1427, 0.024402904028292163), (2452, 0.02441213664787809), (1391, 0.024431702295708645), (3988, 0.0244538010326508), (4549, 0.02446591945877647), (4306, 0.02456034598103934), (2299, 0.024641508321938847), (894, 0.02473581152505708), (390, 0.024762505834258285), (2145, 0.02477711429760629), (2648, 0.024790684878210907), (782, 0.02480285992959696), (3239, 0.024827400024831255), (2886, 0.024865877715269085), (2589, 0.02486820272374461), (685, 0.024910109908740895), (398, 0.024914446504534758), (222, 0.024958366072665144), (4469, 0.024966910033585008), (2490, 0.025019031120076803), (3757, 0.025070054734590584), (4633, 0.02508320381594931), (111, 0.025102972091818613), (2237, 0.025105682258095365), (790, 0.025113516482595834), (3613, 0.025115703562564217), (4538, 0.025135968035839885), (56, 0.02520802612093468), (423, 0.025299906728404147), (2913, 0.025300047918128295), (1481, 0.025329324771813384), (1576, 0.02534729129956663), (3802, 0.025362813014376838), (693, 0.025377749466735454), (2017, 0.025383821479152413), (49, 0.02539197893749767), (2871, 0.025395566352789698), (2407, 0.02539945119365997), (46, 0.025421481118205524), (1160, 0.025441850547828042), (3778, 0.025441850547828042), (798, 0.025516235599812448), (4151, 0.025596721253762205), (2117, 0.025634491218422494), (45, 0.02564711024958719), (4311, 0.025689900780891145), (2624, 0.02570158631696869), (2870, 0.025709861287202165), (4147, 0.025750003032866155), (3384, 0.025794440400943905), (665, 0.025809357341853432), (3065, 0.02581928637469512), (3163, 0.0259313072192835), (483, 0.025957957000020033), (2723, 0.02599575084246221), (1066, 0.02599609862375084), (2272, 0.02601063469287819), (4990, 0.026021993766446767), (2393, 0.02602629293633344), (1886, 0.02613147174834495), (4427, 0.026218051475379766), (4532, 0.026218051475379766), (3251, 0.026276394317854352), (2833, 0.0262822873850422), (3324, 0.0262822873850422), (3396, 0.0262822873850422), (3791, 0.0262822873850422), (4077, 0.0262822873850422), (4530, 0.0262822873850422), (1569, 0.026301560767554234), (3375, 0.02641354170000146), (3874, 0.02641354170000146), (2889, 0.026418443581410763), (1459, 0.02646057734772186), (4719, 0.026531141865061177), (4424, 0.0265402718467289), (664, 0.026593532705210542), (1738, 0.026620104029544994), (3709, 0.02662505425616517), (1250, 0.02663588817385977), (3379, 0.026689976558329866), (4049, 0.026747550758234675), (4235, 0.026801264836004677), (1223, 0.026817390974840104), (586, 0.026906343530418333), (3259, 0.02695098763992826), (2819, 0.02698056040237592), (3016, 0.02698056040237592), (3604, 0.026989808508834427), (3189, 0.027044906119990744), (2676, 0.027269193031367586), (2302, 0.027566330592663182), (1628, 0.02758001170071741), (4521, 0.02770297483858042), (4959, 0.027789358573487636), (635, 0.02778993989500202), (3890, 0.02789405154588096), (3880, 0.027989723148861112), (4802, 0.028068132830983143), (1020, 0.02813044773163786), (2500, 0.02813044773163786), (2643, 0.02813044773163786), (2905, 0.02813044773163786), (2914, 0.02813044773163786), (3165, 0.02813044773163786), (4438, 0.02813044773163786), (1191, 0.02818199127805133), (4224, 0.02819552284080433), (4443, 0.028195868573292232), (145, 0.028257703898228306), (3879, 0.028314978185449986), (4793, 0.028320990678681143), (3823, 0.028370882679112232), (1334, 0.028418791185679623), (480, 0.028435471118736268), (3502, 0.02844433514581093), (137, 0.028445961384569722), (4884, 0.028512185101344144), (1135, 0.028523196629059458), (249, 0.028584719093208814), (846, 0.028597266558190032), (1374, 0.028653052825196878), (452, 0.028737436032320825), (3992, 0.028821648129792366), (1152, 0.02885230640084529), (1712, 0.028883967652807558), (683, 0.028905100557058874), (589, 0.028905218191001406), (1836, 0.028935103768672542), (1156, 0.029044277035780323), (1773, 0.029084048092322075), (3441, 0.029084048092322075), (5, 0.029102996363876824), (2527, 0.02912897164046607), (688, 0.029205289216322067), (226, 0.029294787013000104), (1717, 0.029300992367401253), (588, 0.029327056132833457), (1875, 0.029408716188185413), (4975, 0.029459834532080426), (2973, 0.029526121669076744), (400, 0.02962134667196179), (70, 0.029623047870113526), (2000, 0.02964245139363897), (1567, 0.029825964983673667), (3387, 0.029889533998674774), (1055, 0.03006401237619965), (1528, 0.03006401237619965), (2089, 0.03029942262909769), (3205, 0.030302389515888904), (150, 0.030361699865449013), (2540, 0.030388377443521936), (673, 0.03042939998589628), (91, 0.030526608580942614), (3602, 0.03060064009995957), (2758, 0.030694131740998568), (748, 0.03073427810791563), (1884, 0.030737731179286854), (3415, 0.030793598814593832), (2550, 0.030837514312655082), (2210, 0.030872016764376654), (487, 0.03087594041115906), (4102, 0.03088105311699505), (2583, 0.030881908766637323), (3474, 0.030900567906368477), (356, 0.03094541557037498), (835, 0.03095341056555922), (4390, 0.030968990213284902), (17, 0.031051101181087313), (3421, 0.03111653104071191), (2029, 0.031165945975063798), (4912, 0.031265151932816274), (272, 0.031297559720428976), (4796, 0.03139363076567456), (3330, 0.031407366353501776), (3420, 0.03144691671993882), (237, 0.031450552584138085), (2194, 0.031460405775086596), (2464, 0.03152373268572352), (1864, 0.031569581820797665), (964, 0.03171119408111209), (4351, 0.03174507397993463), (3776, 0.03178944220687287), (1470, 0.03182071850617065), (1885, 0.031854609514138855), (2375, 0.03204911674759176), (2850, 0.03204911674759176), (2340, 0.032078119908152264), (1929, 0.03210193858493807), (28, 0.03210438899085695), (181, 0.03214328190048881), (2682, 0.0321672024489139), (3191, 0.0321672024489139), (2241, 0.03216835062196506), (3403, 0.032194635012108175), (1736, 0.032502708996526256), (1619, 0.032632629971949524), (3898, 0.03268216625622127), (1343, 0.03268265041185643), (3749, 0.032712287935807306), (1331, 0.03273229117260661), (2129, 0.03282679769595417), (1842, 0.032891124241659284), (3997, 0.03293362567633078), (966, 0.03308969453405824), (4309, 0.03312113781433979), (1818, 0.033295556938426916), (2415, 0.033466061419856544), (4709, 0.03350763292725362), (2904, 0.033518297726761855), (1342, 0.033600246383108844), (3497, 0.03362534576480845), (1637, 0.033671990837064555), (1724, 0.03373623344356989), (419, 0.03375219304330719), (4123, 0.033758579794001514), (276, 0.033765821134938534), (541, 0.033935072152036935), (1359, 0.033950667695572694), (2925, 0.034082909733069634), (4757, 0.03420182356586767), (2331, 0.034569699397502235), (961, 0.03465733560932812), (3225, 0.034697348114314575), (4425, 0.03482501256264293), (2806, 0.03487448493953291), (1989, 0.03487626192996713), (2116, 0.03488090217462601), (1716, 0.034908966447360856), (3905, 0.03496545189462845), (1038, 0.03500792946576514), (157, 0.0350558642052346), (2058, 0.03505999414685295), (496, 0.03510799032536774), (2995, 0.03515345672476308), (99, 0.03517664685887912), (1661, 0.03523115290506315), (2910, 0.035249721717175345), (3264, 0.035270644602669925), (2235, 0.03528992800007716), (2476, 0.03528992800007716), (3596, 0.03533596863877256), (2688, 0.03534051012912446), (1438, 0.035359767585137536), (1559, 0.035359767585137536), (2156, 0.035359767585137536), (4021, 0.035359767585137536), (2679, 0.035384184027846564), (1506, 0.03546522625613943), (1880, 0.035522891353455724), (3558, 0.03554299077983547), (327, 0.03555602457896362), (3041, 0.035687897206000074), (1820, 0.03570217940259775), (29, 0.03576050406494982), (1549, 0.03595607574194329), (406, 0.03597558293610215), (1410, 0.036086494115185025), (2954, 0.03628988503034958), (3465, 0.03629156533918676), (2183, 0.03642723532725767), (3891, 0.03647727903562636), (1131, 0.03654046272870519), (3257, 0.03663092902767234), (3314, 0.03683370246092724), (2791, 0.03719782312054589), (1142, 0.037214343065570615), (3245, 0.037339150881833066), (333, 0.03741919040880105), (1061, 0.03742722171783932), (2442, 0.037610785434220195), (2273, 0.037733027676236416), (4980, 0.0379785464334719), (4780, 0.037994856683931856), (336, 0.03829084175634057), (279, 0.038340106154220246), (101, 0.03834481650251986), (1344, 0.03843296448481559), (171, 0.03847181507332985), (4642, 0.03858746693523162), (824, 0.038699556110000824), (154, 0.03873575213967603), (2662, 0.038784586525497246), (3815, 0.03878853729671806), (1891, 0.03881233538777161), (2408, 0.03887779329442333), (1531, 0.03892062929389367), (1834, 0.039174935742749765), (3561, 0.039306917495468476), (2493, 0.039310140902183266), (2257, 0.03933783776174589), (365, 0.03942878314778496), (3907, 0.03959526821351281), (4688, 0.03959661701614771), (4985, 0.03961133645559247), (1329, 0.03961233127283011), (3489, 0.03966268872041348), (2481, 0.0397496718531855), (2579, 0.039759167740079274), (972, 0.039811944537064436), (3204, 0.039872275683506236), (657, 0.039907741391214224), (4260, 0.04007854278997962), (943, 0.04015313661468993), (3256, 0.04020386004765026), (2376, 0.04030593280433435), (1625, 0.04033462402482818), (3255, 0.04036806104224916), (3142, 0.040422674886691774), (133, 0.04052554813726841), (2161, 0.04066837399875551), (1178, 0.0406807630776536), (4395, 0.04073992571950619), (708, 0.040812333029924465), (4654, 0.040847241259931194), (729, 0.04093148493738356), (1500, 0.040968168290385784), (3164, 0.04097373489666023), (98, 0.04102402259476607), (3557, 0.04102510470037729), (3685, 0.041213865436466296), (3262, 0.04123931815274297), (1363, 0.04128803297121479), (3580, 0.0412903451400901), (4386, 0.04130479762682743), (102, 0.041490991517823234), (3727, 0.04156049384092081), (1283, 0.04164197236725441), (4236, 0.04169617998105116), (3451, 0.04202101621732466), (3784, 0.04205118482152109), (243, 0.042082218765395446), (1455, 0.04225502969788853), (3388, 0.04240995704862506), (723, 0.04252775437921068), (2828, 0.042543998610277425), (4666, 0.042668420942384475), (603, 0.04269805306412993), (8, 0.042838149588462826), (4184, 0.043064735515527676), (4347, 0.0432775617920777), (4146, 0.04352599987492274), (1174, 0.04356712636977678), (1253, 0.04360169506900117), (235, 0.04378657157095853), (4894, 0.04379575831132109), (368, 0.04382332449130239), (1803, 0.04387641824305241), (2087, 0.0439869887021651), (1118, 0.04436968366150231), (2845, 0.044379062048855014), (2295, 0.044463503523893194), (2764, 0.04455168053378701), (3329, 0.04455168053378701), (1172, 0.04465625223725388), (2782, 0.04465625223725388), (3343, 0.0446806770354888), (2349, 0.044699415559352494), (867, 0.04473983242704633), (39, 0.0449570025097577), (2436, 0.04508948990795518), (3623, 0.045090920517529234), (1031, 0.045163004986877545), (0, 0.045184039174245925), (4697, 0.04518828043370182), (2998, 0.045197108469124656), (1987, 0.04522792212574224), (1865, 0.04534658681390486), (2738, 0.045381484148852284), (4924, 0.04538229773899476), (3363, 0.04539884221775091), (163, 0.0458000477608635), (4572, 0.04600086052181087), (1042, 0.04609383507980153), (2344, 0.04609653307679938), (2664, 0.046388839560034874), (3831, 0.04640789856201502), (4772, 0.046536036714167305), (992, 0.04662926909512753), (2578, 0.04664092135506189), (743, 0.04672618326372281), (3359, 0.04680498871671902), (4083, 0.04680498871671902), (1660, 0.04686068635218541), (3722, 0.04686351675362359), (737, 0.04688604293946637), (2459, 0.04692282909455638), (1310, 0.04692847340498608), (2900, 0.04702273104392347), (2247, 0.047193287999619596), (3325, 0.0474894816432975), (562, 0.047513556438841184), (4983, 0.04764372079570724), (4687, 0.04765367762066294), (3910, 0.04768468401798251), (3980, 0.04769764267689534), (4989, 0.0479125025352064), (3949, 0.04802648849417648), (3606, 0.04802999182768364), (2233, 0.04816745151334097), (1264, 0.048176125141923466), (126, 0.0483814591467021), (2541, 0.04843235621991886), (3461, 0.04851495653923203), (4220, 0.04854203363149276), (2154, 0.04863922906064882), (4225, 0.048682830591019695), (1302, 0.04869344501104296), (4442, 0.048981474616015874), (1043, 0.049098479490225215), (4492, 0.04913337622661684), (1529, 0.04913636451308487), (3043, 0.049401451643737604), (1365, 0.04942730476933553), (3024, 0.049464988442403754), (362, 0.04946970658586516), (2936, 0.04948134083208301), (248, 0.04952607536289318), (2073, 0.04960279560043286), (3946, 0.04965976395329766), (4040, 0.04965976395329766), (738, 0.049708623842943576), (1525, 0.04971350858784517), (2748, 0.0497261983796772), (938, 0.049785664840713395), (2909, 0.04989398047730609), (4701, 0.05001292787937304), (1175, 0.05004458313755098), (1349, 0.05014827419182844), (3933, 0.05019861631445105), (862, 0.050328684738563514), (259, 0.05033282031580519), (3037, 0.050365155832799526), (4346, 0.05049100215417232), (2719, 0.05080940569522522), (934, 0.05095276920205035), (3134, 0.05101883538023799), (4853, 0.05102194929306898), (1643, 0.051233666524076196), (1668, 0.05134259564760435), (3945, 0.051374823370155906), (1008, 0.05145271165562817), (1381, 0.051453753148425256), (1830, 0.05162025490574265), (2142, 0.05162025490574265), (1827, 0.051658059091320783), (3029, 0.05179582126373214), (4104, 0.05179582126373214), (1910, 0.05189574584417939), (527, 0.05227531465351605), (2765, 0.05227531465351605), (379, 0.05229817591294989), (4332, 0.0523786261865704), (3248, 0.05246256980753353), (4467, 0.052481179406623), (2808, 0.05268891652687567), (4637, 0.05280446525083524), (2286, 0.05295478238562505), (1196, 0.052969459355359655), (3168, 0.05303479397273202), (3839, 0.05317389102823605), (3720, 0.05318284873875111), (4429, 0.05318284873875111), (3414, 0.05341956058740481), (4420, 0.05344544695880185), (136, 0.053552092608576074), (885, 0.053621762709180044), (3629, 0.05362368056163362), (592, 0.053816498478068873), (326, 0.054014979987179544), (1813, 0.054140348510479414), (4602, 0.054140348510479414), (702, 0.05427201582405373), (410, 0.054276217281345907), (3207, 0.054375947411555846), (234, 0.05448572604890155), (3517, 0.0545545975112932), (1794, 0.05470661641107843), (87, 0.0547711334604921), (3156, 0.05478472667078016), (1752, 0.054993225731789185), (3425, 0.054993225731789185), (2290, 0.05499894147139807), (4537, 0.05500746276524467), (726, 0.05520758855207919), (917, 0.05528893039328542), (637, 0.055293742652599044), (1877, 0.05529550471697553), (18, 0.05529574588559897), (3153, 0.05535245511321191), (1520, 0.05544055226988827), (3553, 0.05562541991926552), (4168, 0.055653950904146376), (4042, 0.055762684766101196), (2514, 0.055827725750575624), (289, 0.055950464414354875), (682, 0.056137120823019686), (1224, 0.05623802218989959), (2948, 0.056445262928952494), (4938, 0.056445262928952494), (4357, 0.056505316597409413), (747, 0.056548404562253914), (1512, 0.056548404562253914), (1397, 0.056567640676727295), (3407, 0.056567640676727295), (1286, 0.05666936631350792), (2530, 0.056739935943374585), (1328, 0.05678221605094937), (3760, 0.05707769066074602), (4754, 0.05707769066074602), (633, 0.057130317324841966), (962, 0.05715501333534208), (3162, 0.05732782834697828), (2108, 0.05743601529449613), (2992, 0.05748708845701132), (3393, 0.05748708845701132), (642, 0.05753331540492347), (61, 0.05759591419585911), (3122, 0.05765399660314187), (854, 0.05784588512824865), (2123, 0.05800439867466648), (2725, 0.05800439867466648), (2037, 0.05800570938541065), (4150, 0.05814198053664929), (771, 0.05816379714383549), (4873, 0.05823305454674131), (2804, 0.05825236546306188), (4582, 0.05880237559138856), (3511, 0.05895966892276038), (1169, 0.05903712086501746), (2084, 0.059167407830119714), (1857, 0.059250072525490145), (859, 0.05950334914633746), (2114, 0.059532780811943284), (823, 0.05976831397144895), (2150, 0.059870547563384446), (4121, 0.06004502429741338), (1214, 0.06017302399412716), (3706, 0.06030121416438232), (2805, 0.06039833745672838), (4058, 0.060520026996398545), (3915, 0.06062824120398081), (4913, 0.06062824120398081), (2444, 0.06065141027601702), (4584, 0.06073524757316565), (1428, 0.061016186996344604), (2981, 0.061101416914747866), (1862, 0.06111885070382443), (173, 0.06121164869449195), (573, 0.061239290731132164), (753, 0.061286415962623), (868, 0.061292295091293816), (1354, 0.06151302309780597), (4808, 0.061585790552312315), (3763, 0.06161670337413458), (2421, 0.061651278528698), (2163, 0.06187085129094255), (597, 0.06248155692482904), (2133, 0.06254579718809265), (3552, 0.06254579718809265), (2454, 0.06256212971257258), (3206, 0.06262455690931608), (3767, 0.06264846190720022), (4698, 0.06268566409559165), (2135, 0.06302077810653349), (68, 0.06306909491700484), (4616, 0.063107749704954), (3750, 0.06312287994669422), (190, 0.06315108348426106), (2970, 0.063208694922192), (3460, 0.0632432857290699), (3360, 0.0632921176077721), (674, 0.0636235510874199), (1454, 0.0636235510874199), (4003, 0.0636235510874199), (1848, 0.06398464435953931), (2612, 0.06404004990342413), (2867, 0.06412461595855579), (568, 0.06414004196170314), (4323, 0.06440534504896074), (4597, 0.06454843565723731), (2492, 0.06471333658163722), (3066, 0.06481457875984394), (3996, 0.06484785365125216), (825, 0.06493985738380155), (2308, 0.06499128431321269), (382, 0.06505191013622347), (2560, 0.0651264557228275), (1658, 0.06540245406291437), (899, 0.06564794038614129), (1872, 0.06564794038614129), (4141, 0.065785560287221), (607, 0.06581923922371634), (4250, 0.06581923922371634), (1783, 0.06612152348664152), (4240, 0.06619500395091453), (4037, 0.06626212511164137), (4496, 0.06631417483086123), (1473, 0.06643741959781543), (3934, 0.06653053892691488), (4581, 0.06653560485411128), (2061, 0.06665941169788246), (1119, 0.06679653539981113), (1262, 0.066859100842959), (780, 0.06687442134967932), (260, 0.0669477093338946), (3079, 0.06719254539252859), (4815, 0.06727112336372527), (812, 0.06746901698525398), (4107, 0.06751367144594247), (4991, 0.06757559028673574), (4272, 0.06767911091107306), (275, 0.06768098828802173), (2696, 0.06778225189302588), (4827, 0.06791784609812523), (4106, 0.06804095613014517), (3950, 0.06814432742855049), (1558, 0.06821173425093702), (4515, 0.06830594950711995), (4779, 0.06843871753358205), (4484, 0.06876307129423623), (2946, 0.06889687988843908), (4660, 0.06889687988843908), (4872, 0.06913180619637897), (4440, 0.06915922948408547), (4407, 0.06943228809008825), (4405, 0.06955168431710572), (4643, 0.06955168431710572), (3652, 0.06961676567975948), (3998, 0.06961676567975948), (884, 0.06967535790475483), (1490, 0.06974917383156036), (4329, 0.06977742929662753), (3133, 0.07016430435107383), (191, 0.07029098936521129), (4231, 0.07047099632996949), (2343, 0.07049940970488601), (3294, 0.07073584954852877), (2389, 0.07073700685354445), (4681, 0.07078687428525822), (3486, 0.07104260267237152), (2166, 0.07104530480976774), (3449, 0.07127389292111574), (1595, 0.07128823023828691), (3758, 0.07130881362863828), (1102, 0.07132595266793262), (2823, 0.07136380826499313), (3331, 0.07163225133593842), (4565, 0.07163225133593842), (3925, 0.0716559197230392), (2038, 0.07188801324194931), (2109, 0.07209826290688398), (2418, 0.07214738638724645), (2684, 0.07234519816151866), (4374, 0.07241167193040077), (1002, 0.07250129024387648), (814, 0.07257950397758337), (951, 0.07273683001574073), (3663, 0.07293269267436933), (4202, 0.07303886187583988), (1210, 0.07311128619789371), (4626, 0.07318965839526909), (4625, 0.07326794781223023), (1014, 0.07383536646266756), (2312, 0.07409796184143118), (4829, 0.07418400294222545), (4677, 0.07421409487764959), (730, 0.0743415949047993), (1125, 0.0743415949047993), (1268, 0.0743415949047993), (1906, 0.0743415949047993), (2181, 0.0743415949047993), (3014, 0.0743415949047993), (290, 0.07454245798567033), (2713, 0.07468306278234402), (2474, 0.07484461734498539), (1113, 0.07485685327659314), (4379, 0.07520866961091337), (2515, 0.07527656790446935), (4942, 0.07539798996914174), (124, 0.07560570659443494), (1317, 0.07560570659443494), (706, 0.07583564815139293), (2460, 0.07605219419973439), (457, 0.07663443342422158), (2528, 0.07667473026638515), (3523, 0.07706395916701025), (3689, 0.07723306685424353), (3718, 0.07741970686135788), (3376, 0.07762429302847752), (3200, 0.07803055742274813), (2164, 0.07820140129227052), (1631, 0.07831789201537336), (1954, 0.0783694249980744), (3114, 0.07845656749058634), (1111, 0.07898426202051362), (2430, 0.07933428159038436), (740, 0.08016139820822683), (598, 0.08031231056282101), (3136, 0.08034822533891081), (4445, 0.08056410455060482), (4397, 0.08061015344593751), (2005, 0.08076183980522297), (3877, 0.08145346020752504), (3453, 0.08168040268846953), (3398, 0.08226697841300927), (1935, 0.08233938962156213), (1763, 0.08244761453911018), (1502, 0.08250466666789795), (2403, 0.08253265753041517), (3039, 0.08296718239682406), (3634, 0.08296718239682406), (1401, 0.08353806531963606), (924, 0.08416584513692399), (316, 0.08417639666372087), (3100, 0.08418989589918945), (3591, 0.0843117663795297), (4290, 0.0843117663795297), (1366, 0.08574530905672234), (4862, 0.08582109212045388), (2203, 0.08639663676489298), (2580, 0.08645150835302924), (3937, 0.08655532965698935), (3732, 0.08749866690748362), (4245, 0.08749866690748362), (2321, 0.08839728489569382), (1876, 0.08884007332422436), (1509, 0.089126250906443), (4294, 0.08951127325816147), (2398, 0.08974502748564103), (2693, 0.08987565813179331), (2336, 0.09021510033265716), (4406, 0.09021780697955686), (1236, 0.090497056299122), (4962, 0.090497056299122), (2670, 0.09065945520833228), (1743, 0.09068710519551425), (4678, 0.09105768581750867), (2932, 0.09138854161696217), (252, 0.09144913254455264), (2881, 0.09243651933245514), (1573, 0.09398399088561872), (3726, 0.09415850177687005), (2160, 0.09436942120478943), (107, 0.09452765132160966), (3942, 0.09462913105913136), (3543, 0.09467450466116117), (504, 0.09468292468611392), (3074, 0.09578374978488272), (3151, 0.09579491632044511), (2298, 0.09585015673733946), (2757, 0.09585015673733946), (4331, 0.09607527161998798), (4247, 0.09611240298171495), (1080, 0.09635746701813955), (905, 0.09727077223938149), (2463, 0.09765325295858016), (4704, 0.09834529844197447), (4246, 0.09918740777069973), (2959, 0.0991897727422249), (1766, 0.09927053087600783), (4273, 0.09927053087600783), (3429, 0.09933372450264093), (1282, 0.09985933311799919), (1956, 0.10014736293240648), (4764, 0.1002407472190208), (793, 0.10030170799779516), (3745, 0.1012286755731675), (3196, 0.10186969025111399), (2607, 0.1020218656368525), (4573, 0.10288450318433517), (4022, 0.10289457930135515), (927, 0.1032301567978327), (4210, 0.1032301567978327), (3695, 0.10351062428975943), (3828, 0.10351062428975943), (2652, 0.10364178067057844), (2337, 0.10371304308459955), (4129, 0.10389291767603623), (4283, 0.10389291767603623), (3654, 0.10420159531571935), (2714, 0.10424526695348196), (4797, 0.10456833095117973), (879, 0.10475131796068948), (3495, 0.10522951731180692), (377, 0.10527154780769644), (4528, 0.10527154780769644), (1958, 0.1059394228483901), (2739, 0.10622848107875368), (755, 0.10697158282793473), (3931, 0.1070343558421841), (4431, 0.10787209394598571), (1952, 0.10809300083818357), (3166, 0.10880369213836757), (3055, 0.10883141426130873), (3349, 0.10940371311574855), (2638, 0.11023756557553158), (4976, 0.11038433655768735), (4385, 0.11051656300019307), (4919, 0.11051656300019307), (3865, 0.11064470769955502), (1203, 0.11077224655141417), (3075, 0.11136470622723293), (4172, 0.11272797028470363), (2613, 0.11344706168051323), (3734, 0.11439776917926162), (808, 0.11486499413197249), (2221, 0.11518733073964568), (929, 0.11571113810613833), (4510, 0.11598353195275608), (2809, 0.11751501908685888), (3036, 0.11801379144792348), (2046, 0.11840686697506614), (1367, 0.1186279014806636), (1101, 0.11863117964696858), (4714, 0.11863448094925738), (2641, 0.11877550536815923), (2937, 0.11900159835438721), (3406, 0.1198088407333045), (2869, 0.12041766918930227), (2639, 0.12083657086903582), (1924, 0.12126973657142398), (4708, 0.12155784321442184), (1396, 0.12165228054029004), (1868, 0.12240288397379237), (1296, 0.12268621041149722), (4439, 0.12334277071636765), (2894, 0.12406259921491339), (2865, 0.12458108657425343), (4206, 0.12458108657425343), (4963, 0.12475698710996067), (4142, 0.12493224974042468), (4723, 0.12535743762444007), (2646, 0.12579223506273265), (4266, 0.12598693398960406), (3448, 0.12618586029114265), (4479, 0.12618586029114265), (2690, 0.12631139042924855), (3700, 0.12660375389277098), (4299, 0.12695054072150655), (4869, 0.12722391390376933), (872, 0.12746064620667077), (1536, 0.12775986920030616), (3664, 0.13013286258939089), (4122, 0.13013286258939089), (3835, 0.13019957723193093), (3667, 0.13029151539451664), (954, 0.1305355991850212), (3202, 0.13129628604098184), (3002, 0.13250861854340282), (4280, 0.1331102843637431), (474, 0.133181934623753), (2305, 0.13325408716639747), (3584, 0.1340178611189872), (177, 0.1341242514785812), (542, 0.1341242514785812), (4569, 0.13443361811926677), (1646, 0.13646405949255744), (2706, 0.13646405949255744), (1788, 0.13670820112638016), (3775, 0.13674350330737822), (1357, 0.1368730979498424), (1930, 0.1368730979498424), (2547, 0.1368730979498424), (4173, 0.13734076340086787), (3851, 0.13811714298869554), (3651, 0.1382696323589771), (4286, 0.1382696323589771), (4825, 0.13878286477727791), (4505, 0.13910883138305233), (1780, 0.13976416316273466), (3588, 0.14084232688343137), (2754, 0.1413392554049833), (2111, 0.14180193831931298), (2231, 0.1426250109110935), (4291, 0.1426250109110935), (2924, 0.14266660715431223), (1027, 0.14276912557568233), (1936, 0.143132337726772), (3305, 0.143132337726772), (4176, 0.143132337726772), (1215, 0.1434776317681285), (3215, 0.1440974351193206), (4992, 0.1440974351193206), (2112, 0.1443918414092955), (2631, 0.14492141437986822), (3847, 0.14498929753413856), (4079, 0.14498929753413856), (2125, 0.14532970052292973), (1298, 0.14681116525718857), (1332, 0.14815862520219245), (2446, 0.14971868791460163), (2966, 0.14971868791460163), (3450, 0.15048313257858487), (3605, 0.15176456444056613), (4433, 0.15276836287769), (4341, 0.15313308716763085), (4301, 0.15343724103563694), (1957, 0.15360054258809078), (3785, 0.1542869595610128), (3656, 0.15428796568579764), (1127, 0.15527540505845788), (4871, 0.15624447188848248), (3067, 0.157433138429539), (2817, 0.15783076318621173), (1432, 0.15963198883683585), (1587, 0.16244650696223606), (3662, 0.16244650696223606), (1764, 0.16353575228323933), (3372, 0.1637911017401068), (4412, 0.1637911017401068), (3042, 0.16394707833176814), (3966, 0.16620086626903646), (4615, 0.16691448444047507), (3090, 0.16705475857879915), (1388, 0.16779732202167197), (2196, 0.16863176140721792), (3641, 0.16863176140721792), (3052, 0.1698505705233097), (1922, 0.1704599169510203), (1555, 0.17128740176831436), (3319, 0.17128740176831436), (4612, 0.17167008973432302), (4911, 0.17167008973432302), (1147, 0.1720711348320796), (626, 0.17427768847588174), (3633, 0.1744409235387149), (4410, 0.17773862353858635), (3482, 0.17882133157149846), (783, 0.1789836778028174), (2701, 0.18109785625700253), (4353, 0.18109785625700253), (4164, 0.18338562783542683), (3608, 0.1881414987380659), (3626, 0.19014625217493417), (3711, 0.19014625217493417), (3953, 0.1918538323626155), (4339, 0.1922748538410847), (1704, 0.196993749002603), (4103, 0.19720496435199983), (3978, 0.20235837100810192), (3777, 0.20525973595108274), (4148, 0.20525973595108274), (4931, 0.20525973595108274), (4733, 0.2064266370691542), (4288, 0.20685727479868113), (2399, 0.2077524101218031), (3792, 0.20909590882459247), (3889, 0.2098052690161507), (2508, 0.21149280854348584), (1504, 0.21324517883439792), (1755, 0.21324517883439792), (4116, 0.21418029867847047), (4215, 0.22567063643914778), (4732, 0.23025013008583464), (2658, 0.23947365249467625), (4165, 0.24038040995756374), (4119, 0.25594221451885346), (1324, 0.2613980021968188), (1564, 0.2613980021968188), (4019, 0.2613980021968188), (3648, 0.2682430347304645), (2424, 0.28085547970763347), (3281, 0.29099486398805685), (4781, 0.30099667956645576), (4860, 0.30099667956645576), (4886, 0.30523110204152404), (4545, 0.3146560868419804), (4696, 0.31985256017952085), (4810, 0.36675598974326157), (667, 0.41537431651902645), (3513, 0.41537431651902645), (4259, 0.41537431651902645), (4978, 0.41537431651902645), (50, 1.0), (1204, 1.0), (3646, 1.0)]\n"
          ]
        }
      ]
    },
    {
      "cell_type": "markdown",
      "source": [
        "The movies are ordered by the lowest to highest similarity scores. What is left now is to print it for the user."
      ],
      "metadata": {
        "id": "fgY4BDh6ZVt_"
      }
    },
    {
      "cell_type": "code",
      "source": [
        "# Displaying the similar movies based on the index\n",
        "\n",
        "print('Recommended Movies : \\n')\n",
        "\n",
        "i = 1\n",
        "\n",
        "for movie in (sorted_similar_movies):\n",
        "  index = movie[0]\n",
        "  title_from_index = movies_data[movies_data.index==index]['movie_title'].values[0]\n",
        "  if (i<6):\n",
        "    print(i, '.',title_from_index)\n",
        "    i+=1"
      ],
      "metadata": {
        "colab": {
          "base_uri": "https://localhost:8080/"
        },
        "id": "T3EgFX_NVU42",
        "outputId": "1770db19-45eb-45ea-c793-08d01100fc75"
      },
      "execution_count": null,
      "outputs": [
        {
          "output_type": "stream",
          "name": "stdout",
          "text": [
            "Recommended Movies : \n",
            "\n",
            "1 . After Party 2021\n",
            "2 . Battle on Buka Street 2022\n",
            "3 . Gangs of Lagos 2023\n",
            "4 . Amina 2021\n",
            "5 . Coming from Insanity 2019\n"
          ]
        }
      ]
    },
    {
      "cell_type": "markdown",
      "source": [
        "### Putting it all together"
      ],
      "metadata": {
        "id": "9ssdjqmLdFKn"
      }
    },
    {
      "cell_type": "markdown",
      "source": [
        "I will now combine everything together and recommend 20 movies based on the searched item."
      ],
      "metadata": {
        "id": "j3eQQMCzmE0-"
      }
    },
    {
      "cell_type": "code",
      "source": [
        "movie_name = input('Enter your favourite movie name : ')\n",
        "list_of_all_titles = movies_data['movie_title'].to_list()\n",
        "find_close_match = difflib.get_close_matches(word = movie_name, possibilities = list_of_all_titles, n = 5, cutoff = 0.5)\n",
        "close_match = find_close_match[0]\n",
        "index_of_the_movie = movies_data[movies_data.movie_title == close_match]['index'].values[0]\n",
        "similarity_score = list(enumerate(similarity[index_of_the_movie]))\n",
        "sorted_similar_movies = sorted(similarity_score, key = lambda x:x[1]) \n",
        "\n",
        "print('Recommended Movies : \\n')\n",
        "\n",
        "i = 1\n",
        "\n",
        "for movie in sorted_similar_movies:\n",
        "  index = movie[0]\n",
        "  title_from_index = movies_data[movies_data.index==index]['movie_title'].values[0]\n",
        "  if (i<21):\n",
        "    print(i, '.',title_from_index)\n",
        "    i+=1\n"
      ],
      "metadata": {
        "colab": {
          "base_uri": "https://localhost:8080/"
        },
        "id": "oVz1EvKedHH2",
        "outputId": "3606451a-e5a9-4add-f44a-9b6b8501895c"
      },
      "execution_count": 16,
      "outputs": [
        {
          "output_type": "stream",
          "name": "stdout",
          "text": [
            "Enter your favourite movie name : wedding party\n",
            "Recommended Movies : \n",
            "\n",
            "1 . After Party 2021\n",
            "2 . Battle on Buka Street 2022\n",
            "3 . Gangs of Lagos 2023\n",
            "4 . Amina 2021\n",
            "5 . Coming from Insanity 2019\n",
            "6 . Star Girl 2021\n",
            "7 . Sugar Rush III 2019\n",
            "8 . Christmas in Miami 2021\n",
            "9 . Omo Ghetto: The Saga 2020\n",
            "10 . Chief Daddy 2018\n",
            "11 . The Real Housewives of Abuja 2023– \n",
            "12 . Charmed 2018\n",
            "13 . My Village People 2021\n",
            "14 . Legacy I 2010\n",
            "15 . Dinner at My Place 2022\n",
            "16 . Baby Maker 2023\n",
            "17 . Double Mama 2013 Video\n",
            "18 . Introducing the Kujus 2020\n",
            "19 . Leaked 2022\n",
            "20 . Obsession I 2022\n"
          ]
        }
      ]
    },
    {
      "cell_type": "markdown",
      "source": [
        "# Conclusion"
      ],
      "metadata": {
        "id": "UFQexSJeheZp"
      }
    },
    {
      "cell_type": "markdown",
      "source": [
        "Note:\n",
        "<br> As an avid lover of Nigerian movies, I can confirm that the recommended movies are movies I will enjoy, if I like the The Wedding Party. I have actually watched most of the movies on this list.\n",
        "\n",
        "Challenges:\n",
        "I would have loved to have a more holistic dataset with more columns, eg short notes on the movies instead of the synopsis and movie tags in addition to the genre."
      ],
      "metadata": {
        "id": "hMje3Gy4hhn4"
      }
    }
  ]
}